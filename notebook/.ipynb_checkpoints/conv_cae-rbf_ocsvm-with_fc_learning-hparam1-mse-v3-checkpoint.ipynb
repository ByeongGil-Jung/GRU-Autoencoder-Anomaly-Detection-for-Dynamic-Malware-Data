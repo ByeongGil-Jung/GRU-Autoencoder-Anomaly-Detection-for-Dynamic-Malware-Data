{
 "cells": [
  {
   "cell_type": "markdown",
   "metadata": {},
   "source": [
    "# [ CAE - RBF OCSVM ]\n",
    "202106130658"
   ]
  },
  {
   "cell_type": "markdown",
   "metadata": {},
   "source": [
    "210608 Loss-1  \n",
    "- Center orthogonal  "
   ]
  },
  {
   "cell_type": "markdown",
   "metadata": {},
   "source": [
    "### System Configuration"
   ]
  },
  {
   "cell_type": "code",
   "execution_count": 1,
   "metadata": {
    "scrolled": true
   },
   "outputs": [
    {
     "name": "stderr",
     "output_type": "stream",
     "text": [
      "Global seed set to 777\n",
      "[2021-06-13 06:58:26,530][INFO][properties.py:22] Complete to apply the random seed, RANDOM_SEED : 777\n"
     ]
    }
   ],
   "source": [
    "import os\n",
    "import pathlib\n",
    "import sys\n",
    "\n",
    "default_dir_path = str(pathlib.Path(os.getcwd()).parent.absolute())\n",
    "\n",
    "sys.path.append(default_dir_path)\n",
    "\n",
    "from properties import *"
   ]
  },
  {
   "cell_type": "markdown",
   "metadata": {},
   "source": [
    "---"
   ]
  },
  {
   "cell_type": "code",
   "execution_count": 2,
   "metadata": {},
   "outputs": [],
   "source": [
    "from pathlib import Path"
   ]
  },
  {
   "cell_type": "code",
   "execution_count": 3,
   "metadata": {},
   "outputs": [],
   "source": [
    "from config.factory import HyperparameterFactory\n",
    "from dataset.factory import DataModuleFactory\n",
    "from domain.metadata import ModelMetadata\n",
    "from logger import logger\n",
    "from model.factory import ModelFactory\n",
    "from trainer.base import TrainerBase"
   ]
  },
  {
   "cell_type": "code",
   "execution_count": 4,
   "metadata": {},
   "outputs": [],
   "source": [
    "model_name = \"conv_cae_mse\"\n",
    "data_name = \"mnist\"\n",
    "stage = \"fit\"\n",
    "tqdm_env = \"notebook\""
   ]
  },
  {
   "cell_type": "code",
   "execution_count": 5,
   "metadata": {},
   "outputs": [],
   "source": [
    "model_metadata = ModelMetadata(model_name=model_name, information=None)"
   ]
  },
  {
   "cell_type": "code",
   "execution_count": 6,
   "metadata": {},
   "outputs": [
    {
     "name": "stderr",
     "output_type": "stream",
     "text": [
      "[2021-06-13 06:58:27,239][INFO][factory.py:69] Selected datamodule arguments (MNIST-datamodule.yaml) : \n",
      "\"data_dir\":          auto\n",
      "\"datamodule_params\": \"batch_size\":  32\n",
      "\"num_workers\": 8\n",
      "\"pin_memory\":  True\n",
      "\"hparams\":           \"test_ood_targets\":  [6, 8, 9]\n",
      "\"train_id_targets\":  [1, 3, 5, 7]\n",
      "\"train_ood_targets\": [0, 2, 4]\n",
      "\"train_val_ratio\":   0.8\n",
      "[2021-06-13 06:58:27,240][INFO][factory.py:71] Selected trainer arguments (ConvCAE_mse-trainer.yaml) : \n",
      "\"accelerator\": dp\n",
      "\"callbacks\":   \"early_stopping_callback\":   \"mode\":     max\n",
      "\"monitor\":  auc\n",
      "\"patience\": 30\n",
      "\"strict\":   True\n",
      "\"model_checkpoint_callback\": \"dirpath\":    auto\n",
      "\"mode\":       max\n",
      "\"monitor\":    auc\n",
      "\"save_last\":  True\n",
      "\"save_top_k\": 5\n",
      "\"status_listener_callback\":  True\n",
      "\"gpus\":        1\n",
      "\"hparams\":     \"key\": value\n",
      "\"logger\":      tensor_board_logger\n",
      "\"max_epochs\":  300\n",
      "[2021-06-13 06:58:27,241][INFO][factory.py:73] Selected model arguments (ConvCAE_mse.yaml) : \n",
      "\"T_0\":          10\n",
      "\"hidden_dim\":   128\n",
      "\"hparams\":      \"conv_out_kernel_size\": 3\n",
      "\"conv_out_size\":        32\n",
      "\"d_in\":                 0.1\n",
      "\"d_out\":                1\n",
      "\"input_size\":           784\n",
      "\"is_latent_save\":       False\n",
      "\"lambda_cent\":          1\n",
      "\"lambda_out\":           1\n",
      "\"lambda_tc\":            1\n",
      "\"num_classes\":          10\n",
      "\"num_latent\":           16\n",
      "\"occ\":                  rbf_ocsvm\n",
      "\"lr\":           0.01\n",
      "\"lr_scheduler\": none\n",
      "\"optimizer\":    adam\n"
     ]
    }
   ],
   "source": [
    "# Arguments controller\n",
    "hyperparameter_factory = HyperparameterFactory.create(data_name=data_name, model_name=model_name)\n",
    "datamodule_params = hyperparameter_factory.datamodule_params\n",
    "trainer_params = hyperparameter_factory.trainer_params\n",
    "model_params = hyperparameter_factory.model_params"
   ]
  },
  {
   "cell_type": "code",
   "execution_count": 7,
   "metadata": {},
   "outputs": [],
   "source": [
    "# DataModule controller\n",
    "datamodule = DataModuleFactory.create(data_name=data_name)\n",
    "datamodule = datamodule(**datamodule_params)\n",
    "\n",
    "datamodule.prepare_data()\n",
    "datamodule.setup(stage=stage)\n",
    "\n",
    "datamodule.train_dataloader()\n",
    "\n",
    "train_loader = datamodule.train_dataloader()\n",
    "val_loader = datamodule.val_dataloader()\n",
    "test_loader = datamodule.test_dataloader()\n",
    "# train_id_dataloader = datamodule.train_id_dataloader()\n",
    "# train_ood_dataloader = datamodule.train_ood_dataloader()\n",
    "# val_id_dataloader = datamodule.val_id_dataloader()\n",
    "# val_ood_dataloader = datamodule.val_ood_dataloader()\n",
    "# test_dataloader = datamodule.test_dataloader()"
   ]
  },
  {
   "cell_type": "code",
   "execution_count": 8,
   "metadata": {},
   "outputs": [],
   "source": [
    "# del model_params.lr\n",
    "# model_params"
   ]
  },
  {
   "cell_type": "code",
   "execution_count": 9,
   "metadata": {},
   "outputs": [
    {
     "name": "stdout",
     "output_type": "stream",
     "text": [
      "1\n"
     ]
    },
    {
     "data": {
      "image/png": "[encoded data removed]",
      "text/plain": [
       "<Figure size 432x288 with 1 Axes>"
      ]
     },
     "metadata": {
      "needs_background": "light"
     },
     "output_type": "display_data"
    }
   ],
   "source": [
    "import matplotlib.pyplot as plt\n",
    "\n",
    "data = datamodule.train_id_dataset[5]\n",
    "\n",
    "print(data[1])\n",
    "plt.imshow(data[0].numpy().squeeze())\n",
    "plt.show()"
   ]
  },
  {
   "cell_type": "code",
   "execution_count": 10,
   "metadata": {},
   "outputs": [
    {
     "name": "stderr",
     "output_type": "stream",
     "text": [
      "/opt/conda/lib/python3.7/site-packages/torchmetrics/utilities/prints.py:36: UserWarning: Metric `AUROC` will save all targets and predictions in buffer. For large datasets this may lead to large memory footprint.\n",
      "  warnings.warn(*args, **kwargs)\n"
     ]
    }
   ],
   "source": [
    "# Model controller\n",
    "model = ModelFactory.create(model_name=model_name, model_metadata=model_metadata, model_params=model_params)\n",
    "# model.latent_dir_path = os.path.join(trainer.model_metadata.model_file_metadata.model_current_version_dir_path, \"latent\")\n",
    "# Path(model.latent_dir_path).mkdir(parents=True, exist_ok=True)\n",
    "\n",
    "# model.checkpoints_period = 5\n",
    "\n",
    "\n",
    "# model.train_id_dataloader = train_id_dataloader\n",
    "# model.train_ood_dataloader = train_ood_dataloader\n",
    "# model.val_id_dataloader = val_id_dataloader\n",
    "# model.val_ood_dataloader = val_ood_dataloader\n",
    "# model.test_dataloader = test_dataloader"
   ]
  },
  {
   "cell_type": "code",
   "execution_count": 11,
   "metadata": {
    "scrolled": true
   },
   "outputs": [
    {
     "name": "stderr",
     "output_type": "stream",
     "text": [
      "GPU available: True, used: True\n",
      "TPU available: False, using: 0 TPU cores\n"
     ]
    }
   ],
   "source": [
    "# Trainer controller\n",
    "trainer = TrainerBase(model_metadata=model_metadata, model=model, **trainer_params)"
   ]
  },
  {
   "cell_type": "code",
   "execution_count": 12,
   "metadata": {},
   "outputs": [
    {
     "data": {
      "text/plain": [
       "\"accelerator\": dp\n",
       "\"callbacks\":   \"early_stopping_callback\":   \"mode\":     max\n",
       "\"monitor\":  auc\n",
       "\"patience\": 30\n",
       "\"strict\":   True\n",
       "\"model_checkpoint_callback\": \"dirpath\":    auto\n",
       "\"mode\":       max\n",
       "\"monitor\":    auc\n",
       "\"save_last\":  True\n",
       "\"save_top_k\": 5\n",
       "\"status_listener_callback\":  True\n",
       "\"gpus\":        1\n",
       "\"hparams\":     \"key\": value\n",
       "\"logger\":      tensor_board_logger\n",
       "\"max_epochs\":  300"
      ]
     },
     "execution_count": 12,
     "metadata": {},
     "output_type": "execute_result"
    }
   ],
   "source": [
    "trainer.arg"
   ]
  },
  {
   "cell_type": "code",
   "execution_count": 13,
   "metadata": {
    "scrolled": true
   },
   "outputs": [],
   "source": [
    "# # Find the optimal learning rate\n",
    "# if trainer.is_auto_lr_find:\n",
    "#     trainer.lr_find(model=model, train_loader=train_loader, val_loader=val_loader)"
   ]
  },
  {
   "cell_type": "code",
   "execution_count": 14,
   "metadata": {},
   "outputs": [
    {
     "name": "stderr",
     "output_type": "stream",
     "text": [
      "LOCAL_RANK: 0 - CUDA_VISIBLE_DEVICES: [0,1,2,3,4,5,6,7]\n",
      "[2021-06-13 06:58:33,365][DEBUG][metadata.py:144] Create current version 202106130658, Path : /workspace/Project/2021_AI_security/model/results/conv_cae_mse/202106130658\n",
      "\n",
      "   | Name                 | Type       | Params\n",
      "-----------------------------------------------------\n",
      "0  | train_acc            | Accuracy   | 0     \n",
      "1  | train_precision      | Precision  | 0     \n",
      "2  | train_recall         | Recall     | 0     \n",
      "3  | train_f1             | F1         | 0     \n",
      "4  | train_auc            | AUROC      | 0     \n",
      "5  | validation_acc       | Accuracy   | 0     \n",
      "6  | validation_precision | Precision  | 0     \n",
      "7  | validation_recall    | Recall     | 0     \n",
      "8  | validation_f1        | F1         | 0     \n",
      "9  | test_acc             | Accuracy   | 0     \n",
      "10 | test_precision       | Precision  | 0     \n",
      "11 | test_recall          | Recall     | 0     \n",
      "12 | test_f1              | F1         | 0     \n",
      "13 | encoder_1            | Sequential | 1.3 K \n",
      "14 | fc_in                | Sequential | 528   \n",
      "15 | fc_out               | Sequential | 544   \n",
      "16 | decoder_1            | Sequential | 4.4 K \n",
      "-----------------------------------------------------\n",
      "6.8 K     Trainable params\n",
      "0         Non-trainable params\n",
      "6.8 K     Total params\n",
      "0.027     Total estimated model params size (MB)\n"
     ]
    },
    {
     "data": {
      "application/vnd.jupyter.widget-view+json": {
       "model_id": "",
       "version_major": 2,
       "version_minor": 0
      },
      "text/plain": [
       "Validation sanity check: 0it [00:00, ?it/s]"
      ]
     },
     "metadata": {},
     "output_type": "display_data"
    },
    {
     "name": "stderr",
     "output_type": "stream",
     "text": [
      "/workspace/Project/2021_AI_security/model/cae_conv_mse.py:243: UserWarning: Implicit dimension choice for softmax has been deprecated. Change the call to include dim=X as an argument.\n",
      "  prob_batch = F.softmax(input=x_id_hat_batch)\n",
      "[2021-06-13 06:58:34,555][INFO][occ.py:142] Start to transform training features to latent\n",
      "[2021-06-13 06:58:36,354][INFO][occ.py:157] Complete to transform training features to latent\n",
      "[2021-06-13 06:58:36,356][INFO][occ.py:159] Start to train the OCC, rbf_ocsvm\n"
     ]
    },
    {
     "name": "stdout",
     "output_type": "stream",
     "text": [
      "[LibSVM]"
     ]
    },
    {
     "name": "stderr",
     "output_type": "stream",
     "text": [
      "[2021-06-13 06:58:55,299][INFO][occ.py:161] Complete to train the OCC, rbf_ocsvm\n",
      "[2021-06-13 06:58:55,304][INFO][occ.py:168] Start to transform validation features to latent\n",
      "[2021-06-13 06:58:56,530][INFO][occ.py:189] Complete to transform validation features to latent\n",
      "[2021-06-13 06:58:56,531][INFO][occ.py:191] Start to validate the OCC, rbf_ocsvm\n",
      "[2021-06-13 06:59:06,786][INFO][occ.py:194] Complete to validate the OCC, rbf_ocsvm\n",
      "Global seed set to 777\n",
      "[2021-06-13 06:59:06,847][INFO][callback.py:41] Start to train ...\n"
     ]
    },
    {
     "name": "stdout",
     "output_type": "stream",
     "text": [
      "AUC : 55.092132103297295\n",
      "[Epoch 0]\n",
      " Train - Loss : None | Accuracy : None | Precision : None | Recall : None | F1 : None\n",
      " Val - Loss : 1.2176783084869385 | Accuracy : None | Precision : None | Recall : None | F1 : None\n",
      "Early Stopping [0/30] - Best Epoch : 0 | Best Score : -inf\n"
     ]
    },
    {
     "data": {
      "application/vnd.jupyter.widget-view+json": {
       "model_id": "d49679c0acc541a38758063c4e6b3a36",
       "version_major": 2,
       "version_minor": 0
      },
      "text/plain": [
       "Training: 0it [00:00, ?it/s]"
      ]
     },
     "metadata": {},
     "output_type": "display_data"
    },
    {
     "data": {
      "application/vnd.jupyter.widget-view+json": {
       "model_id": "",
       "version_major": 2,
       "version_minor": 0
      },
      "text/plain": [
       "Validating: 0it [00:00, ?it/s]"
      ]
     },
     "metadata": {},
     "output_type": "display_data"
    },
    {
     "name": "stderr",
     "output_type": "stream",
     "text": [
      "/workspace/Project/2021_AI_security/model/cae_conv_mse.py:243: UserWarning: Implicit dimension choice for softmax has been deprecated. Change the call to include dim=X as an argument.\n",
      "  prob_batch = F.softmax(input=x_id_hat_batch)\n",
      "[2021-06-13 06:59:27,044][INFO][occ.py:142] Start to transform training features to latent\n",
      "[2021-06-13 06:59:28,823][INFO][occ.py:157] Complete to transform training features to latent\n",
      "[2021-06-13 06:59:28,826][INFO][occ.py:159] Start to train the OCC, rbf_ocsvm\n"
     ]
    },
    {
     "name": "stdout",
     "output_type": "stream",
     "text": [
      "[LibSVM]"
     ]
    },
    {
     "name": "stderr",
     "output_type": "stream",
     "text": [
      "[2021-06-13 06:59:47,379][INFO][occ.py:161] Complete to train the OCC, rbf_ocsvm\n",
      "[2021-06-13 06:59:47,381][INFO][occ.py:168] Start to transform validation features to latent\n",
      "[2021-06-13 06:59:48,591][INFO][occ.py:189] Complete to transform validation features to latent\n",
      "[2021-06-13 06:59:48,593][INFO][occ.py:191] Start to validate the OCC, rbf_ocsvm\n",
      "[2021-06-13 06:59:58,675][INFO][occ.py:194] Complete to validate the OCC, rbf_ocsvm\n",
      "[2021-06-13 06:59:58,728][INFO][callback.py:16] Save checkpoint, Epoch : 0\n",
      "[2021-06-13 06:59:58,738][INFO][callback.py:16] Save checkpoint, Epoch : 0\n"
     ]
    },
    {
     "name": "stdout",
     "output_type": "stream",
     "text": [
      "AUC : 58.08167327474123\n",
      "[Epoch 0]\n",
      " Train - Loss : 0.4748727083206177 | Accuracy : None | Precision : None | Recall : None | F1 : None\n",
      " Val - Loss : 0.4288344085216522 | Accuracy : None | Precision : None | Recall : None | F1 : None\n",
      "Early Stopping [0/30] - Best Epoch : 0 | Best Score : 58.08167266845703\n"
     ]
    },
    {
     "data": {
      "application/vnd.jupyter.widget-view+json": {
       "model_id": "",
       "version_major": 2,
       "version_minor": 0
      },
      "text/plain": [
       "Validating: 0it [00:00, ?it/s]"
      ]
     },
     "metadata": {},
     "output_type": "display_data"
    },
    {
     "name": "stderr",
     "output_type": "stream",
     "text": [
      "/workspace/Project/2021_AI_security/model/cae_conv_mse.py:243: UserWarning: Implicit dimension choice for softmax has been deprecated. Change the call to include dim=X as an argument.\n",
      "  prob_batch = F.softmax(input=x_id_hat_batch)\n",
      "[2021-06-13 07:00:18,647][INFO][occ.py:142] Start to transform training features to latent\n",
      "[2021-06-13 07:00:20,395][INFO][occ.py:157] Complete to transform training features to latent\n",
      "[2021-06-13 07:00:20,398][INFO][occ.py:159] Start to train the OCC, rbf_ocsvm\n"
     ]
    },
    {
     "name": "stdout",
     "output_type": "stream",
     "text": [
      "[LibSVM]"
     ]
    },
    {
     "name": "stderr",
     "output_type": "stream",
     "text": [
      "[2021-06-13 07:00:38,434][INFO][occ.py:161] Complete to train the OCC, rbf_ocsvm\n",
      "[2021-06-13 07:00:38,438][INFO][occ.py:168] Start to transform validation features to latent\n",
      "[2021-06-13 07:00:39,733][INFO][occ.py:189] Complete to transform validation features to latent\n",
      "[2021-06-13 07:00:39,735][INFO][occ.py:191] Start to validate the OCC, rbf_ocsvm\n",
      "[2021-06-13 07:00:49,766][INFO][occ.py:194] Complete to validate the OCC, rbf_ocsvm\n",
      "[2021-06-13 07:00:49,815][INFO][callback.py:16] Save checkpoint, Epoch : 1\n",
      "[2021-06-13 07:00:49,825][INFO][callback.py:16] Save checkpoint, Epoch : 1\n"
     ]
    },
    {
     "name": "stdout",
     "output_type": "stream",
     "text": [
      "AUC : 62.39701970477297\n",
      "[Epoch 1]\n",
      " Train - Loss : 0.41424959897994995 | Accuracy : None | Precision : None | Recall : None | F1 : None\n",
      " Val - Loss : 0.4023745059967041 | Accuracy : None | Precision : None | Recall : None | F1 : None\n",
      "Early Stopping [0/30] - Best Epoch : 1 | Best Score : 62.39701843261719\n"
     ]
    },
    {
     "data": {
      "application/vnd.jupyter.widget-view+json": {
       "model_id": "",
       "version_major": 2,
       "version_minor": 0
      },
      "text/plain": [
       "Validating: 0it [00:00, ?it/s]"
      ]
     },
     "metadata": {},
     "output_type": "display_data"
    },
    {
     "name": "stderr",
     "output_type": "stream",
     "text": [
      "/workspace/Project/2021_AI_security/model/cae_conv_mse.py:243: UserWarning: Implicit dimension choice for softmax has been deprecated. Change the call to include dim=X as an argument.\n",
      "  prob_batch = F.softmax(input=x_id_hat_batch)\n",
      "[2021-06-13 07:01:10,088][INFO][occ.py:142] Start to transform training features to latent\n",
      "[2021-06-13 07:01:12,265][INFO][occ.py:157] Complete to transform training features to latent\n",
      "[2021-06-13 07:01:12,268][INFO][occ.py:159] Start to train the OCC, rbf_ocsvm\n"
     ]
    },
    {
     "name": "stdout",
     "output_type": "stream",
     "text": [
      "[LibSVM]"
     ]
    },
    {
     "name": "stderr",
     "output_type": "stream",
     "text": [
      "[2021-06-13 07:01:30,509][INFO][occ.py:161] Complete to train the OCC, rbf_ocsvm\n",
      "[2021-06-13 07:01:30,512][INFO][occ.py:168] Start to transform validation features to latent\n",
      "[2021-06-13 07:01:31,844][INFO][occ.py:189] Complete to transform validation features to latent\n",
      "[2021-06-13 07:01:31,845][INFO][occ.py:191] Start to validate the OCC, rbf_ocsvm\n",
      "[2021-06-13 07:01:42,106][INFO][occ.py:194] Complete to validate the OCC, rbf_ocsvm\n",
      "[2021-06-13 07:01:42,143][INFO][callback.py:16] Save checkpoint, Epoch : 2\n",
      "[2021-06-13 07:01:42,149][INFO][callback.py:16] Save checkpoint, Epoch : 2\n"
     ]
    },
    {
     "name": "stdout",
     "output_type": "stream",
     "text": [
      "AUC : 62.623206516495685\n",
      "[Epoch 2]\n",
      " Train - Loss : 0.40096744894981384 | Accuracy : None | Precision : None | Recall : None | F1 : None\n",
      " Val - Loss : 0.3951473832130432 | Accuracy : None | Precision : None | Recall : None | F1 : None\n",
      "Early Stopping [0/30] - Best Epoch : 2 | Best Score : 62.623207092285156\n"
     ]
    },
    {
     "data": {
      "application/vnd.jupyter.widget-view+json": {
       "model_id": "",
       "version_major": 2,
       "version_minor": 0
      },
      "text/plain": [
       "Validating: 0it [00:00, ?it/s]"
      ]
     },
     "metadata": {},
     "output_type": "display_data"
    },
    {
     "name": "stderr",
     "output_type": "stream",
     "text": [
      "/workspace/Project/2021_AI_security/model/cae_conv_mse.py:243: UserWarning: Implicit dimension choice for softmax has been deprecated. Change the call to include dim=X as an argument.\n",
      "  prob_batch = F.softmax(input=x_id_hat_batch)\n",
      "[2021-06-13 07:02:02,462][INFO][occ.py:142] Start to transform training features to latent\n",
      "[2021-06-13 07:02:04,592][INFO][occ.py:157] Complete to transform training features to latent\n",
      "[2021-06-13 07:02:04,594][INFO][occ.py:159] Start to train the OCC, rbf_ocsvm\n"
     ]
    },
    {
     "name": "stdout",
     "output_type": "stream",
     "text": [
      "[LibSVM]"
     ]
    },
    {
     "name": "stderr",
     "output_type": "stream",
     "text": [
      "[2021-06-13 07:02:22,454][INFO][occ.py:161] Complete to train the OCC, rbf_ocsvm\n",
      "[2021-06-13 07:02:22,458][INFO][occ.py:168] Start to transform validation features to latent\n",
      "[2021-06-13 07:02:23,781][INFO][occ.py:189] Complete to transform validation features to latent\n",
      "[2021-06-13 07:02:23,783][INFO][occ.py:191] Start to validate the OCC, rbf_ocsvm\n",
      "[2021-06-13 07:02:33,986][INFO][occ.py:194] Complete to validate the OCC, rbf_ocsvm\n",
      "[2021-06-13 07:02:34,025][INFO][callback.py:16] Save checkpoint, Epoch : 3\n",
      "[2021-06-13 07:02:34,031][INFO][callback.py:16] Save checkpoint, Epoch : 3\n"
     ]
    },
    {
     "name": "stdout",
     "output_type": "stream",
     "text": [
      "AUC : 64.58528780729843\n",
      "[Epoch 3]\n",
      " Train - Loss : 0.3939788341522217 | Accuracy : None | Precision : None | Recall : None | F1 : None\n",
      " Val - Loss : 0.38984352350234985 | Accuracy : None | Precision : None | Recall : None | F1 : None\n",
      "Early Stopping [0/30] - Best Epoch : 3 | Best Score : 64.58528900146484\n"
     ]
    },
    {
     "data": {
      "application/vnd.jupyter.widget-view+json": {
       "model_id": "",
       "version_major": 2,
       "version_minor": 0
      },
      "text/plain": [
       "Validating: 0it [00:00, ?it/s]"
      ]
     },
     "metadata": {},
     "output_type": "display_data"
    },
    {
     "name": "stderr",
     "output_type": "stream",
     "text": [
      "/workspace/Project/2021_AI_security/model/cae_conv_mse.py:243: UserWarning: Implicit dimension choice for softmax has been deprecated. Change the call to include dim=X as an argument.\n",
      "  prob_batch = F.softmax(input=x_id_hat_batch)\n",
      "[2021-06-13 07:02:54,790][INFO][occ.py:142] Start to transform training features to latent\n",
      "[2021-06-13 07:02:56,817][INFO][occ.py:157] Complete to transform training features to latent\n",
      "[2021-06-13 07:02:56,819][INFO][occ.py:159] Start to train the OCC, rbf_ocsvm\n"
     ]
    },
    {
     "name": "stdout",
     "output_type": "stream",
     "text": [
      "[LibSVM]"
     ]
    },
    {
     "name": "stderr",
     "output_type": "stream",
     "text": [
      "[2021-06-13 07:03:14,994][INFO][occ.py:161] Complete to train the OCC, rbf_ocsvm\n",
      "[2021-06-13 07:03:14,997][INFO][occ.py:168] Start to transform validation features to latent\n",
      "[2021-06-13 07:03:16,243][INFO][occ.py:189] Complete to transform validation features to latent\n",
      "[2021-06-13 07:03:16,245][INFO][occ.py:191] Start to validate the OCC, rbf_ocsvm\n",
      "[2021-06-13 07:03:27,038][INFO][occ.py:194] Complete to validate the OCC, rbf_ocsvm\n",
      "[2021-06-13 07:03:27,089][INFO][callback.py:16] Save checkpoint, Epoch : 4\n",
      "[2021-06-13 07:03:27,099][INFO][callback.py:16] Save checkpoint, Epoch : 4\n"
     ]
    },
    {
     "name": "stdout",
     "output_type": "stream",
     "text": [
      "AUC : 65.92963664012717\n",
      "[Epoch 4]\n",
      " Train - Loss : 0.38931775093078613 | Accuracy : None | Precision : None | Recall : None | F1 : None\n",
      " Val - Loss : 0.3865619897842407 | Accuracy : None | Precision : None | Recall : None | F1 : None\n",
      "Early Stopping [0/30] - Best Epoch : 4 | Best Score : 65.92963409423828\n"
     ]
    },
    {
     "data": {
      "application/vnd.jupyter.widget-view+json": {
       "model_id": "",
       "version_major": 2,
       "version_minor": 0
      },
      "text/plain": [
       "Validating: 0it [00:00, ?it/s]"
      ]
     },
     "metadata": {},
     "output_type": "display_data"
    },
    {
     "name": "stderr",
     "output_type": "stream",
     "text": [
      "/workspace/Project/2021_AI_security/model/cae_conv_mse.py:243: UserWarning: Implicit dimension choice for softmax has been deprecated. Change the call to include dim=X as an argument.\n",
      "  prob_batch = F.softmax(input=x_id_hat_batch)\n",
      "[2021-06-13 07:03:47,792][INFO][occ.py:142] Start to transform training features to latent\n",
      "[2021-06-13 07:03:49,822][INFO][occ.py:157] Complete to transform training features to latent\n",
      "[2021-06-13 07:03:49,827][INFO][occ.py:159] Start to train the OCC, rbf_ocsvm\n"
     ]
    },
    {
     "name": "stdout",
     "output_type": "stream",
     "text": [
      "[LibSVM]"
     ]
    },
    {
     "name": "stderr",
     "output_type": "stream",
     "text": [
      "[2021-06-13 07:04:08,050][INFO][occ.py:161] Complete to train the OCC, rbf_ocsvm\n",
      "[2021-06-13 07:04:08,053][INFO][occ.py:168] Start to transform validation features to latent\n",
      "[2021-06-13 07:04:09,347][INFO][occ.py:189] Complete to transform validation features to latent\n",
      "[2021-06-13 07:04:09,349][INFO][occ.py:191] Start to validate the OCC, rbf_ocsvm\n",
      "[2021-06-13 07:04:19,546][INFO][occ.py:194] Complete to validate the OCC, rbf_ocsvm\n",
      "[2021-06-13 07:04:19,586][INFO][callback.py:16] Save checkpoint, Epoch : 5\n",
      "[2021-06-13 07:04:19,592][INFO][callback.py:16] Save checkpoint, Epoch : 5\n"
     ]
    },
    {
     "name": "stdout",
     "output_type": "stream",
     "text": [
      "AUC : 65.62991298475166\n",
      "[Epoch 5]\n",
      " Train - Loss : 0.38591983914375305 | Accuracy : None | Precision : None | Recall : None | F1 : None\n",
      " Val - Loss : 0.38476458191871643 | Accuracy : None | Precision : None | Recall : None | F1 : None\n",
      "Early Stopping [1/30] - Best Epoch : 4 | Best Score : 65.92963409423828\n"
     ]
    },
    {
     "data": {
      "application/vnd.jupyter.widget-view+json": {
       "model_id": "",
       "version_major": 2,
       "version_minor": 0
      },
      "text/plain": [
       "Validating: 0it [00:00, ?it/s]"
      ]
     },
     "metadata": {},
     "output_type": "display_data"
    },
    {
     "name": "stderr",
     "output_type": "stream",
     "text": [
      "/workspace/Project/2021_AI_security/model/cae_conv_mse.py:243: UserWarning: Implicit dimension choice for softmax has been deprecated. Change the call to include dim=X as an argument.\n",
      "  prob_batch = F.softmax(input=x_id_hat_batch)\n",
      "[2021-06-13 07:04:41,267][INFO][occ.py:142] Start to transform training features to latent\n",
      "[2021-06-13 07:04:43,412][INFO][occ.py:157] Complete to transform training features to latent\n",
      "[2021-06-13 07:04:43,414][INFO][occ.py:159] Start to train the OCC, rbf_ocsvm\n"
     ]
    },
    {
     "name": "stdout",
     "output_type": "stream",
     "text": [
      "[LibSVM]"
     ]
    },
    {
     "name": "stderr",
     "output_type": "stream",
     "text": [
      "[2021-06-13 07:05:01,843][INFO][occ.py:161] Complete to train the OCC, rbf_ocsvm\n",
      "[2021-06-13 07:05:01,850][INFO][occ.py:168] Start to transform validation features to latent\n",
      "[2021-06-13 07:05:03,204][INFO][occ.py:189] Complete to transform validation features to latent\n",
      "[2021-06-13 07:05:03,206][INFO][occ.py:191] Start to validate the OCC, rbf_ocsvm\n",
      "[2021-06-13 07:05:13,569][INFO][occ.py:194] Complete to validate the OCC, rbf_ocsvm\n",
      "[2021-06-13 07:05:13,607][INFO][callback.py:16] Save checkpoint, Epoch : 6\n",
      "[2021-06-13 07:05:13,613][INFO][callback.py:16] Save checkpoint, Epoch : 6\n"
     ]
    },
    {
     "name": "stdout",
     "output_type": "stream",
     "text": [
      "AUC : 66.66158809719612\n",
      "[Epoch 6]\n",
      " Train - Loss : 0.3833996057510376 | Accuracy : None | Precision : None | Recall : None | F1 : None\n",
      " Val - Loss : 0.3809199035167694 | Accuracy : None | Precision : None | Recall : None | F1 : None\n",
      "Early Stopping [0/30] - Best Epoch : 6 | Best Score : 66.66159057617188\n"
     ]
    },
    {
     "data": {
      "application/vnd.jupyter.widget-view+json": {
       "model_id": "",
       "version_major": 2,
       "version_minor": 0
      },
      "text/plain": [
       "Validating: 0it [00:00, ?it/s]"
      ]
     },
     "metadata": {},
     "output_type": "display_data"
    },
    {
     "name": "stderr",
     "output_type": "stream",
     "text": [
      "/workspace/Project/2021_AI_security/model/cae_conv_mse.py:243: UserWarning: Implicit dimension choice for softmax has been deprecated. Change the call to include dim=X as an argument.\n",
      "  prob_batch = F.softmax(input=x_id_hat_batch)\n",
      "[2021-06-13 07:05:33,938][INFO][occ.py:142] Start to transform training features to latent\n",
      "[2021-06-13 07:05:36,042][INFO][occ.py:157] Complete to transform training features to latent\n",
      "[2021-06-13 07:05:36,044][INFO][occ.py:159] Start to train the OCC, rbf_ocsvm\n"
     ]
    },
    {
     "name": "stdout",
     "output_type": "stream",
     "text": [
      "[LibSVM]"
     ]
    },
    {
     "name": "stderr",
     "output_type": "stream",
     "text": [
      "[2021-06-13 07:05:54,430][INFO][occ.py:161] Complete to train the OCC, rbf_ocsvm\n",
      "[2021-06-13 07:05:54,432][INFO][occ.py:168] Start to transform validation features to latent\n",
      "[2021-06-13 07:05:55,735][INFO][occ.py:189] Complete to transform validation features to latent\n",
      "[2021-06-13 07:05:55,737][INFO][occ.py:191] Start to validate the OCC, rbf_ocsvm\n",
      "[2021-06-13 07:06:06,628][INFO][occ.py:194] Complete to validate the OCC, rbf_ocsvm\n",
      "[2021-06-13 07:06:06,666][INFO][callback.py:16] Save checkpoint, Epoch : 7\n",
      "[2021-06-13 07:06:06,673][INFO][callback.py:16] Save checkpoint, Epoch : 7\n"
     ]
    },
    {
     "name": "stdout",
     "output_type": "stream",
     "text": [
      "AUC : 68.38124761672861\n",
      "[Epoch 7]\n",
      " Train - Loss : 0.3810400664806366 | Accuracy : None | Precision : None | Recall : None | F1 : None\n",
      " Val - Loss : 0.37773898243904114 | Accuracy : None | Precision : None | Recall : None | F1 : None\n",
      "Early Stopping [0/30] - Best Epoch : 7 | Best Score : 68.3812484741211\n"
     ]
    },
    {
     "data": {
      "application/vnd.jupyter.widget-view+json": {
       "model_id": "",
       "version_major": 2,
       "version_minor": 0
      },
      "text/plain": [
       "Validating: 0it [00:00, ?it/s]"
      ]
     },
     "metadata": {},
     "output_type": "display_data"
    },
    {
     "name": "stderr",
     "output_type": "stream",
     "text": [
      "/workspace/Project/2021_AI_security/model/cae_conv_mse.py:243: UserWarning: Implicit dimension choice for softmax has been deprecated. Change the call to include dim=X as an argument.\n",
      "  prob_batch = F.softmax(input=x_id_hat_batch)\n",
      "[2021-06-13 07:06:27,236][INFO][occ.py:142] Start to transform training features to latent\n",
      "[2021-06-13 07:06:29,428][INFO][occ.py:157] Complete to transform training features to latent\n",
      "[2021-06-13 07:06:29,430][INFO][occ.py:159] Start to train the OCC, rbf_ocsvm\n"
     ]
    },
    {
     "name": "stdout",
     "output_type": "stream",
     "text": [
      "[LibSVM]"
     ]
    },
    {
     "name": "stderr",
     "output_type": "stream",
     "text": [
      "[2021-06-13 07:06:47,489][INFO][occ.py:161] Complete to train the OCC, rbf_ocsvm\n",
      "[2021-06-13 07:06:47,491][INFO][occ.py:168] Start to transform validation features to latent\n",
      "[2021-06-13 07:06:48,789][INFO][occ.py:189] Complete to transform validation features to latent\n",
      "[2021-06-13 07:06:48,790][INFO][occ.py:191] Start to validate the OCC, rbf_ocsvm\n",
      "[2021-06-13 07:06:59,257][INFO][occ.py:194] Complete to validate the OCC, rbf_ocsvm\n",
      "[2021-06-13 07:06:59,288][INFO][callback.py:16] Save checkpoint, Epoch : 8\n",
      "[2021-06-13 07:06:59,294][INFO][callback.py:16] Save checkpoint, Epoch : 8\n"
     ]
    },
    {
     "name": "stdout",
     "output_type": "stream",
     "text": [
      "AUC : 68.62854504440351\n",
      "[Epoch 8]\n",
      " Train - Loss : 0.37934479117393494 | Accuracy : None | Precision : None | Recall : None | F1 : None\n",
      " Val - Loss : 0.37541696429252625 | Accuracy : None | Precision : None | Recall : None | F1 : None\n",
      "Early Stopping [0/30] - Best Epoch : 8 | Best Score : 68.62854766845703\n"
     ]
    },
    {
     "data": {
      "application/vnd.jupyter.widget-view+json": {
       "model_id": "",
       "version_major": 2,
       "version_minor": 0
      },
      "text/plain": [
       "Validating: 0it [00:00, ?it/s]"
      ]
     },
     "metadata": {},
     "output_type": "display_data"
    },
    {
     "name": "stderr",
     "output_type": "stream",
     "text": [
      "/workspace/Project/2021_AI_security/model/cae_conv_mse.py:243: UserWarning: Implicit dimension choice for softmax has been deprecated. Change the call to include dim=X as an argument.\n",
      "  prob_batch = F.softmax(input=x_id_hat_batch)\n",
      "[2021-06-13 07:07:19,207][INFO][occ.py:142] Start to transform training features to latent\n",
      "[2021-06-13 07:07:21,352][INFO][occ.py:157] Complete to transform training features to latent\n",
      "[2021-06-13 07:07:21,357][INFO][occ.py:159] Start to train the OCC, rbf_ocsvm\n"
     ]
    },
    {
     "name": "stdout",
     "output_type": "stream",
     "text": [
      "[LibSVM]"
     ]
    },
    {
     "name": "stderr",
     "output_type": "stream",
     "text": [
      "[2021-06-13 07:07:39,926][INFO][occ.py:161] Complete to train the OCC, rbf_ocsvm\n",
      "[2021-06-13 07:07:39,930][INFO][occ.py:168] Start to transform validation features to latent\n",
      "[2021-06-13 07:07:41,209][INFO][occ.py:189] Complete to transform validation features to latent\n",
      "[2021-06-13 07:07:41,211][INFO][occ.py:191] Start to validate the OCC, rbf_ocsvm\n",
      "[2021-06-13 07:07:51,948][INFO][occ.py:194] Complete to validate the OCC, rbf_ocsvm\n",
      "[2021-06-13 07:07:51,999][INFO][callback.py:16] Save checkpoint, Epoch : 9\n",
      "[2021-06-13 07:07:52,009][INFO][callback.py:16] Save checkpoint, Epoch : 9\n"
     ]
    },
    {
     "name": "stdout",
     "output_type": "stream",
     "text": [
      "AUC : 69.49305233319399\n",
      "[Epoch 9]\n",
      " Train - Loss : 0.3774315118789673 | Accuracy : None | Precision : None | Recall : None | F1 : None\n",
      " Val - Loss : 0.37363025546073914 | Accuracy : None | Precision : None | Recall : None | F1 : None\n",
      "Early Stopping [0/30] - Best Epoch : 9 | Best Score : 69.49304962158203\n"
     ]
    },
    {
     "data": {
      "application/vnd.jupyter.widget-view+json": {
       "model_id": "",
       "version_major": 2,
       "version_minor": 0
      },
      "text/plain": [
       "Validating: 0it [00:00, ?it/s]"
      ]
     },
     "metadata": {},
     "output_type": "display_data"
    },
    {
     "name": "stderr",
     "output_type": "stream",
     "text": [
      "/workspace/Project/2021_AI_security/model/cae_conv_mse.py:243: UserWarning: Implicit dimension choice for softmax has been deprecated. Change the call to include dim=X as an argument.\n",
      "  prob_batch = F.softmax(input=x_id_hat_batch)\n",
      "[2021-06-13 07:08:11,873][INFO][occ.py:142] Start to transform training features to latent\n",
      "[2021-06-13 07:08:13,992][INFO][occ.py:157] Complete to transform training features to latent\n",
      "[2021-06-13 07:08:13,994][INFO][occ.py:159] Start to train the OCC, rbf_ocsvm\n"
     ]
    },
    {
     "name": "stdout",
     "output_type": "stream",
     "text": [
      "[LibSVM]"
     ]
    },
    {
     "name": "stderr",
     "output_type": "stream",
     "text": [
      "[2021-06-13 07:08:32,351][INFO][occ.py:161] Complete to train the OCC, rbf_ocsvm\n",
      "[2021-06-13 07:08:32,354][INFO][occ.py:168] Start to transform validation features to latent\n",
      "[2021-06-13 07:08:33,644][INFO][occ.py:189] Complete to transform validation features to latent\n",
      "[2021-06-13 07:08:33,646][INFO][occ.py:191] Start to validate the OCC, rbf_ocsvm\n",
      "[2021-06-13 07:08:44,018][INFO][occ.py:194] Complete to validate the OCC, rbf_ocsvm\n",
      "[2021-06-13 07:08:44,053][INFO][callback.py:16] Save checkpoint, Epoch : 10\n",
      "[2021-06-13 07:08:44,059][INFO][callback.py:16] Save checkpoint, Epoch : 10\n"
     ]
    },
    {
     "name": "stdout",
     "output_type": "stream",
     "text": [
      "AUC : 70.28812315368253\n",
      "[Epoch 10]\n",
      " Train - Loss : 0.3757432997226715 | Accuracy : None | Precision : None | Recall : None | F1 : None\n",
      " Val - Loss : 0.3724140226840973 | Accuracy : None | Precision : None | Recall : None | F1 : None\n",
      "Early Stopping [0/30] - Best Epoch : 10 | Best Score : 70.28812408447266\n"
     ]
    },
    {
     "data": {
      "application/vnd.jupyter.widget-view+json": {
       "model_id": "",
       "version_major": 2,
       "version_minor": 0
      },
      "text/plain": [
       "Validating: 0it [00:00, ?it/s]"
      ]
     },
     "metadata": {},
     "output_type": "display_data"
    },
    {
     "name": "stderr",
     "output_type": "stream",
     "text": [
      "/workspace/Project/2021_AI_security/model/cae_conv_mse.py:243: UserWarning: Implicit dimension choice for softmax has been deprecated. Change the call to include dim=X as an argument.\n",
      "  prob_batch = F.softmax(input=x_id_hat_batch)\n",
      "[2021-06-13 07:09:04,414][INFO][occ.py:142] Start to transform training features to latent\n",
      "[2021-06-13 07:09:06,504][INFO][occ.py:157] Complete to transform training features to latent\n",
      "[2021-06-13 07:09:06,507][INFO][occ.py:159] Start to train the OCC, rbf_ocsvm\n"
     ]
    },
    {
     "name": "stdout",
     "output_type": "stream",
     "text": [
      "[LibSVM]"
     ]
    },
    {
     "name": "stderr",
     "output_type": "stream",
     "text": [
      "[2021-06-13 07:09:24,765][INFO][occ.py:161] Complete to train the OCC, rbf_ocsvm\n",
      "[2021-06-13 07:09:24,767][INFO][occ.py:168] Start to transform validation features to latent\n",
      "[2021-06-13 07:09:26,005][INFO][occ.py:189] Complete to transform validation features to latent\n",
      "[2021-06-13 07:09:26,008][INFO][occ.py:191] Start to validate the OCC, rbf_ocsvm\n",
      "[2021-06-13 07:09:36,387][INFO][occ.py:194] Complete to validate the OCC, rbf_ocsvm\n",
      "[2021-06-13 07:09:36,419][INFO][callback.py:16] Save checkpoint, Epoch : 11\n",
      "[2021-06-13 07:09:36,424][INFO][callback.py:16] Save checkpoint, Epoch : 11\n"
     ]
    },
    {
     "name": "stdout",
     "output_type": "stream",
     "text": [
      "AUC : 70.99887210963738\n",
      "[Epoch 11]\n",
      " Train - Loss : 0.3745436370372772 | Accuracy : None | Precision : None | Recall : None | F1 : None\n",
      " Val - Loss : 0.3722938895225525 | Accuracy : None | Precision : None | Recall : None | F1 : None\n",
      "Early Stopping [0/30] - Best Epoch : 11 | Best Score : 70.99887084960938\n"
     ]
    },
    {
     "data": {
      "application/vnd.jupyter.widget-view+json": {
       "model_id": "",
       "version_major": 2,
       "version_minor": 0
      },
      "text/plain": [
       "Validating: 0it [00:00, ?it/s]"
      ]
     },
     "metadata": {},
     "output_type": "display_data"
    },
    {
     "name": "stderr",
     "output_type": "stream",
     "text": [
      "/workspace/Project/2021_AI_security/model/cae_conv_mse.py:243: UserWarning: Implicit dimension choice for softmax has been deprecated. Change the call to include dim=X as an argument.\n",
      "  prob_batch = F.softmax(input=x_id_hat_batch)\n",
      "[2021-06-13 07:09:56,584][INFO][occ.py:142] Start to transform training features to latent\n",
      "[2021-06-13 07:09:58,778][INFO][occ.py:157] Complete to transform training features to latent\n",
      "[2021-06-13 07:09:58,781][INFO][occ.py:159] Start to train the OCC, rbf_ocsvm\n"
     ]
    },
    {
     "name": "stdout",
     "output_type": "stream",
     "text": [
      "[LibSVM]"
     ]
    },
    {
     "name": "stderr",
     "output_type": "stream",
     "text": [
      "[2021-06-13 07:10:17,177][INFO][occ.py:161] Complete to train the OCC, rbf_ocsvm\n",
      "[2021-06-13 07:10:17,180][INFO][occ.py:168] Start to transform validation features to latent\n",
      "[2021-06-13 07:10:18,418][INFO][occ.py:189] Complete to transform validation features to latent\n",
      "[2021-06-13 07:10:18,420][INFO][occ.py:191] Start to validate the OCC, rbf_ocsvm\n",
      "[2021-06-13 07:10:28,721][INFO][occ.py:194] Complete to validate the OCC, rbf_ocsvm\n",
      "[2021-06-13 07:10:28,761][INFO][callback.py:16] Save checkpoint, Epoch : 12\n",
      "[2021-06-13 07:10:28,767][INFO][callback.py:16] Save checkpoint, Epoch : 12\n"
     ]
    },
    {
     "name": "stdout",
     "output_type": "stream",
     "text": [
      "AUC : 69.56100141043724\n",
      "[Epoch 12]\n",
      " Train - Loss : 0.37313902378082275 | Accuracy : None | Precision : None | Recall : None | F1 : None\n",
      " Val - Loss : 0.3726270794868469 | Accuracy : None | Precision : None | Recall : None | F1 : None\n",
      "Early Stopping [1/30] - Best Epoch : 11 | Best Score : 70.99887084960938\n"
     ]
    },
    {
     "data": {
      "application/vnd.jupyter.widget-view+json": {
       "model_id": "",
       "version_major": 2,
       "version_minor": 0
      },
      "text/plain": [
       "Validating: 0it [00:00, ?it/s]"
      ]
     },
     "metadata": {},
     "output_type": "display_data"
    },
    {
     "name": "stderr",
     "output_type": "stream",
     "text": [
      "/workspace/Project/2021_AI_security/model/cae_conv_mse.py:243: UserWarning: Implicit dimension choice for softmax has been deprecated. Change the call to include dim=X as an argument.\n",
      "  prob_batch = F.softmax(input=x_id_hat_batch)\n",
      "[2021-06-13 07:10:49,034][INFO][occ.py:142] Start to transform training features to latent\n",
      "[2021-06-13 07:10:51,032][INFO][occ.py:157] Complete to transform training features to latent\n",
      "[2021-06-13 07:10:51,034][INFO][occ.py:159] Start to train the OCC, rbf_ocsvm\n"
     ]
    },
    {
     "name": "stdout",
     "output_type": "stream",
     "text": [
      "[LibSVM]"
     ]
    },
    {
     "name": "stderr",
     "output_type": "stream",
     "text": [
      "[2021-06-13 07:11:09,124][INFO][occ.py:161] Complete to train the OCC, rbf_ocsvm\n",
      "[2021-06-13 07:11:09,127][INFO][occ.py:168] Start to transform validation features to latent\n",
      "[2021-06-13 07:11:10,382][INFO][occ.py:189] Complete to transform validation features to latent\n",
      "[2021-06-13 07:11:10,384][INFO][occ.py:191] Start to validate the OCC, rbf_ocsvm\n",
      "[2021-06-13 07:11:20,890][INFO][occ.py:194] Complete to validate the OCC, rbf_ocsvm\n",
      "[2021-06-13 07:11:20,919][INFO][callback.py:16] Save checkpoint, Epoch : 13\n",
      "[2021-06-13 07:11:20,925][INFO][callback.py:16] Save checkpoint, Epoch : 13\n"
     ]
    },
    {
     "name": "stdout",
     "output_type": "stream",
     "text": [
      "AUC : 69.69952403486124\n",
      "[Epoch 13]\n",
      " Train - Loss : 0.37230077385902405 | Accuracy : None | Precision : None | Recall : None | F1 : None\n",
      " Val - Loss : 0.3694455027580261 | Accuracy : None | Precision : None | Recall : None | F1 : None\n",
      "Early Stopping [2/30] - Best Epoch : 11 | Best Score : 70.99887084960938\n"
     ]
    },
    {
     "data": {
      "application/vnd.jupyter.widget-view+json": {
       "model_id": "",
       "version_major": 2,
       "version_minor": 0
      },
      "text/plain": [
       "Validating: 0it [00:00, ?it/s]"
      ]
     },
     "metadata": {},
     "output_type": "display_data"
    },
    {
     "name": "stderr",
     "output_type": "stream",
     "text": [
      "/workspace/Project/2021_AI_security/model/cae_conv_mse.py:243: UserWarning: Implicit dimension choice for softmax has been deprecated. Change the call to include dim=X as an argument.\n",
      "  prob_batch = F.softmax(input=x_id_hat_batch)\n",
      "[2021-06-13 07:11:41,826][INFO][occ.py:142] Start to transform training features to latent\n",
      "[2021-06-13 07:11:43,893][INFO][occ.py:157] Complete to transform training features to latent\n",
      "[2021-06-13 07:11:43,895][INFO][occ.py:159] Start to train the OCC, rbf_ocsvm\n"
     ]
    },
    {
     "name": "stdout",
     "output_type": "stream",
     "text": [
      "[LibSVM]"
     ]
    },
    {
     "name": "stderr",
     "output_type": "stream",
     "text": [
      "[2021-06-13 07:12:02,295][INFO][occ.py:161] Complete to train the OCC, rbf_ocsvm\n",
      "[2021-06-13 07:12:02,301][INFO][occ.py:168] Start to transform validation features to latent\n",
      "[2021-06-13 07:12:03,557][INFO][occ.py:189] Complete to transform validation features to latent\n",
      "[2021-06-13 07:12:03,559][INFO][occ.py:191] Start to validate the OCC, rbf_ocsvm\n",
      "[2021-06-13 07:12:14,071][INFO][occ.py:194] Complete to validate the OCC, rbf_ocsvm\n",
      "[2021-06-13 07:12:14,112][INFO][callback.py:16] Save checkpoint, Epoch : 14\n",
      "[2021-06-13 07:12:14,119][INFO][callback.py:16] Save checkpoint, Epoch : 14\n"
     ]
    },
    {
     "name": "stdout",
     "output_type": "stream",
     "text": [
      "AUC : 71.86310948576468\n",
      "[Epoch 14]\n",
      " Train - Loss : 0.37108924984931946 | Accuracy : None | Precision : None | Recall : None | F1 : None\n",
      " Val - Loss : 0.3678859770298004 | Accuracy : None | Precision : None | Recall : None | F1 : None\n",
      "Early Stopping [0/30] - Best Epoch : 14 | Best Score : 71.86310577392578\n"
     ]
    },
    {
     "data": {
      "application/vnd.jupyter.widget-view+json": {
       "model_id": "",
       "version_major": 2,
       "version_minor": 0
      },
      "text/plain": [
       "Validating: 0it [00:00, ?it/s]"
      ]
     },
     "metadata": {},
     "output_type": "display_data"
    },
    {
     "name": "stderr",
     "output_type": "stream",
     "text": [
      "/workspace/Project/2021_AI_security/model/cae_conv_mse.py:243: UserWarning: Implicit dimension choice for softmax has been deprecated. Change the call to include dim=X as an argument.\n",
      "  prob_batch = F.softmax(input=x_id_hat_batch)\n",
      "[2021-06-13 07:12:33,858][INFO][occ.py:142] Start to transform training features to latent\n",
      "[2021-06-13 07:12:35,886][INFO][occ.py:157] Complete to transform training features to latent\n",
      "[2021-06-13 07:12:35,888][INFO][occ.py:159] Start to train the OCC, rbf_ocsvm\n"
     ]
    },
    {
     "name": "stdout",
     "output_type": "stream",
     "text": [
      "[LibSVM]"
     ]
    },
    {
     "name": "stderr",
     "output_type": "stream",
     "text": [
      "[2021-06-13 07:12:54,045][INFO][occ.py:161] Complete to train the OCC, rbf_ocsvm\n",
      "[2021-06-13 07:12:54,047][INFO][occ.py:168] Start to transform validation features to latent\n",
      "[2021-06-13 07:12:55,339][INFO][occ.py:189] Complete to transform validation features to latent\n",
      "[2021-06-13 07:12:55,341][INFO][occ.py:191] Start to validate the OCC, rbf_ocsvm\n",
      "[2021-06-13 07:13:05,768][INFO][occ.py:194] Complete to validate the OCC, rbf_ocsvm\n",
      "[2021-06-13 07:13:05,797][INFO][callback.py:16] Save checkpoint, Epoch : 15\n",
      "[2021-06-13 07:13:05,803][INFO][callback.py:16] Save checkpoint, Epoch : 15\n"
     ]
    },
    {
     "name": "stdout",
     "output_type": "stream",
     "text": [
      "AUC : 71.107681369824\n",
      "[Epoch 15]\n",
      " Train - Loss : 0.3703954517841339 | Accuracy : None | Precision : None | Recall : None | F1 : None\n",
      " Val - Loss : 0.36783212423324585 | Accuracy : None | Precision : None | Recall : None | F1 : None\n",
      "Early Stopping [1/30] - Best Epoch : 14 | Best Score : 71.86310577392578\n"
     ]
    },
    {
     "data": {
      "application/vnd.jupyter.widget-view+json": {
       "model_id": "",
       "version_major": 2,
       "version_minor": 0
      },
      "text/plain": [
       "Validating: 0it [00:00, ?it/s]"
      ]
     },
     "metadata": {},
     "output_type": "display_data"
    },
    {
     "name": "stderr",
     "output_type": "stream",
     "text": [
      "/workspace/Project/2021_AI_security/model/cae_conv_mse.py:243: UserWarning: Implicit dimension choice for softmax has been deprecated. Change the call to include dim=X as an argument.\n",
      "  prob_batch = F.softmax(input=x_id_hat_batch)\n",
      "[2021-06-13 07:13:23,328][INFO][occ.py:142] Start to transform training features to latent\n",
      "[2021-06-13 07:13:25,039][INFO][occ.py:157] Complete to transform training features to latent\n",
      "[2021-06-13 07:13:25,041][INFO][occ.py:159] Start to train the OCC, rbf_ocsvm\n"
     ]
    },
    {
     "name": "stdout",
     "output_type": "stream",
     "text": [
      "[LibSVM]"
     ]
    },
    {
     "name": "stderr",
     "output_type": "stream",
     "text": [
      "[2021-06-13 07:13:43,245][INFO][occ.py:161] Complete to train the OCC, rbf_ocsvm\n",
      "[2021-06-13 07:13:43,247][INFO][occ.py:168] Start to transform validation features to latent\n",
      "[2021-06-13 07:13:44,356][INFO][occ.py:189] Complete to transform validation features to latent\n",
      "[2021-06-13 07:13:44,358][INFO][occ.py:191] Start to validate the OCC, rbf_ocsvm\n",
      "[2021-06-13 07:13:54,744][INFO][occ.py:194] Complete to validate the OCC, rbf_ocsvm\n",
      "[2021-06-13 07:13:54,775][INFO][callback.py:16] Save checkpoint, Epoch : 16\n",
      "[2021-06-13 07:13:54,781][INFO][callback.py:16] Save checkpoint, Epoch : 16\n"
     ]
    },
    {
     "name": "stdout",
     "output_type": "stream",
     "text": [
      "AUC : 70.99954976270656\n",
      "[Epoch 16]\n",
      " Train - Loss : 0.36973655223846436 | Accuracy : None | Precision : None | Recall : None | F1 : None\n",
      " Val - Loss : 0.36800646781921387 | Accuracy : None | Precision : None | Recall : None | F1 : None\n",
      "Early Stopping [2/30] - Best Epoch : 14 | Best Score : 71.86310577392578\n"
     ]
    },
    {
     "data": {
      "application/vnd.jupyter.widget-view+json": {
       "model_id": "",
       "version_major": 2,
       "version_minor": 0
      },
      "text/plain": [
       "Validating: 0it [00:00, ?it/s]"
      ]
     },
     "metadata": {},
     "output_type": "display_data"
    },
    {
     "name": "stderr",
     "output_type": "stream",
     "text": [
      "/workspace/Project/2021_AI_security/model/cae_conv_mse.py:243: UserWarning: Implicit dimension choice for softmax has been deprecated. Change the call to include dim=X as an argument.\n",
      "  prob_batch = F.softmax(input=x_id_hat_batch)\n",
      "[2021-06-13 07:14:14,186][INFO][occ.py:142] Start to transform training features to latent\n",
      "[2021-06-13 07:14:16,282][INFO][occ.py:157] Complete to transform training features to latent\n",
      "[2021-06-13 07:14:16,285][INFO][occ.py:159] Start to train the OCC, rbf_ocsvm\n"
     ]
    },
    {
     "name": "stdout",
     "output_type": "stream",
     "text": [
      "[LibSVM]"
     ]
    },
    {
     "name": "stderr",
     "output_type": "stream",
     "text": [
      "[2021-06-13 07:14:34,220][INFO][occ.py:161] Complete to train the OCC, rbf_ocsvm\n",
      "[2021-06-13 07:14:34,222][INFO][occ.py:168] Start to transform validation features to latent\n",
      "[2021-06-13 07:14:35,547][INFO][occ.py:189] Complete to transform validation features to latent\n",
      "[2021-06-13 07:14:35,549][INFO][occ.py:191] Start to validate the OCC, rbf_ocsvm\n",
      "[2021-06-13 07:14:45,738][INFO][occ.py:194] Complete to validate the OCC, rbf_ocsvm\n",
      "[2021-06-13 07:14:45,770][INFO][callback.py:16] Save checkpoint, Epoch : 17\n",
      "[2021-06-13 07:14:45,777][INFO][callback.py:16] Save checkpoint, Epoch : 17\n"
     ]
    },
    {
     "name": "stdout",
     "output_type": "stream",
     "text": [
      "AUC : 72.38438549500835\n",
      "[Epoch 17]\n",
      " Train - Loss : 0.36917752027511597 | Accuracy : None | Precision : None | Recall : None | F1 : None\n",
      " Val - Loss : 0.36785730719566345 | Accuracy : None | Precision : None | Recall : None | F1 : None\n",
      "Early Stopping [0/30] - Best Epoch : 17 | Best Score : 72.38438415527344\n"
     ]
    },
    {
     "data": {
      "application/vnd.jupyter.widget-view+json": {
       "model_id": "",
       "version_major": 2,
       "version_minor": 0
      },
      "text/plain": [
       "Validating: 0it [00:00, ?it/s]"
      ]
     },
     "metadata": {},
     "output_type": "display_data"
    },
    {
     "name": "stderr",
     "output_type": "stream",
     "text": [
      "/workspace/Project/2021_AI_security/model/cae_conv_mse.py:243: UserWarning: Implicit dimension choice for softmax has been deprecated. Change the call to include dim=X as an argument.\n",
      "  prob_batch = F.softmax(input=x_id_hat_batch)\n",
      "[2021-06-13 07:15:06,851][INFO][occ.py:142] Start to transform training features to latent\n",
      "[2021-06-13 07:15:08,981][INFO][occ.py:157] Complete to transform training features to latent\n",
      "[2021-06-13 07:15:08,985][INFO][occ.py:159] Start to train the OCC, rbf_ocsvm\n"
     ]
    },
    {
     "name": "stdout",
     "output_type": "stream",
     "text": [
      "[LibSVM]"
     ]
    },
    {
     "name": "stderr",
     "output_type": "stream",
     "text": [
      "[2021-06-13 07:15:27,308][INFO][occ.py:161] Complete to train the OCC, rbf_ocsvm\n",
      "[2021-06-13 07:15:27,311][INFO][occ.py:168] Start to transform validation features to latent\n",
      "[2021-06-13 07:15:28,555][INFO][occ.py:189] Complete to transform validation features to latent\n",
      "[2021-06-13 07:15:28,557][INFO][occ.py:191] Start to validate the OCC, rbf_ocsvm\n",
      "[2021-06-13 07:15:38,846][INFO][occ.py:194] Complete to validate the OCC, rbf_ocsvm\n",
      "[2021-06-13 07:15:38,883][INFO][callback.py:16] Save checkpoint, Epoch : 18\n",
      "[2021-06-13 07:15:38,889][INFO][callback.py:16] Save checkpoint, Epoch : 18\n"
     ]
    },
    {
     "name": "stdout",
     "output_type": "stream",
     "text": [
      "AUC : 72.03436619912434\n",
      "[Epoch 18]\n",
      " Train - Loss : 0.36839449405670166 | Accuracy : None | Precision : None | Recall : None | F1 : None\n",
      " Val - Loss : 0.36673885583877563 | Accuracy : None | Precision : None | Recall : None | F1 : None\n",
      "Early Stopping [1/30] - Best Epoch : 17 | Best Score : 72.38438415527344\n"
     ]
    },
    {
     "data": {
      "application/vnd.jupyter.widget-view+json": {
       "model_id": "",
       "version_major": 2,
       "version_minor": 0
      },
      "text/plain": [
       "Validating: 0it [00:00, ?it/s]"
      ]
     },
     "metadata": {},
     "output_type": "display_data"
    },
    {
     "name": "stderr",
     "output_type": "stream",
     "text": [
      "/workspace/Project/2021_AI_security/model/cae_conv_mse.py:243: UserWarning: Implicit dimension choice for softmax has been deprecated. Change the call to include dim=X as an argument.\n",
      "  prob_batch = F.softmax(input=x_id_hat_batch)\n",
      "[2021-06-13 07:15:59,553][INFO][occ.py:142] Start to transform training features to latent\n",
      "[2021-06-13 07:16:01,612][INFO][occ.py:157] Complete to transform training features to latent\n",
      "[2021-06-13 07:16:01,615][INFO][occ.py:159] Start to train the OCC, rbf_ocsvm\n"
     ]
    },
    {
     "name": "stdout",
     "output_type": "stream",
     "text": [
      "[LibSVM]"
     ]
    },
    {
     "name": "stderr",
     "output_type": "stream",
     "text": [
      "[2021-06-13 07:16:20,044][INFO][occ.py:161] Complete to train the OCC, rbf_ocsvm\n",
      "[2021-06-13 07:16:20,047][INFO][occ.py:168] Start to transform validation features to latent\n",
      "[2021-06-13 07:16:21,341][INFO][occ.py:189] Complete to transform validation features to latent\n",
      "[2021-06-13 07:16:21,343][INFO][occ.py:191] Start to validate the OCC, rbf_ocsvm\n",
      "[2021-06-13 07:16:31,923][INFO][occ.py:194] Complete to validate the OCC, rbf_ocsvm\n",
      "[2021-06-13 07:16:31,962][INFO][callback.py:16] Save checkpoint, Epoch : 19\n",
      "[2021-06-13 07:16:31,969][INFO][callback.py:16] Save checkpoint, Epoch : 19\n"
     ]
    },
    {
     "name": "stdout",
     "output_type": "stream",
     "text": [
      "AUC : 71.84553070572399\n",
      "[Epoch 19]\n",
      " Train - Loss : 0.3675477206707001 | Accuracy : None | Precision : None | Recall : None | F1 : None\n",
      " Val - Loss : 0.36566096544265747 | Accuracy : None | Precision : None | Recall : None | F1 : None\n",
      "Early Stopping [2/30] - Best Epoch : 17 | Best Score : 72.38438415527344\n"
     ]
    },
    {
     "data": {
      "application/vnd.jupyter.widget-view+json": {
       "model_id": "",
       "version_major": 2,
       "version_minor": 0
      },
      "text/plain": [
       "Validating: 0it [00:00, ?it/s]"
      ]
     },
     "metadata": {},
     "output_type": "display_data"
    },
    {
     "name": "stderr",
     "output_type": "stream",
     "text": [
      "/workspace/Project/2021_AI_security/model/cae_conv_mse.py:243: UserWarning: Implicit dimension choice for softmax has been deprecated. Change the call to include dim=X as an argument.\n",
      "  prob_batch = F.softmax(input=x_id_hat_batch)\n",
      "[2021-06-13 07:16:51,977][INFO][occ.py:142] Start to transform training features to latent\n",
      "[2021-06-13 07:16:53,952][INFO][occ.py:157] Complete to transform training features to latent\n",
      "[2021-06-13 07:16:53,954][INFO][occ.py:159] Start to train the OCC, rbf_ocsvm\n"
     ]
    },
    {
     "name": "stdout",
     "output_type": "stream",
     "text": [
      "[LibSVM]"
     ]
    },
    {
     "name": "stderr",
     "output_type": "stream",
     "text": [
      "[2021-06-13 07:17:12,160][INFO][occ.py:161] Complete to train the OCC, rbf_ocsvm\n",
      "[2021-06-13 07:17:12,163][INFO][occ.py:168] Start to transform validation features to latent\n",
      "[2021-06-13 07:17:13,340][INFO][occ.py:189] Complete to transform validation features to latent\n",
      "[2021-06-13 07:17:13,342][INFO][occ.py:191] Start to validate the OCC, rbf_ocsvm\n",
      "[2021-06-13 07:17:23,913][INFO][occ.py:194] Complete to validate the OCC, rbf_ocsvm\n",
      "[2021-06-13 07:17:23,943][INFO][callback.py:16] Save checkpoint, Epoch : 20\n",
      "[2021-06-13 07:17:23,949][INFO][callback.py:16] Save checkpoint, Epoch : 20\n"
     ]
    },
    {
     "name": "stdout",
     "output_type": "stream",
     "text": [
      "AUC : 72.7927863256502\n",
      "[Epoch 20]\n",
      " Train - Loss : 0.3674043118953705 | Accuracy : None | Precision : None | Recall : None | F1 : None\n",
      " Val - Loss : 0.3648735284805298 | Accuracy : None | Precision : None | Recall : None | F1 : None\n",
      "Early Stopping [0/30] - Best Epoch : 20 | Best Score : 72.79278564453125\n"
     ]
    },
    {
     "data": {
      "application/vnd.jupyter.widget-view+json": {
       "model_id": "",
       "version_major": 2,
       "version_minor": 0
      },
      "text/plain": [
       "Validating: 0it [00:00, ?it/s]"
      ]
     },
     "metadata": {},
     "output_type": "display_data"
    },
    {
     "name": "stderr",
     "output_type": "stream",
     "text": [
      "/workspace/Project/2021_AI_security/model/cae_conv_mse.py:243: UserWarning: Implicit dimension choice for softmax has been deprecated. Change the call to include dim=X as an argument.\n",
      "  prob_batch = F.softmax(input=x_id_hat_batch)\n",
      "[2021-06-13 07:17:43,561][INFO][occ.py:142] Start to transform training features to latent\n",
      "[2021-06-13 07:17:45,504][INFO][occ.py:157] Complete to transform training features to latent\n",
      "[2021-06-13 07:17:45,506][INFO][occ.py:159] Start to train the OCC, rbf_ocsvm\n"
     ]
    },
    {
     "name": "stdout",
     "output_type": "stream",
     "text": [
      "[LibSVM]"
     ]
    },
    {
     "name": "stderr",
     "output_type": "stream",
     "text": [
      "[2021-06-13 07:18:03,844][INFO][occ.py:161] Complete to train the OCC, rbf_ocsvm\n",
      "[2021-06-13 07:18:03,847][INFO][occ.py:168] Start to transform validation features to latent\n",
      "[2021-06-13 07:18:05,092][INFO][occ.py:189] Complete to transform validation features to latent\n",
      "[2021-06-13 07:18:05,094][INFO][occ.py:191] Start to validate the OCC, rbf_ocsvm\n",
      "[2021-06-13 07:18:15,574][INFO][occ.py:194] Complete to validate the OCC, rbf_ocsvm\n",
      "[2021-06-13 07:18:15,613][INFO][callback.py:16] Save checkpoint, Epoch : 21\n",
      "[2021-06-13 07:18:15,620][INFO][callback.py:16] Save checkpoint, Epoch : 21\n"
     ]
    },
    {
     "name": "stdout",
     "output_type": "stream",
     "text": [
      "AUC : 72.92446924833344\n",
      "[Epoch 21]\n",
      " Train - Loss : 0.36651769280433655 | Accuracy : None | Precision : None | Recall : None | F1 : None\n",
      " Val - Loss : 0.3664097487926483 | Accuracy : None | Precision : None | Recall : None | F1 : None\n",
      "Early Stopping [0/30] - Best Epoch : 21 | Best Score : 72.92446899414062\n"
     ]
    },
    {
     "data": {
      "application/vnd.jupyter.widget-view+json": {
       "model_id": "",
       "version_major": 2,
       "version_minor": 0
      },
      "text/plain": [
       "Validating: 0it [00:00, ?it/s]"
      ]
     },
     "metadata": {},
     "output_type": "display_data"
    },
    {
     "name": "stderr",
     "output_type": "stream",
     "text": [
      "/workspace/Project/2021_AI_security/model/cae_conv_mse.py:243: UserWarning: Implicit dimension choice for softmax has been deprecated. Change the call to include dim=X as an argument.\n",
      "  prob_batch = F.softmax(input=x_id_hat_batch)\n",
      "[2021-06-13 07:18:34,458][INFO][occ.py:142] Start to transform training features to latent\n",
      "[2021-06-13 07:18:36,417][INFO][occ.py:157] Complete to transform training features to latent\n",
      "[2021-06-13 07:18:36,418][INFO][occ.py:159] Start to train the OCC, rbf_ocsvm\n"
     ]
    },
    {
     "name": "stdout",
     "output_type": "stream",
     "text": [
      "[LibSVM]"
     ]
    },
    {
     "name": "stderr",
     "output_type": "stream",
     "text": [
      "[2021-06-13 07:18:54,646][INFO][occ.py:161] Complete to train the OCC, rbf_ocsvm\n",
      "[2021-06-13 07:18:54,648][INFO][occ.py:168] Start to transform validation features to latent\n",
      "[2021-06-13 07:18:55,901][INFO][occ.py:189] Complete to transform validation features to latent\n",
      "[2021-06-13 07:18:55,903][INFO][occ.py:191] Start to validate the OCC, rbf_ocsvm\n",
      "[2021-06-13 07:19:06,249][INFO][occ.py:194] Complete to validate the OCC, rbf_ocsvm\n",
      "[2021-06-13 07:19:06,284][INFO][callback.py:16] Save checkpoint, Epoch : 22\n",
      "[2021-06-13 07:19:06,290][INFO][callback.py:16] Save checkpoint, Epoch : 22\n"
     ]
    },
    {
     "name": "stdout",
     "output_type": "stream",
     "text": [
      "AUC : 72.81818108727711\n",
      "[Epoch 22]\n",
      " Train - Loss : 0.3666701912879944 | Accuracy : None | Precision : None | Recall : None | F1 : None\n",
      " Val - Loss : 0.36615100502967834 | Accuracy : None | Precision : None | Recall : None | F1 : None\n",
      "Early Stopping [1/30] - Best Epoch : 21 | Best Score : 72.92446899414062\n"
     ]
    },
    {
     "data": {
      "application/vnd.jupyter.widget-view+json": {
       "model_id": "",
       "version_major": 2,
       "version_minor": 0
      },
      "text/plain": [
       "Validating: 0it [00:00, ?it/s]"
      ]
     },
     "metadata": {},
     "output_type": "display_data"
    },
    {
     "name": "stderr",
     "output_type": "stream",
     "text": [
      "/workspace/Project/2021_AI_security/model/cae_conv_mse.py:243: UserWarning: Implicit dimension choice for softmax has been deprecated. Change the call to include dim=X as an argument.\n",
      "  prob_batch = F.softmax(input=x_id_hat_batch)\n",
      "[2021-06-13 07:19:25,987][INFO][occ.py:142] Start to transform training features to latent\n",
      "[2021-06-13 07:19:27,971][INFO][occ.py:157] Complete to transform training features to latent\n",
      "[2021-06-13 07:19:27,973][INFO][occ.py:159] Start to train the OCC, rbf_ocsvm\n"
     ]
    },
    {
     "name": "stdout",
     "output_type": "stream",
     "text": [
      "[LibSVM]"
     ]
    },
    {
     "name": "stderr",
     "output_type": "stream",
     "text": [
      "[2021-06-13 07:19:46,435][INFO][occ.py:161] Complete to train the OCC, rbf_ocsvm\n",
      "[2021-06-13 07:19:46,438][INFO][occ.py:168] Start to transform validation features to latent\n",
      "[2021-06-13 07:19:47,588][INFO][occ.py:189] Complete to transform validation features to latent\n",
      "[2021-06-13 07:19:47,590][INFO][occ.py:191] Start to validate the OCC, rbf_ocsvm\n",
      "[2021-06-13 07:19:58,104][INFO][occ.py:194] Complete to validate the OCC, rbf_ocsvm\n",
      "[2021-06-13 07:19:58,134][INFO][callback.py:16] Save checkpoint, Epoch : 23\n",
      "[2021-06-13 07:19:58,140][INFO][callback.py:16] Save checkpoint, Epoch : 23\n"
     ]
    },
    {
     "name": "stdout",
     "output_type": "stream",
     "text": [
      "AUC : 73.46598296449099\n",
      "[Epoch 23]\n",
      " Train - Loss : 0.36581936478614807 | Accuracy : None | Precision : None | Recall : None | F1 : None\n",
      " Val - Loss : 0.3651135265827179 | Accuracy : None | Precision : None | Recall : None | F1 : None\n",
      "Early Stopping [0/30] - Best Epoch : 23 | Best Score : 73.46598052978516\n"
     ]
    },
    {
     "data": {
      "application/vnd.jupyter.widget-view+json": {
       "model_id": "",
       "version_major": 2,
       "version_minor": 0
      },
      "text/plain": [
       "Validating: 0it [00:00, ?it/s]"
      ]
     },
     "metadata": {},
     "output_type": "display_data"
    },
    {
     "name": "stderr",
     "output_type": "stream",
     "text": [
      "/workspace/Project/2021_AI_security/model/cae_conv_mse.py:243: UserWarning: Implicit dimension choice for softmax has been deprecated. Change the call to include dim=X as an argument.\n",
      "  prob_batch = F.softmax(input=x_id_hat_batch)\n",
      "[2021-06-13 07:20:17,628][INFO][occ.py:142] Start to transform training features to latent\n",
      "[2021-06-13 07:20:19,564][INFO][occ.py:157] Complete to transform training features to latent\n",
      "[2021-06-13 07:20:19,566][INFO][occ.py:159] Start to train the OCC, rbf_ocsvm\n"
     ]
    },
    {
     "name": "stdout",
     "output_type": "stream",
     "text": [
      "[LibSVM]"
     ]
    },
    {
     "name": "stderr",
     "output_type": "stream",
     "text": [
      "[2021-06-13 07:20:38,115][INFO][occ.py:161] Complete to train the OCC, rbf_ocsvm\n",
      "[2021-06-13 07:20:38,117][INFO][occ.py:168] Start to transform validation features to latent\n",
      "[2021-06-13 07:20:39,250][INFO][occ.py:189] Complete to transform validation features to latent\n",
      "[2021-06-13 07:20:39,252][INFO][occ.py:191] Start to validate the OCC, rbf_ocsvm\n",
      "[2021-06-13 07:20:49,985][INFO][occ.py:194] Complete to validate the OCC, rbf_ocsvm\n",
      "[2021-06-13 07:20:50,022][INFO][callback.py:16] Save checkpoint, Epoch : 24\n",
      "[2021-06-13 07:20:50,029][INFO][callback.py:16] Save checkpoint, Epoch : 24\n"
     ]
    },
    {
     "name": "stdout",
     "output_type": "stream",
     "text": [
      "AUC : 73.38122464543814\n",
      "[Epoch 24]\n",
      " Train - Loss : 0.3655332624912262 | Accuracy : None | Precision : None | Recall : None | F1 : None\n",
      " Val - Loss : 0.36397022008895874 | Accuracy : None | Precision : None | Recall : None | F1 : None\n",
      "Early Stopping [1/30] - Best Epoch : 23 | Best Score : 73.46598052978516\n"
     ]
    },
    {
     "data": {
      "application/vnd.jupyter.widget-view+json": {
       "model_id": "",
       "version_major": 2,
       "version_minor": 0
      },
      "text/plain": [
       "Validating: 0it [00:00, ?it/s]"
      ]
     },
     "metadata": {},
     "output_type": "display_data"
    },
    {
     "name": "stderr",
     "output_type": "stream",
     "text": [
      "/workspace/Project/2021_AI_security/model/cae_conv_mse.py:243: UserWarning: Implicit dimension choice for softmax has been deprecated. Change the call to include dim=X as an argument.\n",
      "  prob_batch = F.softmax(input=x_id_hat_batch)\n",
      "[2021-06-13 07:21:09,299][INFO][occ.py:142] Start to transform training features to latent\n",
      "[2021-06-13 07:21:11,250][INFO][occ.py:157] Complete to transform training features to latent\n",
      "[2021-06-13 07:21:11,252][INFO][occ.py:159] Start to train the OCC, rbf_ocsvm\n"
     ]
    },
    {
     "name": "stdout",
     "output_type": "stream",
     "text": [
      "[LibSVM]"
     ]
    },
    {
     "name": "stderr",
     "output_type": "stream",
     "text": [
      "[2021-06-13 07:21:29,555][INFO][occ.py:161] Complete to train the OCC, rbf_ocsvm\n",
      "[2021-06-13 07:21:29,558][INFO][occ.py:168] Start to transform validation features to latent\n",
      "[2021-06-13 07:21:30,747][INFO][occ.py:189] Complete to transform validation features to latent\n",
      "[2021-06-13 07:21:30,748][INFO][occ.py:191] Start to validate the OCC, rbf_ocsvm\n",
      "[2021-06-13 07:21:41,031][INFO][occ.py:194] Complete to validate the OCC, rbf_ocsvm\n",
      "[2021-06-13 07:21:41,072][INFO][callback.py:16] Save checkpoint, Epoch : 25\n",
      "[2021-06-13 07:21:41,078][INFO][callback.py:16] Save checkpoint, Epoch : 25\n"
     ]
    },
    {
     "name": "stdout",
     "output_type": "stream",
     "text": [
      "AUC : 74.25755640600377\n",
      "[Epoch 25]\n",
      " Train - Loss : 0.3652355670928955 | Accuracy : None | Precision : None | Recall : None | F1 : None\n",
      " Val - Loss : 0.3647916615009308 | Accuracy : None | Precision : None | Recall : None | F1 : None\n",
      "Early Stopping [0/30] - Best Epoch : 25 | Best Score : 74.25755310058594\n"
     ]
    },
    {
     "data": {
      "application/vnd.jupyter.widget-view+json": {
       "model_id": "",
       "version_major": 2,
       "version_minor": 0
      },
      "text/plain": [
       "Validating: 0it [00:00, ?it/s]"
      ]
     },
     "metadata": {},
     "output_type": "display_data"
    },
    {
     "name": "stderr",
     "output_type": "stream",
     "text": [
      "/workspace/Project/2021_AI_security/model/cae_conv_mse.py:243: UserWarning: Implicit dimension choice for softmax has been deprecated. Change the call to include dim=X as an argument.\n",
      "  prob_batch = F.softmax(input=x_id_hat_batch)\n",
      "[2021-06-13 07:21:59,548][INFO][occ.py:142] Start to transform training features to latent\n",
      "[2021-06-13 07:22:01,519][INFO][occ.py:157] Complete to transform training features to latent\n",
      "[2021-06-13 07:22:01,523][INFO][occ.py:159] Start to train the OCC, rbf_ocsvm\n"
     ]
    },
    {
     "name": "stdout",
     "output_type": "stream",
     "text": [
      "[LibSVM]"
     ]
    },
    {
     "name": "stderr",
     "output_type": "stream",
     "text": [
      "[2021-06-13 07:22:19,981][INFO][occ.py:161] Complete to train the OCC, rbf_ocsvm\n",
      "[2021-06-13 07:22:19,984][INFO][occ.py:168] Start to transform validation features to latent\n",
      "[2021-06-13 07:22:21,156][INFO][occ.py:189] Complete to transform validation features to latent\n",
      "[2021-06-13 07:22:21,158][INFO][occ.py:191] Start to validate the OCC, rbf_ocsvm\n",
      "[2021-06-13 07:22:31,542][INFO][occ.py:194] Complete to validate the OCC, rbf_ocsvm\n",
      "[2021-06-13 07:22:31,580][INFO][callback.py:16] Save checkpoint, Epoch : 26\n",
      "[2021-06-13 07:22:31,587][INFO][callback.py:16] Save checkpoint, Epoch : 26\n"
     ]
    },
    {
     "name": "stdout",
     "output_type": "stream",
     "text": [
      "AUC : 74.34243532433165\n",
      "[Epoch 26]\n",
      " Train - Loss : 0.3654521405696869 | Accuracy : None | Precision : None | Recall : None | F1 : None\n",
      " Val - Loss : 0.36531463265419006 | Accuracy : None | Precision : None | Recall : None | F1 : None\n",
      "Early Stopping [0/30] - Best Epoch : 26 | Best Score : 74.34243774414062\n"
     ]
    },
    {
     "data": {
      "application/vnd.jupyter.widget-view+json": {
       "model_id": "",
       "version_major": 2,
       "version_minor": 0
      },
      "text/plain": [
       "Validating: 0it [00:00, ?it/s]"
      ]
     },
     "metadata": {},
     "output_type": "display_data"
    },
    {
     "name": "stderr",
     "output_type": "stream",
     "text": [
      "/workspace/Project/2021_AI_security/model/cae_conv_mse.py:243: UserWarning: Implicit dimension choice for softmax has been deprecated. Change the call to include dim=X as an argument.\n",
      "  prob_batch = F.softmax(input=x_id_hat_batch)\n",
      "[2021-06-13 07:22:50,164][INFO][occ.py:142] Start to transform training features to latent\n",
      "[2021-06-13 07:22:52,074][INFO][occ.py:157] Complete to transform training features to latent\n",
      "[2021-06-13 07:22:52,079][INFO][occ.py:159] Start to train the OCC, rbf_ocsvm\n"
     ]
    },
    {
     "name": "stdout",
     "output_type": "stream",
     "text": [
      "[LibSVM]"
     ]
    },
    {
     "name": "stderr",
     "output_type": "stream",
     "text": [
      "[2021-06-13 07:23:10,467][INFO][occ.py:161] Complete to train the OCC, rbf_ocsvm\n",
      "[2021-06-13 07:23:10,469][INFO][occ.py:168] Start to transform validation features to latent\n",
      "[2021-06-13 07:23:11,669][INFO][occ.py:189] Complete to transform validation features to latent\n",
      "[2021-06-13 07:23:11,671][INFO][occ.py:191] Start to validate the OCC, rbf_ocsvm\n",
      "[2021-06-13 07:23:22,111][INFO][occ.py:194] Complete to validate the OCC, rbf_ocsvm\n",
      "[2021-06-13 07:23:22,140][INFO][callback.py:16] Save checkpoint, Epoch : 27\n",
      "[2021-06-13 07:23:22,146][INFO][callback.py:16] Save checkpoint, Epoch : 27\n"
     ]
    },
    {
     "name": "stdout",
     "output_type": "stream",
     "text": [
      "AUC : 73.87250014931338\n",
      "[Epoch 27]\n",
      " Train - Loss : 0.3648892641067505 | Accuracy : None | Precision : None | Recall : None | F1 : None\n",
      " Val - Loss : 0.3649410307407379 | Accuracy : None | Precision : None | Recall : None | F1 : None\n",
      "Early Stopping [1/30] - Best Epoch : 26 | Best Score : 74.34243774414062\n"
     ]
    },
    {
     "data": {
      "application/vnd.jupyter.widget-view+json": {
       "model_id": "",
       "version_major": 2,
       "version_minor": 0
      },
      "text/plain": [
       "Validating: 0it [00:00, ?it/s]"
      ]
     },
     "metadata": {},
     "output_type": "display_data"
    },
    {
     "name": "stderr",
     "output_type": "stream",
     "text": [
      "/workspace/Project/2021_AI_security/model/cae_conv_mse.py:243: UserWarning: Implicit dimension choice for softmax has been deprecated. Change the call to include dim=X as an argument.\n",
      "  prob_batch = F.softmax(input=x_id_hat_batch)\n",
      "[2021-06-13 07:23:40,657][INFO][occ.py:142] Start to transform training features to latent\n",
      "[2021-06-13 07:23:42,672][INFO][occ.py:157] Complete to transform training features to latent\n",
      "[2021-06-13 07:23:42,674][INFO][occ.py:159] Start to train the OCC, rbf_ocsvm\n"
     ]
    },
    {
     "name": "stdout",
     "output_type": "stream",
     "text": [
      "[LibSVM]"
     ]
    },
    {
     "name": "stderr",
     "output_type": "stream",
     "text": [
      "[2021-06-13 07:24:01,257][INFO][occ.py:161] Complete to train the OCC, rbf_ocsvm\n",
      "[2021-06-13 07:24:01,260][INFO][occ.py:168] Start to transform validation features to latent\n",
      "[2021-06-13 07:24:02,462][INFO][occ.py:189] Complete to transform validation features to latent\n",
      "[2021-06-13 07:24:02,463][INFO][occ.py:191] Start to validate the OCC, rbf_ocsvm\n",
      "[2021-06-13 07:24:13,015][INFO][occ.py:194] Complete to validate the OCC, rbf_ocsvm\n",
      "[2021-06-13 07:24:13,049][INFO][callback.py:16] Save checkpoint, Epoch : 28\n",
      "[2021-06-13 07:24:13,055][INFO][callback.py:16] Save checkpoint, Epoch : 28\n"
     ]
    },
    {
     "name": "stdout",
     "output_type": "stream",
     "text": [
      "AUC : 74.09057235267363\n",
      "[Epoch 28]\n",
      " Train - Loss : 0.36526453495025635 | Accuracy : None | Precision : None | Recall : None | F1 : None\n",
      " Val - Loss : 0.3636642396450043 | Accuracy : None | Precision : None | Recall : None | F1 : None\n",
      "Early Stopping [2/30] - Best Epoch : 26 | Best Score : 74.34243774414062\n"
     ]
    },
    {
     "data": {
      "application/vnd.jupyter.widget-view+json": {
       "model_id": "",
       "version_major": 2,
       "version_minor": 0
      },
      "text/plain": [
       "Validating: 0it [00:00, ?it/s]"
      ]
     },
     "metadata": {},
     "output_type": "display_data"
    },
    {
     "name": "stderr",
     "output_type": "stream",
     "text": [
      "/workspace/Project/2021_AI_security/model/cae_conv_mse.py:243: UserWarning: Implicit dimension choice for softmax has been deprecated. Change the call to include dim=X as an argument.\n",
      "  prob_batch = F.softmax(input=x_id_hat_batch)\n",
      "[2021-06-13 07:24:32,427][INFO][occ.py:142] Start to transform training features to latent\n",
      "[2021-06-13 07:24:34,290][INFO][occ.py:157] Complete to transform training features to latent\n",
      "[2021-06-13 07:24:34,292][INFO][occ.py:159] Start to train the OCC, rbf_ocsvm\n"
     ]
    },
    {
     "name": "stdout",
     "output_type": "stream",
     "text": [
      "[LibSVM]"
     ]
    },
    {
     "name": "stderr",
     "output_type": "stream",
     "text": [
      "[2021-06-13 07:24:52,747][INFO][occ.py:161] Complete to train the OCC, rbf_ocsvm\n",
      "[2021-06-13 07:24:52,750][INFO][occ.py:168] Start to transform validation features to latent\n",
      "[2021-06-13 07:24:53,983][INFO][occ.py:189] Complete to transform validation features to latent\n",
      "[2021-06-13 07:24:53,984][INFO][occ.py:191] Start to validate the OCC, rbf_ocsvm\n",
      "[2021-06-13 07:25:04,372][INFO][occ.py:194] Complete to validate the OCC, rbf_ocsvm\n",
      "[2021-06-13 07:25:04,402][INFO][callback.py:16] Save checkpoint, Epoch : 29\n",
      "[2021-06-13 07:25:04,409][INFO][callback.py:16] Save checkpoint, Epoch : 29\n"
     ]
    },
    {
     "name": "stdout",
     "output_type": "stream",
     "text": [
      "AUC : 73.63391458355349\n",
      "[Epoch 29]\n",
      " Train - Loss : 0.36429479718208313 | Accuracy : None | Precision : None | Recall : None | F1 : None\n",
      " Val - Loss : 0.3634437322616577 | Accuracy : None | Precision : None | Recall : None | F1 : None\n",
      "Early Stopping [3/30] - Best Epoch : 26 | Best Score : 74.34243774414062\n"
     ]
    },
    {
     "data": {
      "application/vnd.jupyter.widget-view+json": {
       "model_id": "",
       "version_major": 2,
       "version_minor": 0
      },
      "text/plain": [
       "Validating: 0it [00:00, ?it/s]"
      ]
     },
     "metadata": {},
     "output_type": "display_data"
    },
    {
     "name": "stderr",
     "output_type": "stream",
     "text": [
      "/workspace/Project/2021_AI_security/model/cae_conv_mse.py:243: UserWarning: Implicit dimension choice for softmax has been deprecated. Change the call to include dim=X as an argument.\n",
      "  prob_batch = F.softmax(input=x_id_hat_batch)\n",
      "[2021-06-13 07:25:23,023][INFO][occ.py:142] Start to transform training features to latent\n",
      "[2021-06-13 07:25:25,033][INFO][occ.py:157] Complete to transform training features to latent\n",
      "[2021-06-13 07:25:25,035][INFO][occ.py:159] Start to train the OCC, rbf_ocsvm\n"
     ]
    },
    {
     "name": "stdout",
     "output_type": "stream",
     "text": [
      "[LibSVM]"
     ]
    },
    {
     "name": "stderr",
     "output_type": "stream",
     "text": [
      "[2021-06-13 07:25:43,480][INFO][occ.py:161] Complete to train the OCC, rbf_ocsvm\n",
      "[2021-06-13 07:25:43,483][INFO][occ.py:168] Start to transform validation features to latent\n",
      "[2021-06-13 07:25:44,717][INFO][occ.py:189] Complete to transform validation features to latent\n",
      "[2021-06-13 07:25:44,719][INFO][occ.py:191] Start to validate the OCC, rbf_ocsvm\n",
      "[2021-06-13 07:25:55,178][INFO][occ.py:194] Complete to validate the OCC, rbf_ocsvm\n",
      "[2021-06-13 07:25:55,207][INFO][callback.py:16] Save checkpoint, Epoch : 30\n"
     ]
    },
    {
     "name": "stdout",
     "output_type": "stream",
     "text": [
      "AUC : 73.54667536512866\n",
      "[Epoch 30]\n",
      " Train - Loss : 0.3656495213508606 | Accuracy : None | Precision : None | Recall : None | F1 : None\n",
      " Val - Loss : 0.363167405128479 | Accuracy : None | Precision : None | Recall : None | F1 : None\n",
      "Early Stopping [4/30] - Best Epoch : 26 | Best Score : 74.34243774414062\n"
     ]
    },
    {
     "data": {
      "application/vnd.jupyter.widget-view+json": {
       "model_id": "",
       "version_major": 2,
       "version_minor": 0
      },
      "text/plain": [
       "Validating: 0it [00:00, ?it/s]"
      ]
     },
     "metadata": {},
     "output_type": "display_data"
    },
    {
     "name": "stderr",
     "output_type": "stream",
     "text": [
      "/workspace/Project/2021_AI_security/model/cae_conv_mse.py:243: UserWarning: Implicit dimension choice for softmax has been deprecated. Change the call to include dim=X as an argument.\n",
      "  prob_batch = F.softmax(input=x_id_hat_batch)\n",
      "[2021-06-13 07:26:14,236][INFO][occ.py:142] Start to transform training features to latent\n",
      "[2021-06-13 07:26:16,219][INFO][occ.py:157] Complete to transform training features to latent\n",
      "[2021-06-13 07:26:16,221][INFO][occ.py:159] Start to train the OCC, rbf_ocsvm\n"
     ]
    },
    {
     "name": "stdout",
     "output_type": "stream",
     "text": [
      "[LibSVM]"
     ]
    },
    {
     "name": "stderr",
     "output_type": "stream",
     "text": [
      "[2021-06-13 07:26:34,768][INFO][occ.py:161] Complete to train the OCC, rbf_ocsvm\n",
      "[2021-06-13 07:26:34,771][INFO][occ.py:168] Start to transform validation features to latent\n",
      "[2021-06-13 07:26:36,009][INFO][occ.py:189] Complete to transform validation features to latent\n",
      "[2021-06-13 07:26:36,010][INFO][occ.py:191] Start to validate the OCC, rbf_ocsvm\n",
      "[2021-06-13 07:26:46,641][INFO][occ.py:194] Complete to validate the OCC, rbf_ocsvm\n",
      "[2021-06-13 07:26:46,675][INFO][callback.py:16] Save checkpoint, Epoch : 31\n",
      "[2021-06-13 07:26:46,681][INFO][callback.py:16] Save checkpoint, Epoch : 31\n"
     ]
    },
    {
     "name": "stdout",
     "output_type": "stream",
     "text": [
      "AUC : 74.04022502676155\n",
      "[Epoch 31]\n",
      " Train - Loss : 0.36377769708633423 | Accuracy : None | Precision : None | Recall : None | F1 : None\n",
      " Val - Loss : 0.3625696897506714 | Accuracy : None | Precision : None | Recall : None | F1 : None\n",
      "Early Stopping [5/30] - Best Epoch : 26 | Best Score : 74.34243774414062\n"
     ]
    },
    {
     "data": {
      "application/vnd.jupyter.widget-view+json": {
       "model_id": "",
       "version_major": 2,
       "version_minor": 0
      },
      "text/plain": [
       "Validating: 0it [00:00, ?it/s]"
      ]
     },
     "metadata": {},
     "output_type": "display_data"
    },
    {
     "name": "stderr",
     "output_type": "stream",
     "text": [
      "/workspace/Project/2021_AI_security/model/cae_conv_mse.py:243: UserWarning: Implicit dimension choice for softmax has been deprecated. Change the call to include dim=X as an argument.\n",
      "  prob_batch = F.softmax(input=x_id_hat_batch)\n",
      "[2021-06-13 07:27:05,436][INFO][occ.py:142] Start to transform training features to latent\n",
      "[2021-06-13 07:27:07,275][INFO][occ.py:157] Complete to transform training features to latent\n",
      "[2021-06-13 07:27:07,277][INFO][occ.py:159] Start to train the OCC, rbf_ocsvm\n"
     ]
    },
    {
     "name": "stdout",
     "output_type": "stream",
     "text": [
      "[LibSVM]"
     ]
    },
    {
     "name": "stderr",
     "output_type": "stream",
     "text": [
      "[2021-06-13 07:27:25,523][INFO][occ.py:161] Complete to train the OCC, rbf_ocsvm\n",
      "[2021-06-13 07:27:25,525][INFO][occ.py:168] Start to transform validation features to latent\n",
      "[2021-06-13 07:27:26,791][INFO][occ.py:189] Complete to transform validation features to latent\n",
      "[2021-06-13 07:27:26,793][INFO][occ.py:191] Start to validate the OCC, rbf_ocsvm\n",
      "[2021-06-13 07:27:37,194][INFO][occ.py:194] Complete to validate the OCC, rbf_ocsvm\n",
      "[2021-06-13 07:27:37,229][INFO][callback.py:16] Save checkpoint, Epoch : 32\n",
      "[2021-06-13 07:27:37,235][INFO][callback.py:16] Save checkpoint, Epoch : 32\n"
     ]
    },
    {
     "name": "stdout",
     "output_type": "stream",
     "text": [
      "AUC : 73.87439528077809\n",
      "[Epoch 32]\n",
      " Train - Loss : 0.3640696406364441 | Accuracy : None | Precision : None | Recall : None | F1 : None\n",
      " Val - Loss : 0.36363840103149414 | Accuracy : None | Precision : None | Recall : None | F1 : None\n",
      "Early Stopping [6/30] - Best Epoch : 26 | Best Score : 74.34243774414062\n"
     ]
    },
    {
     "data": {
      "application/vnd.jupyter.widget-view+json": {
       "model_id": "",
       "version_major": 2,
       "version_minor": 0
      },
      "text/plain": [
       "Validating: 0it [00:00, ?it/s]"
      ]
     },
     "metadata": {},
     "output_type": "display_data"
    },
    {
     "name": "stderr",
     "output_type": "stream",
     "text": [
      "/workspace/Project/2021_AI_security/model/cae_conv_mse.py:243: UserWarning: Implicit dimension choice for softmax has been deprecated. Change the call to include dim=X as an argument.\n",
      "  prob_batch = F.softmax(input=x_id_hat_batch)\n",
      "[2021-06-13 07:27:56,322][INFO][occ.py:142] Start to transform training features to latent\n",
      "[2021-06-13 07:27:58,365][INFO][occ.py:157] Complete to transform training features to latent\n",
      "[2021-06-13 07:27:58,367][INFO][occ.py:159] Start to train the OCC, rbf_ocsvm\n"
     ]
    },
    {
     "name": "stdout",
     "output_type": "stream",
     "text": [
      "[LibSVM]"
     ]
    },
    {
     "name": "stderr",
     "output_type": "stream",
     "text": [
      "[2021-06-13 07:28:17,913][INFO][occ.py:161] Complete to train the OCC, rbf_ocsvm\n",
      "[2021-06-13 07:28:17,916][INFO][occ.py:168] Start to transform validation features to latent\n",
      "[2021-06-13 07:28:19,174][INFO][occ.py:189] Complete to transform validation features to latent\n",
      "[2021-06-13 07:28:19,175][INFO][occ.py:191] Start to validate the OCC, rbf_ocsvm\n",
      "[2021-06-13 07:28:29,642][INFO][occ.py:194] Complete to validate the OCC, rbf_ocsvm\n",
      "[2021-06-13 07:28:29,676][INFO][callback.py:16] Save checkpoint, Epoch : 33\n",
      "[2021-06-13 07:28:29,682][INFO][callback.py:16] Save checkpoint, Epoch : 33\n"
     ]
    },
    {
     "name": "stdout",
     "output_type": "stream",
     "text": [
      "AUC : 74.49446506755855\n",
      "[Epoch 33]\n",
      " Train - Loss : 0.3639393448829651 | Accuracy : None | Precision : None | Recall : None | F1 : None\n",
      " Val - Loss : 0.362693727016449 | Accuracy : None | Precision : None | Recall : None | F1 : None\n",
      "Early Stopping [0/30] - Best Epoch : 33 | Best Score : 74.49446868896484\n"
     ]
    },
    {
     "data": {
      "application/vnd.jupyter.widget-view+json": {
       "model_id": "",
       "version_major": 2,
       "version_minor": 0
      },
      "text/plain": [
       "Validating: 0it [00:00, ?it/s]"
      ]
     },
     "metadata": {},
     "output_type": "display_data"
    },
    {
     "name": "stderr",
     "output_type": "stream",
     "text": [
      "/workspace/Project/2021_AI_security/model/cae_conv_mse.py:243: UserWarning: Implicit dimension choice for softmax has been deprecated. Change the call to include dim=X as an argument.\n",
      "  prob_batch = F.softmax(input=x_id_hat_batch)\n",
      "[2021-06-13 07:28:48,917][INFO][occ.py:142] Start to transform training features to latent\n",
      "[2021-06-13 07:28:50,676][INFO][occ.py:157] Complete to transform training features to latent\n",
      "[2021-06-13 07:28:50,678][INFO][occ.py:159] Start to train the OCC, rbf_ocsvm\n"
     ]
    },
    {
     "name": "stdout",
     "output_type": "stream",
     "text": [
      "[LibSVM]"
     ]
    },
    {
     "name": "stderr",
     "output_type": "stream",
     "text": [
      "[2021-06-13 07:29:08,851][INFO][occ.py:161] Complete to train the OCC, rbf_ocsvm\n",
      "[2021-06-13 07:29:08,853][INFO][occ.py:168] Start to transform validation features to latent\n",
      "[2021-06-13 07:29:09,924][INFO][occ.py:189] Complete to transform validation features to latent\n",
      "[2021-06-13 07:29:09,925][INFO][occ.py:191] Start to validate the OCC, rbf_ocsvm\n",
      "[2021-06-13 07:29:20,222][INFO][occ.py:194] Complete to validate the OCC, rbf_ocsvm\n",
      "[2021-06-13 07:29:20,247][INFO][callback.py:16] Save checkpoint, Epoch : 34\n",
      "[2021-06-13 07:29:20,253][INFO][callback.py:16] Save checkpoint, Epoch : 34\n"
     ]
    },
    {
     "name": "stdout",
     "output_type": "stream",
     "text": [
      "AUC : 74.33026628319925\n",
      "[Epoch 34]\n",
      " Train - Loss : 0.3631384074687958 | Accuracy : None | Precision : None | Recall : None | F1 : None\n",
      " Val - Loss : 0.36123964190483093 | Accuracy : None | Precision : None | Recall : None | F1 : None\n",
      "Early Stopping [1/30] - Best Epoch : 33 | Best Score : 74.49446868896484\n"
     ]
    },
    {
     "data": {
      "application/vnd.jupyter.widget-view+json": {
       "model_id": "",
       "version_major": 2,
       "version_minor": 0
      },
      "text/plain": [
       "Validating: 0it [00:00, ?it/s]"
      ]
     },
     "metadata": {},
     "output_type": "display_data"
    },
    {
     "name": "stderr",
     "output_type": "stream",
     "text": [
      "/workspace/Project/2021_AI_security/model/cae_conv_mse.py:243: UserWarning: Implicit dimension choice for softmax has been deprecated. Change the call to include dim=X as an argument.\n",
      "  prob_batch = F.softmax(input=x_id_hat_batch)\n",
      "[2021-06-13 07:29:40,488][INFO][occ.py:142] Start to transform training features to latent\n",
      "[2021-06-13 07:29:42,476][INFO][occ.py:157] Complete to transform training features to latent\n",
      "[2021-06-13 07:29:42,478][INFO][occ.py:159] Start to train the OCC, rbf_ocsvm\n"
     ]
    },
    {
     "name": "stdout",
     "output_type": "stream",
     "text": [
      "[LibSVM]"
     ]
    },
    {
     "name": "stderr",
     "output_type": "stream",
     "text": [
      "[2021-06-13 07:30:02,092][INFO][occ.py:161] Complete to train the OCC, rbf_ocsvm\n",
      "[2021-06-13 07:30:02,094][INFO][occ.py:168] Start to transform validation features to latent\n",
      "[2021-06-13 07:30:03,361][INFO][occ.py:189] Complete to transform validation features to latent\n",
      "[2021-06-13 07:30:03,362][INFO][occ.py:191] Start to validate the OCC, rbf_ocsvm\n",
      "[2021-06-13 07:30:13,677][INFO][occ.py:194] Complete to validate the OCC, rbf_ocsvm\n",
      "[2021-06-13 07:30:13,707][INFO][callback.py:16] Save checkpoint, Epoch : 35\n",
      "[2021-06-13 07:30:13,713][INFO][callback.py:16] Save checkpoint, Epoch : 35\n"
     ]
    },
    {
     "name": "stdout",
     "output_type": "stream",
     "text": [
      "AUC : 74.3142036083303\n",
      "[Epoch 35]\n",
      " Train - Loss : 0.3629612326622009 | Accuracy : None | Precision : None | Recall : None | F1 : None\n",
      " Val - Loss : 0.3616393208503723 | Accuracy : None | Precision : None | Recall : None | F1 : None\n",
      "Early Stopping [2/30] - Best Epoch : 33 | Best Score : 74.49446868896484\n"
     ]
    },
    {
     "data": {
      "application/vnd.jupyter.widget-view+json": {
       "model_id": "",
       "version_major": 2,
       "version_minor": 0
      },
      "text/plain": [
       "Validating: 0it [00:00, ?it/s]"
      ]
     },
     "metadata": {},
     "output_type": "display_data"
    },
    {
     "name": "stderr",
     "output_type": "stream",
     "text": [
      "/workspace/Project/2021_AI_security/model/cae_conv_mse.py:243: UserWarning: Implicit dimension choice for softmax has been deprecated. Change the call to include dim=X as an argument.\n",
      "  prob_batch = F.softmax(input=x_id_hat_batch)\n",
      "[2021-06-13 07:30:34,546][INFO][occ.py:142] Start to transform training features to latent\n",
      "[2021-06-13 07:30:36,726][INFO][occ.py:157] Complete to transform training features to latent\n",
      "[2021-06-13 07:30:36,729][INFO][occ.py:159] Start to train the OCC, rbf_ocsvm\n"
     ]
    },
    {
     "name": "stdout",
     "output_type": "stream",
     "text": [
      "[LibSVM]"
     ]
    },
    {
     "name": "stderr",
     "output_type": "stream",
     "text": [
      "[2021-06-13 07:30:56,178][INFO][occ.py:161] Complete to train the OCC, rbf_ocsvm\n",
      "[2021-06-13 07:30:56,181][INFO][occ.py:168] Start to transform validation features to latent\n",
      "[2021-06-13 07:30:57,562][INFO][occ.py:189] Complete to transform validation features to latent\n",
      "[2021-06-13 07:30:57,563][INFO][occ.py:191] Start to validate the OCC, rbf_ocsvm\n",
      "[2021-06-13 07:31:07,842][INFO][occ.py:194] Complete to validate the OCC, rbf_ocsvm\n",
      "[2021-06-13 07:31:07,880][INFO][callback.py:16] Save checkpoint, Epoch : 36\n",
      "[2021-06-13 07:31:07,886][INFO][callback.py:16] Save checkpoint, Epoch : 36\n"
     ]
    },
    {
     "name": "stdout",
     "output_type": "stream",
     "text": [
      "AUC : 74.35259437754695\n",
      "[Epoch 36]\n",
      " Train - Loss : 0.363066703081131 | Accuracy : None | Precision : None | Recall : None | F1 : None\n",
      " Val - Loss : 0.36428016424179077 | Accuracy : None | Precision : None | Recall : None | F1 : None\n",
      "Early Stopping [3/30] - Best Epoch : 33 | Best Score : 74.49446868896484\n"
     ]
    },
    {
     "data": {
      "application/vnd.jupyter.widget-view+json": {
       "model_id": "",
       "version_major": 2,
       "version_minor": 0
      },
      "text/plain": [
       "Validating: 0it [00:00, ?it/s]"
      ]
     },
     "metadata": {},
     "output_type": "display_data"
    },
    {
     "name": "stderr",
     "output_type": "stream",
     "text": [
      "/workspace/Project/2021_AI_security/model/cae_conv_mse.py:243: UserWarning: Implicit dimension choice for softmax has been deprecated. Change the call to include dim=X as an argument.\n",
      "  prob_batch = F.softmax(input=x_id_hat_batch)\n",
      "[2021-06-13 07:31:27,497][INFO][occ.py:142] Start to transform training features to latent\n",
      "[2021-06-13 07:31:29,565][INFO][occ.py:157] Complete to transform training features to latent\n",
      "[2021-06-13 07:31:29,568][INFO][occ.py:159] Start to train the OCC, rbf_ocsvm\n"
     ]
    },
    {
     "name": "stdout",
     "output_type": "stream",
     "text": [
      "[LibSVM]"
     ]
    },
    {
     "name": "stderr",
     "output_type": "stream",
     "text": [
      "[2021-06-13 07:31:47,532][INFO][occ.py:161] Complete to train the OCC, rbf_ocsvm\n",
      "[2021-06-13 07:31:47,534][INFO][occ.py:168] Start to transform validation features to latent\n",
      "[2021-06-13 07:31:48,866][INFO][occ.py:189] Complete to transform validation features to latent\n",
      "[2021-06-13 07:31:48,868][INFO][occ.py:191] Start to validate the OCC, rbf_ocsvm\n",
      "[2021-06-13 07:31:59,270][INFO][occ.py:194] Complete to validate the OCC, rbf_ocsvm\n",
      "[2021-06-13 07:31:59,306][INFO][callback.py:16] Save checkpoint, Epoch : 37\n",
      "[2021-06-13 07:31:59,313][INFO][callback.py:16] Save checkpoint, Epoch : 37\n"
     ]
    },
    {
     "name": "stdout",
     "output_type": "stream",
     "text": [
      "AUC : 74.97167065601413\n",
      "[Epoch 37]\n",
      " Train - Loss : 0.3628695607185364 | Accuracy : None | Precision : None | Recall : None | F1 : None\n",
      " Val - Loss : 0.3615371584892273 | Accuracy : None | Precision : None | Recall : None | F1 : None\n",
      "Early Stopping [0/30] - Best Epoch : 37 | Best Score : 74.97167205810547\n"
     ]
    },
    {
     "data": {
      "application/vnd.jupyter.widget-view+json": {
       "model_id": "",
       "version_major": 2,
       "version_minor": 0
      },
      "text/plain": [
       "Validating: 0it [00:00, ?it/s]"
      ]
     },
     "metadata": {},
     "output_type": "display_data"
    },
    {
     "name": "stderr",
     "output_type": "stream",
     "text": [
      "/workspace/Project/2021_AI_security/model/cae_conv_mse.py:243: UserWarning: Implicit dimension choice for softmax has been deprecated. Change the call to include dim=X as an argument.\n",
      "  prob_batch = F.softmax(input=x_id_hat_batch)\n",
      "[2021-06-13 07:32:19,856][INFO][occ.py:142] Start to transform training features to latent\n",
      "[2021-06-13 07:32:22,021][INFO][occ.py:157] Complete to transform training features to latent\n",
      "[2021-06-13 07:32:22,022][INFO][occ.py:159] Start to train the OCC, rbf_ocsvm\n"
     ]
    },
    {
     "name": "stdout",
     "output_type": "stream",
     "text": [
      "[LibSVM]"
     ]
    },
    {
     "name": "stderr",
     "output_type": "stream",
     "text": [
      "[2021-06-13 07:32:41,609][INFO][occ.py:161] Complete to train the OCC, rbf_ocsvm\n",
      "[2021-06-13 07:32:41,612][INFO][occ.py:168] Start to transform validation features to latent\n",
      "[2021-06-13 07:32:42,907][INFO][occ.py:189] Complete to transform validation features to latent\n",
      "[2021-06-13 07:32:42,909][INFO][occ.py:191] Start to validate the OCC, rbf_ocsvm\n",
      "[2021-06-13 07:32:53,180][INFO][occ.py:194] Complete to validate the OCC, rbf_ocsvm\n",
      "[2021-06-13 07:32:53,214][INFO][callback.py:16] Save checkpoint, Epoch : 38\n",
      "[2021-06-13 07:32:53,220][INFO][callback.py:16] Save checkpoint, Epoch : 38\n"
     ]
    },
    {
     "name": "stdout",
     "output_type": "stream",
     "text": [
      "AUC : 75.68148927470448\n",
      "[Epoch 38]\n",
      " Train - Loss : 0.3626609444618225 | Accuracy : None | Precision : None | Recall : None | F1 : None\n",
      " Val - Loss : 0.36208614706993103 | Accuracy : None | Precision : None | Recall : None | F1 : None\n",
      "Early Stopping [0/30] - Best Epoch : 38 | Best Score : 75.68148803710938\n"
     ]
    },
    {
     "data": {
      "application/vnd.jupyter.widget-view+json": {
       "model_id": "",
       "version_major": 2,
       "version_minor": 0
      },
      "text/plain": [
       "Validating: 0it [00:00, ?it/s]"
      ]
     },
     "metadata": {},
     "output_type": "display_data"
    },
    {
     "name": "stderr",
     "output_type": "stream",
     "text": [
      "/workspace/Project/2021_AI_security/model/cae_conv_mse.py:243: UserWarning: Implicit dimension choice for softmax has been deprecated. Change the call to include dim=X as an argument.\n",
      "  prob_batch = F.softmax(input=x_id_hat_batch)\n",
      "[2021-06-13 07:33:14,080][INFO][occ.py:142] Start to transform training features to latent\n",
      "[2021-06-13 07:33:16,318][INFO][occ.py:157] Complete to transform training features to latent\n",
      "[2021-06-13 07:33:16,320][INFO][occ.py:159] Start to train the OCC, rbf_ocsvm\n"
     ]
    },
    {
     "name": "stdout",
     "output_type": "stream",
     "text": [
      "[LibSVM]"
     ]
    },
    {
     "name": "stderr",
     "output_type": "stream",
     "text": [
      "[2021-06-13 07:33:34,516][INFO][occ.py:161] Complete to train the OCC, rbf_ocsvm\n",
      "[2021-06-13 07:33:34,519][INFO][occ.py:168] Start to transform validation features to latent\n",
      "[2021-06-13 07:33:35,679][INFO][occ.py:189] Complete to transform validation features to latent\n",
      "[2021-06-13 07:33:35,680][INFO][occ.py:191] Start to validate the OCC, rbf_ocsvm\n",
      "[2021-06-13 07:33:46,182][INFO][occ.py:194] Complete to validate the OCC, rbf_ocsvm\n",
      "[2021-06-13 07:33:46,210][INFO][callback.py:16] Save checkpoint, Epoch : 39\n",
      "[2021-06-13 07:33:46,216][INFO][callback.py:16] Save checkpoint, Epoch : 39\n"
     ]
    },
    {
     "name": "stdout",
     "output_type": "stream",
     "text": [
      "AUC : 76.38883273684547\n",
      "[Epoch 39]\n",
      " Train - Loss : 0.3625684976577759 | Accuracy : None | Precision : None | Recall : None | F1 : None\n",
      " Val - Loss : 0.36146703362464905 | Accuracy : None | Precision : None | Recall : None | F1 : None\n",
      "Early Stopping [0/30] - Best Epoch : 39 | Best Score : 76.38883209228516\n"
     ]
    },
    {
     "data": {
      "application/vnd.jupyter.widget-view+json": {
       "model_id": "",
       "version_major": 2,
       "version_minor": 0
      },
      "text/plain": [
       "Validating: 0it [00:00, ?it/s]"
      ]
     },
     "metadata": {},
     "output_type": "display_data"
    },
    {
     "name": "stderr",
     "output_type": "stream",
     "text": [
      "/workspace/Project/2021_AI_security/model/cae_conv_mse.py:243: UserWarning: Implicit dimension choice for softmax has been deprecated. Change the call to include dim=X as an argument.\n",
      "  prob_batch = F.softmax(input=x_id_hat_batch)\n",
      "[2021-06-13 07:34:04,814][INFO][occ.py:142] Start to transform training features to latent\n",
      "[2021-06-13 07:34:06,562][INFO][occ.py:157] Complete to transform training features to latent\n",
      "[2021-06-13 07:34:06,564][INFO][occ.py:159] Start to train the OCC, rbf_ocsvm\n"
     ]
    },
    {
     "name": "stdout",
     "output_type": "stream",
     "text": [
      "[LibSVM]"
     ]
    },
    {
     "name": "stderr",
     "output_type": "stream",
     "text": [
      "[2021-06-13 07:34:26,118][INFO][occ.py:161] Complete to train the OCC, rbf_ocsvm\n",
      "[2021-06-13 07:34:26,119][INFO][occ.py:168] Start to transform validation features to latent\n",
      "[2021-06-13 07:34:27,364][INFO][occ.py:189] Complete to transform validation features to latent\n",
      "[2021-06-13 07:34:27,366][INFO][occ.py:191] Start to validate the OCC, rbf_ocsvm\n",
      "[2021-06-13 07:34:37,870][INFO][occ.py:194] Complete to validate the OCC, rbf_ocsvm\n",
      "[2021-06-13 07:34:37,901][INFO][callback.py:16] Save checkpoint, Epoch : 40\n",
      "[2021-06-13 07:34:37,908][INFO][callback.py:16] Save checkpoint, Epoch : 40\n"
     ]
    },
    {
     "name": "stdout",
     "output_type": "stream",
     "text": [
      "AUC : 75.09021400054212\n",
      "[Epoch 40]\n",
      " Train - Loss : 0.36264368891716003 | Accuracy : None | Precision : None | Recall : None | F1 : None\n",
      " Val - Loss : 0.3593326210975647 | Accuracy : None | Precision : None | Recall : None | F1 : None\n",
      "Early Stopping [1/30] - Best Epoch : 39 | Best Score : 76.38883209228516\n"
     ]
    },
    {
     "data": {
      "application/vnd.jupyter.widget-view+json": {
       "model_id": "",
       "version_major": 2,
       "version_minor": 0
      },
      "text/plain": [
       "Validating: 0it [00:00, ?it/s]"
      ]
     },
     "metadata": {},
     "output_type": "display_data"
    },
    {
     "name": "stderr",
     "output_type": "stream",
     "text": [
      "/workspace/Project/2021_AI_security/model/cae_conv_mse.py:243: UserWarning: Implicit dimension choice for softmax has been deprecated. Change the call to include dim=X as an argument.\n",
      "  prob_batch = F.softmax(input=x_id_hat_batch)\n",
      "[2021-06-13 07:34:57,169][INFO][occ.py:142] Start to transform training features to latent\n",
      "[2021-06-13 07:34:58,831][INFO][occ.py:157] Complete to transform training features to latent\n",
      "[2021-06-13 07:34:58,833][INFO][occ.py:159] Start to train the OCC, rbf_ocsvm\n"
     ]
    },
    {
     "name": "stdout",
     "output_type": "stream",
     "text": [
      "[LibSVM]"
     ]
    },
    {
     "name": "stderr",
     "output_type": "stream",
     "text": [
      "[2021-06-13 07:35:18,537][INFO][occ.py:161] Complete to train the OCC, rbf_ocsvm\n",
      "[2021-06-13 07:35:18,539][INFO][occ.py:168] Start to transform validation features to latent\n",
      "[2021-06-13 07:35:19,618][INFO][occ.py:189] Complete to transform validation features to latent\n",
      "[2021-06-13 07:35:19,620][INFO][occ.py:191] Start to validate the OCC, rbf_ocsvm\n",
      "[2021-06-13 07:35:30,034][INFO][occ.py:194] Complete to validate the OCC, rbf_ocsvm\n",
      "[2021-06-13 07:35:30,059][INFO][callback.py:16] Save checkpoint, Epoch : 41\n",
      "[2021-06-13 07:35:30,064][INFO][callback.py:16] Save checkpoint, Epoch : 41\n"
     ]
    },
    {
     "name": "stdout",
     "output_type": "stream",
     "text": [
      "AUC : 75.2530459931178\n",
      "[Epoch 41]\n",
      " Train - Loss : 0.3621422052383423 | Accuracy : None | Precision : None | Recall : None | F1 : None\n",
      " Val - Loss : 0.3626202642917633 | Accuracy : None | Precision : None | Recall : None | F1 : None\n",
      "Early Stopping [2/30] - Best Epoch : 39 | Best Score : 76.38883209228516\n"
     ]
    },
    {
     "data": {
      "application/vnd.jupyter.widget-view+json": {
       "model_id": "",
       "version_major": 2,
       "version_minor": 0
      },
      "text/plain": [
       "Validating: 0it [00:00, ?it/s]"
      ]
     },
     "metadata": {},
     "output_type": "display_data"
    },
    {
     "name": "stderr",
     "output_type": "stream",
     "text": [
      "/workspace/Project/2021_AI_security/model/cae_conv_mse.py:243: UserWarning: Implicit dimension choice for softmax has been deprecated. Change the call to include dim=X as an argument.\n",
      "  prob_batch = F.softmax(input=x_id_hat_batch)\n",
      "[2021-06-13 07:35:46,729][INFO][occ.py:142] Start to transform training features to latent\n",
      "[2021-06-13 07:35:48,433][INFO][occ.py:157] Complete to transform training features to latent\n",
      "[2021-06-13 07:35:48,435][INFO][occ.py:159] Start to train the OCC, rbf_ocsvm\n"
     ]
    },
    {
     "name": "stdout",
     "output_type": "stream",
     "text": [
      "[LibSVM]"
     ]
    },
    {
     "name": "stderr",
     "output_type": "stream",
     "text": [
      "[2021-06-13 07:36:07,749][INFO][occ.py:161] Complete to train the OCC, rbf_ocsvm\n",
      "[2021-06-13 07:36:07,750][INFO][occ.py:168] Start to transform validation features to latent\n",
      "[2021-06-13 07:36:08,852][INFO][occ.py:189] Complete to transform validation features to latent\n",
      "[2021-06-13 07:36:08,854][INFO][occ.py:191] Start to validate the OCC, rbf_ocsvm\n",
      "[2021-06-13 07:36:19,194][INFO][occ.py:194] Complete to validate the OCC, rbf_ocsvm\n",
      "[2021-06-13 07:36:19,223][INFO][callback.py:16] Save checkpoint, Epoch : 42\n",
      "[2021-06-13 07:36:19,228][INFO][callback.py:16] Save checkpoint, Epoch : 42\n"
     ]
    },
    {
     "name": "stdout",
     "output_type": "stream",
     "text": [
      "AUC : 75.50288174839086\n",
      "[Epoch 42]\n",
      " Train - Loss : 0.3618924915790558 | Accuracy : None | Precision : None | Recall : None | F1 : None\n",
      " Val - Loss : 0.3597925901412964 | Accuracy : None | Precision : None | Recall : None | F1 : None\n",
      "Early Stopping [3/30] - Best Epoch : 39 | Best Score : 76.38883209228516\n"
     ]
    },
    {
     "data": {
      "application/vnd.jupyter.widget-view+json": {
       "model_id": "",
       "version_major": 2,
       "version_minor": 0
      },
      "text/plain": [
       "Validating: 0it [00:00, ?it/s]"
      ]
     },
     "metadata": {},
     "output_type": "display_data"
    },
    {
     "name": "stderr",
     "output_type": "stream",
     "text": [
      "/workspace/Project/2021_AI_security/model/cae_conv_mse.py:243: UserWarning: Implicit dimension choice for softmax has been deprecated. Change the call to include dim=X as an argument.\n",
      "  prob_batch = F.softmax(input=x_id_hat_batch)\n",
      "[2021-06-13 07:36:36,653][INFO][occ.py:142] Start to transform training features to latent\n",
      "[2021-06-13 07:36:38,697][INFO][occ.py:157] Complete to transform training features to latent\n",
      "[2021-06-13 07:36:38,698][INFO][occ.py:159] Start to train the OCC, rbf_ocsvm\n"
     ]
    },
    {
     "name": "stdout",
     "output_type": "stream",
     "text": [
      "[LibSVM]"
     ]
    },
    {
     "name": "stderr",
     "output_type": "stream",
     "text": [
      "[2021-06-13 07:36:57,978][INFO][occ.py:161] Complete to train the OCC, rbf_ocsvm\n",
      "[2021-06-13 07:36:57,981][INFO][occ.py:168] Start to transform validation features to latent\n",
      "[2021-06-13 07:36:59,113][INFO][occ.py:189] Complete to transform validation features to latent\n",
      "[2021-06-13 07:36:59,114][INFO][occ.py:191] Start to validate the OCC, rbf_ocsvm\n",
      "[2021-06-13 07:37:09,466][INFO][occ.py:194] Complete to validate the OCC, rbf_ocsvm\n",
      "[2021-06-13 07:37:09,491][INFO][callback.py:16] Save checkpoint, Epoch : 43\n"
     ]
    },
    {
     "name": "stdout",
     "output_type": "stream",
     "text": [
      "AUC : 74.83035127697404\n",
      "[Epoch 43]\n",
      " Train - Loss : 0.36181697249412537 | Accuracy : None | Precision : None | Recall : None | F1 : None\n",
      " Val - Loss : 0.361312597990036 | Accuracy : None | Precision : None | Recall : None | F1 : None\n",
      "Early Stopping [4/30] - Best Epoch : 39 | Best Score : 76.38883209228516\n"
     ]
    },
    {
     "data": {
      "application/vnd.jupyter.widget-view+json": {
       "model_id": "",
       "version_major": 2,
       "version_minor": 0
      },
      "text/plain": [
       "Validating: 0it [00:00, ?it/s]"
      ]
     },
     "metadata": {},
     "output_type": "display_data"
    },
    {
     "name": "stderr",
     "output_type": "stream",
     "text": [
      "/workspace/Project/2021_AI_security/model/cae_conv_mse.py:243: UserWarning: Implicit dimension choice for softmax has been deprecated. Change the call to include dim=X as an argument.\n",
      "  prob_batch = F.softmax(input=x_id_hat_batch)\n",
      "[2021-06-13 07:37:29,943][INFO][occ.py:142] Start to transform training features to latent\n",
      "[2021-06-13 07:37:31,849][INFO][occ.py:157] Complete to transform training features to latent\n",
      "[2021-06-13 07:37:31,851][INFO][occ.py:159] Start to train the OCC, rbf_ocsvm\n"
     ]
    },
    {
     "name": "stdout",
     "output_type": "stream",
     "text": [
      "[LibSVM]"
     ]
    },
    {
     "name": "stderr",
     "output_type": "stream",
     "text": [
      "[2021-06-13 07:37:51,040][INFO][occ.py:161] Complete to train the OCC, rbf_ocsvm\n",
      "[2021-06-13 07:37:51,042][INFO][occ.py:168] Start to transform validation features to latent\n",
      "[2021-06-13 07:37:52,148][INFO][occ.py:189] Complete to transform validation features to latent\n",
      "[2021-06-13 07:37:52,149][INFO][occ.py:191] Start to validate the OCC, rbf_ocsvm\n",
      "[2021-06-13 07:38:02,463][INFO][occ.py:194] Complete to validate the OCC, rbf_ocsvm\n",
      "[2021-06-13 07:38:02,489][INFO][callback.py:16] Save checkpoint, Epoch : 44\n",
      "[2021-06-13 07:38:02,494][INFO][callback.py:16] Save checkpoint, Epoch : 44\n"
     ]
    },
    {
     "name": "stdout",
     "output_type": "stream",
     "text": [
      "AUC : 75.27552340085361\n",
      "[Epoch 44]\n",
      " Train - Loss : 0.36178117990493774 | Accuracy : None | Precision : None | Recall : None | F1 : None\n",
      " Val - Loss : 0.3626970946788788 | Accuracy : None | Precision : None | Recall : None | F1 : None\n",
      "Early Stopping [5/30] - Best Epoch : 39 | Best Score : 76.38883209228516\n"
     ]
    },
    {
     "data": {
      "application/vnd.jupyter.widget-view+json": {
       "model_id": "",
       "version_major": 2,
       "version_minor": 0
      },
      "text/plain": [
       "Validating: 0it [00:00, ?it/s]"
      ]
     },
     "metadata": {},
     "output_type": "display_data"
    },
    {
     "name": "stderr",
     "output_type": "stream",
     "text": [
      "/workspace/Project/2021_AI_security/model/cae_conv_mse.py:243: UserWarning: Implicit dimension choice for softmax has been deprecated. Change the call to include dim=X as an argument.\n",
      "  prob_batch = F.softmax(input=x_id_hat_batch)\n",
      "[2021-06-13 07:38:23,224][INFO][occ.py:142] Start to transform training features to latent\n",
      "[2021-06-13 07:38:25,290][INFO][occ.py:157] Complete to transform training features to latent\n",
      "[2021-06-13 07:38:25,292][INFO][occ.py:159] Start to train the OCC, rbf_ocsvm\n"
     ]
    },
    {
     "name": "stdout",
     "output_type": "stream",
     "text": [
      "[LibSVM]"
     ]
    },
    {
     "name": "stderr",
     "output_type": "stream",
     "text": [
      "[2021-06-13 07:38:44,679][INFO][occ.py:161] Complete to train the OCC, rbf_ocsvm\n",
      "[2021-06-13 07:38:44,683][INFO][occ.py:168] Start to transform validation features to latent\n",
      "[2021-06-13 07:38:45,758][INFO][occ.py:189] Complete to transform validation features to latent\n",
      "[2021-06-13 07:38:45,760][INFO][occ.py:191] Start to validate the OCC, rbf_ocsvm\n",
      "[2021-06-13 07:38:56,113][INFO][occ.py:194] Complete to validate the OCC, rbf_ocsvm\n",
      "[2021-06-13 07:38:56,138][INFO][callback.py:16] Save checkpoint, Epoch : 45\n"
     ]
    },
    {
     "name": "stdout",
     "output_type": "stream",
     "text": [
      "AUC : 74.87114828886857\n",
      "[Epoch 45]\n",
      " Train - Loss : 0.36158502101898193 | Accuracy : None | Precision : None | Recall : None | F1 : None\n",
      " Val - Loss : 0.36013510823249817 | Accuracy : None | Precision : None | Recall : None | F1 : None\n",
      "Early Stopping [6/30] - Best Epoch : 39 | Best Score : 76.38883209228516\n"
     ]
    },
    {
     "data": {
      "application/vnd.jupyter.widget-view+json": {
       "model_id": "",
       "version_major": 2,
       "version_minor": 0
      },
      "text/plain": [
       "Validating: 0it [00:00, ?it/s]"
      ]
     },
     "metadata": {},
     "output_type": "display_data"
    },
    {
     "name": "stderr",
     "output_type": "stream",
     "text": [
      "/workspace/Project/2021_AI_security/model/cae_conv_mse.py:243: UserWarning: Implicit dimension choice for softmax has been deprecated. Change the call to include dim=X as an argument.\n",
      "  prob_batch = F.softmax(input=x_id_hat_batch)\n",
      "[2021-06-13 07:39:16,932][INFO][occ.py:142] Start to transform training features to latent\n",
      "[2021-06-13 07:39:19,010][INFO][occ.py:157] Complete to transform training features to latent\n",
      "[2021-06-13 07:39:19,013][INFO][occ.py:159] Start to train the OCC, rbf_ocsvm\n"
     ]
    },
    {
     "name": "stdout",
     "output_type": "stream",
     "text": [
      "[LibSVM]"
     ]
    },
    {
     "name": "stderr",
     "output_type": "stream",
     "text": [
      "[2021-06-13 07:39:38,356][INFO][occ.py:161] Complete to train the OCC, rbf_ocsvm\n",
      "[2021-06-13 07:39:38,359][INFO][occ.py:168] Start to transform validation features to latent\n",
      "[2021-06-13 07:39:39,471][INFO][occ.py:189] Complete to transform validation features to latent\n",
      "[2021-06-13 07:39:39,473][INFO][occ.py:191] Start to validate the OCC, rbf_ocsvm\n",
      "[2021-06-13 07:39:49,773][INFO][occ.py:194] Complete to validate the OCC, rbf_ocsvm\n",
      "[2021-06-13 07:39:49,798][INFO][callback.py:16] Save checkpoint, Epoch : 46\n",
      "[2021-06-13 07:39:49,804][INFO][callback.py:16] Save checkpoint, Epoch : 46\n"
     ]
    },
    {
     "name": "stdout",
     "output_type": "stream",
     "text": [
      "AUC : 75.68261486793806\n",
      "[Epoch 46]\n",
      " Train - Loss : 0.36099740862846375 | Accuracy : None | Precision : None | Recall : None | F1 : None\n",
      " Val - Loss : 0.3605501651763916 | Accuracy : None | Precision : None | Recall : None | F1 : None\n",
      "Early Stopping [7/30] - Best Epoch : 39 | Best Score : 76.38883209228516\n"
     ]
    },
    {
     "data": {
      "application/vnd.jupyter.widget-view+json": {
       "model_id": "",
       "version_major": 2,
       "version_minor": 0
      },
      "text/plain": [
       "Validating: 0it [00:00, ?it/s]"
      ]
     },
     "metadata": {},
     "output_type": "display_data"
    },
    {
     "name": "stderr",
     "output_type": "stream",
     "text": [
      "/workspace/Project/2021_AI_security/model/cae_conv_mse.py:243: UserWarning: Implicit dimension choice for softmax has been deprecated. Change the call to include dim=X as an argument.\n",
      "  prob_batch = F.softmax(input=x_id_hat_batch)\n",
      "[2021-06-13 07:40:10,701][INFO][occ.py:142] Start to transform training features to latent\n",
      "[2021-06-13 07:40:12,501][INFO][occ.py:157] Complete to transform training features to latent\n",
      "[2021-06-13 07:40:12,504][INFO][occ.py:159] Start to train the OCC, rbf_ocsvm\n"
     ]
    },
    {
     "name": "stdout",
     "output_type": "stream",
     "text": [
      "[LibSVM]"
     ]
    },
    {
     "name": "stderr",
     "output_type": "stream",
     "text": [
      "[2021-06-13 07:40:31,993][INFO][occ.py:161] Complete to train the OCC, rbf_ocsvm\n",
      "[2021-06-13 07:40:31,996][INFO][occ.py:168] Start to transform validation features to latent\n",
      "[2021-06-13 07:40:33,129][INFO][occ.py:189] Complete to transform validation features to latent\n",
      "[2021-06-13 07:40:33,131][INFO][occ.py:191] Start to validate the OCC, rbf_ocsvm\n",
      "[2021-06-13 07:40:43,524][INFO][occ.py:194] Complete to validate the OCC, rbf_ocsvm\n",
      "[2021-06-13 07:40:43,550][INFO][callback.py:16] Save checkpoint, Epoch : 47\n",
      "[2021-06-13 07:40:43,555][INFO][callback.py:16] Save checkpoint, Epoch : 47\n"
     ]
    },
    {
     "name": "stdout",
     "output_type": "stream",
     "text": [
      "AUC : 75.86049305577889\n",
      "[Epoch 47]\n",
      " Train - Loss : 0.36121878027915955 | Accuracy : None | Precision : None | Recall : None | F1 : None\n",
      " Val - Loss : 0.36086413264274597 | Accuracy : None | Precision : None | Recall : None | F1 : None\n",
      "Early Stopping [8/30] - Best Epoch : 39 | Best Score : 76.38883209228516\n"
     ]
    },
    {
     "data": {
      "application/vnd.jupyter.widget-view+json": {
       "model_id": "",
       "version_major": 2,
       "version_minor": 0
      },
      "text/plain": [
       "Validating: 0it [00:00, ?it/s]"
      ]
     },
     "metadata": {},
     "output_type": "display_data"
    },
    {
     "name": "stderr",
     "output_type": "stream",
     "text": [
      "/workspace/Project/2021_AI_security/model/cae_conv_mse.py:243: UserWarning: Implicit dimension choice for softmax has been deprecated. Change the call to include dim=X as an argument.\n",
      "  prob_batch = F.softmax(input=x_id_hat_batch)\n",
      "[2021-06-13 07:41:04,583][INFO][occ.py:142] Start to transform training features to latent\n",
      "[2021-06-13 07:41:06,574][INFO][occ.py:157] Complete to transform training features to latent\n",
      "[2021-06-13 07:41:06,575][INFO][occ.py:159] Start to train the OCC, rbf_ocsvm\n"
     ]
    },
    {
     "name": "stdout",
     "output_type": "stream",
     "text": [
      "[LibSVM]"
     ]
    },
    {
     "name": "stderr",
     "output_type": "stream",
     "text": [
      "[2021-06-13 07:41:25,948][INFO][occ.py:161] Complete to train the OCC, rbf_ocsvm\n",
      "[2021-06-13 07:41:25,951][INFO][occ.py:168] Start to transform validation features to latent\n",
      "[2021-06-13 07:41:27,038][INFO][occ.py:189] Complete to transform validation features to latent\n",
      "[2021-06-13 07:41:27,039][INFO][occ.py:191] Start to validate the OCC, rbf_ocsvm\n",
      "[2021-06-13 07:41:37,509][INFO][occ.py:194] Complete to validate the OCC, rbf_ocsvm\n",
      "[2021-06-13 07:41:37,535][INFO][callback.py:16] Save checkpoint, Epoch : 48\n",
      "[2021-06-13 07:41:37,540][INFO][callback.py:16] Save checkpoint, Epoch : 48\n"
     ]
    },
    {
     "name": "stdout",
     "output_type": "stream",
     "text": [
      "AUC : 75.65979289084503\n",
      "[Epoch 48]\n",
      " Train - Loss : 0.36100831627845764 | Accuracy : None | Precision : None | Recall : None | F1 : None\n",
      " Val - Loss : 0.36126908659935 | Accuracy : None | Precision : None | Recall : None | F1 : None\n",
      "Early Stopping [9/30] - Best Epoch : 39 | Best Score : 76.38883209228516\n"
     ]
    },
    {
     "data": {
      "application/vnd.jupyter.widget-view+json": {
       "model_id": "",
       "version_major": 2,
       "version_minor": 0
      },
      "text/plain": [
       "Validating: 0it [00:00, ?it/s]"
      ]
     },
     "metadata": {},
     "output_type": "display_data"
    },
    {
     "name": "stderr",
     "output_type": "stream",
     "text": [
      "/workspace/Project/2021_AI_security/model/cae_conv_mse.py:243: UserWarning: Implicit dimension choice for softmax has been deprecated. Change the call to include dim=X as an argument.\n",
      "  prob_batch = F.softmax(input=x_id_hat_batch)\n",
      "[2021-06-13 07:41:58,373][INFO][occ.py:142] Start to transform training features to latent\n",
      "[2021-06-13 07:42:00,342][INFO][occ.py:157] Complete to transform training features to latent\n",
      "[2021-06-13 07:42:00,343][INFO][occ.py:159] Start to train the OCC, rbf_ocsvm\n"
     ]
    },
    {
     "name": "stdout",
     "output_type": "stream",
     "text": [
      "[LibSVM]"
     ]
    },
    {
     "name": "stderr",
     "output_type": "stream",
     "text": [
      "[2021-06-13 07:42:19,608][INFO][occ.py:161] Complete to train the OCC, rbf_ocsvm\n",
      "[2021-06-13 07:42:19,610][INFO][occ.py:168] Start to transform validation features to latent\n",
      "[2021-06-13 07:42:20,737][INFO][occ.py:189] Complete to transform validation features to latent\n",
      "[2021-06-13 07:42:20,739][INFO][occ.py:191] Start to validate the OCC, rbf_ocsvm\n",
      "[2021-06-13 07:42:31,632][INFO][occ.py:194] Complete to validate the OCC, rbf_ocsvm\n",
      "[2021-06-13 07:42:31,660][INFO][callback.py:16] Save checkpoint, Epoch : 49\n",
      "[2021-06-13 07:42:31,665][INFO][callback.py:16] Save checkpoint, Epoch : 49\n"
     ]
    },
    {
     "name": "stdout",
     "output_type": "stream",
     "text": [
      "AUC : 76.05928660360281\n",
      "[Epoch 49]\n",
      " Train - Loss : 0.36078035831451416 | Accuracy : None | Precision : None | Recall : None | F1 : None\n",
      " Val - Loss : 0.36201968789100647 | Accuracy : None | Precision : None | Recall : None | F1 : None\n",
      "Early Stopping [10/30] - Best Epoch : 39 | Best Score : 76.38883209228516\n"
     ]
    },
    {
     "data": {
      "application/vnd.jupyter.widget-view+json": {
       "model_id": "",
       "version_major": 2,
       "version_minor": 0
      },
      "text/plain": [
       "Validating: 0it [00:00, ?it/s]"
      ]
     },
     "metadata": {},
     "output_type": "display_data"
    },
    {
     "name": "stderr",
     "output_type": "stream",
     "text": [
      "/workspace/Project/2021_AI_security/model/cae_conv_mse.py:243: UserWarning: Implicit dimension choice for softmax has been deprecated. Change the call to include dim=X as an argument.\n",
      "  prob_batch = F.softmax(input=x_id_hat_batch)\n",
      "[2021-06-13 07:42:51,733][INFO][occ.py:142] Start to transform training features to latent\n",
      "[2021-06-13 07:42:53,564][INFO][occ.py:157] Complete to transform training features to latent\n",
      "[2021-06-13 07:42:53,565][INFO][occ.py:159] Start to train the OCC, rbf_ocsvm\n"
     ]
    },
    {
     "name": "stdout",
     "output_type": "stream",
     "text": [
      "[LibSVM]"
     ]
    },
    {
     "name": "stderr",
     "output_type": "stream",
     "text": [
      "[2021-06-13 07:43:12,919][INFO][occ.py:161] Complete to train the OCC, rbf_ocsvm\n",
      "[2021-06-13 07:43:12,921][INFO][occ.py:168] Start to transform validation features to latent\n",
      "[2021-06-13 07:43:14,011][INFO][occ.py:189] Complete to transform validation features to latent\n",
      "[2021-06-13 07:43:14,013][INFO][occ.py:191] Start to validate the OCC, rbf_ocsvm\n",
      "[2021-06-13 07:43:25,285][INFO][occ.py:194] Complete to validate the OCC, rbf_ocsvm\n",
      "[2021-06-13 07:43:25,312][INFO][callback.py:16] Save checkpoint, Epoch : 50\n"
     ]
    },
    {
     "name": "stdout",
     "output_type": "stream",
     "text": [
      "AUC : 75.5104737598949\n",
      "[Epoch 50]\n",
      " Train - Loss : 0.3607412576675415 | Accuracy : None | Precision : None | Recall : None | F1 : None\n",
      " Val - Loss : 0.36095738410949707 | Accuracy : None | Precision : None | Recall : None | F1 : None\n",
      "Early Stopping [11/30] - Best Epoch : 39 | Best Score : 76.38883209228516\n"
     ]
    },
    {
     "data": {
      "application/vnd.jupyter.widget-view+json": {
       "model_id": "",
       "version_major": 2,
       "version_minor": 0
      },
      "text/plain": [
       "Validating: 0it [00:00, ?it/s]"
      ]
     },
     "metadata": {},
     "output_type": "display_data"
    },
    {
     "name": "stderr",
     "output_type": "stream",
     "text": [
      "/workspace/Project/2021_AI_security/model/cae_conv_mse.py:243: UserWarning: Implicit dimension choice for softmax has been deprecated. Change the call to include dim=X as an argument.\n",
      "  prob_batch = F.softmax(input=x_id_hat_batch)\n",
      "[2021-06-13 07:43:42,910][INFO][occ.py:142] Start to transform training features to latent\n",
      "[2021-06-13 07:43:44,636][INFO][occ.py:157] Complete to transform training features to latent\n",
      "[2021-06-13 07:43:44,638][INFO][occ.py:159] Start to train the OCC, rbf_ocsvm\n"
     ]
    },
    {
     "name": "stdout",
     "output_type": "stream",
     "text": [
      "[LibSVM]"
     ]
    },
    {
     "name": "stderr",
     "output_type": "stream",
     "text": [
      "[2021-06-13 07:44:04,244][INFO][occ.py:161] Complete to train the OCC, rbf_ocsvm\n",
      "[2021-06-13 07:44:04,246][INFO][occ.py:168] Start to transform validation features to latent\n",
      "[2021-06-13 07:44:05,346][INFO][occ.py:189] Complete to transform validation features to latent\n",
      "[2021-06-13 07:44:05,348][INFO][occ.py:191] Start to validate the OCC, rbf_ocsvm\n",
      "[2021-06-13 07:44:15,791][INFO][occ.py:194] Complete to validate the OCC, rbf_ocsvm\n",
      "[2021-06-13 07:44:15,819][INFO][callback.py:16] Save checkpoint, Epoch : 51\n"
     ]
    },
    {
     "name": "stdout",
     "output_type": "stream",
     "text": [
      "AUC : 75.61256391761577\n",
      "[Epoch 51]\n",
      " Train - Loss : 0.3606318533420563 | Accuracy : None | Precision : None | Recall : None | F1 : None\n",
      " Val - Loss : 0.36027276515960693 | Accuracy : None | Precision : None | Recall : None | F1 : None\n",
      "Early Stopping [12/30] - Best Epoch : 39 | Best Score : 76.38883209228516\n"
     ]
    },
    {
     "data": {
      "application/vnd.jupyter.widget-view+json": {
       "model_id": "",
       "version_major": 2,
       "version_minor": 0
      },
      "text/plain": [
       "Validating: 0it [00:00, ?it/s]"
      ]
     },
     "metadata": {},
     "output_type": "display_data"
    },
    {
     "name": "stderr",
     "output_type": "stream",
     "text": [
      "/workspace/Project/2021_AI_security/model/cae_conv_mse.py:243: UserWarning: Implicit dimension choice for softmax has been deprecated. Change the call to include dim=X as an argument.\n",
      "  prob_batch = F.softmax(input=x_id_hat_batch)\n",
      "[2021-06-13 07:44:36,445][INFO][occ.py:142] Start to transform training features to latent\n",
      "[2021-06-13 07:44:38,188][INFO][occ.py:157] Complete to transform training features to latent\n",
      "[2021-06-13 07:44:38,190][INFO][occ.py:159] Start to train the OCC, rbf_ocsvm\n"
     ]
    },
    {
     "name": "stdout",
     "output_type": "stream",
     "text": [
      "[LibSVM]"
     ]
    },
    {
     "name": "stderr",
     "output_type": "stream",
     "text": [
      "[2021-06-13 07:44:57,681][INFO][occ.py:161] Complete to train the OCC, rbf_ocsvm\n",
      "[2021-06-13 07:44:57,682][INFO][occ.py:168] Start to transform validation features to latent\n",
      "[2021-06-13 07:44:58,796][INFO][occ.py:189] Complete to transform validation features to latent\n",
      "[2021-06-13 07:44:58,798][INFO][occ.py:191] Start to validate the OCC, rbf_ocsvm\n",
      "[2021-06-13 07:45:09,037][INFO][occ.py:194] Complete to validate the OCC, rbf_ocsvm\n",
      "[2021-06-13 07:45:09,063][INFO][callback.py:16] Save checkpoint, Epoch : 52\n"
     ]
    },
    {
     "name": "stdout",
     "output_type": "stream",
     "text": [
      "AUC : 75.2896966870805\n",
      "[Epoch 52]\n",
      " Train - Loss : 0.36033159494400024 | Accuracy : None | Precision : None | Recall : None | F1 : None\n",
      " Val - Loss : 0.3619856834411621 | Accuracy : None | Precision : None | Recall : None | F1 : None\n",
      "Early Stopping [13/30] - Best Epoch : 39 | Best Score : 76.38883209228516\n"
     ]
    },
    {
     "data": {
      "application/vnd.jupyter.widget-view+json": {
       "model_id": "",
       "version_major": 2,
       "version_minor": 0
      },
      "text/plain": [
       "Validating: 0it [00:00, ?it/s]"
      ]
     },
     "metadata": {},
     "output_type": "display_data"
    },
    {
     "name": "stderr",
     "output_type": "stream",
     "text": [
      "/workspace/Project/2021_AI_security/model/cae_conv_mse.py:243: UserWarning: Implicit dimension choice for softmax has been deprecated. Change the call to include dim=X as an argument.\n",
      "  prob_batch = F.softmax(input=x_id_hat_batch)\n",
      "[2021-06-13 07:45:29,507][INFO][occ.py:142] Start to transform training features to latent\n",
      "[2021-06-13 07:45:31,533][INFO][occ.py:157] Complete to transform training features to latent\n",
      "[2021-06-13 07:45:31,536][INFO][occ.py:159] Start to train the OCC, rbf_ocsvm\n"
     ]
    },
    {
     "name": "stdout",
     "output_type": "stream",
     "text": [
      "[LibSVM]"
     ]
    },
    {
     "name": "stderr",
     "output_type": "stream",
     "text": [
      "[2021-06-13 07:45:50,870][INFO][occ.py:161] Complete to train the OCC, rbf_ocsvm\n",
      "[2021-06-13 07:45:50,872][INFO][occ.py:168] Start to transform validation features to latent\n",
      "[2021-06-13 07:45:51,963][INFO][occ.py:189] Complete to transform validation features to latent\n",
      "[2021-06-13 07:45:51,965][INFO][occ.py:191] Start to validate the OCC, rbf_ocsvm\n",
      "[2021-06-13 07:46:02,258][INFO][occ.py:194] Complete to validate the OCC, rbf_ocsvm\n",
      "[2021-06-13 07:46:02,284][INFO][callback.py:16] Save checkpoint, Epoch : 53\n"
     ]
    },
    {
     "name": "stdout",
     "output_type": "stream",
     "text": [
      "AUC : 75.30887771463226\n",
      "[Epoch 53]\n",
      " Train - Loss : 0.3605502247810364 | Accuracy : None | Precision : None | Recall : None | F1 : None\n",
      " Val - Loss : 0.3594280779361725 | Accuracy : None | Precision : None | Recall : None | F1 : None\n",
      "Early Stopping [14/30] - Best Epoch : 39 | Best Score : 76.38883209228516\n"
     ]
    },
    {
     "data": {
      "application/vnd.jupyter.widget-view+json": {
       "model_id": "",
       "version_major": 2,
       "version_minor": 0
      },
      "text/plain": [
       "Validating: 0it [00:00, ?it/s]"
      ]
     },
     "metadata": {},
     "output_type": "display_data"
    },
    {
     "name": "stderr",
     "output_type": "stream",
     "text": [
      "/workspace/Project/2021_AI_security/model/cae_conv_mse.py:243: UserWarning: Implicit dimension choice for softmax has been deprecated. Change the call to include dim=X as an argument.\n",
      "  prob_batch = F.softmax(input=x_id_hat_batch)\n",
      "[2021-06-13 07:46:23,062][INFO][occ.py:142] Start to transform training features to latent\n",
      "[2021-06-13 07:46:25,135][INFO][occ.py:157] Complete to transform training features to latent\n",
      "[2021-06-13 07:46:25,138][INFO][occ.py:159] Start to train the OCC, rbf_ocsvm\n"
     ]
    },
    {
     "name": "stdout",
     "output_type": "stream",
     "text": [
      "[LibSVM]"
     ]
    },
    {
     "name": "stderr",
     "output_type": "stream",
     "text": [
      "[2021-06-13 07:46:44,556][INFO][occ.py:161] Complete to train the OCC, rbf_ocsvm\n",
      "[2021-06-13 07:46:44,559][INFO][occ.py:168] Start to transform validation features to latent\n",
      "[2021-06-13 07:46:45,656][INFO][occ.py:189] Complete to transform validation features to latent\n",
      "[2021-06-13 07:46:45,658][INFO][occ.py:191] Start to validate the OCC, rbf_ocsvm\n",
      "[2021-06-13 07:46:56,042][INFO][occ.py:194] Complete to validate the OCC, rbf_ocsvm\n",
      "[2021-06-13 07:46:56,068][INFO][callback.py:16] Save checkpoint, Epoch : 54\n"
     ]
    },
    {
     "name": "stdout",
     "output_type": "stream",
     "text": [
      "AUC : 75.45790396162876\n",
      "[Epoch 54]\n",
      " Train - Loss : 0.36037150025367737 | Accuracy : None | Precision : None | Recall : None | F1 : None\n",
      " Val - Loss : 0.358063280582428 | Accuracy : None | Precision : None | Recall : None | F1 : None\n",
      "Early Stopping [15/30] - Best Epoch : 39 | Best Score : 76.38883209228516\n"
     ]
    },
    {
     "data": {
      "application/vnd.jupyter.widget-view+json": {
       "model_id": "",
       "version_major": 2,
       "version_minor": 0
      },
      "text/plain": [
       "Validating: 0it [00:00, ?it/s]"
      ]
     },
     "metadata": {},
     "output_type": "display_data"
    },
    {
     "name": "stderr",
     "output_type": "stream",
     "text": [
      "/workspace/Project/2021_AI_security/model/cae_conv_mse.py:243: UserWarning: Implicit dimension choice for softmax has been deprecated. Change the call to include dim=X as an argument.\n",
      "  prob_batch = F.softmax(input=x_id_hat_batch)\n",
      "[2021-06-13 07:47:16,695][INFO][occ.py:142] Start to transform training features to latent\n",
      "[2021-06-13 07:47:18,697][INFO][occ.py:157] Complete to transform training features to latent\n",
      "[2021-06-13 07:47:18,700][INFO][occ.py:159] Start to train the OCC, rbf_ocsvm\n"
     ]
    },
    {
     "name": "stdout",
     "output_type": "stream",
     "text": [
      "[LibSVM]"
     ]
    },
    {
     "name": "stderr",
     "output_type": "stream",
     "text": [
      "[2021-06-13 07:47:38,090][INFO][occ.py:161] Complete to train the OCC, rbf_ocsvm\n",
      "[2021-06-13 07:47:38,092][INFO][occ.py:168] Start to transform validation features to latent\n",
      "[2021-06-13 07:47:39,173][INFO][occ.py:189] Complete to transform validation features to latent\n",
      "[2021-06-13 07:47:39,174][INFO][occ.py:191] Start to validate the OCC, rbf_ocsvm\n",
      "[2021-06-13 07:47:49,434][INFO][occ.py:194] Complete to validate the OCC, rbf_ocsvm\n",
      "[2021-06-13 07:47:49,460][INFO][callback.py:16] Save checkpoint, Epoch : 55\n"
     ]
    },
    {
     "name": "stdout",
     "output_type": "stream",
     "text": [
      "AUC : 74.32714218769382\n",
      "[Epoch 55]\n",
      " Train - Loss : 0.3598392903804779 | Accuracy : None | Precision : None | Recall : None | F1 : None\n",
      " Val - Loss : 0.361544668674469 | Accuracy : None | Precision : None | Recall : None | F1 : None\n",
      "Early Stopping [16/30] - Best Epoch : 39 | Best Score : 76.38883209228516\n"
     ]
    },
    {
     "data": {
      "application/vnd.jupyter.widget-view+json": {
       "model_id": "",
       "version_major": 2,
       "version_minor": 0
      },
      "text/plain": [
       "Validating: 0it [00:00, ?it/s]"
      ]
     },
     "metadata": {},
     "output_type": "display_data"
    },
    {
     "name": "stderr",
     "output_type": "stream",
     "text": [
      "/workspace/Project/2021_AI_security/model/cae_conv_mse.py:243: UserWarning: Implicit dimension choice for softmax has been deprecated. Change the call to include dim=X as an argument.\n",
      "  prob_batch = F.softmax(input=x_id_hat_batch)\n",
      "[2021-06-13 07:48:10,335][INFO][occ.py:142] Start to transform training features to latent\n",
      "[2021-06-13 07:48:12,046][INFO][occ.py:157] Complete to transform training features to latent\n",
      "[2021-06-13 07:48:12,048][INFO][occ.py:159] Start to train the OCC, rbf_ocsvm\n"
     ]
    },
    {
     "name": "stdout",
     "output_type": "stream",
     "text": [
      "[LibSVM]"
     ]
    },
    {
     "name": "stderr",
     "output_type": "stream",
     "text": [
      "[2021-06-13 07:48:31,540][INFO][occ.py:161] Complete to train the OCC, rbf_ocsvm\n",
      "[2021-06-13 07:48:31,543][INFO][occ.py:168] Start to transform validation features to latent\n",
      "[2021-06-13 07:48:32,815][INFO][occ.py:189] Complete to transform validation features to latent\n",
      "[2021-06-13 07:48:32,817][INFO][occ.py:191] Start to validate the OCC, rbf_ocsvm\n",
      "[2021-06-13 07:48:43,172][INFO][occ.py:194] Complete to validate the OCC, rbf_ocsvm\n",
      "[2021-06-13 07:48:43,199][INFO][callback.py:16] Save checkpoint, Epoch : 56\n"
     ]
    },
    {
     "name": "stdout",
     "output_type": "stream",
     "text": [
      "AUC : 75.22871365367564\n",
      "[Epoch 56]\n",
      " Train - Loss : 0.35978180170059204 | Accuracy : None | Precision : None | Recall : None | F1 : None\n",
      " Val - Loss : 0.3575207591056824 | Accuracy : None | Precision : None | Recall : None | F1 : None\n",
      "Early Stopping [17/30] - Best Epoch : 39 | Best Score : 76.38883209228516\n"
     ]
    },
    {
     "data": {
      "application/vnd.jupyter.widget-view+json": {
       "model_id": "",
       "version_major": 2,
       "version_minor": 0
      },
      "text/plain": [
       "Validating: 0it [00:00, ?it/s]"
      ]
     },
     "metadata": {},
     "output_type": "display_data"
    },
    {
     "name": "stderr",
     "output_type": "stream",
     "text": [
      "/workspace/Project/2021_AI_security/model/cae_conv_mse.py:243: UserWarning: Implicit dimension choice for softmax has been deprecated. Change the call to include dim=X as an argument.\n",
      "  prob_batch = F.softmax(input=x_id_hat_batch)\n",
      "[2021-06-13 07:49:04,407][INFO][occ.py:142] Start to transform training features to latent\n",
      "[2021-06-13 07:49:06,154][INFO][occ.py:157] Complete to transform training features to latent\n",
      "[2021-06-13 07:49:06,155][INFO][occ.py:159] Start to train the OCC, rbf_ocsvm\n"
     ]
    },
    {
     "name": "stdout",
     "output_type": "stream",
     "text": [
      "[LibSVM]"
     ]
    },
    {
     "name": "stderr",
     "output_type": "stream",
     "text": [
      "[2021-06-13 07:49:25,531][INFO][occ.py:161] Complete to train the OCC, rbf_ocsvm\n",
      "[2021-06-13 07:49:25,534][INFO][occ.py:168] Start to transform validation features to latent\n",
      "[2021-06-13 07:49:26,611][INFO][occ.py:189] Complete to transform validation features to latent\n",
      "[2021-06-13 07:49:26,613][INFO][occ.py:191] Start to validate the OCC, rbf_ocsvm\n",
      "[2021-06-13 07:49:36,860][INFO][occ.py:194] Complete to validate the OCC, rbf_ocsvm\n",
      "[2021-06-13 07:49:36,888][INFO][callback.py:16] Save checkpoint, Epoch : 57\n"
     ]
    },
    {
     "name": "stdout",
     "output_type": "stream",
     "text": [
      "AUC : 75.03833908381306\n",
      "[Epoch 57]\n",
      " Train - Loss : 0.3597796559333801 | Accuracy : None | Precision : None | Recall : None | F1 : None\n",
      " Val - Loss : 0.35976025462150574 | Accuracy : None | Precision : None | Recall : None | F1 : None\n",
      "Early Stopping [18/30] - Best Epoch : 39 | Best Score : 76.38883209228516\n"
     ]
    },
    {
     "data": {
      "application/vnd.jupyter.widget-view+json": {
       "model_id": "",
       "version_major": 2,
       "version_minor": 0
      },
      "text/plain": [
       "Validating: 0it [00:00, ?it/s]"
      ]
     },
     "metadata": {},
     "output_type": "display_data"
    },
    {
     "name": "stderr",
     "output_type": "stream",
     "text": [
      "/workspace/Project/2021_AI_security/model/cae_conv_mse.py:243: UserWarning: Implicit dimension choice for softmax has been deprecated. Change the call to include dim=X as an argument.\n",
      "  prob_batch = F.softmax(input=x_id_hat_batch)\n",
      "[2021-06-13 07:49:57,699][INFO][occ.py:142] Start to transform training features to latent\n",
      "[2021-06-13 07:49:59,736][INFO][occ.py:157] Complete to transform training features to latent\n",
      "[2021-06-13 07:49:59,738][INFO][occ.py:159] Start to train the OCC, rbf_ocsvm\n"
     ]
    },
    {
     "name": "stdout",
     "output_type": "stream",
     "text": [
      "[LibSVM]"
     ]
    },
    {
     "name": "stderr",
     "output_type": "stream",
     "text": [
      "[2021-06-13 07:50:19,186][INFO][occ.py:161] Complete to train the OCC, rbf_ocsvm\n",
      "[2021-06-13 07:50:19,189][INFO][occ.py:168] Start to transform validation features to latent\n",
      "[2021-06-13 07:50:20,304][INFO][occ.py:189] Complete to transform validation features to latent\n",
      "[2021-06-13 07:50:20,305][INFO][occ.py:191] Start to validate the OCC, rbf_ocsvm\n",
      "[2021-06-13 07:50:30,617][INFO][occ.py:194] Complete to validate the OCC, rbf_ocsvm\n",
      "[2021-06-13 07:50:30,644][INFO][callback.py:16] Save checkpoint, Epoch : 58\n"
     ]
    },
    {
     "name": "stdout",
     "output_type": "stream",
     "text": [
      "AUC : 74.71059619687314\n",
      "[Epoch 58]\n",
      " Train - Loss : 0.3600080609321594 | Accuracy : None | Precision : None | Recall : None | F1 : None\n",
      " Val - Loss : 0.36077040433883667 | Accuracy : None | Precision : None | Recall : None | F1 : None\n",
      "Early Stopping [19/30] - Best Epoch : 39 | Best Score : 76.38883209228516\n"
     ]
    },
    {
     "data": {
      "application/vnd.jupyter.widget-view+json": {
       "model_id": "",
       "version_major": 2,
       "version_minor": 0
      },
      "text/plain": [
       "Validating: 0it [00:00, ?it/s]"
      ]
     },
     "metadata": {},
     "output_type": "display_data"
    },
    {
     "name": "stderr",
     "output_type": "stream",
     "text": [
      "/workspace/Project/2021_AI_security/model/cae_conv_mse.py:243: UserWarning: Implicit dimension choice for softmax has been deprecated. Change the call to include dim=X as an argument.\n",
      "  prob_batch = F.softmax(input=x_id_hat_batch)\n",
      "[2021-06-13 07:50:51,476][INFO][occ.py:142] Start to transform training features to latent\n",
      "[2021-06-13 07:50:53,212][INFO][occ.py:157] Complete to transform training features to latent\n",
      "[2021-06-13 07:50:53,213][INFO][occ.py:159] Start to train the OCC, rbf_ocsvm\n"
     ]
    },
    {
     "name": "stdout",
     "output_type": "stream",
     "text": [
      "[LibSVM]"
     ]
    },
    {
     "name": "stderr",
     "output_type": "stream",
     "text": [
      "[2021-06-13 07:51:12,693][INFO][occ.py:161] Complete to train the OCC, rbf_ocsvm\n",
      "[2021-06-13 07:51:12,695][INFO][occ.py:168] Start to transform validation features to latent\n",
      "[2021-06-13 07:51:13,767][INFO][occ.py:189] Complete to transform validation features to latent\n",
      "[2021-06-13 07:51:13,769][INFO][occ.py:191] Start to validate the OCC, rbf_ocsvm\n",
      "[2021-06-13 07:51:24,112][INFO][occ.py:194] Complete to validate the OCC, rbf_ocsvm\n",
      "[2021-06-13 07:51:24,138][INFO][callback.py:16] Save checkpoint, Epoch : 59\n"
     ]
    },
    {
     "name": "stdout",
     "output_type": "stream",
     "text": [
      "AUC : 74.62284586723513\n",
      "[Epoch 59]\n",
      " Train - Loss : 0.3594490885734558 | Accuracy : None | Precision : None | Recall : None | F1 : None\n",
      " Val - Loss : 0.36090341210365295 | Accuracy : None | Precision : None | Recall : None | F1 : None\n",
      "Early Stopping [20/30] - Best Epoch : 39 | Best Score : 76.38883209228516\n"
     ]
    },
    {
     "data": {
      "application/vnd.jupyter.widget-view+json": {
       "model_id": "",
       "version_major": 2,
       "version_minor": 0
      },
      "text/plain": [
       "Validating: 0it [00:00, ?it/s]"
      ]
     },
     "metadata": {},
     "output_type": "display_data"
    },
    {
     "name": "stderr",
     "output_type": "stream",
     "text": [
      "/workspace/Project/2021_AI_security/model/cae_conv_mse.py:243: UserWarning: Implicit dimension choice for softmax has been deprecated. Change the call to include dim=X as an argument.\n",
      "  prob_batch = F.softmax(input=x_id_hat_batch)\n",
      "[2021-06-13 07:51:44,691][INFO][occ.py:142] Start to transform training features to latent\n",
      "[2021-06-13 07:51:46,619][INFO][occ.py:157] Complete to transform training features to latent\n",
      "[2021-06-13 07:51:46,621][INFO][occ.py:159] Start to train the OCC, rbf_ocsvm\n"
     ]
    },
    {
     "name": "stdout",
     "output_type": "stream",
     "text": [
      "[LibSVM]"
     ]
    },
    {
     "name": "stderr",
     "output_type": "stream",
     "text": [
      "[2021-06-13 07:52:06,038][INFO][occ.py:161] Complete to train the OCC, rbf_ocsvm\n",
      "[2021-06-13 07:52:06,041][INFO][occ.py:168] Start to transform validation features to latent\n",
      "[2021-06-13 07:52:07,142][INFO][occ.py:189] Complete to transform validation features to latent\n",
      "[2021-06-13 07:52:07,143][INFO][occ.py:191] Start to validate the OCC, rbf_ocsvm\n",
      "[2021-06-13 07:52:17,616][INFO][occ.py:194] Complete to validate the OCC, rbf_ocsvm\n",
      "[2021-06-13 07:52:17,644][INFO][callback.py:16] Save checkpoint, Epoch : 60\n"
     ]
    },
    {
     "name": "stdout",
     "output_type": "stream",
     "text": [
      "AUC : 73.62304916315588\n",
      "[Epoch 60]\n",
      " Train - Loss : 0.36673200130462646 | Accuracy : None | Precision : None | Recall : None | F1 : None\n",
      " Val - Loss : 0.364184707403183 | Accuracy : None | Precision : None | Recall : None | F1 : None\n",
      "Early Stopping [21/30] - Best Epoch : 39 | Best Score : 76.38883209228516\n"
     ]
    },
    {
     "data": {
      "application/vnd.jupyter.widget-view+json": {
       "model_id": "",
       "version_major": 2,
       "version_minor": 0
      },
      "text/plain": [
       "Validating: 0it [00:00, ?it/s]"
      ]
     },
     "metadata": {},
     "output_type": "display_data"
    },
    {
     "name": "stderr",
     "output_type": "stream",
     "text": [
      "/workspace/Project/2021_AI_security/model/cae_conv_mse.py:243: UserWarning: Implicit dimension choice for softmax has been deprecated. Change the call to include dim=X as an argument.\n",
      "  prob_batch = F.softmax(input=x_id_hat_batch)\n",
      "[2021-06-13 07:52:38,450][INFO][occ.py:142] Start to transform training features to latent\n",
      "[2021-06-13 07:52:40,402][INFO][occ.py:157] Complete to transform training features to latent\n",
      "[2021-06-13 07:52:40,404][INFO][occ.py:159] Start to train the OCC, rbf_ocsvm\n"
     ]
    },
    {
     "name": "stdout",
     "output_type": "stream",
     "text": [
      "[LibSVM]"
     ]
    },
    {
     "name": "stderr",
     "output_type": "stream",
     "text": [
      "[2021-06-13 07:52:59,844][INFO][occ.py:161] Complete to train the OCC, rbf_ocsvm\n",
      "[2021-06-13 07:52:59,847][INFO][occ.py:168] Start to transform validation features to latent\n",
      "[2021-06-13 07:53:00,938][INFO][occ.py:189] Complete to transform validation features to latent\n",
      "[2021-06-13 07:53:00,940][INFO][occ.py:191] Start to validate the OCC, rbf_ocsvm\n",
      "[2021-06-13 07:53:11,642][INFO][occ.py:194] Complete to validate the OCC, rbf_ocsvm\n",
      "[2021-06-13 07:53:11,669][INFO][callback.py:16] Save checkpoint, Epoch : 61\n"
     ]
    },
    {
     "name": "stdout",
     "output_type": "stream",
     "text": [
      "AUC : 75.18343724013728\n",
      "[Epoch 61]\n",
      " Train - Loss : 0.36049044132232666 | Accuracy : None | Precision : None | Recall : None | F1 : None\n",
      " Val - Loss : 0.35855305194854736 | Accuracy : None | Precision : None | Recall : None | F1 : None\n",
      "Early Stopping [22/30] - Best Epoch : 39 | Best Score : 76.38883209228516\n"
     ]
    },
    {
     "data": {
      "application/vnd.jupyter.widget-view+json": {
       "model_id": "",
       "version_major": 2,
       "version_minor": 0
      },
      "text/plain": [
       "Validating: 0it [00:00, ?it/s]"
      ]
     },
     "metadata": {},
     "output_type": "display_data"
    },
    {
     "name": "stderr",
     "output_type": "stream",
     "text": [
      "/workspace/Project/2021_AI_security/model/cae_conv_mse.py:243: UserWarning: Implicit dimension choice for softmax has been deprecated. Change the call to include dim=X as an argument.\n",
      "  prob_batch = F.softmax(input=x_id_hat_batch)\n",
      "[2021-06-13 07:53:32,169][INFO][occ.py:142] Start to transform training features to latent\n",
      "[2021-06-13 07:53:33,915][INFO][occ.py:157] Complete to transform training features to latent\n",
      "[2021-06-13 07:53:33,917][INFO][occ.py:159] Start to train the OCC, rbf_ocsvm\n"
     ]
    },
    {
     "name": "stdout",
     "output_type": "stream",
     "text": [
      "[LibSVM]"
     ]
    },
    {
     "name": "stderr",
     "output_type": "stream",
     "text": [
      "[2021-06-13 07:53:53,393][INFO][occ.py:161] Complete to train the OCC, rbf_ocsvm\n",
      "[2021-06-13 07:53:53,395][INFO][occ.py:168] Start to transform validation features to latent\n",
      "[2021-06-13 07:53:54,502][INFO][occ.py:189] Complete to transform validation features to latent\n",
      "[2021-06-13 07:53:54,504][INFO][occ.py:191] Start to validate the OCC, rbf_ocsvm\n",
      "[2021-06-13 07:54:04,771][INFO][occ.py:194] Complete to validate the OCC, rbf_ocsvm\n",
      "[2021-06-13 07:54:04,796][INFO][callback.py:16] Save checkpoint, Epoch : 62\n"
     ]
    },
    {
     "name": "stdout",
     "output_type": "stream",
     "text": [
      "AUC : 74.92437851173602\n",
      "[Epoch 62]\n",
      " Train - Loss : 0.35929444432258606 | Accuracy : None | Precision : None | Recall : None | F1 : None\n",
      " Val - Loss : 0.3604733943939209 | Accuracy : None | Precision : None | Recall : None | F1 : None\n",
      "Early Stopping [23/30] - Best Epoch : 39 | Best Score : 76.38883209228516\n"
     ]
    },
    {
     "data": {
      "application/vnd.jupyter.widget-view+json": {
       "model_id": "",
       "version_major": 2,
       "version_minor": 0
      },
      "text/plain": [
       "Validating: 0it [00:00, ?it/s]"
      ]
     },
     "metadata": {},
     "output_type": "display_data"
    },
    {
     "name": "stderr",
     "output_type": "stream",
     "text": [
      "/workspace/Project/2021_AI_security/model/cae_conv_mse.py:243: UserWarning: Implicit dimension choice for softmax has been deprecated. Change the call to include dim=X as an argument.\n",
      "  prob_batch = F.softmax(input=x_id_hat_batch)\n",
      "[2021-06-13 07:54:21,674][INFO][occ.py:142] Start to transform training features to latent\n",
      "[2021-06-13 07:54:23,408][INFO][occ.py:157] Complete to transform training features to latent\n",
      "[2021-06-13 07:54:23,410][INFO][occ.py:159] Start to train the OCC, rbf_ocsvm\n"
     ]
    },
    {
     "name": "stdout",
     "output_type": "stream",
     "text": [
      "[LibSVM]"
     ]
    },
    {
     "name": "stderr",
     "output_type": "stream",
     "text": [
      "[2021-06-13 07:54:42,915][INFO][occ.py:161] Complete to train the OCC, rbf_ocsvm\n",
      "[2021-06-13 07:54:42,916][INFO][occ.py:168] Start to transform validation features to latent\n",
      "[2021-06-13 07:54:44,035][INFO][occ.py:189] Complete to transform validation features to latent\n",
      "[2021-06-13 07:54:44,036][INFO][occ.py:191] Start to validate the OCC, rbf_ocsvm\n",
      "[2021-06-13 07:54:54,304][INFO][occ.py:194] Complete to validate the OCC, rbf_ocsvm\n",
      "[2021-06-13 07:54:54,340][INFO][callback.py:16] Save checkpoint, Epoch : 63\n",
      "[2021-06-13 07:54:54,346][INFO][callback.py:16] Save checkpoint, Epoch : 63\n"
     ]
    },
    {
     "name": "stdout",
     "output_type": "stream",
     "text": [
      "AUC : 75.76660939158239\n",
      "[Epoch 63]\n",
      " Train - Loss : 0.35928499698638916 | Accuracy : None | Precision : None | Recall : None | F1 : None\n",
      " Val - Loss : 0.3595840334892273 | Accuracy : None | Precision : None | Recall : None | F1 : None\n",
      "Early Stopping [24/30] - Best Epoch : 39 | Best Score : 76.38883209228516\n"
     ]
    },
    {
     "data": {
      "application/vnd.jupyter.widget-view+json": {
       "model_id": "",
       "version_major": 2,
       "version_minor": 0
      },
      "text/plain": [
       "Validating: 0it [00:00, ?it/s]"
      ]
     },
     "metadata": {},
     "output_type": "display_data"
    },
    {
     "name": "stderr",
     "output_type": "stream",
     "text": [
      "/workspace/Project/2021_AI_security/model/cae_conv_mse.py:243: UserWarning: Implicit dimension choice for softmax has been deprecated. Change the call to include dim=X as an argument.\n",
      "  prob_batch = F.softmax(input=x_id_hat_batch)\n",
      "[2021-06-13 07:55:13,581][INFO][occ.py:142] Start to transform training features to latent\n",
      "[2021-06-13 07:55:15,647][INFO][occ.py:157] Complete to transform training features to latent\n",
      "[2021-06-13 07:55:15,649][INFO][occ.py:159] Start to train the OCC, rbf_ocsvm\n"
     ]
    },
    {
     "name": "stdout",
     "output_type": "stream",
     "text": [
      "[LibSVM]"
     ]
    },
    {
     "name": "stderr",
     "output_type": "stream",
     "text": [
      "[2021-06-13 07:55:35,314][INFO][occ.py:161] Complete to train the OCC, rbf_ocsvm\n",
      "[2021-06-13 07:55:35,317][INFO][occ.py:168] Start to transform validation features to latent\n",
      "[2021-06-13 07:55:36,410][INFO][occ.py:189] Complete to transform validation features to latent\n",
      "[2021-06-13 07:55:36,412][INFO][occ.py:191] Start to validate the OCC, rbf_ocsvm\n",
      "[2021-06-13 07:55:46,689][INFO][occ.py:194] Complete to validate the OCC, rbf_ocsvm\n",
      "[2021-06-13 07:55:46,716][INFO][callback.py:16] Save checkpoint, Epoch : 64\n",
      "[2021-06-13 07:55:46,721][INFO][callback.py:16] Save checkpoint, Epoch : 64\n"
     ]
    },
    {
     "name": "stdout",
     "output_type": "stream",
     "text": [
      "AUC : 75.75992474605238\n",
      "[Epoch 64]\n",
      " Train - Loss : 0.3595964014530182 | Accuracy : None | Precision : None | Recall : None | F1 : None\n",
      " Val - Loss : 0.361001193523407 | Accuracy : None | Precision : None | Recall : None | F1 : None\n",
      "Early Stopping [25/30] - Best Epoch : 39 | Best Score : 76.38883209228516\n"
     ]
    },
    {
     "data": {
      "application/vnd.jupyter.widget-view+json": {
       "model_id": "",
       "version_major": 2,
       "version_minor": 0
      },
      "text/plain": [
       "Validating: 0it [00:00, ?it/s]"
      ]
     },
     "metadata": {},
     "output_type": "display_data"
    },
    {
     "name": "stderr",
     "output_type": "stream",
     "text": [
      "/workspace/Project/2021_AI_security/model/cae_conv_mse.py:243: UserWarning: Implicit dimension choice for softmax has been deprecated. Change the call to include dim=X as an argument.\n",
      "  prob_batch = F.softmax(input=x_id_hat_batch)\n",
      "[2021-06-13 07:56:06,701][INFO][occ.py:142] Start to transform training features to latent\n",
      "[2021-06-13 07:56:08,619][INFO][occ.py:157] Complete to transform training features to latent\n",
      "[2021-06-13 07:56:08,621][INFO][occ.py:159] Start to train the OCC, rbf_ocsvm\n"
     ]
    },
    {
     "name": "stdout",
     "output_type": "stream",
     "text": [
      "[LibSVM]"
     ]
    },
    {
     "name": "stderr",
     "output_type": "stream",
     "text": [
      "[2021-06-13 07:56:28,400][INFO][occ.py:161] Complete to train the OCC, rbf_ocsvm\n",
      "[2021-06-13 07:56:28,404][INFO][occ.py:168] Start to transform validation features to latent\n",
      "[2021-06-13 07:56:29,488][INFO][occ.py:189] Complete to transform validation features to latent\n",
      "[2021-06-13 07:56:29,490][INFO][occ.py:191] Start to validate the OCC, rbf_ocsvm\n",
      "[2021-06-13 07:56:39,858][INFO][occ.py:194] Complete to validate the OCC, rbf_ocsvm\n",
      "[2021-06-13 07:56:39,897][INFO][callback.py:16] Save checkpoint, Epoch : 65\n"
     ]
    },
    {
     "name": "stdout",
     "output_type": "stream",
     "text": [
      "AUC : 75.67293821182287\n",
      "[Epoch 65]\n",
      " Train - Loss : 0.35911980271339417 | Accuracy : None | Precision : None | Recall : None | F1 : None\n",
      " Val - Loss : 0.3563583493232727 | Accuracy : None | Precision : None | Recall : None | F1 : None\n",
      "Early Stopping [26/30] - Best Epoch : 39 | Best Score : 76.38883209228516\n"
     ]
    },
    {
     "data": {
      "application/vnd.jupyter.widget-view+json": {
       "model_id": "",
       "version_major": 2,
       "version_minor": 0
      },
      "text/plain": [
       "Validating: 0it [00:00, ?it/s]"
      ]
     },
     "metadata": {},
     "output_type": "display_data"
    },
    {
     "name": "stderr",
     "output_type": "stream",
     "text": [
      "/workspace/Project/2021_AI_security/model/cae_conv_mse.py:243: UserWarning: Implicit dimension choice for softmax has been deprecated. Change the call to include dim=X as an argument.\n",
      "  prob_batch = F.softmax(input=x_id_hat_batch)\n",
      "[2021-06-13 07:56:59,408][INFO][occ.py:142] Start to transform training features to latent\n",
      "[2021-06-13 07:57:01,409][INFO][occ.py:157] Complete to transform training features to latent\n",
      "[2021-06-13 07:57:01,411][INFO][occ.py:159] Start to train the OCC, rbf_ocsvm\n"
     ]
    },
    {
     "name": "stdout",
     "output_type": "stream",
     "text": [
      "[LibSVM]"
     ]
    },
    {
     "name": "stderr",
     "output_type": "stream",
     "text": [
      "[2021-06-13 07:57:20,801][INFO][occ.py:161] Complete to train the OCC, rbf_ocsvm\n",
      "[2021-06-13 07:57:20,803][INFO][occ.py:168] Start to transform validation features to latent\n",
      "[2021-06-13 07:57:22,090][INFO][occ.py:189] Complete to transform validation features to latent\n",
      "[2021-06-13 07:57:22,092][INFO][occ.py:191] Start to validate the OCC, rbf_ocsvm\n",
      "[2021-06-13 07:57:32,474][INFO][occ.py:194] Complete to validate the OCC, rbf_ocsvm\n",
      "[2021-06-13 07:57:32,530][INFO][callback.py:16] Save checkpoint, Epoch : 66\n",
      "[2021-06-13 07:57:32,537][INFO][callback.py:16] Save checkpoint, Epoch : 66\n"
     ]
    },
    {
     "name": "stdout",
     "output_type": "stream",
     "text": [
      "AUC : 75.94418320982437\n",
      "[Epoch 66]\n",
      " Train - Loss : 0.3588031232357025 | Accuracy : None | Precision : None | Recall : None | F1 : None\n",
      " Val - Loss : 0.36113640666007996 | Accuracy : None | Precision : None | Recall : None | F1 : None\n",
      "Early Stopping [27/30] - Best Epoch : 39 | Best Score : 76.38883209228516\n"
     ]
    },
    {
     "data": {
      "application/vnd.jupyter.widget-view+json": {
       "model_id": "",
       "version_major": 2,
       "version_minor": 0
      },
      "text/plain": [
       "Validating: 0it [00:00, ?it/s]"
      ]
     },
     "metadata": {},
     "output_type": "display_data"
    },
    {
     "name": "stderr",
     "output_type": "stream",
     "text": [
      "/workspace/Project/2021_AI_security/model/cae_conv_mse.py:243: UserWarning: Implicit dimension choice for softmax has been deprecated. Change the call to include dim=X as an argument.\n",
      "  prob_batch = F.softmax(input=x_id_hat_batch)\n",
      "[2021-06-13 07:57:53,690][INFO][occ.py:142] Start to transform training features to latent\n",
      "[2021-06-13 07:57:55,788][INFO][occ.py:157] Complete to transform training features to latent\n",
      "[2021-06-13 07:57:55,790][INFO][occ.py:159] Start to train the OCC, rbf_ocsvm\n"
     ]
    },
    {
     "name": "stdout",
     "output_type": "stream",
     "text": [
      "[LibSVM]"
     ]
    },
    {
     "name": "stderr",
     "output_type": "stream",
     "text": [
      "[2021-06-13 07:58:15,228][INFO][occ.py:161] Complete to train the OCC, rbf_ocsvm\n",
      "[2021-06-13 07:58:15,231][INFO][occ.py:168] Start to transform validation features to latent\n",
      "[2021-06-13 07:58:16,333][INFO][occ.py:189] Complete to transform validation features to latent\n",
      "[2021-06-13 07:58:16,335][INFO][occ.py:191] Start to validate the OCC, rbf_ocsvm\n",
      "[2021-06-13 07:58:26,376][INFO][occ.py:194] Complete to validate the OCC, rbf_ocsvm\n",
      "[2021-06-13 07:58:26,416][INFO][callback.py:16] Save checkpoint, Epoch : 67\n"
     ]
    },
    {
     "name": "stdout",
     "output_type": "stream",
     "text": [
      "AUC : 75.6887424596739\n",
      "[Epoch 67]\n",
      " Train - Loss : 0.3590867817401886 | Accuracy : None | Precision : None | Recall : None | F1 : None\n",
      " Val - Loss : 0.36102184653282166 | Accuracy : None | Precision : None | Recall : None | F1 : None\n",
      "Early Stopping [28/30] - Best Epoch : 39 | Best Score : 76.38883209228516\n"
     ]
    },
    {
     "data": {
      "application/vnd.jupyter.widget-view+json": {
       "model_id": "",
       "version_major": 2,
       "version_minor": 0
      },
      "text/plain": [
       "Validating: 0it [00:00, ?it/s]"
      ]
     },
     "metadata": {},
     "output_type": "display_data"
    },
    {
     "name": "stderr",
     "output_type": "stream",
     "text": [
      "/workspace/Project/2021_AI_security/model/cae_conv_mse.py:243: UserWarning: Implicit dimension choice for softmax has been deprecated. Change the call to include dim=X as an argument.\n",
      "  prob_batch = F.softmax(input=x_id_hat_batch)\n",
      "[2021-06-13 07:58:47,737][INFO][occ.py:142] Start to transform training features to latent\n",
      "[2021-06-13 07:58:49,461][INFO][occ.py:157] Complete to transform training features to latent\n",
      "[2021-06-13 07:58:49,463][INFO][occ.py:159] Start to train the OCC, rbf_ocsvm\n"
     ]
    },
    {
     "name": "stdout",
     "output_type": "stream",
     "text": [
      "[LibSVM]"
     ]
    },
    {
     "name": "stderr",
     "output_type": "stream",
     "text": [
      "[2021-06-13 07:59:08,840][INFO][occ.py:161] Complete to train the OCC, rbf_ocsvm\n",
      "[2021-06-13 07:59:08,846][INFO][occ.py:168] Start to transform validation features to latent\n",
      "[2021-06-13 07:59:10,137][INFO][occ.py:189] Complete to transform validation features to latent\n",
      "[2021-06-13 07:59:10,139][INFO][occ.py:191] Start to validate the OCC, rbf_ocsvm\n",
      "[2021-06-13 07:59:19,861][INFO][occ.py:194] Complete to validate the OCC, rbf_ocsvm\n",
      "[2021-06-13 07:59:19,898][INFO][callback.py:16] Save checkpoint, Epoch : 68\n"
     ]
    },
    {
     "name": "stdout",
     "output_type": "stream",
     "text": [
      "AUC : 75.33314688302559\n",
      "[Epoch 68]\n",
      " Train - Loss : 0.358493447303772 | Accuracy : None | Precision : None | Recall : None | F1 : None\n",
      " Val - Loss : 0.3595685362815857 | Accuracy : None | Precision : None | Recall : None | F1 : None\n",
      "Early Stopping [29/30] - Best Epoch : 39 | Best Score : 76.38883209228516\n"
     ]
    },
    {
     "data": {
      "application/vnd.jupyter.widget-view+json": {
       "model_id": "",
       "version_major": 2,
       "version_minor": 0
      },
      "text/plain": [
       "Validating: 0it [00:00, ?it/s]"
      ]
     },
     "metadata": {},
     "output_type": "display_data"
    },
    {
     "name": "stderr",
     "output_type": "stream",
     "text": [
      "/workspace/Project/2021_AI_security/model/cae_conv_mse.py:243: UserWarning: Implicit dimension choice for softmax has been deprecated. Change the call to include dim=X as an argument.\n",
      "  prob_batch = F.softmax(input=x_id_hat_batch)\n",
      "[2021-06-13 07:59:39,511][INFO][occ.py:142] Start to transform training features to latent\n",
      "[2021-06-13 07:59:41,658][INFO][occ.py:157] Complete to transform training features to latent\n",
      "[2021-06-13 07:59:41,664][INFO][occ.py:159] Start to train the OCC, rbf_ocsvm\n"
     ]
    },
    {
     "name": "stdout",
     "output_type": "stream",
     "text": [
      "[LibSVM]"
     ]
    },
    {
     "name": "stderr",
     "output_type": "stream",
     "text": [
      "[2021-06-13 08:00:00,302][INFO][occ.py:161] Complete to train the OCC, rbf_ocsvm\n",
      "[2021-06-13 08:00:00,306][INFO][occ.py:168] Start to transform validation features to latent\n",
      "[2021-06-13 08:00:01,554][INFO][occ.py:189] Complete to transform validation features to latent\n",
      "[2021-06-13 08:00:01,555][INFO][occ.py:191] Start to validate the OCC, rbf_ocsvm\n",
      "[2021-06-13 08:00:11,270][INFO][occ.py:194] Complete to validate the OCC, rbf_ocsvm\n",
      "[2021-06-13 08:00:11,301][INFO][callback.py:16] Save checkpoint, Epoch : 69\n",
      "[2021-06-13 08:00:11,319][INFO][callback.py:45] Finished the training.\n"
     ]
    },
    {
     "name": "stdout",
     "output_type": "stream",
     "text": [
      "AUC : 75.57536765550415\n",
      "[Epoch 69]\n",
      " Train - Loss : 0.3583623468875885 | Accuracy : None | Precision : None | Recall : None | F1 : None\n",
      " Val - Loss : 0.3617810606956482 | Accuracy : None | Precision : None | Recall : None | F1 : None\n",
      "Early Stopping [30/30] - Best Epoch : 39 | Best Score : 76.38883209228516\n"
     ]
    }
   ],
   "source": [
    "# metrics on_epoch\n",
    "# Training & Validation\n",
    "if stage == \"fit\":\n",
    "    trainer.fit(model=model, datamodule=datamodule)\n",
    "#     trainer.fit(model=model, train_dataloader=train_loader, val_dataloaders=val_loader)\n",
    "#     trainer.fit(model=model)"
   ]
  },
  {
   "cell_type": "markdown",
   "metadata": {},
   "source": [
    "## Reproduction"
   ]
  },
  {
   "cell_type": "code",
   "execution_count": null,
   "metadata": {},
   "outputs": [],
   "source": [
    "# print(model.model_file_metadata.current_version_checkpoints_dir_path(is_absolute_path=True))\n",
    "best_model = model.load_checkpoint(epoch=54, version=\"202106040450\")\n",
    "best_model"
   ]
  }
 ],
 "metadata": {
  "kernelspec": {
   "display_name": "Python 3",
   "language": "python",
   "name": "python3"
  },
  "language_info": {
   "codemirror_mode": {
    "name": "ipython",
    "version": 3
   },
   "file_extension": ".py",
   "mimetype": "text/x-python",
   "name": "python",
   "nbconvert_exporter": "python",
   "pygments_lexer": "ipython3",
   "version": "3.9.5"
  }
 },
 "nbformat": 4,
 "nbformat_minor": 4
}
