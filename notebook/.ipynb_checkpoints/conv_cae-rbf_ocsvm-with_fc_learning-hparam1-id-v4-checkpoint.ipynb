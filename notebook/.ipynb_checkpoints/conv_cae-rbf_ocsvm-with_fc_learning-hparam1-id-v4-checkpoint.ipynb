{
 "cells": [
  {
   "cell_type": "markdown",
   "metadata": {},
   "source": [
    "# [ CAE - RBF OCSVM ]\n",
    "202106111430"
   ]
  },
  {
   "cell_type": "markdown",
   "metadata": {},
   "source": [
    "210608 Loss-1  \n",
    "- Center orthogonal  \n",
    "||center|| == 1 추가"
   ]
  },
  {
   "cell_type": "markdown",
   "metadata": {},
   "source": [
    "### System Configuration"
   ]
  },
  {
   "cell_type": "code",
   "execution_count": 1,
   "metadata": {
    "scrolled": true
   },
   "outputs": [
    {
     "name": "stderr",
     "output_type": "stream",
     "text": [
      "Global seed set to 777\n",
      "[2021-06-11 14:30:56,710][INFO][properties.py:22] Complete to apply the random seed, RANDOM_SEED : 777\n"
     ]
    }
   ],
   "source": [
    "import os\n",
    "import pathlib\n",
    "import sys\n",
    "\n",
    "default_dir_path = str(pathlib.Path(os.getcwd()).parent.absolute())\n",
    "\n",
    "sys.path.append(default_dir_path)\n",
    "\n",
    "from properties import *"
   ]
  },
  {
   "cell_type": "markdown",
   "metadata": {},
   "source": [
    "---"
   ]
  },
  {
   "cell_type": "code",
   "execution_count": 2,
   "metadata": {},
   "outputs": [],
   "source": [
    "from pathlib import Path"
   ]
  },
  {
   "cell_type": "code",
   "execution_count": 3,
   "metadata": {},
   "outputs": [],
   "source": [
    "from config.factory import HyperparameterFactory\n",
    "from dataset.factory import DataModuleFactory\n",
    "from domain.metadata import ModelMetadata\n",
    "from logger import logger\n",
    "from model.factory import ModelFactory\n",
    "from trainer.base import TrainerBase"
   ]
  },
  {
   "cell_type": "code",
   "execution_count": 4,
   "metadata": {},
   "outputs": [],
   "source": [
    "model_name = \"conv_cae_id\"\n",
    "data_name = \"mnist\"\n",
    "stage = \"fit\"\n",
    "tqdm_env = \"notebook\""
   ]
  },
  {
   "cell_type": "code",
   "execution_count": 5,
   "metadata": {},
   "outputs": [],
   "source": [
    "model_metadata = ModelMetadata(model_name=model_name, information=None)"
   ]
  },
  {
   "cell_type": "code",
   "execution_count": 6,
   "metadata": {},
   "outputs": [
    {
     "name": "stderr",
     "output_type": "stream",
     "text": [
      "[2021-06-11 14:30:57,452][INFO][factory.py:69] Selected datamodule arguments (MNIST-datamodule.yaml) : \n",
      "\"data_dir\":          auto\n",
      "\"datamodule_params\": \"batch_size\":  32\n",
      "\"num_workers\": 8\n",
      "\"pin_memory\":  True\n",
      "\"hparams\":           \"test_ood_targets\":  [6, 8, 9]\n",
      "\"train_id_targets\":  [1, 3, 5, 7]\n",
      "\"train_ood_targets\": [0, 2, 4]\n",
      "\"train_val_ratio\":   0.8\n",
      "[2021-06-11 14:30:57,453][INFO][factory.py:71] Selected trainer arguments (ConvCAE_id-trainer.yaml) : \n",
      "\"accelerator\": dp\n",
      "\"callbacks\":   \"early_stopping_callback\":   \"mode\":     max\n",
      "\"monitor\":  auc\n",
      "\"patience\": 40\n",
      "\"strict\":   True\n",
      "\"model_checkpoint_callback\": \"dirpath\":    auto\n",
      "\"mode\":       max\n",
      "\"monitor\":    auc\n",
      "\"save_last\":  True\n",
      "\"save_top_k\": 5\n",
      "\"status_listener_callback\":  True\n",
      "\"gpus\":        1\n",
      "\"hparams\":     \"key\": value\n",
      "\"logger\":      tensor_board_logger\n",
      "\"max_epochs\":  300\n",
      "[2021-06-11 14:30:57,454][INFO][factory.py:73] Selected model arguments (ConvCAE_id.yaml) : \n",
      "\"T_0\":          10\n",
      "\"hidden_dim\":   128\n",
      "\"hparams\":      \"conv_out_kernel_size\": 3\n",
      "\"conv_out_size\":        32\n",
      "\"d_in\":                 0.1\n",
      "\"d_out\":                1\n",
      "\"input_size\":           784\n",
      "\"is_latent_save\":       False\n",
      "\"lambda_cent\":          1\n",
      "\"lambda_out\":           1\n",
      "\"lambda_tc\":            1\n",
      "\"num_classes\":          10\n",
      "\"num_latent\":           16\n",
      "\"occ\":                  rbf_ocsvm\n",
      "\"lr\":           0.01\n",
      "\"lr_scheduler\": none\n",
      "\"optimizer\":    adam\n"
     ]
    }
   ],
   "source": [
    "# Arguments controller\n",
    "hyperparameter_factory = HyperparameterFactory.create(data_name=data_name, model_name=model_name)\n",
    "datamodule_params = hyperparameter_factory.datamodule_params\n",
    "trainer_params = hyperparameter_factory.trainer_params\n",
    "model_params = hyperparameter_factory.model_params"
   ]
  },
  {
   "cell_type": "code",
   "execution_count": 7,
   "metadata": {},
   "outputs": [],
   "source": [
    "# DataModule controller\n",
    "datamodule = DataModuleFactory.create(data_name=data_name)\n",
    "datamodule = datamodule(**datamodule_params)\n",
    "\n",
    "datamodule.prepare_data()\n",
    "datamodule.setup(stage=stage)\n",
    "\n",
    "datamodule.train_dataloader()\n",
    "\n",
    "train_loader = datamodule.train_dataloader()\n",
    "val_loader = datamodule.val_dataloader()\n",
    "test_loader = datamodule.test_dataloader()\n",
    "# train_id_dataloader = datamodule.train_id_dataloader()\n",
    "# train_ood_dataloader = datamodule.train_ood_dataloader()\n",
    "# val_id_dataloader = datamodule.val_id_dataloader()\n",
    "# val_ood_dataloader = datamodule.val_ood_dataloader()\n",
    "# test_dataloader = datamodule.test_dataloader()"
   ]
  },
  {
   "cell_type": "code",
   "execution_count": 8,
   "metadata": {},
   "outputs": [],
   "source": [
    "# del model_params.lr\n",
    "# model_params"
   ]
  },
  {
   "cell_type": "code",
   "execution_count": 9,
   "metadata": {},
   "outputs": [
    {
     "name": "stdout",
     "output_type": "stream",
     "text": [
      "1\n"
     ]
    },
    {
     "data": {
      "image/png": "[encoded data removed]",
      "text/plain": [
       "<Figure size 432x288 with 1 Axes>"
      ]
     },
     "metadata": {
      "needs_background": "light"
     },
     "output_type": "display_data"
    }
   ],
   "source": [
    "import matplotlib.pyplot as plt\n",
    "\n",
    "data = datamodule.train_id_dataset[5]\n",
    "\n",
    "print(data[1])\n",
    "plt.imshow(data[0].numpy().squeeze())\n",
    "plt.show()"
   ]
  },
  {
   "cell_type": "code",
   "execution_count": 10,
   "metadata": {},
   "outputs": [
    {
     "name": "stderr",
     "output_type": "stream",
     "text": [
      "/opt/conda/lib/python3.7/site-packages/torchmetrics/utilities/prints.py:36: UserWarning: Metric `AUROC` will save all targets and predictions in buffer. For large datasets this may lead to large memory footprint.\n",
      "  warnings.warn(*args, **kwargs)\n"
     ]
    }
   ],
   "source": [
    "# Model controller\n",
    "model = ModelFactory.create(model_name=model_name, model_metadata=model_metadata, model_params=model_params)\n",
    "# model.latent_dir_path = os.path.join(trainer.model_metadata.model_file_metadata.model_current_version_dir_path, \"latent\")\n",
    "# Path(model.latent_dir_path).mkdir(parents=True, exist_ok=True)\n",
    "\n",
    "# model.checkpoints_period = 5\n",
    "\n",
    "\n",
    "# model.train_id_dataloader = train_id_dataloader\n",
    "# model.train_ood_dataloader = train_ood_dataloader\n",
    "# model.val_id_dataloader = val_id_dataloader\n",
    "# model.val_ood_dataloader = val_ood_dataloader\n",
    "# model.test_dataloader = test_dataloader"
   ]
  },
  {
   "cell_type": "code",
   "execution_count": 11,
   "metadata": {
    "scrolled": true
   },
   "outputs": [
    {
     "name": "stderr",
     "output_type": "stream",
     "text": [
      "GPU available: True, used: True\n",
      "TPU available: False, using: 0 TPU cores\n"
     ]
    }
   ],
   "source": [
    "# Trainer controller\n",
    "trainer = TrainerBase(model_metadata=model_metadata, model=model, **trainer_params)"
   ]
  },
  {
   "cell_type": "code",
   "execution_count": 12,
   "metadata": {},
   "outputs": [
    {
     "data": {
      "text/plain": [
       "\"accelerator\": dp\n",
       "\"callbacks\":   \"early_stopping_callback\":   \"mode\":     max\n",
       "\"monitor\":  auc\n",
       "\"patience\": 40\n",
       "\"strict\":   True\n",
       "\"model_checkpoint_callback\": \"dirpath\":    auto\n",
       "\"mode\":       max\n",
       "\"monitor\":    auc\n",
       "\"save_last\":  True\n",
       "\"save_top_k\": 5\n",
       "\"status_listener_callback\":  True\n",
       "\"gpus\":        1\n",
       "\"hparams\":     \"key\": value\n",
       "\"logger\":      tensor_board_logger\n",
       "\"max_epochs\":  300"
      ]
     },
     "execution_count": 12,
     "metadata": {},
     "output_type": "execute_result"
    }
   ],
   "source": [
    "trainer.arg"
   ]
  },
  {
   "cell_type": "code",
   "execution_count": 13,
   "metadata": {
    "scrolled": true
   },
   "outputs": [],
   "source": [
    "# # Find the optimal learning rate\n",
    "# if trainer.is_auto_lr_find:\n",
    "#     trainer.lr_find(model=model, train_loader=train_loader, val_loader=val_loader)#안녕"
   ]
  },
  {
   "cell_type": "code",
   "execution_count": null,
   "metadata": {
    "scrolled": true
   },
   "outputs": [
    {
     "name": "stderr",
     "output_type": "stream",
     "text": [
      "LOCAL_RANK: 0 - CUDA_VISIBLE_DEVICES: [0,1,2,3,4,5,6,7]\n",
      "[2021-06-11 14:31:07,333][DEBUG][metadata.py:144] Create current version 202106111430, Path : /workspace/Project/2021_AI_security/model/results/conv_cae_id/202106111430\n",
      "\n",
      "   | Name                 | Type       | Params\n",
      "-----------------------------------------------------\n",
      "0  | train_acc            | Accuracy   | 0     \n",
      "1  | train_precision      | Precision  | 0     \n",
      "2  | train_recall         | Recall     | 0     \n",
      "3  | train_f1             | F1         | 0     \n",
      "4  | train_auc            | AUROC      | 0     \n",
      "5  | validation_acc       | Accuracy   | 0     \n",
      "6  | validation_precision | Precision  | 0     \n",
      "7  | validation_recall    | Recall     | 0     \n",
      "8  | validation_f1        | F1         | 0     \n",
      "9  | test_acc             | Accuracy   | 0     \n",
      "10 | test_precision       | Precision  | 0     \n",
      "11 | test_recall          | Recall     | 0     \n",
      "12 | test_f1              | F1         | 0     \n",
      "13 | model_loss_function  | CAELoss    | 160   \n",
      "14 | encoder_1            | Sequential | 1.3 K \n",
      "15 | fc_in                | Sequential | 528   \n",
      "16 | fc_out               | Sequential | 544   \n",
      "17 | decoder_1            | Sequential | 4.4 K \n",
      "-----------------------------------------------------\n",
      "7.0 K     Trainable params\n",
      "0         Non-trainable params\n",
      "7.0 K     Total params\n",
      "0.028     Total estimated model params size (MB)\n"
     ]
    },
    {
     "data": {
      "application/vnd.jupyter.widget-view+json": {
       "model_id": "",
       "version_major": 2,
       "version_minor": 0
      },
      "text/plain": [
       "Validation sanity check: 0it [00:00, ?it/s]"
      ]
     },
     "metadata": {},
     "output_type": "display_data"
    },
    {
     "name": "stderr",
     "output_type": "stream",
     "text": [
      "/workspace/Project/2021_AI_security/model/cae_conv_id.py:293: UserWarning: Implicit dimension choice for softmax has been deprecated. Change the call to include dim=X as an argument.\n",
      "  prob_batch = F.softmax(input=x_id_hat_batch)\n",
      "[2021-06-11 14:31:08,783][INFO][occ.py:142] Start to transform training features to latent\n",
      "[2021-06-11 14:31:10,906][INFO][occ.py:157] Complete to transform training features to latent\n",
      "[2021-06-11 14:31:10,907][INFO][occ.py:159] Start to train the OCC, rbf_ocsvm\n"
     ]
    },
    {
     "name": "stdout",
     "output_type": "stream",
     "text": [
      "[LibSVM]"
     ]
    },
    {
     "name": "stderr",
     "output_type": "stream",
     "text": [
      "[2021-06-11 14:31:33,730][INFO][occ.py:161] Complete to train the OCC, rbf_ocsvm\n",
      "[2021-06-11 14:31:33,732][INFO][occ.py:168] Start to transform validation features to latent\n",
      "[2021-06-11 14:31:35,099][INFO][occ.py:189] Complete to transform validation features to latent\n",
      "[2021-06-11 14:31:35,101][INFO][occ.py:191] Start to validate the OCC, rbf_ocsvm\n",
      "[2021-06-11 14:31:45,831][INFO][occ.py:194] Complete to validate the OCC, rbf_ocsvm\n",
      "Global seed set to 777\n",
      "[2021-06-11 14:31:45,864][INFO][callback.py:41] Start to train ...\n"
     ]
    },
    {
     "name": "stdout",
     "output_type": "stream",
     "text": [
      "AUC : 66.57599132604072\n",
      "[Epoch 0]\n",
      " Train - Loss : None | Accuracy : None | Precision : None | Recall : None | F1 : None\n",
      " Val - Loss : 3.748227596282959 | Accuracy : None | Precision : None | Recall : None | F1 : None\n",
      "Early Stopping [0/40] - Best Epoch : 0 | Best Score : -inf\n"
     ]
    },
    {
     "data": {
      "application/vnd.jupyter.widget-view+json": {
       "model_id": "0c62aa0600cd43d8bb23064bc6d3e2f7",
       "version_major": 2,
       "version_minor": 0
      },
      "text/plain": [
       "Training: 0it [00:00, ?it/s]"
      ]
     },
     "metadata": {},
     "output_type": "display_data"
    },
    {
     "data": {
      "application/vnd.jupyter.widget-view+json": {
       "model_id": "",
       "version_major": 2,
       "version_minor": 0
      },
      "text/plain": [
       "Validating: 0it [00:00, ?it/s]"
      ]
     },
     "metadata": {},
     "output_type": "display_data"
    },
    {
     "name": "stderr",
     "output_type": "stream",
     "text": [
      "/workspace/Project/2021_AI_security/model/cae_conv_id.py:293: UserWarning: Implicit dimension choice for softmax has been deprecated. Change the call to include dim=X as an argument.\n",
      "  prob_batch = F.softmax(input=x_id_hat_batch)\n",
      "[2021-06-11 14:32:56,018][INFO][occ.py:142] Start to transform training features to latent\n",
      "[2021-06-11 14:32:58,160][INFO][occ.py:157] Complete to transform training features to latent\n",
      "[2021-06-11 14:32:58,162][INFO][occ.py:159] Start to train the OCC, rbf_ocsvm\n"
     ]
    },
    {
     "name": "stdout",
     "output_type": "stream",
     "text": [
      "[LibSVM]"
     ]
    },
    {
     "name": "stderr",
     "output_type": "stream",
     "text": [
      "[2021-06-11 14:33:19,594][INFO][occ.py:161] Complete to train the OCC, rbf_ocsvm\n",
      "[2021-06-11 14:33:19,596][INFO][occ.py:168] Start to transform validation features to latent\n",
      "[2021-06-11 14:33:20,914][INFO][occ.py:189] Complete to transform validation features to latent\n",
      "[2021-06-11 14:33:20,915][INFO][occ.py:191] Start to validate the OCC, rbf_ocsvm\n",
      "[2021-06-11 14:33:32,410][INFO][occ.py:194] Complete to validate the OCC, rbf_ocsvm\n",
      "[2021-06-11 14:33:32,446][INFO][callback.py:16] Save checkpoint, Epoch : 0\n",
      "[2021-06-11 14:33:32,452][INFO][callback.py:16] Save checkpoint, Epoch : 0\n"
     ]
    },
    {
     "name": "stdout",
     "output_type": "stream",
     "text": [
      "AUC : 62.01831500990062\n",
      "[Epoch 0]\n",
      " Train - Loss : 0.9855133295059204 | Accuracy : None | Precision : None | Recall : None | F1 : None\n",
      " Val - Loss : 0.9081082940101624 | Accuracy : None | Precision : None | Recall : None | F1 : None\n",
      "Early Stopping [0/40] - Best Epoch : 0 | Best Score : 62.018314361572266\n"
     ]
    },
    {
     "data": {
      "application/vnd.jupyter.widget-view+json": {
       "model_id": "",
       "version_major": 2,
       "version_minor": 0
      },
      "text/plain": [
       "Validating: 0it [00:00, ?it/s]"
      ]
     },
     "metadata": {},
     "output_type": "display_data"
    },
    {
     "name": "stderr",
     "output_type": "stream",
     "text": [
      "/workspace/Project/2021_AI_security/model/cae_conv_id.py:293: UserWarning: Implicit dimension choice for softmax has been deprecated. Change the call to include dim=X as an argument.\n",
      "  prob_batch = F.softmax(input=x_id_hat_batch)\n",
      "[2021-06-11 14:34:48,048][INFO][occ.py:142] Start to transform training features to latent\n",
      "[2021-06-11 14:34:50,128][INFO][occ.py:157] Complete to transform training features to latent\n",
      "[2021-06-11 14:34:50,130][INFO][occ.py:159] Start to train the OCC, rbf_ocsvm\n"
     ]
    },
    {
     "name": "stdout",
     "output_type": "stream",
     "text": [
      "[LibSVM]"
     ]
    },
    {
     "name": "stderr",
     "output_type": "stream",
     "text": [
      "[2021-06-11 14:35:12,247][INFO][occ.py:161] Complete to train the OCC, rbf_ocsvm\n",
      "[2021-06-11 14:35:12,249][INFO][occ.py:168] Start to transform validation features to latent\n",
      "[2021-06-11 14:35:13,636][INFO][occ.py:189] Complete to transform validation features to latent\n",
      "[2021-06-11 14:35:13,637][INFO][occ.py:191] Start to validate the OCC, rbf_ocsvm\n",
      "[2021-06-11 14:35:25,174][INFO][occ.py:194] Complete to validate the OCC, rbf_ocsvm\n",
      "[2021-06-11 14:35:25,215][INFO][callback.py:16] Save checkpoint, Epoch : 1\n",
      "[2021-06-11 14:35:25,222][INFO][callback.py:16] Save checkpoint, Epoch : 1\n"
     ]
    },
    {
     "name": "stdout",
     "output_type": "stream",
     "text": [
      "AUC : 64.81264041201307\n",
      "[Epoch 1]\n",
      " Train - Loss : 0.903360903263092 | Accuracy : None | Precision : None | Recall : None | F1 : None\n",
      " Val - Loss : 0.9445387125015259 | Accuracy : None | Precision : None | Recall : None | F1 : None\n",
      "Early Stopping [0/40] - Best Epoch : 1 | Best Score : 64.81263732910156\n"
     ]
    },
    {
     "data": {
      "application/vnd.jupyter.widget-view+json": {
       "model_id": "",
       "version_major": 2,
       "version_minor": 0
      },
      "text/plain": [
       "Validating: 0it [00:00, ?it/s]"
      ]
     },
     "metadata": {},
     "output_type": "display_data"
    },
    {
     "name": "stderr",
     "output_type": "stream",
     "text": [
      "/workspace/Project/2021_AI_security/model/cae_conv_id.py:293: UserWarning: Implicit dimension choice for softmax has been deprecated. Change the call to include dim=X as an argument.\n",
      "  prob_batch = F.softmax(input=x_id_hat_batch)\n",
      "[2021-06-11 14:36:42,715][INFO][occ.py:142] Start to transform training features to latent\n",
      "[2021-06-11 14:36:44,886][INFO][occ.py:157] Complete to transform training features to latent\n",
      "[2021-06-11 14:36:44,889][INFO][occ.py:159] Start to train the OCC, rbf_ocsvm\n"
     ]
    },
    {
     "name": "stdout",
     "output_type": "stream",
     "text": [
      "[LibSVM]"
     ]
    },
    {
     "name": "stderr",
     "output_type": "stream",
     "text": [
      "[2021-06-11 14:37:06,797][INFO][occ.py:161] Complete to train the OCC, rbf_ocsvm\n",
      "[2021-06-11 14:37:06,800][INFO][occ.py:168] Start to transform validation features to latent\n",
      "[2021-06-11 14:37:08,157][INFO][occ.py:189] Complete to transform validation features to latent\n",
      "[2021-06-11 14:37:08,158][INFO][occ.py:191] Start to validate the OCC, rbf_ocsvm\n",
      "[2021-06-11 14:37:19,185][INFO][occ.py:194] Complete to validate the OCC, rbf_ocsvm\n",
      "[2021-06-11 14:37:19,221][INFO][callback.py:16] Save checkpoint, Epoch : 2\n",
      "[2021-06-11 14:37:19,226][INFO][callback.py:16] Save checkpoint, Epoch : 2\n"
     ]
    },
    {
     "name": "stdout",
     "output_type": "stream",
     "text": [
      "AUC : 64.91508088191378\n",
      "[Epoch 2]\n",
      " Train - Loss : 0.897674024105072 | Accuracy : None | Precision : None | Recall : None | F1 : None\n",
      " Val - Loss : 0.8574906587600708 | Accuracy : None | Precision : None | Recall : None | F1 : None\n",
      "Early Stopping [0/40] - Best Epoch : 2 | Best Score : 64.91507720947266\n"
     ]
    },
    {
     "data": {
      "application/vnd.jupyter.widget-view+json": {
       "model_id": "",
       "version_major": 2,
       "version_minor": 0
      },
      "text/plain": [
       "Validating: 0it [00:00, ?it/s]"
      ]
     },
     "metadata": {},
     "output_type": "display_data"
    },
    {
     "name": "stderr",
     "output_type": "stream",
     "text": [
      "/workspace/Project/2021_AI_security/model/cae_conv_id.py:293: UserWarning: Implicit dimension choice for softmax has been deprecated. Change the call to include dim=X as an argument.\n",
      "  prob_batch = F.softmax(input=x_id_hat_batch)\n",
      "[2021-06-11 14:38:36,155][INFO][occ.py:142] Start to transform training features to latent\n",
      "[2021-06-11 14:38:38,253][INFO][occ.py:157] Complete to transform training features to latent\n",
      "[2021-06-11 14:38:38,255][INFO][occ.py:159] Start to train the OCC, rbf_ocsvm\n"
     ]
    },
    {
     "name": "stdout",
     "output_type": "stream",
     "text": [
      "[LibSVM]"
     ]
    },
    {
     "name": "stderr",
     "output_type": "stream",
     "text": [
      "[2021-06-11 14:39:00,240][INFO][occ.py:161] Complete to train the OCC, rbf_ocsvm\n",
      "[2021-06-11 14:39:00,242][INFO][occ.py:168] Start to transform validation features to latent\n",
      "[2021-06-11 14:39:01,595][INFO][occ.py:189] Complete to transform validation features to latent\n",
      "[2021-06-11 14:39:01,596][INFO][occ.py:191] Start to validate the OCC, rbf_ocsvm\n",
      "[2021-06-11 14:39:12,690][INFO][occ.py:194] Complete to validate the OCC, rbf_ocsvm\n",
      "[2021-06-11 14:39:12,731][INFO][callback.py:16] Save checkpoint, Epoch : 3\n",
      "[2021-06-11 14:39:12,736][INFO][callback.py:16] Save checkpoint, Epoch : 3\n"
     ]
    },
    {
     "name": "stdout",
     "output_type": "stream",
     "text": [
      "AUC : 63.85588042065026\n",
      "[Epoch 3]\n",
      " Train - Loss : 0.8924819231033325 | Accuracy : None | Precision : None | Recall : None | F1 : None\n",
      " Val - Loss : 0.891887366771698 | Accuracy : None | Precision : None | Recall : None | F1 : None\n",
      "Early Stopping [1/40] - Best Epoch : 2 | Best Score : 64.91507720947266\n"
     ]
    },
    {
     "data": {
      "application/vnd.jupyter.widget-view+json": {
       "model_id": "",
       "version_major": 2,
       "version_minor": 0
      },
      "text/plain": [
       "Validating: 0it [00:00, ?it/s]"
      ]
     },
     "metadata": {},
     "output_type": "display_data"
    },
    {
     "name": "stderr",
     "output_type": "stream",
     "text": [
      "/workspace/Project/2021_AI_security/model/cae_conv_id.py:293: UserWarning: Implicit dimension choice for softmax has been deprecated. Change the call to include dim=X as an argument.\n",
      "  prob_batch = F.softmax(input=x_id_hat_batch)\n",
      "[2021-06-11 14:40:32,590][INFO][occ.py:142] Start to transform training features to latent\n",
      "[2021-06-11 14:40:34,654][INFO][occ.py:157] Complete to transform training features to latent\n",
      "[2021-06-11 14:40:34,656][INFO][occ.py:159] Start to train the OCC, rbf_ocsvm\n"
     ]
    },
    {
     "name": "stdout",
     "output_type": "stream",
     "text": [
      "[LibSVM]"
     ]
    },
    {
     "name": "stderr",
     "output_type": "stream",
     "text": [
      "[2021-06-11 14:40:56,659][INFO][occ.py:161] Complete to train the OCC, rbf_ocsvm\n",
      "[2021-06-11 14:40:56,661][INFO][occ.py:168] Start to transform validation features to latent\n",
      "[2021-06-11 14:40:58,010][INFO][occ.py:189] Complete to transform validation features to latent\n",
      "[2021-06-11 14:40:58,012][INFO][occ.py:191] Start to validate the OCC, rbf_ocsvm\n",
      "[2021-06-11 14:41:08,892][INFO][occ.py:194] Complete to validate the OCC, rbf_ocsvm\n",
      "[2021-06-11 14:41:08,919][INFO][callback.py:16] Save checkpoint, Epoch : 4\n",
      "[2021-06-11 14:41:08,926][INFO][callback.py:16] Save checkpoint, Epoch : 4\n"
     ]
    },
    {
     "name": "stdout",
     "output_type": "stream",
     "text": [
      "AUC : 64.24503130986893\n",
      "[Epoch 4]\n",
      " Train - Loss : 0.8714538216590881 | Accuracy : None | Precision : None | Recall : None | F1 : None\n",
      " Val - Loss : 0.8574514985084534 | Accuracy : None | Precision : None | Recall : None | F1 : None\n",
      "Early Stopping [2/40] - Best Epoch : 2 | Best Score : 64.91507720947266\n"
     ]
    },
    {
     "data": {
      "application/vnd.jupyter.widget-view+json": {
       "model_id": "",
       "version_major": 2,
       "version_minor": 0
      },
      "text/plain": [
       "Validating: 0it [00:00, ?it/s]"
      ]
     },
     "metadata": {},
     "output_type": "display_data"
    },
    {
     "name": "stderr",
     "output_type": "stream",
     "text": [
      "/workspace/Project/2021_AI_security/model/cae_conv_id.py:293: UserWarning: Implicit dimension choice for softmax has been deprecated. Change the call to include dim=X as an argument.\n",
      "  prob_batch = F.softmax(input=x_id_hat_batch)\n",
      "[2021-06-11 14:42:28,625][INFO][occ.py:142] Start to transform training features to latent\n",
      "[2021-06-11 14:42:30,668][INFO][occ.py:157] Complete to transform training features to latent\n",
      "[2021-06-11 14:42:30,670][INFO][occ.py:159] Start to train the OCC, rbf_ocsvm\n"
     ]
    },
    {
     "name": "stdout",
     "output_type": "stream",
     "text": [
      "[LibSVM]"
     ]
    },
    {
     "name": "stderr",
     "output_type": "stream",
     "text": [
      "[2021-06-11 14:42:52,321][INFO][occ.py:161] Complete to train the OCC, rbf_ocsvm\n",
      "[2021-06-11 14:42:52,323][INFO][occ.py:168] Start to transform validation features to latent\n",
      "[2021-06-11 14:42:53,685][INFO][occ.py:189] Complete to transform validation features to latent\n",
      "[2021-06-11 14:42:53,686][INFO][occ.py:191] Start to validate the OCC, rbf_ocsvm\n",
      "[2021-06-11 14:43:04,941][INFO][occ.py:194] Complete to validate the OCC, rbf_ocsvm\n",
      "[2021-06-11 14:43:04,978][INFO][callback.py:16] Save checkpoint, Epoch : 5\n",
      "[2021-06-11 14:43:04,986][INFO][callback.py:16] Save checkpoint, Epoch : 5\n"
     ]
    },
    {
     "name": "stdout",
     "output_type": "stream",
     "text": [
      "AUC : 64.61453600290356\n",
      "[Epoch 5]\n",
      " Train - Loss : 0.8636599779129028 | Accuracy : None | Precision : None | Recall : None | F1 : None\n",
      " Val - Loss : 0.870390772819519 | Accuracy : None | Precision : None | Recall : None | F1 : None\n",
      "Early Stopping [3/40] - Best Epoch : 2 | Best Score : 64.91507720947266\n"
     ]
    },
    {
     "data": {
      "application/vnd.jupyter.widget-view+json": {
       "model_id": "",
       "version_major": 2,
       "version_minor": 0
      },
      "text/plain": [
       "Validating: 0it [00:00, ?it/s]"
      ]
     },
     "metadata": {},
     "output_type": "display_data"
    },
    {
     "name": "stderr",
     "output_type": "stream",
     "text": [
      "/workspace/Project/2021_AI_security/model/cae_conv_id.py:293: UserWarning: Implicit dimension choice for softmax has been deprecated. Change the call to include dim=X as an argument.\n",
      "  prob_batch = F.softmax(input=x_id_hat_batch)\n",
      "[2021-06-11 14:44:22,890][INFO][occ.py:142] Start to transform training features to latent\n",
      "[2021-06-11 14:44:25,095][INFO][occ.py:157] Complete to transform training features to latent\n",
      "[2021-06-11 14:44:25,097][INFO][occ.py:159] Start to train the OCC, rbf_ocsvm\n"
     ]
    },
    {
     "name": "stdout",
     "output_type": "stream",
     "text": [
      "[LibSVM]"
     ]
    },
    {
     "name": "stderr",
     "output_type": "stream",
     "text": [
      "[2021-06-11 14:44:46,873][INFO][occ.py:161] Complete to train the OCC, rbf_ocsvm\n",
      "[2021-06-11 14:44:46,874][INFO][occ.py:168] Start to transform validation features to latent\n",
      "[2021-06-11 14:44:48,307][INFO][occ.py:189] Complete to transform validation features to latent\n",
      "[2021-06-11 14:44:48,308][INFO][occ.py:191] Start to validate the OCC, rbf_ocsvm\n",
      "[2021-06-11 14:44:59,147][INFO][occ.py:194] Complete to validate the OCC, rbf_ocsvm\n",
      "[2021-06-11 14:44:59,192][INFO][callback.py:16] Save checkpoint, Epoch : 6\n",
      "[2021-06-11 14:44:59,199][INFO][callback.py:16] Save checkpoint, Epoch : 6\n"
     ]
    },
    {
     "name": "stdout",
     "output_type": "stream",
     "text": [
      "AUC : 66.40894410166173\n",
      "[Epoch 6]\n",
      " Train - Loss : 0.8616936802864075 | Accuracy : None | Precision : None | Recall : None | F1 : None\n",
      " Val - Loss : 0.8645144701004028 | Accuracy : None | Precision : None | Recall : None | F1 : None\n",
      "Early Stopping [0/40] - Best Epoch : 6 | Best Score : 66.40894317626953\n"
     ]
    },
    {
     "data": {
      "application/vnd.jupyter.widget-view+json": {
       "model_id": "",
       "version_major": 2,
       "version_minor": 0
      },
      "text/plain": [
       "Validating: 0it [00:00, ?it/s]"
      ]
     },
     "metadata": {},
     "output_type": "display_data"
    },
    {
     "name": "stderr",
     "output_type": "stream",
     "text": [
      "/workspace/Project/2021_AI_security/model/cae_conv_id.py:293: UserWarning: Implicit dimension choice for softmax has been deprecated. Change the call to include dim=X as an argument.\n",
      "  prob_batch = F.softmax(input=x_id_hat_batch)\n",
      "[2021-06-11 14:46:19,230][INFO][occ.py:142] Start to transform training features to latent\n",
      "[2021-06-11 14:46:21,345][INFO][occ.py:157] Complete to transform training features to latent\n",
      "[2021-06-11 14:46:21,347][INFO][occ.py:159] Start to train the OCC, rbf_ocsvm\n"
     ]
    },
    {
     "name": "stdout",
     "output_type": "stream",
     "text": [
      "[LibSVM]"
     ]
    },
    {
     "name": "stderr",
     "output_type": "stream",
     "text": [
      "[2021-06-11 14:46:42,058][INFO][occ.py:161] Complete to train the OCC, rbf_ocsvm\n",
      "[2021-06-11 14:46:42,061][INFO][occ.py:168] Start to transform validation features to latent\n",
      "[2021-06-11 14:46:43,411][INFO][occ.py:189] Complete to transform validation features to latent\n",
      "[2021-06-11 14:46:43,413][INFO][occ.py:191] Start to validate the OCC, rbf_ocsvm\n",
      "[2021-06-11 14:46:54,356][INFO][occ.py:194] Complete to validate the OCC, rbf_ocsvm\n",
      "[2021-06-11 14:46:54,391][INFO][callback.py:16] Save checkpoint, Epoch : 7\n",
      "[2021-06-11 14:46:54,396][INFO][callback.py:16] Save checkpoint, Epoch : 7\n"
     ]
    },
    {
     "name": "stdout",
     "output_type": "stream",
     "text": [
      "AUC : 67.2741577576345\n",
      "[Epoch 7]\n",
      " Train - Loss : 0.871683657169342 | Accuracy : None | Precision : None | Recall : None | F1 : None\n",
      " Val - Loss : 0.8800215721130371 | Accuracy : None | Precision : None | Recall : None | F1 : None\n",
      "Early Stopping [0/40] - Best Epoch : 7 | Best Score : 67.27415466308594\n"
     ]
    },
    {
     "data": {
      "application/vnd.jupyter.widget-view+json": {
       "model_id": "",
       "version_major": 2,
       "version_minor": 0
      },
      "text/plain": [
       "Validating: 0it [00:00, ?it/s]"
      ]
     },
     "metadata": {},
     "output_type": "display_data"
    },
    {
     "name": "stderr",
     "output_type": "stream",
     "text": [
      "/workspace/Project/2021_AI_security/model/cae_conv_id.py:293: UserWarning: Implicit dimension choice for softmax has been deprecated. Change the call to include dim=X as an argument.\n",
      "  prob_batch = F.softmax(input=x_id_hat_batch)\n",
      "[2021-06-11 14:48:12,165][INFO][occ.py:142] Start to transform training features to latent\n",
      "[2021-06-11 14:48:14,396][INFO][occ.py:157] Complete to transform training features to latent\n",
      "[2021-06-11 14:48:14,399][INFO][occ.py:159] Start to train the OCC, rbf_ocsvm\n"
     ]
    },
    {
     "name": "stdout",
     "output_type": "stream",
     "text": [
      "[LibSVM]"
     ]
    },
    {
     "name": "stderr",
     "output_type": "stream",
     "text": [
      "[2021-06-11 14:48:34,207][INFO][occ.py:161] Complete to train the OCC, rbf_ocsvm\n",
      "[2021-06-11 14:48:34,213][INFO][occ.py:168] Start to transform validation features to latent\n",
      "[2021-06-11 14:48:35,547][INFO][occ.py:189] Complete to transform validation features to latent\n",
      "[2021-06-11 14:48:35,548][INFO][occ.py:191] Start to validate the OCC, rbf_ocsvm\n",
      "[2021-06-11 14:48:46,633][INFO][occ.py:194] Complete to validate the OCC, rbf_ocsvm\n",
      "[2021-06-11 14:48:46,672][INFO][callback.py:16] Save checkpoint, Epoch : 8\n",
      "[2021-06-11 14:48:46,679][INFO][callback.py:16] Save checkpoint, Epoch : 8\n"
     ]
    },
    {
     "name": "stdout",
     "output_type": "stream",
     "text": [
      "AUC : 68.69876253658178\n",
      "[Epoch 8]\n",
      " Train - Loss : 0.88299161195755 | Accuracy : None | Precision : None | Recall : None | F1 : None\n",
      " Val - Loss : 0.8851318359375 | Accuracy : None | Precision : None | Recall : None | F1 : None\n",
      "Early Stopping [0/40] - Best Epoch : 8 | Best Score : 68.69876098632812\n"
     ]
    },
    {
     "data": {
      "application/vnd.jupyter.widget-view+json": {
       "model_id": "",
       "version_major": 2,
       "version_minor": 0
      },
      "text/plain": [
       "Validating: 0it [00:00, ?it/s]"
      ]
     },
     "metadata": {},
     "output_type": "display_data"
    },
    {
     "name": "stderr",
     "output_type": "stream",
     "text": [
      "/workspace/Project/2021_AI_security/model/cae_conv_id.py:293: UserWarning: Implicit dimension choice for softmax has been deprecated. Change the call to include dim=X as an argument.\n",
      "  prob_batch = F.softmax(input=x_id_hat_batch)\n",
      "[2021-06-11 14:50:04,259][INFO][occ.py:142] Start to transform training features to latent\n",
      "[2021-06-11 14:50:06,473][INFO][occ.py:157] Complete to transform training features to latent\n",
      "[2021-06-11 14:50:06,475][INFO][occ.py:159] Start to train the OCC, rbf_ocsvm\n"
     ]
    },
    {
     "name": "stdout",
     "output_type": "stream",
     "text": [
      "[LibSVM]"
     ]
    },
    {
     "name": "stderr",
     "output_type": "stream",
     "text": [
      "[2021-06-11 14:50:26,354][INFO][occ.py:161] Complete to train the OCC, rbf_ocsvm\n",
      "[2021-06-11 14:50:26,357][INFO][occ.py:168] Start to transform validation features to latent\n",
      "[2021-06-11 14:50:27,606][INFO][occ.py:189] Complete to transform validation features to latent\n",
      "[2021-06-11 14:50:27,608][INFO][occ.py:191] Start to validate the OCC, rbf_ocsvm\n",
      "[2021-06-11 14:50:38,508][INFO][occ.py:194] Complete to validate the OCC, rbf_ocsvm\n",
      "[2021-06-11 14:50:38,538][INFO][callback.py:16] Save checkpoint, Epoch : 9\n",
      "[2021-06-11 14:50:38,543][INFO][callback.py:16] Save checkpoint, Epoch : 9\n"
     ]
    },
    {
     "name": "stdout",
     "output_type": "stream",
     "text": [
      "AUC : 69.06965699269053\n",
      "[Epoch 9]\n",
      " Train - Loss : 0.8940002918243408 | Accuracy : None | Precision : None | Recall : None | F1 : None\n",
      " Val - Loss : 0.8869685530662537 | Accuracy : None | Precision : None | Recall : None | F1 : None\n",
      "Early Stopping [0/40] - Best Epoch : 9 | Best Score : 69.06965637207031\n"
     ]
    },
    {
     "data": {
      "application/vnd.jupyter.widget-view+json": {
       "model_id": "",
       "version_major": 2,
       "version_minor": 0
      },
      "text/plain": [
       "Validating: 0it [00:00, ?it/s]"
      ]
     },
     "metadata": {},
     "output_type": "display_data"
    },
    {
     "name": "stderr",
     "output_type": "stream",
     "text": [
      "/workspace/Project/2021_AI_security/model/cae_conv_id.py:293: UserWarning: Implicit dimension choice for softmax has been deprecated. Change the call to include dim=X as an argument.\n",
      "  prob_batch = F.softmax(input=x_id_hat_batch)\n",
      "[2021-06-11 14:51:53,774][INFO][occ.py:142] Start to transform training features to latent\n",
      "[2021-06-11 14:51:55,894][INFO][occ.py:157] Complete to transform training features to latent\n",
      "[2021-06-11 14:51:55,896][INFO][occ.py:159] Start to train the OCC, rbf_ocsvm\n"
     ]
    },
    {
     "name": "stdout",
     "output_type": "stream",
     "text": [
      "[LibSVM]"
     ]
    },
    {
     "name": "stderr",
     "output_type": "stream",
     "text": [
      "[2021-06-11 14:52:15,105][INFO][occ.py:161] Complete to train the OCC, rbf_ocsvm\n",
      "[2021-06-11 14:52:15,106][INFO][occ.py:168] Start to transform validation features to latent\n",
      "[2021-06-11 14:52:16,420][INFO][occ.py:189] Complete to transform validation features to latent\n",
      "[2021-06-11 14:52:16,422][INFO][occ.py:191] Start to validate the OCC, rbf_ocsvm\n",
      "[2021-06-11 14:52:26,913][INFO][occ.py:194] Complete to validate the OCC, rbf_ocsvm\n",
      "[2021-06-11 14:52:26,940][INFO][callback.py:16] Save checkpoint, Epoch : 10\n",
      "[2021-06-11 14:52:26,945][INFO][callback.py:16] Save checkpoint, Epoch : 10\n"
     ]
    },
    {
     "name": "stdout",
     "output_type": "stream",
     "text": [
      "AUC : 69.81663741655679\n",
      "[Epoch 10]\n",
      " Train - Loss : 0.897452712059021 | Accuracy : None | Precision : None | Recall : None | F1 : None\n",
      " Val - Loss : 0.87937992811203 | Accuracy : None | Precision : None | Recall : None | F1 : None\n",
      "Early Stopping [0/40] - Best Epoch : 10 | Best Score : 69.81663513183594\n"
     ]
    },
    {
     "data": {
      "application/vnd.jupyter.widget-view+json": {
       "model_id": "",
       "version_major": 2,
       "version_minor": 0
      },
      "text/plain": [
       "Validating: 0it [00:00, ?it/s]"
      ]
     },
     "metadata": {},
     "output_type": "display_data"
    },
    {
     "name": "stderr",
     "output_type": "stream",
     "text": [
      "/workspace/Project/2021_AI_security/model/cae_conv_id.py:293: UserWarning: Implicit dimension choice for softmax has been deprecated. Change the call to include dim=X as an argument.\n",
      "  prob_batch = F.softmax(input=x_id_hat_batch)\n",
      "[2021-06-11 14:53:40,425][INFO][occ.py:142] Start to transform training features to latent\n",
      "[2021-06-11 14:53:42,487][INFO][occ.py:157] Complete to transform training features to latent\n",
      "[2021-06-11 14:53:42,490][INFO][occ.py:159] Start to train the OCC, rbf_ocsvm\n"
     ]
    },
    {
     "name": "stdout",
     "output_type": "stream",
     "text": [
      "[LibSVM]"
     ]
    },
    {
     "name": "stderr",
     "output_type": "stream",
     "text": [
      "[2021-06-11 14:54:01,730][INFO][occ.py:161] Complete to train the OCC, rbf_ocsvm\n",
      "[2021-06-11 14:54:01,732][INFO][occ.py:168] Start to transform validation features to latent\n",
      "[2021-06-11 14:54:03,079][INFO][occ.py:189] Complete to transform validation features to latent\n",
      "[2021-06-11 14:54:03,080][INFO][occ.py:191] Start to validate the OCC, rbf_ocsvm\n",
      "[2021-06-11 14:54:13,904][INFO][occ.py:194] Complete to validate the OCC, rbf_ocsvm\n",
      "[2021-06-11 14:54:13,939][INFO][callback.py:16] Save checkpoint, Epoch : 11\n",
      "[2021-06-11 14:54:13,945][INFO][callback.py:16] Save checkpoint, Epoch : 11\n"
     ]
    },
    {
     "name": "stdout",
     "output_type": "stream",
     "text": [
      "AUC : 69.05341629032036\n",
      "[Epoch 11]\n",
      " Train - Loss : 0.9034420251846313 | Accuracy : None | Precision : None | Recall : None | F1 : None\n",
      " Val - Loss : 0.8891537189483643 | Accuracy : None | Precision : None | Recall : None | F1 : None\n",
      "Early Stopping [1/40] - Best Epoch : 10 | Best Score : 69.81663513183594\n"
     ]
    },
    {
     "data": {
      "application/vnd.jupyter.widget-view+json": {
       "model_id": "",
       "version_major": 2,
       "version_minor": 0
      },
      "text/plain": [
       "Validating: 0it [00:00, ?it/s]"
      ]
     },
     "metadata": {},
     "output_type": "display_data"
    },
    {
     "name": "stderr",
     "output_type": "stream",
     "text": [
      "/workspace/Project/2021_AI_security/model/cae_conv_id.py:293: UserWarning: Implicit dimension choice for softmax has been deprecated. Change the call to include dim=X as an argument.\n",
      "  prob_batch = F.softmax(input=x_id_hat_batch)\n",
      "[2021-06-11 14:55:25,471][INFO][occ.py:142] Start to transform training features to latent\n",
      "[2021-06-11 14:55:27,596][INFO][occ.py:157] Complete to transform training features to latent\n",
      "[2021-06-11 14:55:27,598][INFO][occ.py:159] Start to train the OCC, rbf_ocsvm\n"
     ]
    },
    {
     "name": "stdout",
     "output_type": "stream",
     "text": [
      "[LibSVM]"
     ]
    },
    {
     "name": "stderr",
     "output_type": "stream",
     "text": [
      "[2021-06-11 14:55:47,412][INFO][occ.py:161] Complete to train the OCC, rbf_ocsvm\n",
      "[2021-06-11 14:55:47,414][INFO][occ.py:168] Start to transform validation features to latent\n",
      "[2021-06-11 14:55:48,793][INFO][occ.py:189] Complete to transform validation features to latent\n",
      "[2021-06-11 14:55:48,794][INFO][occ.py:191] Start to validate the OCC, rbf_ocsvm\n",
      "[2021-06-11 14:55:59,407][INFO][occ.py:194] Complete to validate the OCC, rbf_ocsvm\n",
      "[2021-06-11 14:55:59,440][INFO][callback.py:16] Save checkpoint, Epoch : 12\n",
      "[2021-06-11 14:55:59,446][INFO][callback.py:16] Save checkpoint, Epoch : 12\n"
     ]
    },
    {
     "name": "stdout",
     "output_type": "stream",
     "text": [
      "AUC : 69.41054520060828\n",
      "[Epoch 12]\n",
      " Train - Loss : 0.9069996476173401 | Accuracy : None | Precision : None | Recall : None | F1 : None\n",
      " Val - Loss : 0.8845658898353577 | Accuracy : None | Precision : None | Recall : None | F1 : None\n",
      "Early Stopping [2/40] - Best Epoch : 10 | Best Score : 69.81663513183594\n"
     ]
    },
    {
     "data": {
      "application/vnd.jupyter.widget-view+json": {
       "model_id": "",
       "version_major": 2,
       "version_minor": 0
      },
      "text/plain": [
       "Validating: 0it [00:00, ?it/s]"
      ]
     },
     "metadata": {},
     "output_type": "display_data"
    },
    {
     "name": "stderr",
     "output_type": "stream",
     "text": [
      "/workspace/Project/2021_AI_security/model/cae_conv_id.py:293: UserWarning: Implicit dimension choice for softmax has been deprecated. Change the call to include dim=X as an argument.\n",
      "  prob_batch = F.softmax(input=x_id_hat_batch)\n",
      "[2021-06-11 14:57:09,319][INFO][occ.py:142] Start to transform training features to latent\n",
      "[2021-06-11 14:57:11,461][INFO][occ.py:157] Complete to transform training features to latent\n",
      "[2021-06-11 14:57:11,463][INFO][occ.py:159] Start to train the OCC, rbf_ocsvm\n"
     ]
    },
    {
     "name": "stdout",
     "output_type": "stream",
     "text": [
      "[LibSVM]"
     ]
    },
    {
     "name": "stderr",
     "output_type": "stream",
     "text": [
      "[2021-06-11 14:57:30,661][INFO][occ.py:161] Complete to train the OCC, rbf_ocsvm\n",
      "[2021-06-11 14:57:30,665][INFO][occ.py:168] Start to transform validation features to latent\n",
      "[2021-06-11 14:57:32,010][INFO][occ.py:189] Complete to transform validation features to latent\n",
      "[2021-06-11 14:57:32,011][INFO][occ.py:191] Start to validate the OCC, rbf_ocsvm\n",
      "[2021-06-11 14:57:43,055][INFO][occ.py:194] Complete to validate the OCC, rbf_ocsvm\n",
      "[2021-06-11 14:57:43,094][INFO][callback.py:16] Save checkpoint, Epoch : 13\n",
      "[2021-06-11 14:57:43,101][INFO][callback.py:16] Save checkpoint, Epoch : 13\n"
     ]
    },
    {
     "name": "stdout",
     "output_type": "stream",
     "text": [
      "AUC : 69.99653133513735\n",
      "[Epoch 13]\n",
      " Train - Loss : 0.9062991142272949 | Accuracy : None | Precision : None | Recall : None | F1 : None\n",
      " Val - Loss : 0.8990046381950378 | Accuracy : None | Precision : None | Recall : None | F1 : None\n",
      "Early Stopping [0/40] - Best Epoch : 13 | Best Score : 69.99652862548828\n"
     ]
    },
    {
     "data": {
      "application/vnd.jupyter.widget-view+json": {
       "model_id": "",
       "version_major": 2,
       "version_minor": 0
      },
      "text/plain": [
       "Validating: 0it [00:00, ?it/s]"
      ]
     },
     "metadata": {},
     "output_type": "display_data"
    },
    {
     "name": "stderr",
     "output_type": "stream",
     "text": [
      "/workspace/Project/2021_AI_security/model/cae_conv_id.py:293: UserWarning: Implicit dimension choice for softmax has been deprecated. Change the call to include dim=X as an argument.\n",
      "  prob_batch = F.softmax(input=x_id_hat_batch)\n",
      "[2021-06-11 14:58:49,869][INFO][occ.py:142] Start to transform training features to latent\n",
      "[2021-06-11 14:58:51,966][INFO][occ.py:157] Complete to transform training features to latent\n",
      "[2021-06-11 14:58:51,969][INFO][occ.py:159] Start to train the OCC, rbf_ocsvm\n"
     ]
    },
    {
     "name": "stdout",
     "output_type": "stream",
     "text": [
      "[LibSVM]"
     ]
    },
    {
     "name": "stderr",
     "output_type": "stream",
     "text": [
      "[2021-06-11 14:59:11,512][INFO][occ.py:161] Complete to train the OCC, rbf_ocsvm\n",
      "[2021-06-11 14:59:11,514][INFO][occ.py:168] Start to transform validation features to latent\n",
      "[2021-06-11 14:59:12,825][INFO][occ.py:189] Complete to transform validation features to latent\n",
      "[2021-06-11 14:59:12,826][INFO][occ.py:191] Start to validate the OCC, rbf_ocsvm\n",
      "[2021-06-11 14:59:23,833][INFO][occ.py:194] Complete to validate the OCC, rbf_ocsvm\n",
      "[2021-06-11 14:59:23,860][INFO][callback.py:16] Save checkpoint, Epoch : 14\n",
      "[2021-06-11 14:59:23,866][INFO][callback.py:16] Save checkpoint, Epoch : 14\n"
     ]
    },
    {
     "name": "stdout",
     "output_type": "stream",
     "text": [
      "AUC : 69.1967915998585\n",
      "[Epoch 14]\n",
      " Train - Loss : 0.9060407280921936 | Accuracy : None | Precision : None | Recall : None | F1 : None\n",
      " Val - Loss : 0.9047517776489258 | Accuracy : None | Precision : None | Recall : None | F1 : None\n",
      "Early Stopping [1/40] - Best Epoch : 13 | Best Score : 69.99652862548828\n"
     ]
    },
    {
     "data": {
      "application/vnd.jupyter.widget-view+json": {
       "model_id": "",
       "version_major": 2,
       "version_minor": 0
      },
      "text/plain": [
       "Validating: 0it [00:00, ?it/s]"
      ]
     },
     "metadata": {},
     "output_type": "display_data"
    },
    {
     "name": "stderr",
     "output_type": "stream",
     "text": [
      "/workspace/Project/2021_AI_security/model/cae_conv_id.py:293: UserWarning: Implicit dimension choice for softmax has been deprecated. Change the call to include dim=X as an argument.\n",
      "  prob_batch = F.softmax(input=x_id_hat_batch)\n",
      "[2021-06-11 15:00:29,966][INFO][occ.py:142] Start to transform training features to latent\n",
      "[2021-06-11 15:00:32,077][INFO][occ.py:157] Complete to transform training features to latent\n",
      "[2021-06-11 15:00:32,079][INFO][occ.py:159] Start to train the OCC, rbf_ocsvm\n"
     ]
    },
    {
     "name": "stdout",
     "output_type": "stream",
     "text": [
      "[LibSVM]"
     ]
    },
    {
     "name": "stderr",
     "output_type": "stream",
     "text": [
      "[2021-06-11 15:00:51,210][INFO][occ.py:161] Complete to train the OCC, rbf_ocsvm\n",
      "[2021-06-11 15:00:51,212][INFO][occ.py:168] Start to transform validation features to latent\n",
      "[2021-06-11 15:00:52,616][INFO][occ.py:189] Complete to transform validation features to latent\n",
      "[2021-06-11 15:00:52,617][INFO][occ.py:191] Start to validate the OCC, rbf_ocsvm\n",
      "[2021-06-11 15:01:03,325][INFO][occ.py:194] Complete to validate the OCC, rbf_ocsvm\n",
      "[2021-06-11 15:01:03,357][INFO][callback.py:16] Save checkpoint, Epoch : 15\n",
      "[2021-06-11 15:01:03,363][INFO][callback.py:16] Save checkpoint, Epoch : 15\n"
     ]
    },
    {
     "name": "stdout",
     "output_type": "stream",
     "text": [
      "AUC : 70.84871452658467\n",
      "[Epoch 15]\n",
      " Train - Loss : 0.9098478555679321 | Accuracy : None | Precision : None | Recall : None | F1 : None\n",
      " Val - Loss : 0.9062824249267578 | Accuracy : None | Precision : None | Recall : None | F1 : None\n",
      "Early Stopping [0/40] - Best Epoch : 15 | Best Score : 70.84871673583984\n"
     ]
    },
    {
     "data": {
      "application/vnd.jupyter.widget-view+json": {
       "model_id": "",
       "version_major": 2,
       "version_minor": 0
      },
      "text/plain": [
       "Validating: 0it [00:00, ?it/s]"
      ]
     },
     "metadata": {},
     "output_type": "display_data"
    },
    {
     "name": "stderr",
     "output_type": "stream",
     "text": [
      "/workspace/Project/2021_AI_security/model/cae_conv_id.py:293: UserWarning: Implicit dimension choice for softmax has been deprecated. Change the call to include dim=X as an argument.\n",
      "  prob_batch = F.softmax(input=x_id_hat_batch)\n",
      "[2021-06-11 15:02:08,668][INFO][occ.py:142] Start to transform training features to latent\n",
      "[2021-06-11 15:02:10,842][INFO][occ.py:157] Complete to transform training features to latent\n",
      "[2021-06-11 15:02:10,843][INFO][occ.py:159] Start to train the OCC, rbf_ocsvm\n"
     ]
    },
    {
     "name": "stdout",
     "output_type": "stream",
     "text": [
      "[LibSVM]"
     ]
    },
    {
     "name": "stderr",
     "output_type": "stream",
     "text": [
      "[2021-06-11 15:02:30,025][INFO][occ.py:161] Complete to train the OCC, rbf_ocsvm\n",
      "[2021-06-11 15:02:30,027][INFO][occ.py:168] Start to transform validation features to latent\n",
      "[2021-06-11 15:02:31,339][INFO][occ.py:189] Complete to transform validation features to latent\n",
      "[2021-06-11 15:02:31,341][INFO][occ.py:191] Start to validate the OCC, rbf_ocsvm\n",
      "[2021-06-11 15:02:42,436][INFO][occ.py:194] Complete to validate the OCC, rbf_ocsvm\n",
      "[2021-06-11 15:02:42,471][INFO][callback.py:16] Save checkpoint, Epoch : 16\n",
      "[2021-06-11 15:02:42,477][INFO][callback.py:16] Save checkpoint, Epoch : 16\n"
     ]
    },
    {
     "name": "stdout",
     "output_type": "stream",
     "text": [
      "AUC : 69.76797848049506\n",
      "[Epoch 16]\n",
      " Train - Loss : 0.9101508855819702 | Accuracy : None | Precision : None | Recall : None | F1 : None\n",
      " Val - Loss : 0.9069786667823792 | Accuracy : None | Precision : None | Recall : None | F1 : None\n",
      "Early Stopping [1/40] - Best Epoch : 15 | Best Score : 70.84871673583984\n"
     ]
    },
    {
     "data": {
      "application/vnd.jupyter.widget-view+json": {
       "model_id": "",
       "version_major": 2,
       "version_minor": 0
      },
      "text/plain": [
       "Validating: 0it [00:00, ?it/s]"
      ]
     },
     "metadata": {},
     "output_type": "display_data"
    },
    {
     "name": "stderr",
     "output_type": "stream",
     "text": [
      "/workspace/Project/2021_AI_security/model/cae_conv_id.py:293: UserWarning: Implicit dimension choice for softmax has been deprecated. Change the call to include dim=X as an argument.\n",
      "  prob_batch = F.softmax(input=x_id_hat_batch)\n",
      "[2021-06-11 15:03:52,412][INFO][occ.py:142] Start to transform training features to latent\n",
      "[2021-06-11 15:03:54,446][INFO][occ.py:157] Complete to transform training features to latent\n",
      "[2021-06-11 15:03:54,448][INFO][occ.py:159] Start to train the OCC, rbf_ocsvm\n"
     ]
    },
    {
     "name": "stdout",
     "output_type": "stream",
     "text": [
      "[LibSVM]"
     ]
    },
    {
     "name": "stderr",
     "output_type": "stream",
     "text": [
      "[2021-06-11 15:04:14,150][INFO][occ.py:161] Complete to train the OCC, rbf_ocsvm\n",
      "[2021-06-11 15:04:14,152][INFO][occ.py:168] Start to transform validation features to latent\n",
      "[2021-06-11 15:04:15,538][INFO][occ.py:189] Complete to transform validation features to latent\n",
      "[2021-06-11 15:04:15,540][INFO][occ.py:191] Start to validate the OCC, rbf_ocsvm\n",
      "[2021-06-11 15:04:26,603][INFO][occ.py:194] Complete to validate the OCC, rbf_ocsvm\n",
      "[2021-06-11 15:04:26,643][INFO][callback.py:16] Save checkpoint, Epoch : 17\n",
      "[2021-06-11 15:04:26,650][INFO][callback.py:16] Save checkpoint, Epoch : 17\n"
     ]
    },
    {
     "name": "stdout",
     "output_type": "stream",
     "text": [
      "AUC : 70.89370379899201\n",
      "[Epoch 17]\n",
      " Train - Loss : 0.908958375453949 | Accuracy : None | Precision : None | Recall : None | F1 : None\n",
      " Val - Loss : 0.9154021739959717 | Accuracy : None | Precision : None | Recall : None | F1 : None\n",
      "Early Stopping [0/40] - Best Epoch : 17 | Best Score : 70.89370727539062\n"
     ]
    },
    {
     "data": {
      "application/vnd.jupyter.widget-view+json": {
       "model_id": "",
       "version_major": 2,
       "version_minor": 0
      },
      "text/plain": [
       "Validating: 0it [00:00, ?it/s]"
      ]
     },
     "metadata": {},
     "output_type": "display_data"
    },
    {
     "name": "stderr",
     "output_type": "stream",
     "text": [
      "/workspace/Project/2021_AI_security/model/cae_conv_id.py:293: UserWarning: Implicit dimension choice for softmax has been deprecated. Change the call to include dim=X as an argument.\n",
      "  prob_batch = F.softmax(input=x_id_hat_batch)\n",
      "[2021-06-11 15:05:39,374][INFO][occ.py:142] Start to transform training features to latent\n",
      "[2021-06-11 15:05:41,508][INFO][occ.py:157] Complete to transform training features to latent\n",
      "[2021-06-11 15:05:41,510][INFO][occ.py:159] Start to train the OCC, rbf_ocsvm\n"
     ]
    },
    {
     "name": "stdout",
     "output_type": "stream",
     "text": [
      "[LibSVM]"
     ]
    },
    {
     "name": "stderr",
     "output_type": "stream",
     "text": [
      "[2021-06-11 15:06:02,130][INFO][occ.py:161] Complete to train the OCC, rbf_ocsvm\n",
      "[2021-06-11 15:06:02,132][INFO][occ.py:168] Start to transform validation features to latent\n",
      "[2021-06-11 15:06:03,460][INFO][occ.py:189] Complete to transform validation features to latent\n",
      "[2021-06-11 15:06:03,462][INFO][occ.py:191] Start to validate the OCC, rbf_ocsvm\n",
      "[2021-06-11 15:06:14,394][INFO][occ.py:194] Complete to validate the OCC, rbf_ocsvm\n",
      "[2021-06-11 15:06:14,425][INFO][callback.py:16] Save checkpoint, Epoch : 18\n",
      "[2021-06-11 15:06:14,431][INFO][callback.py:16] Save checkpoint, Epoch : 18\n"
     ]
    },
    {
     "name": "stdout",
     "output_type": "stream",
     "text": [
      "AUC : 71.6834625085568\n",
      "[Epoch 18]\n",
      " Train - Loss : 0.9138141870498657 | Accuracy : None | Precision : None | Recall : None | F1 : None\n",
      " Val - Loss : 0.9038944840431213 | Accuracy : None | Precision : None | Recall : None | F1 : None\n",
      "Early Stopping [0/40] - Best Epoch : 18 | Best Score : 71.68346405029297\n"
     ]
    },
    {
     "data": {
      "application/vnd.jupyter.widget-view+json": {
       "model_id": "",
       "version_major": 2,
       "version_minor": 0
      },
      "text/plain": [
       "Validating: 0it [00:00, ?it/s]"
      ]
     },
     "metadata": {},
     "output_type": "display_data"
    },
    {
     "name": "stderr",
     "output_type": "stream",
     "text": [
      "/workspace/Project/2021_AI_security/model/cae_conv_id.py:293: UserWarning: Implicit dimension choice for softmax has been deprecated. Change the call to include dim=X as an argument.\n",
      "  prob_batch = F.softmax(input=x_id_hat_batch)\n",
      "[2021-06-11 15:07:28,831][INFO][occ.py:142] Start to transform training features to latent\n",
      "[2021-06-11 15:07:30,965][INFO][occ.py:157] Complete to transform training features to latent\n",
      "[2021-06-11 15:07:30,967][INFO][occ.py:159] Start to train the OCC, rbf_ocsvm\n"
     ]
    },
    {
     "name": "stdout",
     "output_type": "stream",
     "text": [
      "[LibSVM]"
     ]
    },
    {
     "name": "stderr",
     "output_type": "stream",
     "text": [
      "[2021-06-11 15:07:52,740][INFO][occ.py:161] Complete to train the OCC, rbf_ocsvm\n",
      "[2021-06-11 15:07:52,743][INFO][occ.py:168] Start to transform validation features to latent\n",
      "[2021-06-11 15:07:54,083][INFO][occ.py:189] Complete to transform validation features to latent\n",
      "[2021-06-11 15:07:54,085][INFO][occ.py:191] Start to validate the OCC, rbf_ocsvm\n",
      "[2021-06-11 15:08:05,056][INFO][occ.py:194] Complete to validate the OCC, rbf_ocsvm\n",
      "[2021-06-11 15:08:05,091][INFO][callback.py:16] Save checkpoint, Epoch : 19\n",
      "[2021-06-11 15:08:05,099][INFO][callback.py:16] Save checkpoint, Epoch : 19\n"
     ]
    },
    {
     "name": "stdout",
     "output_type": "stream",
     "text": [
      "AUC : 71.43514860127813\n",
      "[Epoch 19]\n",
      " Train - Loss : 0.9153346419334412 | Accuracy : None | Precision : None | Recall : None | F1 : None\n",
      " Val - Loss : 0.9036481380462646 | Accuracy : None | Precision : None | Recall : None | F1 : None\n",
      "Early Stopping [1/40] - Best Epoch : 18 | Best Score : 71.68346405029297\n"
     ]
    },
    {
     "data": {
      "application/vnd.jupyter.widget-view+json": {
       "model_id": "",
       "version_major": 2,
       "version_minor": 0
      },
      "text/plain": [
       "Validating: 0it [00:00, ?it/s]"
      ]
     },
     "metadata": {},
     "output_type": "display_data"
    },
    {
     "name": "stderr",
     "output_type": "stream",
     "text": [
      "/workspace/Project/2021_AI_security/model/cae_conv_id.py:293: UserWarning: Implicit dimension choice for softmax has been deprecated. Change the call to include dim=X as an argument.\n",
      "  prob_batch = F.softmax(input=x_id_hat_batch)\n",
      "[2021-06-11 15:09:22,107][INFO][occ.py:142] Start to transform training features to latent\n",
      "[2021-06-11 15:09:24,156][INFO][occ.py:157] Complete to transform training features to latent\n",
      "[2021-06-11 15:09:24,159][INFO][occ.py:159] Start to train the OCC, rbf_ocsvm\n"
     ]
    },
    {
     "name": "stdout",
     "output_type": "stream",
     "text": [
      "[LibSVM]"
     ]
    },
    {
     "name": "stderr",
     "output_type": "stream",
     "text": [
      "[2021-06-11 15:09:43,895][INFO][occ.py:161] Complete to train the OCC, rbf_ocsvm\n",
      "[2021-06-11 15:09:43,897][INFO][occ.py:168] Start to transform validation features to latent\n",
      "[2021-06-11 15:09:45,270][INFO][occ.py:189] Complete to transform validation features to latent\n",
      "[2021-06-11 15:09:45,271][INFO][occ.py:191] Start to validate the OCC, rbf_ocsvm\n",
      "[2021-06-11 15:09:56,144][INFO][occ.py:194] Complete to validate the OCC, rbf_ocsvm\n",
      "[2021-06-11 15:09:56,184][INFO][callback.py:16] Save checkpoint, Epoch : 20\n",
      "[2021-06-11 15:09:56,191][INFO][callback.py:16] Save checkpoint, Epoch : 20\n"
     ]
    },
    {
     "name": "stdout",
     "output_type": "stream",
     "text": [
      "AUC : 71.51681728176126\n",
      "[Epoch 20]\n",
      " Train - Loss : 0.9153399467468262 | Accuracy : None | Precision : None | Recall : None | F1 : None\n",
      " Val - Loss : 0.919421374797821 | Accuracy : None | Precision : None | Recall : None | F1 : None\n",
      "Early Stopping [2/40] - Best Epoch : 18 | Best Score : 71.68346405029297\n"
     ]
    },
    {
     "data": {
      "application/vnd.jupyter.widget-view+json": {
       "model_id": "",
       "version_major": 2,
       "version_minor": 0
      },
      "text/plain": [
       "Validating: 0it [00:00, ?it/s]"
      ]
     },
     "metadata": {},
     "output_type": "display_data"
    },
    {
     "name": "stderr",
     "output_type": "stream",
     "text": [
      "/workspace/Project/2021_AI_security/model/cae_conv_id.py:293: UserWarning: Implicit dimension choice for softmax has been deprecated. Change the call to include dim=X as an argument.\n",
      "  prob_batch = F.softmax(input=x_id_hat_batch)\n",
      "[2021-06-11 15:11:11,821][INFO][occ.py:142] Start to transform training features to latent\n",
      "[2021-06-11 15:11:14,008][INFO][occ.py:157] Complete to transform training features to latent\n",
      "[2021-06-11 15:11:14,010][INFO][occ.py:159] Start to train the OCC, rbf_ocsvm\n"
     ]
    },
    {
     "name": "stdout",
     "output_type": "stream",
     "text": [
      "[LibSVM]"
     ]
    },
    {
     "name": "stderr",
     "output_type": "stream",
     "text": [
      "[2021-06-11 15:11:33,918][INFO][occ.py:161] Complete to train the OCC, rbf_ocsvm\n",
      "[2021-06-11 15:11:33,921][INFO][occ.py:168] Start to transform validation features to latent\n",
      "[2021-06-11 15:11:35,347][INFO][occ.py:189] Complete to transform validation features to latent\n",
      "[2021-06-11 15:11:35,350][INFO][occ.py:191] Start to validate the OCC, rbf_ocsvm\n",
      "[2021-06-11 15:11:46,393][INFO][occ.py:194] Complete to validate the OCC, rbf_ocsvm\n",
      "[2021-06-11 15:11:46,435][INFO][callback.py:16] Save checkpoint, Epoch : 21\n",
      "[2021-06-11 15:11:46,443][INFO][callback.py:16] Save checkpoint, Epoch : 21\n"
     ]
    },
    {
     "name": "stdout",
     "output_type": "stream",
     "text": [
      "AUC : 72.00055245953607\n",
      "[Epoch 21]\n",
      " Train - Loss : 0.9174751043319702 | Accuracy : None | Precision : None | Recall : None | F1 : None\n",
      " Val - Loss : 0.9025359749794006 | Accuracy : None | Precision : None | Recall : None | F1 : None\n",
      "Early Stopping [0/40] - Best Epoch : 21 | Best Score : 72.00054931640625\n"
     ]
    },
    {
     "data": {
      "application/vnd.jupyter.widget-view+json": {
       "model_id": "",
       "version_major": 2,
       "version_minor": 0
      },
      "text/plain": [
       "Validating: 0it [00:00, ?it/s]"
      ]
     },
     "metadata": {},
     "output_type": "display_data"
    },
    {
     "name": "stderr",
     "output_type": "stream",
     "text": [
      "/workspace/Project/2021_AI_security/model/cae_conv_id.py:293: UserWarning: Implicit dimension choice for softmax has been deprecated. Change the call to include dim=X as an argument.\n",
      "  prob_batch = F.softmax(input=x_id_hat_batch)\n",
      "[2021-06-11 15:13:09,254][INFO][occ.py:142] Start to transform training features to latent\n",
      "[2021-06-11 15:13:11,339][INFO][occ.py:157] Complete to transform training features to latent\n",
      "[2021-06-11 15:13:11,341][INFO][occ.py:159] Start to train the OCC, rbf_ocsvm\n"
     ]
    },
    {
     "name": "stdout",
     "output_type": "stream",
     "text": [
      "[LibSVM]"
     ]
    },
    {
     "name": "stderr",
     "output_type": "stream",
     "text": [
      "[2021-06-11 15:13:30,690][INFO][occ.py:161] Complete to train the OCC, rbf_ocsvm\n",
      "[2021-06-11 15:13:30,692][INFO][occ.py:168] Start to transform validation features to latent\n",
      "[2021-06-11 15:13:32,066][INFO][occ.py:189] Complete to transform validation features to latent\n",
      "[2021-06-11 15:13:32,068][INFO][occ.py:191] Start to validate the OCC, rbf_ocsvm\n",
      "[2021-06-11 15:13:42,973][INFO][occ.py:194] Complete to validate the OCC, rbf_ocsvm\n",
      "[2021-06-11 15:13:43,007][INFO][callback.py:16] Save checkpoint, Epoch : 22\n",
      "[2021-06-11 15:13:43,013][INFO][callback.py:16] Save checkpoint, Epoch : 22\n"
     ]
    },
    {
     "name": "stdout",
     "output_type": "stream",
     "text": [
      "AUC : 73.1273172289273\n",
      "[Epoch 22]\n",
      " Train - Loss : 0.9219648838043213 | Accuracy : None | Precision : None | Recall : None | F1 : None\n",
      " Val - Loss : 0.9106494784355164 | Accuracy : None | Precision : None | Recall : None | F1 : None\n",
      "Early Stopping [0/40] - Best Epoch : 22 | Best Score : 73.1273193359375\n"
     ]
    },
    {
     "data": {
      "application/vnd.jupyter.widget-view+json": {
       "model_id": "",
       "version_major": 2,
       "version_minor": 0
      },
      "text/plain": [
       "Validating: 0it [00:00, ?it/s]"
      ]
     },
     "metadata": {},
     "output_type": "display_data"
    },
    {
     "name": "stderr",
     "output_type": "stream",
     "text": [
      "/workspace/Project/2021_AI_security/model/cae_conv_id.py:293: UserWarning: Implicit dimension choice for softmax has been deprecated. Change the call to include dim=X as an argument.\n",
      "  prob_batch = F.softmax(input=x_id_hat_batch)\n",
      "[2021-06-11 15:15:04,002][INFO][occ.py:142] Start to transform training features to latent\n",
      "[2021-06-11 15:15:06,136][INFO][occ.py:157] Complete to transform training features to latent\n",
      "[2021-06-11 15:15:06,137][INFO][occ.py:159] Start to train the OCC, rbf_ocsvm\n"
     ]
    },
    {
     "name": "stdout",
     "output_type": "stream",
     "text": [
      "[LibSVM]"
     ]
    },
    {
     "name": "stderr",
     "output_type": "stream",
     "text": [
      "[2021-06-11 15:15:26,684][INFO][occ.py:161] Complete to train the OCC, rbf_ocsvm\n",
      "[2021-06-11 15:15:26,687][INFO][occ.py:168] Start to transform validation features to latent\n",
      "[2021-06-11 15:15:28,023][INFO][occ.py:189] Complete to transform validation features to latent\n",
      "[2021-06-11 15:15:28,024][INFO][occ.py:191] Start to validate the OCC, rbf_ocsvm\n",
      "[2021-06-11 15:15:39,102][INFO][occ.py:194] Complete to validate the OCC, rbf_ocsvm\n",
      "[2021-06-11 15:15:39,141][INFO][callback.py:16] Save checkpoint, Epoch : 23\n",
      "[2021-06-11 15:15:39,148][INFO][callback.py:16] Save checkpoint, Epoch : 23\n"
     ]
    },
    {
     "name": "stdout",
     "output_type": "stream",
     "text": [
      "AUC : 72.42379274382877\n",
      "[Epoch 23]\n",
      " Train - Loss : 0.9256733655929565 | Accuracy : None | Precision : None | Recall : None | F1 : None\n",
      " Val - Loss : 0.9311463832855225 | Accuracy : None | Precision : None | Recall : None | F1 : None\n",
      "Early Stopping [1/40] - Best Epoch : 22 | Best Score : 73.1273193359375\n"
     ]
    },
    {
     "data": {
      "application/vnd.jupyter.widget-view+json": {
       "model_id": "",
       "version_major": 2,
       "version_minor": 0
      },
      "text/plain": [
       "Validating: 0it [00:00, ?it/s]"
      ]
     },
     "metadata": {},
     "output_type": "display_data"
    },
    {
     "name": "stderr",
     "output_type": "stream",
     "text": [
      "/workspace/Project/2021_AI_security/model/cae_conv_id.py:293: UserWarning: Implicit dimension choice for softmax has been deprecated. Change the call to include dim=X as an argument.\n",
      "  prob_batch = F.softmax(input=x_id_hat_batch)\n",
      "[2021-06-11 15:16:59,651][INFO][occ.py:142] Start to transform training features to latent\n",
      "[2021-06-11 15:17:01,845][INFO][occ.py:157] Complete to transform training features to latent\n",
      "[2021-06-11 15:17:01,848][INFO][occ.py:159] Start to train the OCC, rbf_ocsvm\n"
     ]
    },
    {
     "name": "stdout",
     "output_type": "stream",
     "text": [
      "[LibSVM]"
     ]
    },
    {
     "name": "stderr",
     "output_type": "stream",
     "text": [
      "[2021-06-11 15:17:21,884][INFO][occ.py:161] Complete to train the OCC, rbf_ocsvm\n",
      "[2021-06-11 15:17:21,887][INFO][occ.py:168] Start to transform validation features to latent\n",
      "[2021-06-11 15:17:23,302][INFO][occ.py:189] Complete to transform validation features to latent\n",
      "[2021-06-11 15:17:23,304][INFO][occ.py:191] Start to validate the OCC, rbf_ocsvm\n",
      "[2021-06-11 15:17:34,315][INFO][occ.py:194] Complete to validate the OCC, rbf_ocsvm\n",
      "[2021-06-11 15:17:34,355][INFO][callback.py:16] Save checkpoint, Epoch : 24\n",
      "[2021-06-11 15:17:34,362][INFO][callback.py:16] Save checkpoint, Epoch : 24\n"
     ]
    },
    {
     "name": "stdout",
     "output_type": "stream",
     "text": [
      "AUC : 72.23940219513652\n",
      "[Epoch 24]\n",
      " Train - Loss : 0.9295600652694702 | Accuracy : None | Precision : None | Recall : None | F1 : None\n",
      " Val - Loss : 0.9053633213043213 | Accuracy : None | Precision : None | Recall : None | F1 : None\n",
      "Early Stopping [2/40] - Best Epoch : 22 | Best Score : 73.1273193359375\n"
     ]
    },
    {
     "data": {
      "application/vnd.jupyter.widget-view+json": {
       "model_id": "",
       "version_major": 2,
       "version_minor": 0
      },
      "text/plain": [
       "Validating: 0it [00:00, ?it/s]"
      ]
     },
     "metadata": {},
     "output_type": "display_data"
    },
    {
     "name": "stderr",
     "output_type": "stream",
     "text": [
      "/workspace/Project/2021_AI_security/model/cae_conv_id.py:293: UserWarning: Implicit dimension choice for softmax has been deprecated. Change the call to include dim=X as an argument.\n",
      "  prob_batch = F.softmax(input=x_id_hat_batch)\n",
      "[2021-06-11 15:18:57,363][INFO][occ.py:142] Start to transform training features to latent\n",
      "[2021-06-11 15:18:59,459][INFO][occ.py:157] Complete to transform training features to latent\n",
      "[2021-06-11 15:18:59,461][INFO][occ.py:159] Start to train the OCC, rbf_ocsvm\n"
     ]
    },
    {
     "name": "stdout",
     "output_type": "stream",
     "text": [
      "[LibSVM]"
     ]
    },
    {
     "name": "stderr",
     "output_type": "stream",
     "text": [
      "[2021-06-11 15:19:19,591][INFO][occ.py:161] Complete to train the OCC, rbf_ocsvm\n",
      "[2021-06-11 15:19:19,595][INFO][occ.py:168] Start to transform validation features to latent\n",
      "[2021-06-11 15:19:20,986][INFO][occ.py:189] Complete to transform validation features to latent\n",
      "[2021-06-11 15:19:20,987][INFO][occ.py:191] Start to validate the OCC, rbf_ocsvm\n",
      "[2021-06-11 15:19:32,069][INFO][occ.py:194] Complete to validate the OCC, rbf_ocsvm\n",
      "[2021-06-11 15:19:32,106][INFO][callback.py:16] Save checkpoint, Epoch : 25\n",
      "[2021-06-11 15:19:32,115][INFO][callback.py:16] Save checkpoint, Epoch : 25\n"
     ]
    },
    {
     "name": "stdout",
     "output_type": "stream",
     "text": [
      "AUC : 72.43186715243289\n",
      "[Epoch 25]\n",
      " Train - Loss : 0.9246166348457336 | Accuracy : None | Precision : None | Recall : None | F1 : None\n",
      " Val - Loss : 0.9173564910888672 | Accuracy : None | Precision : None | Recall : None | F1 : None\n",
      "Early Stopping [3/40] - Best Epoch : 22 | Best Score : 73.1273193359375\n"
     ]
    },
    {
     "data": {
      "application/vnd.jupyter.widget-view+json": {
       "model_id": "",
       "version_major": 2,
       "version_minor": 0
      },
      "text/plain": [
       "Validating: 0it [00:00, ?it/s]"
      ]
     },
     "metadata": {},
     "output_type": "display_data"
    },
    {
     "name": "stderr",
     "output_type": "stream",
     "text": [
      "/workspace/Project/2021_AI_security/model/cae_conv_id.py:293: UserWarning: Implicit dimension choice for softmax has been deprecated. Change the call to include dim=X as an argument.\n",
      "  prob_batch = F.softmax(input=x_id_hat_batch)\n",
      "[2021-06-11 15:20:56,242][INFO][occ.py:142] Start to transform training features to latent\n",
      "[2021-06-11 15:20:58,573][INFO][occ.py:157] Complete to transform training features to latent\n",
      "[2021-06-11 15:20:58,577][INFO][occ.py:159] Start to train the OCC, rbf_ocsvm\n"
     ]
    },
    {
     "name": "stdout",
     "output_type": "stream",
     "text": [
      "[LibSVM]"
     ]
    },
    {
     "name": "stderr",
     "output_type": "stream",
     "text": [
      "[2021-06-11 15:21:18,973][INFO][occ.py:161] Complete to train the OCC, rbf_ocsvm\n",
      "[2021-06-11 15:21:18,976][INFO][occ.py:168] Start to transform validation features to latent\n",
      "[2021-06-11 15:21:20,401][INFO][occ.py:189] Complete to transform validation features to latent\n",
      "[2021-06-11 15:21:20,402][INFO][occ.py:191] Start to validate the OCC, rbf_ocsvm\n",
      "[2021-06-11 15:21:31,426][INFO][occ.py:194] Complete to validate the OCC, rbf_ocsvm\n",
      "[2021-06-11 15:21:31,465][INFO][callback.py:16] Save checkpoint, Epoch : 26\n"
     ]
    },
    {
     "name": "stdout",
     "output_type": "stream",
     "text": [
      "AUC : 71.76361508386819\n",
      "[Epoch 26]\n",
      " Train - Loss : 0.9230223298072815 | Accuracy : None | Precision : None | Recall : None | F1 : None\n",
      " Val - Loss : 0.9220108985900879 | Accuracy : None | Precision : None | Recall : None | F1 : None\n",
      "Early Stopping [4/40] - Best Epoch : 22 | Best Score : 73.1273193359375\n"
     ]
    },
    {
     "data": {
      "application/vnd.jupyter.widget-view+json": {
       "model_id": "",
       "version_major": 2,
       "version_minor": 0
      },
      "text/plain": [
       "Validating: 0it [00:00, ?it/s]"
      ]
     },
     "metadata": {},
     "output_type": "display_data"
    },
    {
     "name": "stderr",
     "output_type": "stream",
     "text": [
      "/workspace/Project/2021_AI_security/model/cae_conv_id.py:293: UserWarning: Implicit dimension choice for softmax has been deprecated. Change the call to include dim=X as an argument.\n",
      "  prob_batch = F.softmax(input=x_id_hat_batch)\n",
      "[2021-06-11 15:22:55,518][INFO][occ.py:142] Start to transform training features to latent\n",
      "[2021-06-11 15:22:57,717][INFO][occ.py:157] Complete to transform training features to latent\n",
      "[2021-06-11 15:22:57,719][INFO][occ.py:159] Start to train the OCC, rbf_ocsvm\n"
     ]
    },
    {
     "name": "stdout",
     "output_type": "stream",
     "text": [
      "[LibSVM]"
     ]
    },
    {
     "name": "stderr",
     "output_type": "stream",
     "text": [
      "[2021-06-11 15:23:17,645][INFO][occ.py:161] Complete to train the OCC, rbf_ocsvm\n",
      "[2021-06-11 15:23:17,649][INFO][occ.py:168] Start to transform validation features to latent\n",
      "[2021-06-11 15:23:19,011][INFO][occ.py:189] Complete to transform validation features to latent\n",
      "[2021-06-11 15:23:19,013][INFO][occ.py:191] Start to validate the OCC, rbf_ocsvm\n",
      "[2021-06-11 15:23:30,191][INFO][occ.py:194] Complete to validate the OCC, rbf_ocsvm\n",
      "[2021-06-11 15:23:30,232][INFO][callback.py:16] Save checkpoint, Epoch : 27\n",
      "[2021-06-11 15:23:30,239][INFO][callback.py:16] Save checkpoint, Epoch : 27\n"
     ]
    },
    {
     "name": "stdout",
     "output_type": "stream",
     "text": [
      "AUC : 72.8013603598223\n",
      "[Epoch 27]\n",
      " Train - Loss : 0.9220994710922241 | Accuracy : None | Precision : None | Recall : None | F1 : None\n",
      " Val - Loss : 0.9157461524009705 | Accuracy : None | Precision : None | Recall : None | F1 : None\n",
      "Early Stopping [5/40] - Best Epoch : 22 | Best Score : 73.1273193359375\n"
     ]
    },
    {
     "data": {
      "application/vnd.jupyter.widget-view+json": {
       "model_id": "",
       "version_major": 2,
       "version_minor": 0
      },
      "text/plain": [
       "Validating: 0it [00:00, ?it/s]"
      ]
     },
     "metadata": {},
     "output_type": "display_data"
    },
    {
     "name": "stderr",
     "output_type": "stream",
     "text": [
      "/workspace/Project/2021_AI_security/model/cae_conv_id.py:293: UserWarning: Implicit dimension choice for softmax has been deprecated. Change the call to include dim=X as an argument.\n",
      "  prob_batch = F.softmax(input=x_id_hat_batch)\n",
      "[2021-06-11 15:24:55,458][INFO][occ.py:142] Start to transform training features to latent\n",
      "[2021-06-11 15:24:57,446][INFO][occ.py:157] Complete to transform training features to latent\n",
      "[2021-06-11 15:24:57,448][INFO][occ.py:159] Start to train the OCC, rbf_ocsvm\n"
     ]
    },
    {
     "name": "stdout",
     "output_type": "stream",
     "text": [
      "[LibSVM]"
     ]
    },
    {
     "name": "stderr",
     "output_type": "stream",
     "text": [
      "[2021-06-11 15:25:17,503][INFO][occ.py:161] Complete to train the OCC, rbf_ocsvm\n",
      "[2021-06-11 15:25:17,506][INFO][occ.py:168] Start to transform validation features to latent\n",
      "[2021-06-11 15:25:18,865][INFO][occ.py:189] Complete to transform validation features to latent\n",
      "[2021-06-11 15:25:18,867][INFO][occ.py:191] Start to validate the OCC, rbf_ocsvm\n",
      "[2021-06-11 15:25:29,973][INFO][occ.py:194] Complete to validate the OCC, rbf_ocsvm\n",
      "[2021-06-11 15:25:30,003][INFO][callback.py:16] Save checkpoint, Epoch : 28\n",
      "[2021-06-11 15:25:30,010][INFO][callback.py:16] Save checkpoint, Epoch : 28\n"
     ]
    },
    {
     "name": "stdout",
     "output_type": "stream",
     "text": [
      "AUC : 72.47221622416303\n",
      "[Epoch 28]\n",
      " Train - Loss : 0.9257376790046692 | Accuracy : None | Precision : None | Recall : None | F1 : None\n",
      " Val - Loss : 0.8981286287307739 | Accuracy : None | Precision : None | Recall : None | F1 : None\n",
      "Early Stopping [6/40] - Best Epoch : 22 | Best Score : 73.1273193359375\n"
     ]
    },
    {
     "data": {
      "application/vnd.jupyter.widget-view+json": {
       "model_id": "",
       "version_major": 2,
       "version_minor": 0
      },
      "text/plain": [
       "Validating: 0it [00:00, ?it/s]"
      ]
     },
     "metadata": {},
     "output_type": "display_data"
    },
    {
     "name": "stderr",
     "output_type": "stream",
     "text": [
      "/workspace/Project/2021_AI_security/model/cae_conv_id.py:293: UserWarning: Implicit dimension choice for softmax has been deprecated. Change the call to include dim=X as an argument.\n",
      "  prob_batch = F.softmax(input=x_id_hat_batch)\n",
      "[2021-06-11 15:26:52,276][INFO][occ.py:142] Start to transform training features to latent\n",
      "[2021-06-11 15:26:54,462][INFO][occ.py:157] Complete to transform training features to latent\n",
      "[2021-06-11 15:26:54,464][INFO][occ.py:159] Start to train the OCC, rbf_ocsvm\n"
     ]
    },
    {
     "name": "stdout",
     "output_type": "stream",
     "text": [
      "[LibSVM]"
     ]
    },
    {
     "name": "stderr",
     "output_type": "stream",
     "text": [
      "[2021-06-11 15:27:15,477][INFO][occ.py:161] Complete to train the OCC, rbf_ocsvm\n",
      "[2021-06-11 15:27:15,479][INFO][occ.py:168] Start to transform validation features to latent\n",
      "[2021-06-11 15:27:16,958][INFO][occ.py:189] Complete to transform validation features to latent\n",
      "[2021-06-11 15:27:16,959][INFO][occ.py:191] Start to validate the OCC, rbf_ocsvm\n",
      "[2021-06-11 15:27:27,986][INFO][occ.py:194] Complete to validate the OCC, rbf_ocsvm\n",
      "[2021-06-11 15:27:28,027][INFO][callback.py:16] Save checkpoint, Epoch : 29\n",
      "[2021-06-11 15:27:28,033][INFO][callback.py:16] Save checkpoint, Epoch : 29\n"
     ]
    },
    {
     "name": "stdout",
     "output_type": "stream",
     "text": [
      "AUC : 73.49312928701708\n",
      "[Epoch 29]\n",
      " Train - Loss : 0.9196631908416748 | Accuracy : None | Precision : None | Recall : None | F1 : None\n",
      " Val - Loss : 0.9046676754951477 | Accuracy : None | Precision : None | Recall : None | F1 : None\n",
      "Early Stopping [0/40] - Best Epoch : 29 | Best Score : 73.49312591552734\n"
     ]
    },
    {
     "data": {
      "application/vnd.jupyter.widget-view+json": {
       "model_id": "",
       "version_major": 2,
       "version_minor": 0
      },
      "text/plain": [
       "Validating: 0it [00:00, ?it/s]"
      ]
     },
     "metadata": {},
     "output_type": "display_data"
    },
    {
     "name": "stderr",
     "output_type": "stream",
     "text": [
      "/workspace/Project/2021_AI_security/model/cae_conv_id.py:293: UserWarning: Implicit dimension choice for softmax has been deprecated. Change the call to include dim=X as an argument.\n",
      "  prob_batch = F.softmax(input=x_id_hat_batch)\n",
      "[2021-06-11 15:28:49,558][INFO][occ.py:142] Start to transform training features to latent\n",
      "[2021-06-11 15:28:51,791][INFO][occ.py:157] Complete to transform training features to latent\n",
      "[2021-06-11 15:28:51,792][INFO][occ.py:159] Start to train the OCC, rbf_ocsvm\n"
     ]
    },
    {
     "name": "stdout",
     "output_type": "stream",
     "text": [
      "[LibSVM]"
     ]
    },
    {
     "name": "stderr",
     "output_type": "stream",
     "text": [
      "[2021-06-11 15:29:13,662][INFO][occ.py:161] Complete to train the OCC, rbf_ocsvm\n",
      "[2021-06-11 15:29:13,665][INFO][occ.py:168] Start to transform validation features to latent\n",
      "[2021-06-11 15:29:15,030][INFO][occ.py:189] Complete to transform validation features to latent\n",
      "[2021-06-11 15:29:15,032][INFO][occ.py:191] Start to validate the OCC, rbf_ocsvm\n",
      "[2021-06-11 15:29:26,395][INFO][occ.py:194] Complete to validate the OCC, rbf_ocsvm\n",
      "[2021-06-11 15:29:26,432][INFO][callback.py:16] Save checkpoint, Epoch : 30\n",
      "[2021-06-11 15:29:26,438][INFO][callback.py:16] Save checkpoint, Epoch : 30\n"
     ]
    },
    {
     "name": "stdout",
     "output_type": "stream",
     "text": [
      "AUC : 73.06064305830573\n",
      "[Epoch 30]\n",
      " Train - Loss : 0.9144834876060486 | Accuracy : None | Precision : None | Recall : None | F1 : None\n",
      " Val - Loss : 0.8982255458831787 | Accuracy : None | Precision : None | Recall : None | F1 : None\n",
      "Early Stopping [1/40] - Best Epoch : 29 | Best Score : 73.49312591552734\n"
     ]
    },
    {
     "data": {
      "application/vnd.jupyter.widget-view+json": {
       "model_id": "",
       "version_major": 2,
       "version_minor": 0
      },
      "text/plain": [
       "Validating: 0it [00:00, ?it/s]"
      ]
     },
     "metadata": {},
     "output_type": "display_data"
    },
    {
     "name": "stderr",
     "output_type": "stream",
     "text": [
      "/workspace/Project/2021_AI_security/model/cae_conv_id.py:293: UserWarning: Implicit dimension choice for softmax has been deprecated. Change the call to include dim=X as an argument.\n",
      "  prob_batch = F.softmax(input=x_id_hat_batch)\n",
      "[2021-06-11 15:30:47,234][INFO][occ.py:142] Start to transform training features to latent\n",
      "[2021-06-11 15:30:49,463][INFO][occ.py:157] Complete to transform training features to latent\n",
      "[2021-06-11 15:30:49,465][INFO][occ.py:159] Start to train the OCC, rbf_ocsvm\n"
     ]
    },
    {
     "name": "stdout",
     "output_type": "stream",
     "text": [
      "[LibSVM]"
     ]
    },
    {
     "name": "stderr",
     "output_type": "stream",
     "text": [
      "[2021-06-11 15:31:11,015][INFO][occ.py:161] Complete to train the OCC, rbf_ocsvm\n",
      "[2021-06-11 15:31:11,022][INFO][occ.py:168] Start to transform validation features to latent\n",
      "[2021-06-11 15:31:12,351][INFO][occ.py:189] Complete to transform validation features to latent\n",
      "[2021-06-11 15:31:12,352][INFO][occ.py:191] Start to validate the OCC, rbf_ocsvm\n",
      "[2021-06-11 15:31:23,242][INFO][occ.py:194] Complete to validate the OCC, rbf_ocsvm\n",
      "[2021-06-11 15:31:23,275][INFO][callback.py:16] Save checkpoint, Epoch : 31\n",
      "[2021-06-11 15:31:23,283][INFO][callback.py:16] Save checkpoint, Epoch : 31\n"
     ]
    },
    {
     "name": "stdout",
     "output_type": "stream",
     "text": [
      "AUC : 72.48209387906994\n",
      "[Epoch 31]\n",
      " Train - Loss : 0.9142406582832336 | Accuracy : None | Precision : None | Recall : None | F1 : None\n",
      " Val - Loss : 0.9007611870765686 | Accuracy : None | Precision : None | Recall : None | F1 : None\n",
      "Early Stopping [2/40] - Best Epoch : 29 | Best Score : 73.49312591552734\n"
     ]
    },
    {
     "data": {
      "application/vnd.jupyter.widget-view+json": {
       "model_id": "",
       "version_major": 2,
       "version_minor": 0
      },
      "text/plain": [
       "Validating: 0it [00:00, ?it/s]"
      ]
     },
     "metadata": {},
     "output_type": "display_data"
    },
    {
     "name": "stderr",
     "output_type": "stream",
     "text": [
      "/workspace/Project/2021_AI_security/model/cae_conv_id.py:293: UserWarning: Implicit dimension choice for softmax has been deprecated. Change the call to include dim=X as an argument.\n",
      "  prob_batch = F.softmax(input=x_id_hat_batch)\n",
      "[2021-06-11 15:32:41,640][INFO][occ.py:142] Start to transform training features to latent\n",
      "[2021-06-11 15:32:43,672][INFO][occ.py:157] Complete to transform training features to latent\n",
      "[2021-06-11 15:32:43,674][INFO][occ.py:159] Start to train the OCC, rbf_ocsvm\n"
     ]
    },
    {
     "name": "stdout",
     "output_type": "stream",
     "text": [
      "[LibSVM]"
     ]
    },
    {
     "name": "stderr",
     "output_type": "stream",
     "text": [
      "[2021-06-11 15:33:04,812][INFO][occ.py:161] Complete to train the OCC, rbf_ocsvm\n",
      "[2021-06-11 15:33:04,814][INFO][occ.py:168] Start to transform validation features to latent\n",
      "[2021-06-11 15:33:06,140][INFO][occ.py:189] Complete to transform validation features to latent\n",
      "[2021-06-11 15:33:06,141][INFO][occ.py:191] Start to validate the OCC, rbf_ocsvm\n",
      "[2021-06-11 15:33:16,979][INFO][occ.py:194] Complete to validate the OCC, rbf_ocsvm\n",
      "[2021-06-11 15:33:17,006][INFO][callback.py:16] Save checkpoint, Epoch : 32\n",
      "[2021-06-11 15:33:17,011][INFO][callback.py:16] Save checkpoint, Epoch : 32\n"
     ]
    },
    {
     "name": "stdout",
     "output_type": "stream",
     "text": [
      "AUC : 73.43133651562277\n",
      "[Epoch 32]\n",
      " Train - Loss : 0.9175573587417603 | Accuracy : None | Precision : None | Recall : None | F1 : None\n",
      " Val - Loss : 0.9050864577293396 | Accuracy : None | Precision : None | Recall : None | F1 : None\n",
      "Early Stopping [3/40] - Best Epoch : 29 | Best Score : 73.49312591552734\n"
     ]
    },
    {
     "data": {
      "application/vnd.jupyter.widget-view+json": {
       "model_id": "",
       "version_major": 2,
       "version_minor": 0
      },
      "text/plain": [
       "Validating: 0it [00:00, ?it/s]"
      ]
     },
     "metadata": {},
     "output_type": "display_data"
    },
    {
     "name": "stderr",
     "output_type": "stream",
     "text": [
      "/workspace/Project/2021_AI_security/model/cae_conv_id.py:293: UserWarning: Implicit dimension choice for softmax has been deprecated. Change the call to include dim=X as an argument.\n",
      "  prob_batch = F.softmax(input=x_id_hat_batch)\n",
      "[2021-06-11 15:34:34,895][INFO][occ.py:142] Start to transform training features to latent\n",
      "[2021-06-11 15:34:36,974][INFO][occ.py:157] Complete to transform training features to latent\n",
      "[2021-06-11 15:34:36,977][INFO][occ.py:159] Start to train the OCC, rbf_ocsvm\n"
     ]
    },
    {
     "name": "stdout",
     "output_type": "stream",
     "text": [
      "[LibSVM]"
     ]
    },
    {
     "name": "stderr",
     "output_type": "stream",
     "text": [
      "[2021-06-11 15:34:58,489][INFO][occ.py:161] Complete to train the OCC, rbf_ocsvm\n",
      "[2021-06-11 15:34:58,495][INFO][occ.py:168] Start to transform validation features to latent\n",
      "[2021-06-11 15:34:59,915][INFO][occ.py:189] Complete to transform validation features to latent\n",
      "[2021-06-11 15:34:59,916][INFO][occ.py:191] Start to validate the OCC, rbf_ocsvm\n",
      "[2021-06-11 15:35:11,425][INFO][occ.py:194] Complete to validate the OCC, rbf_ocsvm\n",
      "[2021-06-11 15:35:11,466][INFO][callback.py:16] Save checkpoint, Epoch : 33\n",
      "[2021-06-11 15:35:11,473][INFO][callback.py:16] Save checkpoint, Epoch : 33\n"
     ]
    },
    {
     "name": "stdout",
     "output_type": "stream",
     "text": [
      "AUC : 72.96231444940113\n",
      "[Epoch 33]\n",
      " Train - Loss : 0.9135076999664307 | Accuracy : None | Precision : None | Recall : None | F1 : None\n",
      " Val - Loss : 0.9099533557891846 | Accuracy : None | Precision : None | Recall : None | F1 : None\n",
      "Early Stopping [4/40] - Best Epoch : 29 | Best Score : 73.49312591552734\n"
     ]
    },
    {
     "data": {
      "application/vnd.jupyter.widget-view+json": {
       "model_id": "",
       "version_major": 2,
       "version_minor": 0
      },
      "text/plain": [
       "Validating: 0it [00:00, ?it/s]"
      ]
     },
     "metadata": {},
     "output_type": "display_data"
    },
    {
     "name": "stderr",
     "output_type": "stream",
     "text": [
      "/workspace/Project/2021_AI_security/model/cae_conv_id.py:293: UserWarning: Implicit dimension choice for softmax has been deprecated. Change the call to include dim=X as an argument.\n",
      "  prob_batch = F.softmax(input=x_id_hat_batch)\n",
      "[2021-06-11 15:36:29,424][INFO][occ.py:142] Start to transform training features to latent\n",
      "[2021-06-11 15:36:31,591][INFO][occ.py:157] Complete to transform training features to latent\n",
      "[2021-06-11 15:36:31,593][INFO][occ.py:159] Start to train the OCC, rbf_ocsvm\n"
     ]
    },
    {
     "name": "stdout",
     "output_type": "stream",
     "text": [
      "[LibSVM]"
     ]
    },
    {
     "name": "stderr",
     "output_type": "stream",
     "text": [
      "[2021-06-11 15:36:52,761][INFO][occ.py:161] Complete to train the OCC, rbf_ocsvm\n",
      "[2021-06-11 15:36:52,764][INFO][occ.py:168] Start to transform validation features to latent\n",
      "[2021-06-11 15:36:54,153][INFO][occ.py:189] Complete to transform validation features to latent\n",
      "[2021-06-11 15:36:54,154][INFO][occ.py:191] Start to validate the OCC, rbf_ocsvm\n",
      "[2021-06-11 15:37:05,473][INFO][occ.py:194] Complete to validate the OCC, rbf_ocsvm\n",
      "[2021-06-11 15:37:05,520][INFO][callback.py:16] Save checkpoint, Epoch : 34\n",
      "[2021-06-11 15:37:05,528][INFO][callback.py:16] Save checkpoint, Epoch : 34\n"
     ]
    },
    {
     "name": "stdout",
     "output_type": "stream",
     "text": [
      "AUC : 73.16054520060828\n",
      "[Epoch 34]\n",
      " Train - Loss : 0.9103816151618958 | Accuracy : None | Precision : None | Recall : None | F1 : None\n",
      " Val - Loss : 0.8902615904808044 | Accuracy : None | Precision : None | Recall : None | F1 : None\n",
      "Early Stopping [5/40] - Best Epoch : 29 | Best Score : 73.49312591552734\n"
     ]
    },
    {
     "data": {
      "application/vnd.jupyter.widget-view+json": {
       "model_id": "",
       "version_major": 2,
       "version_minor": 0
      },
      "text/plain": [
       "Validating: 0it [00:00, ?it/s]"
      ]
     },
     "metadata": {},
     "output_type": "display_data"
    },
    {
     "name": "stderr",
     "output_type": "stream",
     "text": [
      "/workspace/Project/2021_AI_security/model/cae_conv_id.py:293: UserWarning: Implicit dimension choice for softmax has been deprecated. Change the call to include dim=X as an argument.\n",
      "  prob_batch = F.softmax(input=x_id_hat_batch)\n",
      "[2021-06-11 15:38:22,129][INFO][occ.py:142] Start to transform training features to latent\n",
      "[2021-06-11 15:38:24,296][INFO][occ.py:157] Complete to transform training features to latent\n",
      "[2021-06-11 15:38:24,297][INFO][occ.py:159] Start to train the OCC, rbf_ocsvm\n"
     ]
    },
    {
     "name": "stdout",
     "output_type": "stream",
     "text": [
      "[LibSVM]"
     ]
    },
    {
     "name": "stderr",
     "output_type": "stream",
     "text": [
      "[2021-06-11 15:38:45,544][INFO][occ.py:161] Complete to train the OCC, rbf_ocsvm\n",
      "[2021-06-11 15:38:45,546][INFO][occ.py:168] Start to transform validation features to latent\n",
      "[2021-06-11 15:38:46,963][INFO][occ.py:189] Complete to transform validation features to latent\n",
      "[2021-06-11 15:38:46,968][INFO][occ.py:191] Start to validate the OCC, rbf_ocsvm\n",
      "[2021-06-11 15:38:58,617][INFO][occ.py:194] Complete to validate the OCC, rbf_ocsvm\n",
      "[2021-06-11 15:38:58,669][INFO][callback.py:16] Save checkpoint, Epoch : 35\n",
      "[2021-06-11 15:38:58,676][INFO][callback.py:16] Save checkpoint, Epoch : 35\n"
     ]
    },
    {
     "name": "stdout",
     "output_type": "stream",
     "text": [
      "AUC : 73.33407607172555\n",
      "[Epoch 35]\n",
      " Train - Loss : 0.9084756970405579 | Accuracy : None | Precision : None | Recall : None | F1 : None\n",
      " Val - Loss : 0.8907714486122131 | Accuracy : None | Precision : None | Recall : None | F1 : None\n",
      "Early Stopping [6/40] - Best Epoch : 29 | Best Score : 73.49312591552734\n"
     ]
    },
    {
     "data": {
      "application/vnd.jupyter.widget-view+json": {
       "model_id": "",
       "version_major": 2,
       "version_minor": 0
      },
      "text/plain": [
       "Validating: 0it [00:00, ?it/s]"
      ]
     },
     "metadata": {},
     "output_type": "display_data"
    },
    {
     "name": "stderr",
     "output_type": "stream",
     "text": [
      "/workspace/Project/2021_AI_security/model/cae_conv_id.py:293: UserWarning: Implicit dimension choice for softmax has been deprecated. Change the call to include dim=X as an argument.\n",
      "  prob_batch = F.softmax(input=x_id_hat_batch)\n",
      "[2021-06-11 15:40:15,211][INFO][occ.py:142] Start to transform training features to latent\n",
      "[2021-06-11 15:40:17,460][INFO][occ.py:157] Complete to transform training features to latent\n",
      "[2021-06-11 15:40:17,462][INFO][occ.py:159] Start to train the OCC, rbf_ocsvm\n"
     ]
    },
    {
     "name": "stdout",
     "output_type": "stream",
     "text": [
      "[LibSVM]"
     ]
    },
    {
     "name": "stderr",
     "output_type": "stream",
     "text": [
      "[2021-06-11 15:40:39,044][INFO][occ.py:161] Complete to train the OCC, rbf_ocsvm\n",
      "[2021-06-11 15:40:39,047][INFO][occ.py:168] Start to transform validation features to latent\n",
      "[2021-06-11 15:40:40,536][INFO][occ.py:189] Complete to transform validation features to latent\n",
      "[2021-06-11 15:40:40,540][INFO][occ.py:191] Start to validate the OCC, rbf_ocsvm\n",
      "[2021-06-11 15:40:52,009][INFO][occ.py:194] Complete to validate the OCC, rbf_ocsvm\n",
      "[2021-06-11 15:40:52,049][INFO][callback.py:16] Save checkpoint, Epoch : 36\n",
      "[2021-06-11 15:40:52,056][INFO][callback.py:16] Save checkpoint, Epoch : 36\n"
     ]
    },
    {
     "name": "stdout",
     "output_type": "stream",
     "text": [
      "AUC : 73.35868980947613\n",
      "[Epoch 36]\n",
      " Train - Loss : 0.9042800664901733 | Accuracy : None | Precision : None | Recall : None | F1 : None\n",
      " Val - Loss : 0.8859888315200806 | Accuracy : None | Precision : None | Recall : None | F1 : None\n",
      "Early Stopping [7/40] - Best Epoch : 29 | Best Score : 73.49312591552734\n"
     ]
    },
    {
     "data": {
      "application/vnd.jupyter.widget-view+json": {
       "model_id": "",
       "version_major": 2,
       "version_minor": 0
      },
      "text/plain": [
       "Validating: 0it [00:00, ?it/s]"
      ]
     },
     "metadata": {},
     "output_type": "display_data"
    },
    {
     "name": "stderr",
     "output_type": "stream",
     "text": [
      "/workspace/Project/2021_AI_security/model/cae_conv_id.py:293: UserWarning: Implicit dimension choice for softmax has been deprecated. Change the call to include dim=X as an argument.\n",
      "  prob_batch = F.softmax(input=x_id_hat_batch)\n",
      "[2021-06-11 15:42:08,909][INFO][occ.py:142] Start to transform training features to latent\n",
      "[2021-06-11 15:42:11,174][INFO][occ.py:157] Complete to transform training features to latent\n",
      "[2021-06-11 15:42:11,175][INFO][occ.py:159] Start to train the OCC, rbf_ocsvm\n"
     ]
    },
    {
     "name": "stdout",
     "output_type": "stream",
     "text": [
      "[LibSVM]"
     ]
    },
    {
     "name": "stderr",
     "output_type": "stream",
     "text": [
      "[2021-06-11 15:42:32,445][INFO][occ.py:161] Complete to train the OCC, rbf_ocsvm\n",
      "[2021-06-11 15:42:32,448][INFO][occ.py:168] Start to transform validation features to latent\n",
      "[2021-06-11 15:42:33,915][INFO][occ.py:189] Complete to transform validation features to latent\n",
      "[2021-06-11 15:42:33,916][INFO][occ.py:191] Start to validate the OCC, rbf_ocsvm\n",
      "[2021-06-11 15:42:46,127][INFO][occ.py:194] Complete to validate the OCC, rbf_ocsvm\n",
      "[2021-06-11 15:42:46,157][INFO][callback.py:16] Save checkpoint, Epoch : 37\n"
     ]
    },
    {
     "name": "stdout",
     "output_type": "stream",
     "text": [
      "AUC : 72.9055236765091\n",
      "[Epoch 37]\n",
      " Train - Loss : 0.905211329460144 | Accuracy : None | Precision : None | Recall : None | F1 : None\n",
      " Val - Loss : 0.8909928798675537 | Accuracy : None | Precision : None | Recall : None | F1 : None\n",
      "Early Stopping [8/40] - Best Epoch : 29 | Best Score : 73.49312591552734\n"
     ]
    },
    {
     "data": {
      "application/vnd.jupyter.widget-view+json": {
       "model_id": "",
       "version_major": 2,
       "version_minor": 0
      },
      "text/plain": [
       "Validating: 0it [00:00, ?it/s]"
      ]
     },
     "metadata": {},
     "output_type": "display_data"
    },
    {
     "name": "stderr",
     "output_type": "stream",
     "text": [
      "/workspace/Project/2021_AI_security/model/cae_conv_id.py:293: UserWarning: Implicit dimension choice for softmax has been deprecated. Change the call to include dim=X as an argument.\n",
      "  prob_batch = F.softmax(input=x_id_hat_batch)\n",
      "[2021-06-11 15:44:01,078][INFO][occ.py:142] Start to transform training features to latent\n",
      "[2021-06-11 15:44:03,350][INFO][occ.py:157] Complete to transform training features to latent\n",
      "[2021-06-11 15:44:03,352][INFO][occ.py:159] Start to train the OCC, rbf_ocsvm\n"
     ]
    },
    {
     "name": "stdout",
     "output_type": "stream",
     "text": [
      "[LibSVM]"
     ]
    },
    {
     "name": "stderr",
     "output_type": "stream",
     "text": [
      "[2021-06-11 15:44:24,911][INFO][occ.py:161] Complete to train the OCC, rbf_ocsvm\n",
      "[2021-06-11 15:44:24,914][INFO][occ.py:168] Start to transform validation features to latent\n",
      "[2021-06-11 15:44:26,390][INFO][occ.py:189] Complete to transform validation features to latent\n",
      "[2021-06-11 15:44:26,392][INFO][occ.py:191] Start to validate the OCC, rbf_ocsvm\n",
      "[2021-06-11 15:44:38,184][INFO][occ.py:194] Complete to validate the OCC, rbf_ocsvm\n",
      "[2021-06-11 15:44:38,216][INFO][callback.py:16] Save checkpoint, Epoch : 38\n"
     ]
    },
    {
     "name": "stdout",
     "output_type": "stream",
     "text": [
      "AUC : 72.73342276822427\n",
      "[Epoch 38]\n",
      " Train - Loss : 0.9037901759147644 | Accuracy : None | Precision : None | Recall : None | F1 : None\n",
      " Val - Loss : 0.8740999102592468 | Accuracy : None | Precision : None | Recall : None | F1 : None\n",
      "Early Stopping [9/40] - Best Epoch : 29 | Best Score : 73.49312591552734\n"
     ]
    },
    {
     "data": {
      "application/vnd.jupyter.widget-view+json": {
       "model_id": "",
       "version_major": 2,
       "version_minor": 0
      },
      "text/plain": [
       "Validating: 0it [00:00, ?it/s]"
      ]
     },
     "metadata": {},
     "output_type": "display_data"
    },
    {
     "name": "stderr",
     "output_type": "stream",
     "text": [
      "/workspace/Project/2021_AI_security/model/cae_conv_id.py:293: UserWarning: Implicit dimension choice for softmax has been deprecated. Change the call to include dim=X as an argument.\n",
      "  prob_batch = F.softmax(input=x_id_hat_batch)\n",
      "[2021-06-11 15:45:57,114][INFO][occ.py:142] Start to transform training features to latent\n",
      "[2021-06-11 15:45:59,415][INFO][occ.py:157] Complete to transform training features to latent\n",
      "[2021-06-11 15:45:59,417][INFO][occ.py:159] Start to train the OCC, rbf_ocsvm\n"
     ]
    },
    {
     "name": "stdout",
     "output_type": "stream",
     "text": [
      "[LibSVM]"
     ]
    },
    {
     "name": "stderr",
     "output_type": "stream",
     "text": [
      "[2021-06-11 15:46:22,097][INFO][occ.py:161] Complete to train the OCC, rbf_ocsvm\n",
      "[2021-06-11 15:46:22,099][INFO][occ.py:168] Start to transform validation features to latent\n",
      "[2021-06-11 15:46:23,546][INFO][occ.py:189] Complete to transform validation features to latent\n",
      "[2021-06-11 15:46:23,548][INFO][occ.py:191] Start to validate the OCC, rbf_ocsvm\n",
      "[2021-06-11 15:46:34,769][INFO][occ.py:194] Complete to validate the OCC, rbf_ocsvm\n",
      "[2021-06-11 15:46:34,812][INFO][callback.py:16] Save checkpoint, Epoch : 39\n",
      "[2021-06-11 15:46:34,818][INFO][callback.py:16] Save checkpoint, Epoch : 39\n"
     ]
    },
    {
     "name": "stdout",
     "output_type": "stream",
     "text": [
      "AUC : 73.7985440796093\n",
      "[Epoch 39]\n",
      " Train - Loss : 0.8985329270362854 | Accuracy : None | Precision : None | Recall : None | F1 : None\n",
      " Val - Loss : 0.886322021484375 | Accuracy : None | Precision : None | Recall : None | F1 : None\n",
      "Early Stopping [0/40] - Best Epoch : 39 | Best Score : 73.79854583740234\n"
     ]
    },
    {
     "data": {
      "application/vnd.jupyter.widget-view+json": {
       "model_id": "",
       "version_major": 2,
       "version_minor": 0
      },
      "text/plain": [
       "Validating: 0it [00:00, ?it/s]"
      ]
     },
     "metadata": {},
     "output_type": "display_data"
    },
    {
     "name": "stderr",
     "output_type": "stream",
     "text": [
      "/workspace/Project/2021_AI_security/model/cae_conv_id.py:293: UserWarning: Implicit dimension choice for softmax has been deprecated. Change the call to include dim=X as an argument.\n",
      "  prob_batch = F.softmax(input=x_id_hat_batch)\n",
      "[2021-06-11 15:47:53,415][INFO][occ.py:142] Start to transform training features to latent\n",
      "[2021-06-11 15:47:55,896][INFO][occ.py:157] Complete to transform training features to latent\n",
      "[2021-06-11 15:47:55,898][INFO][occ.py:159] Start to train the OCC, rbf_ocsvm\n"
     ]
    },
    {
     "name": "stdout",
     "output_type": "stream",
     "text": [
      "[LibSVM]"
     ]
    },
    {
     "name": "stderr",
     "output_type": "stream",
     "text": [
      "[2021-06-11 15:48:18,303][INFO][occ.py:161] Complete to train the OCC, rbf_ocsvm\n",
      "[2021-06-11 15:48:18,309][INFO][occ.py:168] Start to transform validation features to latent\n",
      "[2021-06-11 15:48:19,933][INFO][occ.py:189] Complete to transform validation features to latent\n",
      "[2021-06-11 15:48:19,935][INFO][occ.py:191] Start to validate the OCC, rbf_ocsvm\n",
      "[2021-06-11 15:48:31,922][INFO][occ.py:194] Complete to validate the OCC, rbf_ocsvm\n",
      "[2021-06-11 15:48:31,955][INFO][callback.py:16] Save checkpoint, Epoch : 40\n",
      "[2021-06-11 15:48:31,962][INFO][callback.py:16] Save checkpoint, Epoch : 40\n"
     ]
    },
    {
     "name": "stdout",
     "output_type": "stream",
     "text": [
      "AUC : 73.9093575848904\n",
      "[Epoch 40]\n",
      " Train - Loss : 0.8976223468780518 | Accuracy : None | Precision : None | Recall : None | F1 : None\n",
      " Val - Loss : 0.881283164024353 | Accuracy : None | Precision : None | Recall : None | F1 : None\n",
      "Early Stopping [0/40] - Best Epoch : 40 | Best Score : 73.90935516357422\n"
     ]
    },
    {
     "data": {
      "application/vnd.jupyter.widget-view+json": {
       "model_id": "",
       "version_major": 2,
       "version_minor": 0
      },
      "text/plain": [
       "Validating: 0it [00:00, ?it/s]"
      ]
     },
     "metadata": {},
     "output_type": "display_data"
    },
    {
     "name": "stderr",
     "output_type": "stream",
     "text": [
      "/workspace/Project/2021_AI_security/model/cae_conv_id.py:293: UserWarning: Implicit dimension choice for softmax has been deprecated. Change the call to include dim=X as an argument.\n",
      "  prob_batch = F.softmax(input=x_id_hat_batch)\n",
      "[2021-06-11 15:49:48,383][INFO][occ.py:142] Start to transform training features to latent\n",
      "[2021-06-11 15:49:50,625][INFO][occ.py:157] Complete to transform training features to latent\n",
      "[2021-06-11 15:49:50,626][INFO][occ.py:159] Start to train the OCC, rbf_ocsvm\n"
     ]
    },
    {
     "name": "stdout",
     "output_type": "stream",
     "text": [
      "[LibSVM]"
     ]
    },
    {
     "name": "stderr",
     "output_type": "stream",
     "text": [
      "[2021-06-11 15:50:12,524][INFO][occ.py:161] Complete to train the OCC, rbf_ocsvm\n",
      "[2021-06-11 15:50:12,529][INFO][occ.py:168] Start to transform validation features to latent\n",
      "[2021-06-11 15:50:14,173][INFO][occ.py:189] Complete to transform validation features to latent\n",
      "[2021-06-11 15:50:14,174][INFO][occ.py:191] Start to validate the OCC, rbf_ocsvm\n",
      "[2021-06-11 15:50:26,079][INFO][occ.py:194] Complete to validate the OCC, rbf_ocsvm\n",
      "[2021-06-11 15:50:26,112][INFO][callback.py:16] Save checkpoint, Epoch : 41\n",
      "[2021-06-11 15:50:26,119][INFO][callback.py:16] Save checkpoint, Epoch : 41\n"
     ]
    },
    {
     "name": "stdout",
     "output_type": "stream",
     "text": [
      "AUC : 73.36780366897452\n",
      "[Epoch 41]\n",
      " Train - Loss : 0.897365927696228 | Accuracy : None | Precision : None | Recall : None | F1 : None\n",
      " Val - Loss : 0.8872095346450806 | Accuracy : None | Precision : None | Recall : None | F1 : None\n",
      "Early Stopping [1/40] - Best Epoch : 40 | Best Score : 73.90935516357422\n"
     ]
    },
    {
     "data": {
      "application/vnd.jupyter.widget-view+json": {
       "model_id": "",
       "version_major": 2,
       "version_minor": 0
      },
      "text/plain": [
       "Validating: 0it [00:00, ?it/s]"
      ]
     },
     "metadata": {},
     "output_type": "display_data"
    },
    {
     "name": "stderr",
     "output_type": "stream",
     "text": [
      "/workspace/Project/2021_AI_security/model/cae_conv_id.py:293: UserWarning: Implicit dimension choice for softmax has been deprecated. Change the call to include dim=X as an argument.\n",
      "  prob_batch = F.softmax(input=x_id_hat_batch)\n",
      "[2021-06-11 15:51:40,855][INFO][occ.py:142] Start to transform training features to latent\n",
      "[2021-06-11 15:51:43,226][INFO][occ.py:157] Complete to transform training features to latent\n",
      "[2021-06-11 15:51:43,228][INFO][occ.py:159] Start to train the OCC, rbf_ocsvm\n"
     ]
    },
    {
     "name": "stdout",
     "output_type": "stream",
     "text": [
      "[LibSVM]"
     ]
    },
    {
     "name": "stderr",
     "output_type": "stream",
     "text": [
      "[2021-06-11 15:52:06,304][INFO][occ.py:161] Complete to train the OCC, rbf_ocsvm\n",
      "[2021-06-11 15:52:06,307][INFO][occ.py:168] Start to transform validation features to latent\n",
      "[2021-06-11 15:52:08,149][INFO][occ.py:189] Complete to transform validation features to latent\n",
      "[2021-06-11 15:52:08,156][INFO][occ.py:191] Start to validate the OCC, rbf_ocsvm\n",
      "[2021-06-11 15:52:20,060][INFO][occ.py:194] Complete to validate the OCC, rbf_ocsvm\n",
      "[2021-06-11 15:52:20,109][INFO][callback.py:16] Save checkpoint, Epoch : 42\n",
      "[2021-06-11 15:52:20,118][INFO][callback.py:16] Save checkpoint, Epoch : 42\n"
     ]
    },
    {
     "name": "stdout",
     "output_type": "stream",
     "text": [
      "AUC : 73.7996179874393\n",
      "[Epoch 42]\n",
      " Train - Loss : 0.8993106484413147 | Accuracy : None | Precision : None | Recall : None | F1 : None\n",
      " Val - Loss : 0.8797360062599182 | Accuracy : None | Precision : None | Recall : None | F1 : None\n",
      "Early Stopping [2/40] - Best Epoch : 40 | Best Score : 73.90935516357422\n"
     ]
    },
    {
     "data": {
      "application/vnd.jupyter.widget-view+json": {
       "model_id": "",
       "version_major": 2,
       "version_minor": 0
      },
      "text/plain": [
       "Validating: 0it [00:00, ?it/s]"
      ]
     },
     "metadata": {},
     "output_type": "display_data"
    },
    {
     "name": "stderr",
     "output_type": "stream",
     "text": [
      "/workspace/Project/2021_AI_security/model/cae_conv_id.py:293: UserWarning: Implicit dimension choice for softmax has been deprecated. Change the call to include dim=X as an argument.\n",
      "  prob_batch = F.softmax(input=x_id_hat_batch)\n",
      "[2021-06-11 15:53:33,665][INFO][occ.py:142] Start to transform training features to latent\n",
      "[2021-06-11 15:53:35,909][INFO][occ.py:157] Complete to transform training features to latent\n",
      "[2021-06-11 15:53:35,911][INFO][occ.py:159] Start to train the OCC, rbf_ocsvm\n"
     ]
    },
    {
     "name": "stdout",
     "output_type": "stream",
     "text": [
      "[LibSVM]"
     ]
    },
    {
     "name": "stderr",
     "output_type": "stream",
     "text": [
      "[2021-06-11 15:53:57,395][INFO][occ.py:161] Complete to train the OCC, rbf_ocsvm\n",
      "[2021-06-11 15:53:57,399][INFO][occ.py:168] Start to transform validation features to latent\n",
      "[2021-06-11 15:53:58,912][INFO][occ.py:189] Complete to transform validation features to latent\n",
      "[2021-06-11 15:53:58,914][INFO][occ.py:191] Start to validate the OCC, rbf_ocsvm\n",
      "[2021-06-11 15:54:10,363][INFO][occ.py:194] Complete to validate the OCC, rbf_ocsvm\n",
      "[2021-06-11 15:54:10,397][INFO][callback.py:16] Save checkpoint, Epoch : 43\n",
      "[2021-06-11 15:54:10,403][INFO][callback.py:16] Save checkpoint, Epoch : 43\n"
     ]
    },
    {
     "name": "stdout",
     "output_type": "stream",
     "text": [
      "AUC : 74.51760864271833\n",
      "[Epoch 43]\n",
      " Train - Loss : 0.8993160724639893 | Accuracy : None | Precision : None | Recall : None | F1 : None\n",
      " Val - Loss : 0.8845517039299011 | Accuracy : None | Precision : None | Recall : None | F1 : None\n",
      "Early Stopping [0/40] - Best Epoch : 43 | Best Score : 74.51760864257812\n"
     ]
    },
    {
     "data": {
      "application/vnd.jupyter.widget-view+json": {
       "model_id": "",
       "version_major": 2,
       "version_minor": 0
      },
      "text/plain": [
       "Validating: 0it [00:00, ?it/s]"
      ]
     },
     "metadata": {},
     "output_type": "display_data"
    },
    {
     "name": "stderr",
     "output_type": "stream",
     "text": [
      "/workspace/Project/2021_AI_security/model/cae_conv_id.py:293: UserWarning: Implicit dimension choice for softmax has been deprecated. Change the call to include dim=X as an argument.\n",
      "  prob_batch = F.softmax(input=x_id_hat_batch)\n",
      "[2021-06-11 15:55:23,809][INFO][occ.py:142] Start to transform training features to latent\n",
      "[2021-06-11 15:55:26,039][INFO][occ.py:157] Complete to transform training features to latent\n",
      "[2021-06-11 15:55:26,041][INFO][occ.py:159] Start to train the OCC, rbf_ocsvm\n"
     ]
    },
    {
     "name": "stdout",
     "output_type": "stream",
     "text": [
      "[LibSVM]"
     ]
    },
    {
     "name": "stderr",
     "output_type": "stream",
     "text": [
      "[2021-06-11 15:55:48,950][INFO][occ.py:161] Complete to train the OCC, rbf_ocsvm\n",
      "[2021-06-11 15:55:48,952][INFO][occ.py:168] Start to transform validation features to latent\n",
      "[2021-06-11 15:55:50,480][INFO][occ.py:189] Complete to transform validation features to latent\n",
      "[2021-06-11 15:55:50,482][INFO][occ.py:191] Start to validate the OCC, rbf_ocsvm\n",
      "[2021-06-11 15:56:02,738][INFO][occ.py:194] Complete to validate the OCC, rbf_ocsvm\n",
      "[2021-06-11 15:56:02,774][INFO][callback.py:16] Save checkpoint, Epoch : 44\n",
      "[2021-06-11 15:56:02,781][INFO][callback.py:16] Save checkpoint, Epoch : 44\n"
     ]
    },
    {
     "name": "stdout",
     "output_type": "stream",
     "text": [
      "AUC : 73.97658306648351\n",
      "[Epoch 44]\n",
      " Train - Loss : 0.8976813554763794 | Accuracy : None | Precision : None | Recall : None | F1 : None\n",
      " Val - Loss : 0.898005485534668 | Accuracy : None | Precision : None | Recall : None | F1 : None\n",
      "Early Stopping [1/40] - Best Epoch : 43 | Best Score : 74.51760864257812\n"
     ]
    },
    {
     "data": {
      "application/vnd.jupyter.widget-view+json": {
       "model_id": "",
       "version_major": 2,
       "version_minor": 0
      },
      "text/plain": [
       "Validating: 0it [00:00, ?it/s]"
      ]
     },
     "metadata": {},
     "output_type": "display_data"
    },
    {
     "name": "stderr",
     "output_type": "stream",
     "text": [
      "/workspace/Project/2021_AI_security/model/cae_conv_id.py:293: UserWarning: Implicit dimension choice for softmax has been deprecated. Change the call to include dim=X as an argument.\n",
      "  prob_batch = F.softmax(input=x_id_hat_batch)\n",
      "[2021-06-11 15:57:15,751][INFO][occ.py:142] Start to transform training features to latent\n",
      "[2021-06-11 15:57:18,042][INFO][occ.py:157] Complete to transform training features to latent\n",
      "[2021-06-11 15:57:18,044][INFO][occ.py:159] Start to train the OCC, rbf_ocsvm\n"
     ]
    },
    {
     "name": "stdout",
     "output_type": "stream",
     "text": [
      "[LibSVM]"
     ]
    },
    {
     "name": "stderr",
     "output_type": "stream",
     "text": [
      "[2021-06-11 15:57:39,918][INFO][occ.py:161] Complete to train the OCC, rbf_ocsvm\n",
      "[2021-06-11 15:57:39,921][INFO][occ.py:168] Start to transform validation features to latent\n",
      "[2021-06-11 15:57:41,258][INFO][occ.py:189] Complete to transform validation features to latent\n",
      "[2021-06-11 15:57:41,260][INFO][occ.py:191] Start to validate the OCC, rbf_ocsvm\n",
      "[2021-06-11 15:57:52,817][INFO][occ.py:194] Complete to validate the OCC, rbf_ocsvm\n",
      "[2021-06-11 15:57:52,851][INFO][callback.py:16] Save checkpoint, Epoch : 45\n",
      "[2021-06-11 15:57:52,860][INFO][callback.py:16] Save checkpoint, Epoch : 45\n"
     ]
    },
    {
     "name": "stdout",
     "output_type": "stream",
     "text": [
      "AUC : 73.83173759435458\n",
      "[Epoch 45]\n",
      " Train - Loss : 0.8948017358779907 | Accuracy : None | Precision : None | Recall : None | F1 : None\n",
      " Val - Loss : 0.8878651261329651 | Accuracy : None | Precision : None | Recall : None | F1 : None\n",
      "Early Stopping [2/40] - Best Epoch : 43 | Best Score : 74.51760864257812\n"
     ]
    },
    {
     "data": {
      "application/vnd.jupyter.widget-view+json": {
       "model_id": "",
       "version_major": 2,
       "version_minor": 0
      },
      "text/plain": [
       "Validating: 0it [00:00, ?it/s]"
      ]
     },
     "metadata": {},
     "output_type": "display_data"
    },
    {
     "name": "stderr",
     "output_type": "stream",
     "text": [
      "/workspace/Project/2021_AI_security/model/cae_conv_id.py:293: UserWarning: Implicit dimension choice for softmax has been deprecated. Change the call to include dim=X as an argument.\n",
      "  prob_batch = F.softmax(input=x_id_hat_batch)\n",
      "[2021-06-11 15:59:04,793][INFO][occ.py:142] Start to transform training features to latent\n",
      "[2021-06-11 15:59:07,176][INFO][occ.py:157] Complete to transform training features to latent\n",
      "[2021-06-11 15:59:07,177][INFO][occ.py:159] Start to train the OCC, rbf_ocsvm\n"
     ]
    },
    {
     "name": "stdout",
     "output_type": "stream",
     "text": [
      "[LibSVM]"
     ]
    },
    {
     "name": "stderr",
     "output_type": "stream",
     "text": [
      "[2021-06-11 15:59:29,605][INFO][occ.py:161] Complete to train the OCC, rbf_ocsvm\n",
      "[2021-06-11 15:59:29,608][INFO][occ.py:168] Start to transform validation features to latent\n",
      "[2021-06-11 15:59:31,033][INFO][occ.py:189] Complete to transform validation features to latent\n",
      "[2021-06-11 15:59:31,035][INFO][occ.py:191] Start to validate the OCC, rbf_ocsvm\n",
      "[2021-06-11 15:59:42,550][INFO][occ.py:194] Complete to validate the OCC, rbf_ocsvm\n",
      "[2021-06-11 15:59:42,583][INFO][callback.py:16] Save checkpoint, Epoch : 46\n",
      "[2021-06-11 15:59:42,590][INFO][callback.py:16] Save checkpoint, Epoch : 46\n"
     ]
    },
    {
     "name": "stdout",
     "output_type": "stream",
     "text": [
      "AUC : 74.19784253639801\n",
      "[Epoch 46]\n",
      " Train - Loss : 0.8903329372406006 | Accuracy : None | Precision : None | Recall : None | F1 : None\n",
      " Val - Loss : 0.8756254315376282 | Accuracy : None | Precision : None | Recall : None | F1 : None\n",
      "Early Stopping [3/40] - Best Epoch : 43 | Best Score : 74.51760864257812\n"
     ]
    },
    {
     "data": {
      "application/vnd.jupyter.widget-view+json": {
       "model_id": "",
       "version_major": 2,
       "version_minor": 0
      },
      "text/plain": [
       "Validating: 0it [00:00, ?it/s]"
      ]
     },
     "metadata": {},
     "output_type": "display_data"
    },
    {
     "name": "stderr",
     "output_type": "stream",
     "text": [
      "/workspace/Project/2021_AI_security/model/cae_conv_id.py:293: UserWarning: Implicit dimension choice for softmax has been deprecated. Change the call to include dim=X as an argument.\n",
      "  prob_batch = F.softmax(input=x_id_hat_batch)\n",
      "[2021-06-11 16:00:54,718][INFO][occ.py:142] Start to transform training features to latent\n",
      "[2021-06-11 16:00:57,030][INFO][occ.py:157] Complete to transform training features to latent\n",
      "[2021-06-11 16:00:57,035][INFO][occ.py:159] Start to train the OCC, rbf_ocsvm\n"
     ]
    },
    {
     "name": "stdout",
     "output_type": "stream",
     "text": [
      "[LibSVM]"
     ]
    },
    {
     "name": "stderr",
     "output_type": "stream",
     "text": [
      "[2021-06-11 16:01:19,154][INFO][occ.py:161] Complete to train the OCC, rbf_ocsvm\n",
      "[2021-06-11 16:01:19,160][INFO][occ.py:168] Start to transform validation features to latent\n",
      "[2021-06-11 16:01:20,668][INFO][occ.py:189] Complete to transform validation features to latent\n",
      "[2021-06-11 16:01:20,669][INFO][occ.py:191] Start to validate the OCC, rbf_ocsvm\n",
      "[2021-06-11 16:01:32,332][INFO][occ.py:194] Complete to validate the OCC, rbf_ocsvm\n",
      "[2021-06-11 16:01:32,370][INFO][callback.py:16] Save checkpoint, Epoch : 47\n",
      "[2021-06-11 16:01:32,376][INFO][callback.py:16] Save checkpoint, Epoch : 47\n"
     ]
    },
    {
     "name": "stdout",
     "output_type": "stream",
     "text": [
      "AUC : 74.13244327239815\n",
      "[Epoch 47]\n",
      " Train - Loss : 0.8902299404144287 | Accuracy : None | Precision : None | Recall : None | F1 : None\n",
      " Val - Loss : 0.8970006108283997 | Accuracy : None | Precision : None | Recall : None | F1 : None\n",
      "Early Stopping [4/40] - Best Epoch : 43 | Best Score : 74.51760864257812\n"
     ]
    },
    {
     "data": {
      "application/vnd.jupyter.widget-view+json": {
       "model_id": "",
       "version_major": 2,
       "version_minor": 0
      },
      "text/plain": [
       "Validating: 0it [00:00, ?it/s]"
      ]
     },
     "metadata": {},
     "output_type": "display_data"
    },
    {
     "name": "stderr",
     "output_type": "stream",
     "text": [
      "/workspace/Project/2021_AI_security/model/cae_conv_id.py:293: UserWarning: Implicit dimension choice for softmax has been deprecated. Change the call to include dim=X as an argument.\n",
      "  prob_batch = F.softmax(input=x_id_hat_batch)\n",
      "[2021-06-11 16:02:42,328][INFO][occ.py:142] Start to transform training features to latent\n",
      "[2021-06-11 16:02:44,641][INFO][occ.py:157] Complete to transform training features to latent\n",
      "[2021-06-11 16:02:44,643][INFO][occ.py:159] Start to train the OCC, rbf_ocsvm\n"
     ]
    },
    {
     "name": "stdout",
     "output_type": "stream",
     "text": [
      "[LibSVM]"
     ]
    },
    {
     "name": "stderr",
     "output_type": "stream",
     "text": [
      "[2021-06-11 16:03:07,350][INFO][occ.py:161] Complete to train the OCC, rbf_ocsvm\n",
      "[2021-06-11 16:03:07,353][INFO][occ.py:168] Start to transform validation features to latent\n",
      "[2021-06-11 16:03:08,775][INFO][occ.py:189] Complete to transform validation features to latent\n",
      "[2021-06-11 16:03:08,776][INFO][occ.py:191] Start to validate the OCC, rbf_ocsvm\n",
      "[2021-06-11 16:03:20,500][INFO][occ.py:194] Complete to validate the OCC, rbf_ocsvm\n",
      "[2021-06-11 16:03:20,534][INFO][callback.py:16] Save checkpoint, Epoch : 48\n",
      "[2021-06-11 16:03:20,541][INFO][callback.py:16] Save checkpoint, Epoch : 48\n"
     ]
    },
    {
     "name": "stdout",
     "output_type": "stream",
     "text": [
      "AUC : 74.0790177935616\n",
      "[Epoch 48]\n",
      " Train - Loss : 0.8851580023765564 | Accuracy : None | Precision : None | Recall : None | F1 : None\n",
      " Val - Loss : 0.8588393926620483 | Accuracy : None | Precision : None | Recall : None | F1 : None\n",
      "Early Stopping [5/40] - Best Epoch : 43 | Best Score : 74.51760864257812\n"
     ]
    },
    {
     "data": {
      "application/vnd.jupyter.widget-view+json": {
       "model_id": "",
       "version_major": 2,
       "version_minor": 0
      },
      "text/plain": [
       "Validating: 0it [00:00, ?it/s]"
      ]
     },
     "metadata": {},
     "output_type": "display_data"
    },
    {
     "name": "stderr",
     "output_type": "stream",
     "text": [
      "/workspace/Project/2021_AI_security/model/cae_conv_id.py:293: UserWarning: Implicit dimension choice for softmax has been deprecated. Change the call to include dim=X as an argument.\n",
      "  prob_batch = F.softmax(input=x_id_hat_batch)\n",
      "[2021-06-11 16:04:31,277][INFO][occ.py:142] Start to transform training features to latent\n",
      "[2021-06-11 16:04:33,473][INFO][occ.py:157] Complete to transform training features to latent\n",
      "[2021-06-11 16:04:33,475][INFO][occ.py:159] Start to train the OCC, rbf_ocsvm\n"
     ]
    },
    {
     "name": "stdout",
     "output_type": "stream",
     "text": [
      "[LibSVM]"
     ]
    },
    {
     "name": "stderr",
     "output_type": "stream",
     "text": [
      "[2021-06-11 16:04:56,041][INFO][occ.py:161] Complete to train the OCC, rbf_ocsvm\n",
      "[2021-06-11 16:04:56,042][INFO][occ.py:168] Start to transform validation features to latent\n",
      "[2021-06-11 16:04:57,667][INFO][occ.py:189] Complete to transform validation features to latent\n",
      "[2021-06-11 16:04:57,669][INFO][occ.py:191] Start to validate the OCC, rbf_ocsvm\n",
      "[2021-06-11 16:05:09,980][INFO][occ.py:194] Complete to validate the OCC, rbf_ocsvm\n",
      "[2021-06-11 16:05:10,023][INFO][callback.py:16] Save checkpoint, Epoch : 49\n",
      "[2021-06-11 16:05:10,032][INFO][callback.py:16] Save checkpoint, Epoch : 49\n"
     ]
    },
    {
     "name": "stdout",
     "output_type": "stream",
     "text": [
      "AUC : 74.16482130633135\n",
      "[Epoch 49]\n",
      " Train - Loss : 0.8818079829216003 | Accuracy : None | Precision : None | Recall : None | F1 : None\n",
      " Val - Loss : 0.8931580781936646 | Accuracy : None | Precision : None | Recall : None | F1 : None\n",
      "Early Stopping [6/40] - Best Epoch : 43 | Best Score : 74.51760864257812\n"
     ]
    },
    {
     "data": {
      "application/vnd.jupyter.widget-view+json": {
       "model_id": "",
       "version_major": 2,
       "version_minor": 0
      },
      "text/plain": [
       "Validating: 0it [00:00, ?it/s]"
      ]
     },
     "metadata": {},
     "output_type": "display_data"
    },
    {
     "name": "stderr",
     "output_type": "stream",
     "text": [
      "/workspace/Project/2021_AI_security/model/cae_conv_id.py:293: UserWarning: Implicit dimension choice for softmax has been deprecated. Change the call to include dim=X as an argument.\n",
      "  prob_batch = F.softmax(input=x_id_hat_batch)\n",
      "[2021-06-11 16:06:20,684][INFO][occ.py:142] Start to transform training features to latent\n",
      "[2021-06-11 16:06:23,193][INFO][occ.py:157] Complete to transform training features to latent\n",
      "[2021-06-11 16:06:23,195][INFO][occ.py:159] Start to train the OCC, rbf_ocsvm\n"
     ]
    },
    {
     "name": "stdout",
     "output_type": "stream",
     "text": [
      "[LibSVM]"
     ]
    },
    {
     "name": "stderr",
     "output_type": "stream",
     "text": [
      "[2021-06-11 16:06:46,709][INFO][occ.py:161] Complete to train the OCC, rbf_ocsvm\n",
      "[2021-06-11 16:06:46,711][INFO][occ.py:168] Start to transform validation features to latent\n",
      "[2021-06-11 16:06:48,217][INFO][occ.py:189] Complete to transform validation features to latent\n",
      "[2021-06-11 16:06:48,218][INFO][occ.py:191] Start to validate the OCC, rbf_ocsvm\n",
      "[2021-06-11 16:07:00,426][INFO][occ.py:194] Complete to validate the OCC, rbf_ocsvm\n",
      "[2021-06-11 16:07:00,456][INFO][callback.py:16] Save checkpoint, Epoch : 50\n",
      "[2021-06-11 16:07:00,465][INFO][callback.py:16] Save checkpoint, Epoch : 50\n"
     ]
    },
    {
     "name": "stdout",
     "output_type": "stream",
     "text": [
      "AUC : 74.91148587495348\n",
      "[Epoch 50]\n",
      " Train - Loss : 0.8795580863952637 | Accuracy : None | Precision : None | Recall : None | F1 : None\n",
      " Val - Loss : 0.8767890334129333 | Accuracy : None | Precision : None | Recall : None | F1 : None\n",
      "Early Stopping [0/40] - Best Epoch : 50 | Best Score : 74.91148376464844\n"
     ]
    },
    {
     "data": {
      "application/vnd.jupyter.widget-view+json": {
       "model_id": "",
       "version_major": 2,
       "version_minor": 0
      },
      "text/plain": [
       "Validating: 0it [00:00, ?it/s]"
      ]
     },
     "metadata": {},
     "output_type": "display_data"
    },
    {
     "name": "stderr",
     "output_type": "stream",
     "text": [
      "/workspace/Project/2021_AI_security/model/cae_conv_id.py:293: UserWarning: Implicit dimension choice for softmax has been deprecated. Change the call to include dim=X as an argument.\n",
      "  prob_batch = F.softmax(input=x_id_hat_batch)\n",
      "[2021-06-11 16:08:12,420][INFO][occ.py:142] Start to transform training features to latent\n",
      "[2021-06-11 16:08:14,965][INFO][occ.py:157] Complete to transform training features to latent\n",
      "[2021-06-11 16:08:14,967][INFO][occ.py:159] Start to train the OCC, rbf_ocsvm\n"
     ]
    },
    {
     "name": "stdout",
     "output_type": "stream",
     "text": [
      "[LibSVM]"
     ]
    },
    {
     "name": "stderr",
     "output_type": "stream",
     "text": [
      "[2021-06-11 16:08:37,494][INFO][occ.py:161] Complete to train the OCC, rbf_ocsvm\n",
      "[2021-06-11 16:08:37,501][INFO][occ.py:168] Start to transform validation features to latent\n",
      "[2021-06-11 16:08:39,057][INFO][occ.py:189] Complete to transform validation features to latent\n",
      "[2021-06-11 16:08:39,059][INFO][occ.py:191] Start to validate the OCC, rbf_ocsvm\n",
      "[2021-06-11 16:08:51,660][INFO][occ.py:194] Complete to validate the OCC, rbf_ocsvm\n",
      "[2021-06-11 16:08:51,695][INFO][callback.py:16] Save checkpoint, Epoch : 51\n",
      "[2021-06-11 16:08:51,702][INFO][callback.py:16] Save checkpoint, Epoch : 51\n"
     ]
    },
    {
     "name": "stdout",
     "output_type": "stream",
     "text": [
      "AUC : 74.2165469096723\n",
      "[Epoch 51]\n",
      " Train - Loss : 0.8777326941490173 | Accuracy : None | Precision : None | Recall : None | F1 : None\n",
      " Val - Loss : 0.8709403872489929 | Accuracy : None | Precision : None | Recall : None | F1 : None\n",
      "Early Stopping [1/40] - Best Epoch : 50 | Best Score : 74.91148376464844\n"
     ]
    },
    {
     "data": {
      "application/vnd.jupyter.widget-view+json": {
       "model_id": "",
       "version_major": 2,
       "version_minor": 0
      },
      "text/plain": [
       "Validating: 0it [00:00, ?it/s]"
      ]
     },
     "metadata": {},
     "output_type": "display_data"
    },
    {
     "name": "stderr",
     "output_type": "stream",
     "text": [
      "/workspace/Project/2021_AI_security/model/cae_conv_id.py:293: UserWarning: Implicit dimension choice for softmax has been deprecated. Change the call to include dim=X as an argument.\n",
      "  prob_batch = F.softmax(input=x_id_hat_batch)\n",
      "[2021-06-11 16:10:03,771][INFO][occ.py:142] Start to transform training features to latent\n",
      "[2021-06-11 16:10:06,190][INFO][occ.py:157] Complete to transform training features to latent\n",
      "[2021-06-11 16:10:06,191][INFO][occ.py:159] Start to train the OCC, rbf_ocsvm\n"
     ]
    },
    {
     "name": "stdout",
     "output_type": "stream",
     "text": [
      "[LibSVM]"
     ]
    },
    {
     "name": "stderr",
     "output_type": "stream",
     "text": [
      "[2021-06-11 16:10:29,535][INFO][occ.py:161] Complete to train the OCC, rbf_ocsvm\n",
      "[2021-06-11 16:10:29,538][INFO][occ.py:168] Start to transform validation features to latent\n",
      "[2021-06-11 16:10:31,070][INFO][occ.py:189] Complete to transform validation features to latent\n",
      "[2021-06-11 16:10:31,071][INFO][occ.py:191] Start to validate the OCC, rbf_ocsvm\n",
      "[2021-06-11 16:10:43,398][INFO][occ.py:194] Complete to validate the OCC, rbf_ocsvm\n",
      "[2021-06-11 16:10:43,442][INFO][callback.py:16] Save checkpoint, Epoch : 52\n",
      "[2021-06-11 16:10:43,449][INFO][callback.py:16] Save checkpoint, Epoch : 52\n"
     ]
    },
    {
     "name": "stdout",
     "output_type": "stream",
     "text": [
      "AUC : 74.33706004235907\n",
      "[Epoch 52]\n",
      " Train - Loss : 0.8758593201637268 | Accuracy : None | Precision : None | Recall : None | F1 : None\n",
      " Val - Loss : 0.8875437378883362 | Accuracy : None | Precision : None | Recall : None | F1 : None\n",
      "Early Stopping [2/40] - Best Epoch : 50 | Best Score : 74.91148376464844\n"
     ]
    },
    {
     "data": {
      "application/vnd.jupyter.widget-view+json": {
       "model_id": "",
       "version_major": 2,
       "version_minor": 0
      },
      "text/plain": [
       "Validating: 0it [00:00, ?it/s]"
      ]
     },
     "metadata": {},
     "output_type": "display_data"
    },
    {
     "name": "stderr",
     "output_type": "stream",
     "text": [
      "/workspace/Project/2021_AI_security/model/cae_conv_id.py:293: UserWarning: Implicit dimension choice for softmax has been deprecated. Change the call to include dim=X as an argument.\n",
      "  prob_batch = F.softmax(input=x_id_hat_batch)\n",
      "[2021-06-11 16:11:57,254][INFO][occ.py:142] Start to transform training features to latent\n",
      "[2021-06-11 16:11:59,750][INFO][occ.py:157] Complete to transform training features to latent\n",
      "[2021-06-11 16:11:59,752][INFO][occ.py:159] Start to train the OCC, rbf_ocsvm\n"
     ]
    },
    {
     "name": "stdout",
     "output_type": "stream",
     "text": [
      "[LibSVM]"
     ]
    },
    {
     "name": "stderr",
     "output_type": "stream",
     "text": [
      "[2021-06-11 16:12:22,325][INFO][occ.py:161] Complete to train the OCC, rbf_ocsvm\n",
      "[2021-06-11 16:12:22,328][INFO][occ.py:168] Start to transform validation features to latent\n",
      "[2021-06-11 16:12:23,792][INFO][occ.py:189] Complete to transform validation features to latent\n",
      "[2021-06-11 16:12:23,794][INFO][occ.py:191] Start to validate the OCC, rbf_ocsvm\n",
      "[2021-06-11 16:12:35,684][INFO][occ.py:194] Complete to validate the OCC, rbf_ocsvm\n",
      "[2021-06-11 16:12:35,725][INFO][callback.py:16] Save checkpoint, Epoch : 53\n"
     ]
    },
    {
     "name": "stdout",
     "output_type": "stream",
     "text": [
      "AUC : 74.1079731052131\n",
      "[Epoch 53]\n",
      " Train - Loss : 0.8772678375244141 | Accuracy : None | Precision : None | Recall : None | F1 : None\n",
      " Val - Loss : 0.8793579339981079 | Accuracy : None | Precision : None | Recall : None | F1 : None\n",
      "Early Stopping [3/40] - Best Epoch : 50 | Best Score : 74.91148376464844\n"
     ]
    },
    {
     "data": {
      "application/vnd.jupyter.widget-view+json": {
       "model_id": "",
       "version_major": 2,
       "version_minor": 0
      },
      "text/plain": [
       "Validating: 0it [00:00, ?it/s]"
      ]
     },
     "metadata": {},
     "output_type": "display_data"
    },
    {
     "name": "stderr",
     "output_type": "stream",
     "text": [
      "/workspace/Project/2021_AI_security/model/cae_conv_id.py:293: UserWarning: Implicit dimension choice for softmax has been deprecated. Change the call to include dim=X as an argument.\n",
      "  prob_batch = F.softmax(input=x_id_hat_batch)\n",
      "[2021-06-11 16:13:51,599][INFO][occ.py:142] Start to transform training features to latent\n",
      "[2021-06-11 16:13:54,914][INFO][occ.py:157] Complete to transform training features to latent\n",
      "[2021-06-11 16:13:54,915][INFO][occ.py:159] Start to train the OCC, rbf_ocsvm\n"
     ]
    },
    {
     "name": "stdout",
     "output_type": "stream",
     "text": [
      "[LibSVM]"
     ]
    },
    {
     "name": "stderr",
     "output_type": "stream",
     "text": [
      "[2021-06-11 16:14:18,178][INFO][occ.py:161] Complete to train the OCC, rbf_ocsvm\n",
      "[2021-06-11 16:14:18,181][INFO][occ.py:168] Start to transform validation features to latent\n",
      "[2021-06-11 16:14:20,074][INFO][occ.py:189] Complete to transform validation features to latent\n",
      "[2021-06-11 16:14:20,076][INFO][occ.py:191] Start to validate the OCC, rbf_ocsvm\n",
      "[2021-06-11 16:14:32,629][INFO][occ.py:194] Complete to validate the OCC, rbf_ocsvm\n",
      "[2021-06-11 16:14:32,667][INFO][callback.py:16] Save checkpoint, Epoch : 54\n",
      "[2021-06-11 16:14:32,676][INFO][callback.py:16] Save checkpoint, Epoch : 54\n"
     ]
    },
    {
     "name": "stdout",
     "output_type": "stream",
     "text": [
      "AUC : 74.38048726701368\n",
      "[Epoch 54]\n",
      " Train - Loss : 0.8746795058250427 | Accuracy : None | Precision : None | Recall : None | F1 : None\n",
      " Val - Loss : 0.8683111667633057 | Accuracy : None | Precision : None | Recall : None | F1 : None\n",
      "Early Stopping [4/40] - Best Epoch : 50 | Best Score : 74.91148376464844\n"
     ]
    },
    {
     "data": {
      "application/vnd.jupyter.widget-view+json": {
       "model_id": "",
       "version_major": 2,
       "version_minor": 0
      },
      "text/plain": [
       "Validating: 0it [00:00, ?it/s]"
      ]
     },
     "metadata": {},
     "output_type": "display_data"
    },
    {
     "name": "stderr",
     "output_type": "stream",
     "text": [
      "/workspace/Project/2021_AI_security/model/cae_conv_id.py:293: UserWarning: Implicit dimension choice for softmax has been deprecated. Change the call to include dim=X as an argument.\n",
      "  prob_batch = F.softmax(input=x_id_hat_batch)\n",
      "[2021-06-11 16:15:49,759][INFO][occ.py:142] Start to transform training features to latent\n",
      "[2021-06-11 16:15:52,347][INFO][occ.py:157] Complete to transform training features to latent\n",
      "[2021-06-11 16:15:52,349][INFO][occ.py:159] Start to train the OCC, rbf_ocsvm\n"
     ]
    },
    {
     "name": "stdout",
     "output_type": "stream",
     "text": [
      "[LibSVM]"
     ]
    },
    {
     "name": "stderr",
     "output_type": "stream",
     "text": [
      "[2021-06-11 16:16:15,619][INFO][occ.py:161] Complete to train the OCC, rbf_ocsvm\n",
      "[2021-06-11 16:16:15,622][INFO][occ.py:168] Start to transform validation features to latent\n",
      "[2021-06-11 16:16:17,361][INFO][occ.py:189] Complete to transform validation features to latent\n",
      "[2021-06-11 16:16:17,362][INFO][occ.py:191] Start to validate the OCC, rbf_ocsvm\n",
      "[2021-06-11 16:16:29,956][INFO][occ.py:194] Complete to validate the OCC, rbf_ocsvm\n",
      "[2021-06-11 16:16:29,998][INFO][callback.py:16] Save checkpoint, Epoch : 55\n",
      "[2021-06-11 16:16:30,006][INFO][callback.py:16] Save checkpoint, Epoch : 55\n"
     ]
    },
    {
     "name": "stdout",
     "output_type": "stream",
     "text": [
      "AUC : 75.24680354492955\n",
      "[Epoch 55]\n",
      " Train - Loss : 0.8749691843986511 | Accuracy : None | Precision : None | Recall : None | F1 : None\n",
      " Val - Loss : 0.8665174245834351 | Accuracy : None | Precision : None | Recall : None | F1 : None\n",
      "Early Stopping [0/40] - Best Epoch : 55 | Best Score : 75.2468032836914\n"
     ]
    },
    {
     "data": {
      "application/vnd.jupyter.widget-view+json": {
       "model_id": "",
       "version_major": 2,
       "version_minor": 0
      },
      "text/plain": [
       "Validating: 0it [00:00, ?it/s]"
      ]
     },
     "metadata": {},
     "output_type": "display_data"
    },
    {
     "name": "stderr",
     "output_type": "stream",
     "text": [
      "/workspace/Project/2021_AI_security/model/cae_conv_id.py:293: UserWarning: Implicit dimension choice for softmax has been deprecated. Change the call to include dim=X as an argument.\n",
      "  prob_batch = F.softmax(input=x_id_hat_batch)\n",
      "[2021-06-11 16:17:47,429][INFO][occ.py:142] Start to transform training features to latent\n",
      "[2021-06-11 16:17:50,642][INFO][occ.py:157] Complete to transform training features to latent\n",
      "[2021-06-11 16:17:50,644][INFO][occ.py:159] Start to train the OCC, rbf_ocsvm\n"
     ]
    },
    {
     "name": "stdout",
     "output_type": "stream",
     "text": [
      "[LibSVM]"
     ]
    },
    {
     "name": "stderr",
     "output_type": "stream",
     "text": [
      "[2021-06-11 16:18:14,779][INFO][occ.py:161] Complete to train the OCC, rbf_ocsvm\n",
      "[2021-06-11 16:18:14,781][INFO][occ.py:168] Start to transform validation features to latent\n",
      "[2021-06-11 16:18:16,873][INFO][occ.py:189] Complete to transform validation features to latent\n",
      "[2021-06-11 16:18:16,880][INFO][occ.py:191] Start to validate the OCC, rbf_ocsvm\n",
      "[2021-06-11 16:18:29,432][INFO][occ.py:194] Complete to validate the OCC, rbf_ocsvm\n",
      "[2021-06-11 16:18:29,468][INFO][callback.py:16] Save checkpoint, Epoch : 56\n",
      "[2021-06-11 16:18:29,478][INFO][callback.py:16] Save checkpoint, Epoch : 56\n"
     ]
    },
    {
     "name": "stdout",
     "output_type": "stream",
     "text": [
      "AUC : 75.85655922228399\n",
      "[Epoch 56]\n",
      " Train - Loss : 0.8704704642295837 | Accuracy : None | Precision : None | Recall : None | F1 : None\n",
      " Val - Loss : 0.8712854981422424 | Accuracy : None | Precision : None | Recall : None | F1 : None\n",
      "Early Stopping [0/40] - Best Epoch : 56 | Best Score : 75.85655975341797\n"
     ]
    },
    {
     "data": {
      "application/vnd.jupyter.widget-view+json": {
       "model_id": "",
       "version_major": 2,
       "version_minor": 0
      },
      "text/plain": [
       "Validating: 0it [00:00, ?it/s]"
      ]
     },
     "metadata": {},
     "output_type": "display_data"
    },
    {
     "name": "stderr",
     "output_type": "stream",
     "text": [
      "/workspace/Project/2021_AI_security/model/cae_conv_id.py:293: UserWarning: Implicit dimension choice for softmax has been deprecated. Change the call to include dim=X as an argument.\n",
      "  prob_batch = F.softmax(input=x_id_hat_batch)\n",
      "[2021-06-11 16:19:47,165][INFO][occ.py:142] Start to transform training features to latent\n",
      "[2021-06-11 16:19:50,360][INFO][occ.py:157] Complete to transform training features to latent\n",
      "[2021-06-11 16:19:50,362][INFO][occ.py:159] Start to train the OCC, rbf_ocsvm\n"
     ]
    },
    {
     "name": "stdout",
     "output_type": "stream",
     "text": [
      "[LibSVM]"
     ]
    },
    {
     "name": "stderr",
     "output_type": "stream",
     "text": [
      "[2021-06-11 16:20:14,496][INFO][occ.py:161] Complete to train the OCC, rbf_ocsvm\n",
      "[2021-06-11 16:20:14,501][INFO][occ.py:168] Start to transform validation features to latent\n",
      "[2021-06-11 16:20:16,540][INFO][occ.py:189] Complete to transform validation features to latent\n",
      "[2021-06-11 16:20:16,542][INFO][occ.py:191] Start to validate the OCC, rbf_ocsvm\n",
      "[2021-06-11 16:20:29,179][INFO][occ.py:194] Complete to validate the OCC, rbf_ocsvm\n",
      "[2021-06-11 16:20:29,219][INFO][callback.py:16] Save checkpoint, Epoch : 57\n",
      "[2021-06-11 16:20:29,226][INFO][callback.py:16] Save checkpoint, Epoch : 57\n"
     ]
    },
    {
     "name": "stdout",
     "output_type": "stream",
     "text": [
      "AUC : 76.6020579979142\n",
      "[Epoch 57]\n",
      " Train - Loss : 0.8743631839752197 | Accuracy : None | Precision : None | Recall : None | F1 : None\n",
      " Val - Loss : 0.876946747303009 | Accuracy : None | Precision : None | Recall : None | F1 : None\n",
      "Early Stopping [0/40] - Best Epoch : 57 | Best Score : 76.60205841064453\n"
     ]
    },
    {
     "data": {
      "application/vnd.jupyter.widget-view+json": {
       "model_id": "",
       "version_major": 2,
       "version_minor": 0
      },
      "text/plain": [
       "Validating: 0it [00:00, ?it/s]"
      ]
     },
     "metadata": {},
     "output_type": "display_data"
    },
    {
     "name": "stderr",
     "output_type": "stream",
     "text": [
      "/workspace/Project/2021_AI_security/model/cae_conv_id.py:293: UserWarning: Implicit dimension choice for softmax has been deprecated. Change the call to include dim=X as an argument.\n",
      "  prob_batch = F.softmax(input=x_id_hat_batch)\n",
      "[2021-06-11 16:21:46,232][INFO][occ.py:142] Start to transform training features to latent\n",
      "[2021-06-11 16:21:49,391][INFO][occ.py:157] Complete to transform training features to latent\n",
      "[2021-06-11 16:21:49,394][INFO][occ.py:159] Start to train the OCC, rbf_ocsvm\n"
     ]
    },
    {
     "name": "stdout",
     "output_type": "stream",
     "text": [
      "[LibSVM]"
     ]
    },
    {
     "name": "stderr",
     "output_type": "stream",
     "text": [
      "[2021-06-11 16:22:13,484][INFO][occ.py:161] Complete to train the OCC, rbf_ocsvm\n",
      "[2021-06-11 16:22:13,488][INFO][occ.py:168] Start to transform validation features to latent\n",
      "[2021-06-11 16:22:15,269][INFO][occ.py:189] Complete to transform validation features to latent\n",
      "[2021-06-11 16:22:15,273][INFO][occ.py:191] Start to validate the OCC, rbf_ocsvm\n",
      "[2021-06-11 16:22:27,881][INFO][occ.py:194] Complete to validate the OCC, rbf_ocsvm\n",
      "[2021-06-11 16:22:27,936][INFO][callback.py:16] Save checkpoint, Epoch : 58\n",
      "[2021-06-11 16:22:27,943][INFO][callback.py:16] Save checkpoint, Epoch : 58\n"
     ]
    },
    {
     "name": "stdout",
     "output_type": "stream",
     "text": [
      "AUC : 76.26509213784612\n",
      "[Epoch 58]\n",
      " Train - Loss : 0.873889684677124 | Accuracy : None | Precision : None | Recall : None | F1 : None\n",
      " Val - Loss : 0.8710637092590332 | Accuracy : None | Precision : None | Recall : None | F1 : None\n",
      "Early Stopping [1/40] - Best Epoch : 57 | Best Score : 76.60205841064453\n"
     ]
    },
    {
     "data": {
      "application/vnd.jupyter.widget-view+json": {
       "model_id": "",
       "version_major": 2,
       "version_minor": 0
      },
      "text/plain": [
       "Validating: 0it [00:00, ?it/s]"
      ]
     },
     "metadata": {},
     "output_type": "display_data"
    },
    {
     "name": "stderr",
     "output_type": "stream",
     "text": [
      "/workspace/Project/2021_AI_security/model/cae_conv_id.py:293: UserWarning: Implicit dimension choice for softmax has been deprecated. Change the call to include dim=X as an argument.\n",
      "  prob_batch = F.softmax(input=x_id_hat_batch)\n",
      "[2021-06-11 16:23:46,229][INFO][occ.py:142] Start to transform training features to latent\n",
      "[2021-06-11 16:23:49,482][INFO][occ.py:157] Complete to transform training features to latent\n",
      "[2021-06-11 16:23:49,486][INFO][occ.py:159] Start to train the OCC, rbf_ocsvm\n"
     ]
    },
    {
     "name": "stdout",
     "output_type": "stream",
     "text": [
      "[LibSVM]"
     ]
    },
    {
     "name": "stderr",
     "output_type": "stream",
     "text": [
      "[2021-06-11 16:24:14,549][INFO][occ.py:161] Complete to train the OCC, rbf_ocsvm\n",
      "[2021-06-11 16:24:14,552][INFO][occ.py:168] Start to transform validation features to latent\n",
      "[2021-06-11 16:24:16,396][INFO][occ.py:189] Complete to transform validation features to latent\n",
      "[2021-06-11 16:24:16,397][INFO][occ.py:191] Start to validate the OCC, rbf_ocsvm\n",
      "[2021-06-11 16:24:29,086][INFO][occ.py:194] Complete to validate the OCC, rbf_ocsvm\n",
      "[2021-06-11 16:24:29,122][INFO][callback.py:16] Save checkpoint, Epoch : 59\n",
      "[2021-06-11 16:24:29,130][INFO][callback.py:16] Save checkpoint, Epoch : 59\n"
     ]
    },
    {
     "name": "stdout",
     "output_type": "stream",
     "text": [
      "AUC : 75.82014972687135\n",
      "[Epoch 59]\n",
      " Train - Loss : 0.8699791431427002 | Accuracy : None | Precision : None | Recall : None | F1 : None\n",
      " Val - Loss : 0.8692829012870789 | Accuracy : None | Precision : None | Recall : None | F1 : None\n",
      "Early Stopping [2/40] - Best Epoch : 57 | Best Score : 76.60205841064453\n"
     ]
    },
    {
     "data": {
      "application/vnd.jupyter.widget-view+json": {
       "model_id": "",
       "version_major": 2,
       "version_minor": 0
      },
      "text/plain": [
       "Validating: 0it [00:00, ?it/s]"
      ]
     },
     "metadata": {},
     "output_type": "display_data"
    },
    {
     "name": "stderr",
     "output_type": "stream",
     "text": [
      "/workspace/Project/2021_AI_security/model/cae_conv_id.py:293: UserWarning: Implicit dimension choice for softmax has been deprecated. Change the call to include dim=X as an argument.\n",
      "  prob_batch = F.softmax(input=x_id_hat_batch)\n",
      "[2021-06-11 16:25:45,426][INFO][occ.py:142] Start to transform training features to latent\n",
      "[2021-06-11 16:25:48,586][INFO][occ.py:157] Complete to transform training features to latent\n",
      "[2021-06-11 16:25:48,588][INFO][occ.py:159] Start to train the OCC, rbf_ocsvm\n"
     ]
    },
    {
     "name": "stdout",
     "output_type": "stream",
     "text": [
      "[LibSVM]"
     ]
    },
    {
     "name": "stderr",
     "output_type": "stream",
     "text": [
      "[2021-06-11 16:26:12,281][INFO][occ.py:161] Complete to train the OCC, rbf_ocsvm\n",
      "[2021-06-11 16:26:12,285][INFO][occ.py:168] Start to transform validation features to latent\n",
      "[2021-06-11 16:26:14,156][INFO][occ.py:189] Complete to transform validation features to latent\n",
      "[2021-06-11 16:26:14,157][INFO][occ.py:191] Start to validate the OCC, rbf_ocsvm\n",
      "[2021-06-11 16:26:27,242][INFO][occ.py:194] Complete to validate the OCC, rbf_ocsvm\n",
      "[2021-06-11 16:26:27,278][INFO][callback.py:16] Save checkpoint, Epoch : 60\n"
     ]
    },
    {
     "name": "stdout",
     "output_type": "stream",
     "text": [
      "AUC : 75.18449966232204\n",
      "[Epoch 60]\n",
      " Train - Loss : 0.8691218495368958 | Accuracy : None | Precision : None | Recall : None | F1 : None\n",
      " Val - Loss : 0.8702927231788635 | Accuracy : None | Precision : None | Recall : None | F1 : None\n",
      "Early Stopping [3/40] - Best Epoch : 57 | Best Score : 76.60205841064453\n"
     ]
    },
    {
     "data": {
      "application/vnd.jupyter.widget-view+json": {
       "model_id": "",
       "version_major": 2,
       "version_minor": 0
      },
      "text/plain": [
       "Validating: 0it [00:00, ?it/s]"
      ]
     },
     "metadata": {},
     "output_type": "display_data"
    },
    {
     "name": "stderr",
     "output_type": "stream",
     "text": [
      "/workspace/Project/2021_AI_security/model/cae_conv_id.py:293: UserWarning: Implicit dimension choice for softmax has been deprecated. Change the call to include dim=X as an argument.\n",
      "  prob_batch = F.softmax(input=x_id_hat_batch)\n",
      "[2021-06-11 16:27:45,159][INFO][occ.py:142] Start to transform training features to latent\n",
      "[2021-06-11 16:27:48,311][INFO][occ.py:157] Complete to transform training features to latent\n",
      "[2021-06-11 16:27:48,316][INFO][occ.py:159] Start to train the OCC, rbf_ocsvm\n"
     ]
    },
    {
     "name": "stdout",
     "output_type": "stream",
     "text": [
      "[LibSVM]"
     ]
    },
    {
     "name": "stderr",
     "output_type": "stream",
     "text": [
      "[2021-06-11 16:28:12,735][INFO][occ.py:161] Complete to train the OCC, rbf_ocsvm\n",
      "[2021-06-11 16:28:12,748][INFO][occ.py:168] Start to transform validation features to latent\n",
      "[2021-06-11 16:28:14,763][INFO][occ.py:189] Complete to transform validation features to latent\n",
      "[2021-06-11 16:28:14,764][INFO][occ.py:191] Start to validate the OCC, rbf_ocsvm\n",
      "[2021-06-11 16:28:27,073][INFO][occ.py:194] Complete to validate the OCC, rbf_ocsvm\n",
      "[2021-06-11 16:28:27,137][INFO][callback.py:16] Save checkpoint, Epoch : 61\n",
      "[2021-06-11 16:28:27,147][INFO][callback.py:16] Save checkpoint, Epoch : 61\n"
     ]
    },
    {
     "name": "stdout",
     "output_type": "stream",
     "text": [
      "AUC : 76.47941427803532\n",
      "[Epoch 61]\n",
      " Train - Loss : 0.8690406084060669 | Accuracy : None | Precision : None | Recall : None | F1 : None\n",
      " Val - Loss : 0.861004650592804 | Accuracy : None | Precision : None | Recall : None | F1 : None\n",
      "Early Stopping [4/40] - Best Epoch : 57 | Best Score : 76.60205841064453\n"
     ]
    },
    {
     "data": {
      "application/vnd.jupyter.widget-view+json": {
       "model_id": "",
       "version_major": 2,
       "version_minor": 0
      },
      "text/plain": [
       "Validating: 0it [00:00, ?it/s]"
      ]
     },
     "metadata": {},
     "output_type": "display_data"
    },
    {
     "name": "stderr",
     "output_type": "stream",
     "text": [
      "/workspace/Project/2021_AI_security/model/cae_conv_id.py:293: UserWarning: Implicit dimension choice for softmax has been deprecated. Change the call to include dim=X as an argument.\n",
      "  prob_batch = F.softmax(input=x_id_hat_batch)\n",
      "[2021-06-11 16:29:44,916][INFO][occ.py:142] Start to transform training features to latent\n",
      "[2021-06-11 16:29:47,938][INFO][occ.py:157] Complete to transform training features to latent\n",
      "[2021-06-11 16:29:47,944][INFO][occ.py:159] Start to train the OCC, rbf_ocsvm\n"
     ]
    },
    {
     "name": "stdout",
     "output_type": "stream",
     "text": [
      "[LibSVM]"
     ]
    },
    {
     "name": "stderr",
     "output_type": "stream",
     "text": [
      "[2021-06-11 16:30:10,807][INFO][occ.py:161] Complete to train the OCC, rbf_ocsvm\n",
      "[2021-06-11 16:30:10,813][INFO][occ.py:168] Start to transform validation features to latent\n",
      "[2021-06-11 16:30:12,628][INFO][occ.py:189] Complete to transform validation features to latent\n",
      "[2021-06-11 16:30:12,629][INFO][occ.py:191] Start to validate the OCC, rbf_ocsvm\n",
      "[2021-06-11 16:30:24,730][INFO][occ.py:194] Complete to validate the OCC, rbf_ocsvm\n",
      "[2021-06-11 16:30:24,777][INFO][callback.py:16] Save checkpoint, Epoch : 62\n",
      "[2021-06-11 16:30:24,784][INFO][callback.py:16] Save checkpoint, Epoch : 62\n"
     ]
    },
    {
     "name": "stdout",
     "output_type": "stream",
     "text": [
      "AUC : 76.77780559856294\n",
      "[Epoch 62]\n",
      " Train - Loss : 0.8676986694335938 | Accuracy : None | Precision : None | Recall : None | F1 : None\n",
      " Val - Loss : 0.8686012625694275 | Accuracy : None | Precision : None | Recall : None | F1 : None\n",
      "Early Stopping [0/40] - Best Epoch : 62 | Best Score : 76.7778091430664\n"
     ]
    },
    {
     "data": {
      "application/vnd.jupyter.widget-view+json": {
       "model_id": "",
       "version_major": 2,
       "version_minor": 0
      },
      "text/plain": [
       "Validating: 0it [00:00, ?it/s]"
      ]
     },
     "metadata": {},
     "output_type": "display_data"
    },
    {
     "name": "stderr",
     "output_type": "stream",
     "text": [
      "/workspace/Project/2021_AI_security/model/cae_conv_id.py:293: UserWarning: Implicit dimension choice for softmax has been deprecated. Change the call to include dim=X as an argument.\n",
      "  prob_batch = F.softmax(input=x_id_hat_batch)\n",
      "[2021-06-11 16:31:41,104][INFO][occ.py:142] Start to transform training features to latent\n",
      "[2021-06-11 16:31:43,761][INFO][occ.py:157] Complete to transform training features to latent\n",
      "[2021-06-11 16:31:43,764][INFO][occ.py:159] Start to train the OCC, rbf_ocsvm\n"
     ]
    },
    {
     "name": "stdout",
     "output_type": "stream",
     "text": [
      "[LibSVM]"
     ]
    },
    {
     "name": "stderr",
     "output_type": "stream",
     "text": [
      "[2021-06-11 16:32:05,895][INFO][occ.py:161] Complete to train the OCC, rbf_ocsvm\n",
      "[2021-06-11 16:32:05,901][INFO][occ.py:168] Start to transform validation features to latent\n",
      "[2021-06-11 16:32:07,628][INFO][occ.py:189] Complete to transform validation features to latent\n",
      "[2021-06-11 16:32:07,630][INFO][occ.py:191] Start to validate the OCC, rbf_ocsvm\n",
      "[2021-06-11 16:32:19,651][INFO][occ.py:194] Complete to validate the OCC, rbf_ocsvm\n",
      "[2021-06-11 16:32:19,698][INFO][callback.py:16] Save checkpoint, Epoch : 63\n",
      "[2021-06-11 16:32:19,704][INFO][callback.py:16] Save checkpoint, Epoch : 63\n"
     ]
    },
    {
     "name": "stdout",
     "output_type": "stream",
     "text": [
      "AUC : 76.99598117273032\n",
      "[Epoch 63]\n",
      " Train - Loss : 0.866051435470581 | Accuracy : None | Precision : None | Recall : None | F1 : None\n",
      " Val - Loss : 0.8481192588806152 | Accuracy : None | Precision : None | Recall : None | F1 : None\n",
      "Early Stopping [0/40] - Best Epoch : 63 | Best Score : 76.99597930908203\n"
     ]
    },
    {
     "data": {
      "application/vnd.jupyter.widget-view+json": {
       "model_id": "",
       "version_major": 2,
       "version_minor": 0
      },
      "text/plain": [
       "Validating: 0it [00:00, ?it/s]"
      ]
     },
     "metadata": {},
     "output_type": "display_data"
    },
    {
     "name": "stderr",
     "output_type": "stream",
     "text": [
      "/workspace/Project/2021_AI_security/model/cae_conv_id.py:293: UserWarning: Implicit dimension choice for softmax has been deprecated. Change the call to include dim=X as an argument.\n",
      "  prob_batch = F.softmax(input=x_id_hat_batch)\n",
      "[2021-06-11 16:33:34,632][INFO][occ.py:142] Start to transform training features to latent\n",
      "[2021-06-11 16:33:37,367][INFO][occ.py:157] Complete to transform training features to latent\n",
      "[2021-06-11 16:33:37,371][INFO][occ.py:159] Start to train the OCC, rbf_ocsvm\n"
     ]
    },
    {
     "name": "stdout",
     "output_type": "stream",
     "text": [
      "[LibSVM]"
     ]
    },
    {
     "name": "stderr",
     "output_type": "stream",
     "text": [
      "[2021-06-11 16:33:59,678][INFO][occ.py:161] Complete to train the OCC, rbf_ocsvm\n",
      "[2021-06-11 16:33:59,683][INFO][occ.py:168] Start to transform validation features to latent\n",
      "[2021-06-11 16:34:01,444][INFO][occ.py:189] Complete to transform validation features to latent\n",
      "[2021-06-11 16:34:01,446][INFO][occ.py:191] Start to validate the OCC, rbf_ocsvm\n",
      "[2021-06-11 16:34:13,903][INFO][occ.py:194] Complete to validate the OCC, rbf_ocsvm\n",
      "[2021-06-11 16:34:13,944][INFO][callback.py:16] Save checkpoint, Epoch : 64\n",
      "[2021-06-11 16:34:13,952][INFO][callback.py:16] Save checkpoint, Epoch : 64\n"
     ]
    },
    {
     "name": "stdout",
     "output_type": "stream",
     "text": [
      "AUC : 76.72377138052862\n",
      "[Epoch 64]\n",
      " Train - Loss : 0.8630731105804443 | Accuracy : None | Precision : None | Recall : None | F1 : None\n",
      " Val - Loss : 0.8800023794174194 | Accuracy : None | Precision : None | Recall : None | F1 : None\n",
      "Early Stopping [1/40] - Best Epoch : 63 | Best Score : 76.99597930908203\n"
     ]
    },
    {
     "data": {
      "application/vnd.jupyter.widget-view+json": {
       "model_id": "",
       "version_major": 2,
       "version_minor": 0
      },
      "text/plain": [
       "Validating: 0it [00:00, ?it/s]"
      ]
     },
     "metadata": {},
     "output_type": "display_data"
    },
    {
     "name": "stderr",
     "output_type": "stream",
     "text": [
      "/workspace/Project/2021_AI_security/model/cae_conv_id.py:293: UserWarning: Implicit dimension choice for softmax has been deprecated. Change the call to include dim=X as an argument.\n",
      "  prob_batch = F.softmax(input=x_id_hat_batch)\n",
      "[2021-06-11 16:35:28,928][INFO][occ.py:142] Start to transform training features to latent\n",
      "[2021-06-11 16:35:31,638][INFO][occ.py:157] Complete to transform training features to latent\n",
      "[2021-06-11 16:35:31,640][INFO][occ.py:159] Start to train the OCC, rbf_ocsvm\n"
     ]
    },
    {
     "name": "stdout",
     "output_type": "stream",
     "text": [
      "[LibSVM]"
     ]
    },
    {
     "name": "stderr",
     "output_type": "stream",
     "text": [
      "[2021-06-11 16:35:53,659][INFO][occ.py:161] Complete to train the OCC, rbf_ocsvm\n",
      "[2021-06-11 16:35:53,664][INFO][occ.py:168] Start to transform validation features to latent\n",
      "[2021-06-11 16:35:55,401][INFO][occ.py:189] Complete to transform validation features to latent\n",
      "[2021-06-11 16:35:55,402][INFO][occ.py:191] Start to validate the OCC, rbf_ocsvm\n",
      "[2021-06-11 16:36:07,404][INFO][occ.py:194] Complete to validate the OCC, rbf_ocsvm\n",
      "[2021-06-11 16:36:07,441][INFO][callback.py:16] Save checkpoint, Epoch : 65\n"
     ]
    },
    {
     "name": "stdout",
     "output_type": "stream",
     "text": [
      "AUC : 76.18496827664785\n",
      "[Epoch 65]\n",
      " Train - Loss : 0.8582398295402527 | Accuracy : None | Precision : None | Recall : None | F1 : None\n",
      " Val - Loss : 0.8690663576126099 | Accuracy : None | Precision : None | Recall : None | F1 : None\n",
      "Early Stopping [2/40] - Best Epoch : 63 | Best Score : 76.99597930908203\n"
     ]
    },
    {
     "data": {
      "application/vnd.jupyter.widget-view+json": {
       "model_id": "",
       "version_major": 2,
       "version_minor": 0
      },
      "text/plain": [
       "Validating: 0it [00:00, ?it/s]"
      ]
     },
     "metadata": {},
     "output_type": "display_data"
    },
    {
     "name": "stderr",
     "output_type": "stream",
     "text": [
      "/workspace/Project/2021_AI_security/model/cae_conv_id.py:293: UserWarning: Implicit dimension choice for softmax has been deprecated. Change the call to include dim=X as an argument.\n",
      "  prob_batch = F.softmax(input=x_id_hat_batch)\n",
      "[2021-06-11 16:37:19,133][INFO][occ.py:142] Start to transform training features to latent\n",
      "[2021-06-11 16:37:21,675][INFO][occ.py:157] Complete to transform training features to latent\n",
      "[2021-06-11 16:37:21,681][INFO][occ.py:159] Start to train the OCC, rbf_ocsvm\n"
     ]
    },
    {
     "name": "stdout",
     "output_type": "stream",
     "text": [
      "[LibSVM]"
     ]
    },
    {
     "name": "stderr",
     "output_type": "stream",
     "text": [
      "[2021-06-11 16:37:43,538][INFO][occ.py:161] Complete to train the OCC, rbf_ocsvm\n",
      "[2021-06-11 16:37:43,540][INFO][occ.py:168] Start to transform validation features to latent\n",
      "[2021-06-11 16:37:45,123][INFO][occ.py:189] Complete to transform validation features to latent\n",
      "[2021-06-11 16:37:45,125][INFO][occ.py:191] Start to validate the OCC, rbf_ocsvm\n",
      "[2021-06-11 16:37:57,644][INFO][occ.py:194] Complete to validate the OCC, rbf_ocsvm\n",
      "[2021-06-11 16:37:57,680][INFO][callback.py:16] Save checkpoint, Epoch : 66\n",
      "[2021-06-11 16:37:57,688][INFO][callback.py:16] Save checkpoint, Epoch : 66\n"
     ]
    },
    {
     "name": "stdout",
     "output_type": "stream",
     "text": [
      "AUC : 76.91472597547586\n",
      "[Epoch 66]\n",
      " Train - Loss : 0.8570494651794434 | Accuracy : None | Precision : None | Recall : None | F1 : None\n",
      " Val - Loss : 0.8537209033966064 | Accuracy : None | Precision : None | Recall : None | F1 : None\n",
      "Early Stopping [3/40] - Best Epoch : 63 | Best Score : 76.99597930908203\n"
     ]
    },
    {
     "data": {
      "application/vnd.jupyter.widget-view+json": {
       "model_id": "",
       "version_major": 2,
       "version_minor": 0
      },
      "text/plain": [
       "Validating: 0it [00:00, ?it/s]"
      ]
     },
     "metadata": {},
     "output_type": "display_data"
    },
    {
     "name": "stderr",
     "output_type": "stream",
     "text": [
      "/workspace/Project/2021_AI_security/model/cae_conv_id.py:293: UserWarning: Implicit dimension choice for softmax has been deprecated. Change the call to include dim=X as an argument.\n",
      "  prob_batch = F.softmax(input=x_id_hat_batch)\n",
      "[2021-06-11 16:39:07,844][INFO][occ.py:142] Start to transform training features to latent\n",
      "[2021-06-11 16:39:09,940][INFO][occ.py:157] Complete to transform training features to latent\n",
      "[2021-06-11 16:39:09,942][INFO][occ.py:159] Start to train the OCC, rbf_ocsvm\n"
     ]
    },
    {
     "name": "stdout",
     "output_type": "stream",
     "text": [
      "[LibSVM]"
     ]
    },
    {
     "name": "stderr",
     "output_type": "stream",
     "text": [
      "[2021-06-11 16:39:31,719][INFO][occ.py:161] Complete to train the OCC, rbf_ocsvm\n",
      "[2021-06-11 16:39:31,723][INFO][occ.py:168] Start to transform validation features to latent\n",
      "[2021-06-11 16:39:33,276][INFO][occ.py:189] Complete to transform validation features to latent\n",
      "[2021-06-11 16:39:33,278][INFO][occ.py:191] Start to validate the OCC, rbf_ocsvm\n",
      "[2021-06-11 16:39:45,614][INFO][occ.py:194] Complete to validate the OCC, rbf_ocsvm\n",
      "[2021-06-11 16:39:45,649][INFO][callback.py:16] Save checkpoint, Epoch : 67\n",
      "[2021-06-11 16:39:45,657][INFO][callback.py:16] Save checkpoint, Epoch : 67\n"
     ]
    },
    {
     "name": "stdout",
     "output_type": "stream",
     "text": [
      "AUC : 77.16154100605064\n",
      "[Epoch 67]\n",
      " Train - Loss : 0.8586148023605347 | Accuracy : None | Precision : None | Recall : None | F1 : None\n",
      " Val - Loss : 0.8697258234024048 | Accuracy : None | Precision : None | Recall : None | F1 : None\n",
      "Early Stopping [0/40] - Best Epoch : 67 | Best Score : 77.16154479980469\n"
     ]
    },
    {
     "data": {
      "application/vnd.jupyter.widget-view+json": {
       "model_id": "",
       "version_major": 2,
       "version_minor": 0
      },
      "text/plain": [
       "Validating: 0it [00:00, ?it/s]"
      ]
     },
     "metadata": {},
     "output_type": "display_data"
    },
    {
     "name": "stderr",
     "output_type": "stream",
     "text": [
      "/workspace/Project/2021_AI_security/model/cae_conv_id.py:293: UserWarning: Implicit dimension choice for softmax has been deprecated. Change the call to include dim=X as an argument.\n",
      "  prob_batch = F.softmax(input=x_id_hat_batch)\n",
      "[2021-06-11 16:40:50,192][INFO][occ.py:142] Start to transform training features to latent\n",
      "[2021-06-11 16:40:52,198][INFO][occ.py:157] Complete to transform training features to latent\n",
      "[2021-06-11 16:40:52,201][INFO][occ.py:159] Start to train the OCC, rbf_ocsvm\n"
     ]
    },
    {
     "name": "stdout",
     "output_type": "stream",
     "text": [
      "[LibSVM]"
     ]
    },
    {
     "name": "stderr",
     "output_type": "stream",
     "text": [
      "[2021-06-11 16:41:12,809][INFO][occ.py:161] Complete to train the OCC, rbf_ocsvm\n",
      "[2021-06-11 16:41:12,811][INFO][occ.py:168] Start to transform validation features to latent\n",
      "[2021-06-11 16:41:14,276][INFO][occ.py:189] Complete to transform validation features to latent\n",
      "[2021-06-11 16:41:14,278][INFO][occ.py:191] Start to validate the OCC, rbf_ocsvm\n",
      "[2021-06-11 16:41:26,067][INFO][occ.py:194] Complete to validate the OCC, rbf_ocsvm\n",
      "[2021-06-11 16:41:26,114][INFO][callback.py:16] Save checkpoint, Epoch : 68\n",
      "[2021-06-11 16:41:26,122][INFO][callback.py:16] Save checkpoint, Epoch : 68\n"
     ]
    },
    {
     "name": "stdout",
     "output_type": "stream",
     "text": [
      "AUC : 77.10279193064508\n",
      "[Epoch 68]\n",
      " Train - Loss : 0.8567785024642944 | Accuracy : None | Precision : None | Recall : None | F1 : None\n",
      " Val - Loss : 0.8510401248931885 | Accuracy : None | Precision : None | Recall : None | F1 : None\n",
      "Early Stopping [1/40] - Best Epoch : 67 | Best Score : 77.16154479980469\n"
     ]
    },
    {
     "data": {
      "application/vnd.jupyter.widget-view+json": {
       "model_id": "",
       "version_major": 2,
       "version_minor": 0
      },
      "text/plain": [
       "Validating: 0it [00:00, ?it/s]"
      ]
     },
     "metadata": {},
     "output_type": "display_data"
    },
    {
     "name": "stderr",
     "output_type": "stream",
     "text": [
      "/workspace/Project/2021_AI_security/model/cae_conv_id.py:293: UserWarning: Implicit dimension choice for softmax has been deprecated. Change the call to include dim=X as an argument.\n",
      "  prob_batch = F.softmax(input=x_id_hat_batch)\n",
      "[2021-06-11 16:42:32,698][INFO][occ.py:142] Start to transform training features to latent\n",
      "[2021-06-11 16:42:34,935][INFO][occ.py:157] Complete to transform training features to latent\n",
      "[2021-06-11 16:42:34,937][INFO][occ.py:159] Start to train the OCC, rbf_ocsvm\n"
     ]
    },
    {
     "name": "stdout",
     "output_type": "stream",
     "text": [
      "[LibSVM]"
     ]
    },
    {
     "name": "stderr",
     "output_type": "stream",
     "text": [
      "[2021-06-11 16:42:55,949][INFO][occ.py:161] Complete to train the OCC, rbf_ocsvm\n",
      "[2021-06-11 16:42:55,951][INFO][occ.py:168] Start to transform validation features to latent\n",
      "[2021-06-11 16:42:57,469][INFO][occ.py:189] Complete to transform validation features to latent\n",
      "[2021-06-11 16:42:57,471][INFO][occ.py:191] Start to validate the OCC, rbf_ocsvm\n",
      "[2021-06-11 16:43:09,388][INFO][occ.py:194] Complete to validate the OCC, rbf_ocsvm\n",
      "[2021-06-11 16:43:09,427][INFO][callback.py:16] Save checkpoint, Epoch : 69\n",
      "[2021-06-11 16:43:09,433][INFO][callback.py:16] Save checkpoint, Epoch : 69\n"
     ]
    },
    {
     "name": "stdout",
     "output_type": "stream",
     "text": [
      "AUC : 77.35977175725777\n",
      "[Epoch 69]\n",
      " Train - Loss : 0.849286675453186 | Accuracy : None | Precision : None | Recall : None | F1 : None\n",
      " Val - Loss : 0.8457545042037964 | Accuracy : None | Precision : None | Recall : None | F1 : None\n",
      "Early Stopping [0/40] - Best Epoch : 69 | Best Score : 77.35977172851562\n"
     ]
    },
    {
     "data": {
      "application/vnd.jupyter.widget-view+json": {
       "model_id": "",
       "version_major": 2,
       "version_minor": 0
      },
      "text/plain": [
       "Validating: 0it [00:00, ?it/s]"
      ]
     },
     "metadata": {},
     "output_type": "display_data"
    },
    {
     "name": "stderr",
     "output_type": "stream",
     "text": [
      "/workspace/Project/2021_AI_security/model/cae_conv_id.py:293: UserWarning: Implicit dimension choice for softmax has been deprecated. Change the call to include dim=X as an argument.\n",
      "  prob_batch = F.softmax(input=x_id_hat_batch)\n",
      "[2021-06-11 16:44:17,364][INFO][occ.py:142] Start to transform training features to latent\n",
      "[2021-06-11 16:44:19,570][INFO][occ.py:157] Complete to transform training features to latent\n",
      "[2021-06-11 16:44:19,572][INFO][occ.py:159] Start to train the OCC, rbf_ocsvm\n"
     ]
    },
    {
     "name": "stdout",
     "output_type": "stream",
     "text": [
      "[LibSVM]"
     ]
    },
    {
     "name": "stderr",
     "output_type": "stream",
     "text": [
      "[2021-06-11 16:44:40,277][INFO][occ.py:161] Complete to train the OCC, rbf_ocsvm\n",
      "[2021-06-11 16:44:40,280][INFO][occ.py:168] Start to transform validation features to latent\n",
      "[2021-06-11 16:44:41,799][INFO][occ.py:189] Complete to transform validation features to latent\n",
      "[2021-06-11 16:44:41,800][INFO][occ.py:191] Start to validate the OCC, rbf_ocsvm\n",
      "[2021-06-11 16:44:53,202][INFO][occ.py:194] Complete to validate the OCC, rbf_ocsvm\n",
      "[2021-06-11 16:44:53,239][INFO][callback.py:16] Save checkpoint, Epoch : 70\n",
      "[2021-06-11 16:44:53,248][INFO][callback.py:16] Save checkpoint, Epoch : 70\n"
     ]
    },
    {
     "name": "stdout",
     "output_type": "stream",
     "text": [
      "AUC : 77.33084515971939\n",
      "[Epoch 70]\n",
      " Train - Loss : 0.8513188362121582 | Accuracy : None | Precision : None | Recall : None | F1 : None\n",
      " Val - Loss : 0.8680305480957031 | Accuracy : None | Precision : None | Recall : None | F1 : None\n",
      "Early Stopping [1/40] - Best Epoch : 69 | Best Score : 77.35977172851562\n"
     ]
    },
    {
     "data": {
      "application/vnd.jupyter.widget-view+json": {
       "model_id": "",
       "version_major": 2,
       "version_minor": 0
      },
      "text/plain": [
       "Validating: 0it [00:00, ?it/s]"
      ]
     },
     "metadata": {},
     "output_type": "display_data"
    },
    {
     "name": "stderr",
     "output_type": "stream",
     "text": [
      "/workspace/Project/2021_AI_security/model/cae_conv_id.py:293: UserWarning: Implicit dimension choice for softmax has been deprecated. Change the call to include dim=X as an argument.\n",
      "  prob_batch = F.softmax(input=x_id_hat_batch)\n",
      "[2021-06-11 16:46:03,882][INFO][occ.py:142] Start to transform training features to latent\n",
      "[2021-06-11 16:46:06,133][INFO][occ.py:157] Complete to transform training features to latent\n",
      "[2021-06-11 16:46:06,139][INFO][occ.py:159] Start to train the OCC, rbf_ocsvm\n"
     ]
    },
    {
     "name": "stdout",
     "output_type": "stream",
     "text": [
      "[LibSVM]"
     ]
    },
    {
     "name": "stderr",
     "output_type": "stream",
     "text": [
      "[2021-06-11 16:46:27,116][INFO][occ.py:161] Complete to train the OCC, rbf_ocsvm\n",
      "[2021-06-11 16:46:27,117][INFO][occ.py:168] Start to transform validation features to latent\n",
      "[2021-06-11 16:46:28,558][INFO][occ.py:189] Complete to transform validation features to latent\n",
      "[2021-06-11 16:46:28,560][INFO][occ.py:191] Start to validate the OCC, rbf_ocsvm\n",
      "[2021-06-11 16:46:40,223][INFO][occ.py:194] Complete to validate the OCC, rbf_ocsvm\n",
      "[2021-06-11 16:46:40,260][INFO][callback.py:16] Save checkpoint, Epoch : 71\n"
     ]
    },
    {
     "name": "stdout",
     "output_type": "stream",
     "text": [
      "AUC : 76.42237082094798\n",
      "[Epoch 71]\n",
      " Train - Loss : 0.8472402095794678 | Accuracy : None | Precision : None | Recall : None | F1 : None\n",
      " Val - Loss : 0.8506087064743042 | Accuracy : None | Precision : None | Recall : None | F1 : None\n",
      "Early Stopping [2/40] - Best Epoch : 69 | Best Score : 77.35977172851562\n"
     ]
    },
    {
     "data": {
      "application/vnd.jupyter.widget-view+json": {
       "model_id": "",
       "version_major": 2,
       "version_minor": 0
      },
      "text/plain": [
       "Validating: 0it [00:00, ?it/s]"
      ]
     },
     "metadata": {},
     "output_type": "display_data"
    },
    {
     "name": "stderr",
     "output_type": "stream",
     "text": [
      "/workspace/Project/2021_AI_security/model/cae_conv_id.py:293: UserWarning: Implicit dimension choice for softmax has been deprecated. Change the call to include dim=X as an argument.\n",
      "  prob_batch = F.softmax(input=x_id_hat_batch)\n",
      "[2021-06-11 16:47:52,746][INFO][occ.py:142] Start to transform training features to latent\n",
      "[2021-06-11 16:47:55,011][INFO][occ.py:157] Complete to transform training features to latent\n",
      "[2021-06-11 16:47:55,013][INFO][occ.py:159] Start to train the OCC, rbf_ocsvm\n"
     ]
    },
    {
     "name": "stdout",
     "output_type": "stream",
     "text": [
      "[LibSVM]"
     ]
    },
    {
     "name": "stderr",
     "output_type": "stream",
     "text": [
      "[2021-06-11 16:48:15,570][INFO][occ.py:161] Complete to train the OCC, rbf_ocsvm\n",
      "[2021-06-11 16:48:15,572][INFO][occ.py:168] Start to transform validation features to latent\n",
      "[2021-06-11 16:48:17,049][INFO][occ.py:189] Complete to transform validation features to latent\n",
      "[2021-06-11 16:48:17,051][INFO][occ.py:191] Start to validate the OCC, rbf_ocsvm\n",
      "[2021-06-11 16:48:28,365][INFO][occ.py:194] Complete to validate the OCC, rbf_ocsvm\n",
      "[2021-06-11 16:48:28,391][INFO][callback.py:16] Save checkpoint, Epoch : 72\n"
     ]
    },
    {
     "name": "stdout",
     "output_type": "stream",
     "text": [
      "AUC : 76.62486274653938\n",
      "[Epoch 72]\n",
      " Train - Loss : 0.8484585881233215 | Accuracy : None | Precision : None | Recall : None | F1 : None\n",
      " Val - Loss : 0.8545907735824585 | Accuracy : None | Precision : None | Recall : None | F1 : None\n",
      "Early Stopping [3/40] - Best Epoch : 69 | Best Score : 77.35977172851562\n"
     ]
    },
    {
     "data": {
      "application/vnd.jupyter.widget-view+json": {
       "model_id": "",
       "version_major": 2,
       "version_minor": 0
      },
      "text/plain": [
       "Validating: 0it [00:00, ?it/s]"
      ]
     },
     "metadata": {},
     "output_type": "display_data"
    },
    {
     "name": "stderr",
     "output_type": "stream",
     "text": [
      "/workspace/Project/2021_AI_security/model/cae_conv_id.py:293: UserWarning: Implicit dimension choice for softmax has been deprecated. Change the call to include dim=X as an argument.\n",
      "  prob_batch = F.softmax(input=x_id_hat_batch)\n",
      "[2021-06-11 16:49:42,588][INFO][occ.py:142] Start to transform training features to latent\n",
      "[2021-06-11 16:49:45,397][INFO][occ.py:157] Complete to transform training features to latent\n",
      "[2021-06-11 16:49:45,399][INFO][occ.py:159] Start to train the OCC, rbf_ocsvm\n"
     ]
    },
    {
     "name": "stdout",
     "output_type": "stream",
     "text": [
      "[LibSVM]"
     ]
    },
    {
     "name": "stderr",
     "output_type": "stream",
     "text": [
      "[2021-06-11 16:50:08,344][INFO][occ.py:161] Complete to train the OCC, rbf_ocsvm\n",
      "[2021-06-11 16:50:08,350][INFO][occ.py:168] Start to transform validation features to latent\n",
      "[2021-06-11 16:50:10,005][INFO][occ.py:189] Complete to transform validation features to latent\n",
      "[2021-06-11 16:50:10,007][INFO][occ.py:191] Start to validate the OCC, rbf_ocsvm\n",
      "[2021-06-11 16:50:21,480][INFO][occ.py:194] Complete to validate the OCC, rbf_ocsvm\n",
      "[2021-06-11 16:50:21,510][INFO][callback.py:16] Save checkpoint, Epoch : 73\n"
     ]
    },
    {
     "name": "stdout",
     "output_type": "stream",
     "text": [
      "AUC : 76.85289874714583\n",
      "[Epoch 73]\n",
      " Train - Loss : 0.8542863726615906 | Accuracy : None | Precision : None | Recall : None | F1 : None\n",
      " Val - Loss : 0.869781494140625 | Accuracy : None | Precision : None | Recall : None | F1 : None\n",
      "Early Stopping [4/40] - Best Epoch : 69 | Best Score : 77.35977172851562\n"
     ]
    },
    {
     "data": {
      "application/vnd.jupyter.widget-view+json": {
       "model_id": "",
       "version_major": 2,
       "version_minor": 0
      },
      "text/plain": [
       "Validating: 0it [00:00, ?it/s]"
      ]
     },
     "metadata": {},
     "output_type": "display_data"
    },
    {
     "name": "stderr",
     "output_type": "stream",
     "text": [
      "/workspace/Project/2021_AI_security/model/cae_conv_id.py:293: UserWarning: Implicit dimension choice for softmax has been deprecated. Change the call to include dim=X as an argument.\n",
      "  prob_batch = F.softmax(input=x_id_hat_batch)\n",
      "[2021-06-11 16:51:26,277][INFO][occ.py:142] Start to transform training features to latent\n",
      "[2021-06-11 16:51:28,473][INFO][occ.py:157] Complete to transform training features to latent\n",
      "[2021-06-11 16:51:28,475][INFO][occ.py:159] Start to train the OCC, rbf_ocsvm\n"
     ]
    },
    {
     "name": "stdout",
     "output_type": "stream",
     "text": [
      "[LibSVM]"
     ]
    },
    {
     "name": "stderr",
     "output_type": "stream",
     "text": [
      "[2021-06-11 16:51:48,640][INFO][occ.py:161] Complete to train the OCC, rbf_ocsvm\n",
      "[2021-06-11 16:51:48,642][INFO][occ.py:168] Start to transform validation features to latent\n",
      "[2021-06-11 16:51:50,096][INFO][occ.py:189] Complete to transform validation features to latent\n",
      "[2021-06-11 16:51:50,098][INFO][occ.py:191] Start to validate the OCC, rbf_ocsvm\n",
      "[2021-06-11 16:52:01,493][INFO][occ.py:194] Complete to validate the OCC, rbf_ocsvm\n",
      "[2021-06-11 16:52:01,534][INFO][callback.py:16] Save checkpoint, Epoch : 74\n"
     ]
    },
    {
     "name": "stdout",
     "output_type": "stream",
     "text": [
      "AUC : 76.88853870432735\n",
      "[Epoch 74]\n",
      " Train - Loss : 0.8499560356140137 | Accuracy : None | Precision : None | Recall : None | F1 : None\n",
      " Val - Loss : 0.8503861427307129 | Accuracy : None | Precision : None | Recall : None | F1 : None\n",
      "Early Stopping [5/40] - Best Epoch : 69 | Best Score : 77.35977172851562\n"
     ]
    },
    {
     "data": {
      "application/vnd.jupyter.widget-view+json": {
       "model_id": "",
       "version_major": 2,
       "version_minor": 0
      },
      "text/plain": [
       "Validating: 0it [00:00, ?it/s]"
      ]
     },
     "metadata": {},
     "output_type": "display_data"
    },
    {
     "name": "stderr",
     "output_type": "stream",
     "text": [
      "/workspace/Project/2021_AI_security/model/cae_conv_id.py:293: UserWarning: Implicit dimension choice for softmax has been deprecated. Change the call to include dim=X as an argument.\n",
      "  prob_batch = F.softmax(input=x_id_hat_batch)\n",
      "[2021-06-11 16:53:04,510][INFO][occ.py:142] Start to transform training features to latent\n",
      "[2021-06-11 16:53:06,751][INFO][occ.py:157] Complete to transform training features to latent\n",
      "[2021-06-11 16:53:06,753][INFO][occ.py:159] Start to train the OCC, rbf_ocsvm\n"
     ]
    },
    {
     "name": "stdout",
     "output_type": "stream",
     "text": [
      "[LibSVM]"
     ]
    },
    {
     "name": "stderr",
     "output_type": "stream",
     "text": [
      "[2021-06-11 16:53:27,463][INFO][occ.py:161] Complete to train the OCC, rbf_ocsvm\n",
      "[2021-06-11 16:53:27,465][INFO][occ.py:168] Start to transform validation features to latent\n",
      "[2021-06-11 16:53:29,042][INFO][occ.py:189] Complete to transform validation features to latent\n",
      "[2021-06-11 16:53:29,044][INFO][occ.py:191] Start to validate the OCC, rbf_ocsvm\n",
      "[2021-06-11 16:53:40,421][INFO][occ.py:194] Complete to validate the OCC, rbf_ocsvm\n",
      "[2021-06-11 16:53:40,458][INFO][callback.py:16] Save checkpoint, Epoch : 75\n",
      "[2021-06-11 16:53:40,468][INFO][callback.py:16] Save checkpoint, Epoch : 75\n"
     ]
    },
    {
     "name": "stdout",
     "output_type": "stream",
     "text": [
      "AUC : 77.41547713667458\n",
      "[Epoch 75]\n",
      " Train - Loss : 0.8486485481262207 | Accuracy : None | Precision : None | Recall : None | F1 : None\n",
      " Val - Loss : 0.8692559599876404 | Accuracy : None | Precision : None | Recall : None | F1 : None\n",
      "Early Stopping [0/40] - Best Epoch : 75 | Best Score : 77.41547393798828\n"
     ]
    },
    {
     "data": {
      "application/vnd.jupyter.widget-view+json": {
       "model_id": "",
       "version_major": 2,
       "version_minor": 0
      },
      "text/plain": [
       "Validating: 0it [00:00, ?it/s]"
      ]
     },
     "metadata": {},
     "output_type": "display_data"
    },
    {
     "name": "stderr",
     "output_type": "stream",
     "text": [
      "/workspace/Project/2021_AI_security/model/cae_conv_id.py:293: UserWarning: Implicit dimension choice for softmax has been deprecated. Change the call to include dim=X as an argument.\n",
      "  prob_batch = F.softmax(input=x_id_hat_batch)\n",
      "[2021-06-11 16:54:43,658][INFO][occ.py:142] Start to transform training features to latent\n",
      "[2021-06-11 16:54:45,912][INFO][occ.py:157] Complete to transform training features to latent\n",
      "[2021-06-11 16:54:45,915][INFO][occ.py:159] Start to train the OCC, rbf_ocsvm\n"
     ]
    },
    {
     "name": "stdout",
     "output_type": "stream",
     "text": [
      "[LibSVM]"
     ]
    },
    {
     "name": "stderr",
     "output_type": "stream",
     "text": [
      "[2021-06-11 16:55:06,465][INFO][occ.py:161] Complete to train the OCC, rbf_ocsvm\n",
      "[2021-06-11 16:55:06,467][INFO][occ.py:168] Start to transform validation features to latent\n",
      "[2021-06-11 16:55:08,031][INFO][occ.py:189] Complete to transform validation features to latent\n",
      "[2021-06-11 16:55:08,033][INFO][occ.py:191] Start to validate the OCC, rbf_ocsvm\n",
      "[2021-06-11 16:55:19,712][INFO][occ.py:194] Complete to validate the OCC, rbf_ocsvm\n",
      "[2021-06-11 16:55:19,755][INFO][callback.py:16] Save checkpoint, Epoch : 76\n"
     ]
    },
    {
     "name": "stdout",
     "output_type": "stream",
     "text": [
      "AUC : 77.08912975563142\n",
      "[Epoch 76]\n",
      " Train - Loss : 0.845382809638977 | Accuracy : None | Precision : None | Recall : None | F1 : None\n",
      " Val - Loss : 0.8412301540374756 | Accuracy : None | Precision : None | Recall : None | F1 : None\n",
      "Early Stopping [1/40] - Best Epoch : 75 | Best Score : 77.41547393798828\n"
     ]
    },
    {
     "data": {
      "application/vnd.jupyter.widget-view+json": {
       "model_id": "",
       "version_major": 2,
       "version_minor": 0
      },
      "text/plain": [
       "Validating: 0it [00:00, ?it/s]"
      ]
     },
     "metadata": {},
     "output_type": "display_data"
    },
    {
     "name": "stderr",
     "output_type": "stream",
     "text": [
      "/workspace/Project/2021_AI_security/model/cae_conv_id.py:293: UserWarning: Implicit dimension choice for softmax has been deprecated. Change the call to include dim=X as an argument.\n",
      "  prob_batch = F.softmax(input=x_id_hat_batch)\n",
      "[2021-06-11 16:56:22,416][INFO][occ.py:142] Start to transform training features to latent\n",
      "[2021-06-11 16:56:24,715][INFO][occ.py:157] Complete to transform training features to latent\n",
      "[2021-06-11 16:56:24,718][INFO][occ.py:159] Start to train the OCC, rbf_ocsvm\n"
     ]
    },
    {
     "name": "stdout",
     "output_type": "stream",
     "text": [
      "[LibSVM]"
     ]
    },
    {
     "name": "stderr",
     "output_type": "stream",
     "text": [
      "[2021-06-11 16:56:45,210][INFO][occ.py:161] Complete to train the OCC, rbf_ocsvm\n",
      "[2021-06-11 16:56:45,211][INFO][occ.py:168] Start to transform validation features to latent\n",
      "[2021-06-11 16:56:46,622][INFO][occ.py:189] Complete to transform validation features to latent\n",
      "[2021-06-11 16:56:46,623][INFO][occ.py:191] Start to validate the OCC, rbf_ocsvm\n",
      "[2021-06-11 16:56:58,537][INFO][occ.py:194] Complete to validate the OCC, rbf_ocsvm\n",
      "[2021-06-11 16:56:58,572][INFO][callback.py:16] Save checkpoint, Epoch : 77\n"
     ]
    },
    {
     "name": "stdout",
     "output_type": "stream",
     "text": [
      "AUC : 76.98705108355577\n",
      "[Epoch 77]\n",
      " Train - Loss : 0.8399117588996887 | Accuracy : None | Precision : None | Recall : None | F1 : None\n",
      " Val - Loss : 0.8424411416053772 | Accuracy : None | Precision : None | Recall : None | F1 : None\n",
      "Early Stopping [2/40] - Best Epoch : 75 | Best Score : 77.41547393798828\n"
     ]
    },
    {
     "data": {
      "application/vnd.jupyter.widget-view+json": {
       "model_id": "",
       "version_major": 2,
       "version_minor": 0
      },
      "text/plain": [
       "Validating: 0it [00:00, ?it/s]"
      ]
     },
     "metadata": {},
     "output_type": "display_data"
    },
    {
     "name": "stderr",
     "output_type": "stream",
     "text": [
      "/workspace/Project/2021_AI_security/model/cae_conv_id.py:293: UserWarning: Implicit dimension choice for softmax has been deprecated. Change the call to include dim=X as an argument.\n",
      "  prob_batch = F.softmax(input=x_id_hat_batch)\n",
      "[2021-06-11 16:58:02,188][INFO][occ.py:142] Start to transform training features to latent\n",
      "[2021-06-11 16:58:04,375][INFO][occ.py:157] Complete to transform training features to latent\n",
      "[2021-06-11 16:58:04,379][INFO][occ.py:159] Start to train the OCC, rbf_ocsvm\n"
     ]
    },
    {
     "name": "stdout",
     "output_type": "stream",
     "text": [
      "[LibSVM]"
     ]
    },
    {
     "name": "stderr",
     "output_type": "stream",
     "text": [
      "[2021-06-11 16:58:26,806][INFO][occ.py:161] Complete to train the OCC, rbf_ocsvm\n",
      "[2021-06-11 16:58:26,811][INFO][occ.py:168] Start to transform validation features to latent\n",
      "[2021-06-11 16:58:28,329][INFO][occ.py:189] Complete to transform validation features to latent\n",
      "[2021-06-11 16:58:28,331][INFO][occ.py:191] Start to validate the OCC, rbf_ocsvm\n",
      "[2021-06-11 16:58:39,656][INFO][occ.py:194] Complete to validate the OCC, rbf_ocsvm\n",
      "[2021-06-11 16:58:39,698][INFO][callback.py:16] Save checkpoint, Epoch : 78\n"
     ]
    },
    {
     "name": "stdout",
     "output_type": "stream",
     "text": [
      "AUC : 77.09665285326399\n",
      "[Epoch 78]\n",
      " Train - Loss : 0.8387523293495178 | Accuracy : None | Precision : None | Recall : None | F1 : None\n",
      " Val - Loss : 0.8414974808692932 | Accuracy : None | Precision : None | Recall : None | F1 : None\n",
      "Early Stopping [3/40] - Best Epoch : 75 | Best Score : 77.41547393798828\n"
     ]
    },
    {
     "data": {
      "application/vnd.jupyter.widget-view+json": {
       "model_id": "",
       "version_major": 2,
       "version_minor": 0
      },
      "text/plain": [
       "Validating: 0it [00:00, ?it/s]"
      ]
     },
     "metadata": {},
     "output_type": "display_data"
    },
    {
     "name": "stderr",
     "output_type": "stream",
     "text": [
      "/workspace/Project/2021_AI_security/model/cae_conv_id.py:293: UserWarning: Implicit dimension choice for softmax has been deprecated. Change the call to include dim=X as an argument.\n",
      "  prob_batch = F.softmax(input=x_id_hat_batch)\n",
      "[2021-06-11 16:59:42,625][INFO][occ.py:142] Start to transform training features to latent\n",
      "[2021-06-11 16:59:44,919][INFO][occ.py:157] Complete to transform training features to latent\n",
      "[2021-06-11 16:59:44,922][INFO][occ.py:159] Start to train the OCC, rbf_ocsvm\n"
     ]
    },
    {
     "name": "stdout",
     "output_type": "stream",
     "text": [
      "[LibSVM]"
     ]
    },
    {
     "name": "stderr",
     "output_type": "stream",
     "text": [
      "[2021-06-11 17:00:06,960][INFO][occ.py:161] Complete to train the OCC, rbf_ocsvm\n",
      "[2021-06-11 17:00:06,963][INFO][occ.py:168] Start to transform validation features to latent\n",
      "[2021-06-11 17:00:08,359][INFO][occ.py:189] Complete to transform validation features to latent\n",
      "[2021-06-11 17:00:08,360][INFO][occ.py:191] Start to validate the OCC, rbf_ocsvm\n",
      "[2021-06-11 17:00:19,725][INFO][occ.py:194] Complete to validate the OCC, rbf_ocsvm\n",
      "[2021-06-11 17:00:19,755][INFO][callback.py:16] Save checkpoint, Epoch : 79\n"
     ]
    },
    {
     "name": "stdout",
     "output_type": "stream",
     "text": [
      "AUC : 76.40936332771302\n",
      "[Epoch 79]\n",
      " Train - Loss : 0.8351246118545532 | Accuracy : None | Precision : None | Recall : None | F1 : None\n",
      " Val - Loss : 0.8367117643356323 | Accuracy : None | Precision : None | Recall : None | F1 : None\n",
      "Early Stopping [4/40] - Best Epoch : 75 | Best Score : 77.41547393798828\n"
     ]
    },
    {
     "data": {
      "application/vnd.jupyter.widget-view+json": {
       "model_id": "",
       "version_major": 2,
       "version_minor": 0
      },
      "text/plain": [
       "Validating: 0it [00:00, ?it/s]"
      ]
     },
     "metadata": {},
     "output_type": "display_data"
    },
    {
     "name": "stderr",
     "output_type": "stream",
     "text": [
      "/workspace/Project/2021_AI_security/model/cae_conv_id.py:293: UserWarning: Implicit dimension choice for softmax has been deprecated. Change the call to include dim=X as an argument.\n",
      "  prob_batch = F.softmax(input=x_id_hat_batch)\n",
      "[2021-06-11 17:01:21,906][INFO][occ.py:142] Start to transform training features to latent\n",
      "[2021-06-11 17:01:24,116][INFO][occ.py:157] Complete to transform training features to latent\n",
      "[2021-06-11 17:01:24,118][INFO][occ.py:159] Start to train the OCC, rbf_ocsvm\n"
     ]
    },
    {
     "name": "stdout",
     "output_type": "stream",
     "text": [
      "[LibSVM]"
     ]
    },
    {
     "name": "stderr",
     "output_type": "stream",
     "text": [
      "[2021-06-11 17:01:46,404][INFO][occ.py:161] Complete to train the OCC, rbf_ocsvm\n",
      "[2021-06-11 17:01:46,409][INFO][occ.py:168] Start to transform validation features to latent\n",
      "[2021-06-11 17:01:48,112][INFO][occ.py:189] Complete to transform validation features to latent\n",
      "[2021-06-11 17:01:48,113][INFO][occ.py:191] Start to validate the OCC, rbf_ocsvm\n",
      "[2021-06-11 17:01:59,724][INFO][occ.py:194] Complete to validate the OCC, rbf_ocsvm\n",
      "[2021-06-11 17:01:59,761][INFO][callback.py:16] Save checkpoint, Epoch : 80\n"
     ]
    },
    {
     "name": "stdout",
     "output_type": "stream",
     "text": [
      "AUC : 77.01624759375733\n",
      "[Epoch 80]\n",
      " Train - Loss : 0.8290128111839294 | Accuracy : None | Precision : None | Recall : None | F1 : None\n",
      " Val - Loss : 0.8337444067001343 | Accuracy : None | Precision : None | Recall : None | F1 : None\n",
      "Early Stopping [5/40] - Best Epoch : 75 | Best Score : 77.41547393798828\n"
     ]
    },
    {
     "data": {
      "application/vnd.jupyter.widget-view+json": {
       "model_id": "",
       "version_major": 2,
       "version_minor": 0
      },
      "text/plain": [
       "Validating: 0it [00:00, ?it/s]"
      ]
     },
     "metadata": {},
     "output_type": "display_data"
    },
    {
     "name": "stderr",
     "output_type": "stream",
     "text": [
      "/workspace/Project/2021_AI_security/model/cae_conv_id.py:293: UserWarning: Implicit dimension choice for softmax has been deprecated. Change the call to include dim=X as an argument.\n",
      "  prob_batch = F.softmax(input=x_id_hat_batch)\n",
      "[2021-06-11 17:03:03,915][INFO][occ.py:142] Start to transform training features to latent\n",
      "[2021-06-11 17:03:06,762][INFO][occ.py:157] Complete to transform training features to latent\n",
      "[2021-06-11 17:03:06,764][INFO][occ.py:159] Start to train the OCC, rbf_ocsvm\n"
     ]
    },
    {
     "name": "stdout",
     "output_type": "stream",
     "text": [
      "[LibSVM]"
     ]
    },
    {
     "name": "stderr",
     "output_type": "stream",
     "text": [
      "[2021-06-11 17:03:29,374][INFO][occ.py:161] Complete to train the OCC, rbf_ocsvm\n",
      "[2021-06-11 17:03:29,376][INFO][occ.py:168] Start to transform validation features to latent\n",
      "[2021-06-11 17:03:30,852][INFO][occ.py:189] Complete to transform validation features to latent\n",
      "[2021-06-11 17:03:30,854][INFO][occ.py:191] Start to validate the OCC, rbf_ocsvm\n",
      "[2021-06-11 17:03:42,084][INFO][occ.py:194] Complete to validate the OCC, rbf_ocsvm\n",
      "[2021-06-11 17:03:42,127][INFO][callback.py:16] Save checkpoint, Epoch : 81\n",
      "[2021-06-11 17:03:42,135][INFO][callback.py:16] Save checkpoint, Epoch : 81\n"
     ]
    },
    {
     "name": "stdout",
     "output_type": "stream",
     "text": [
      "AUC : 77.3129332959667\n",
      "[Epoch 81]\n",
      " Train - Loss : 0.8299343585968018 | Accuracy : None | Precision : None | Recall : None | F1 : None\n",
      " Val - Loss : 0.8382081985473633 | Accuracy : None | Precision : None | Recall : None | F1 : None\n",
      "Early Stopping [6/40] - Best Epoch : 75 | Best Score : 77.41547393798828\n"
     ]
    },
    {
     "data": {
      "application/vnd.jupyter.widget-view+json": {
       "model_id": "",
       "version_major": 2,
       "version_minor": 0
      },
      "text/plain": [
       "Validating: 0it [00:00, ?it/s]"
      ]
     },
     "metadata": {},
     "output_type": "display_data"
    },
    {
     "name": "stderr",
     "output_type": "stream",
     "text": [
      "/workspace/Project/2021_AI_security/model/cae_conv_id.py:293: UserWarning: Implicit dimension choice for softmax has been deprecated. Change the call to include dim=X as an argument.\n",
      "  prob_batch = F.softmax(input=x_id_hat_batch)\n",
      "[2021-06-11 17:04:43,433][INFO][occ.py:142] Start to transform training features to latent\n",
      "[2021-06-11 17:04:45,765][INFO][occ.py:157] Complete to transform training features to latent\n",
      "[2021-06-11 17:04:45,766][INFO][occ.py:159] Start to train the OCC, rbf_ocsvm\n"
     ]
    },
    {
     "name": "stdout",
     "output_type": "stream",
     "text": [
      "[LibSVM]"
     ]
    },
    {
     "name": "stderr",
     "output_type": "stream",
     "text": [
      "[2021-06-11 17:05:07,809][INFO][occ.py:161] Complete to train the OCC, rbf_ocsvm\n",
      "[2021-06-11 17:05:07,812][INFO][occ.py:168] Start to transform validation features to latent\n",
      "[2021-06-11 17:05:09,216][INFO][occ.py:189] Complete to transform validation features to latent\n",
      "[2021-06-11 17:05:09,217][INFO][occ.py:191] Start to validate the OCC, rbf_ocsvm\n",
      "[2021-06-11 17:05:20,861][INFO][occ.py:194] Complete to validate the OCC, rbf_ocsvm\n",
      "[2021-06-11 17:05:20,894][INFO][callback.py:16] Save checkpoint, Epoch : 82\n",
      "[2021-06-11 17:05:20,901][INFO][callback.py:16] Save checkpoint, Epoch : 82\n"
     ]
    },
    {
     "name": "stdout",
     "output_type": "stream",
     "text": [
      "AUC : 77.23589907333815\n",
      "[Epoch 82]\n",
      " Train - Loss : 0.8262043595314026 | Accuracy : None | Precision : None | Recall : None | F1 : None\n",
      " Val - Loss : 0.8225057721138 | Accuracy : None | Precision : None | Recall : None | F1 : None\n",
      "Early Stopping [7/40] - Best Epoch : 75 | Best Score : 77.41547393798828\n"
     ]
    },
    {
     "data": {
      "application/vnd.jupyter.widget-view+json": {
       "model_id": "",
       "version_major": 2,
       "version_minor": 0
      },
      "text/plain": [
       "Validating: 0it [00:00, ?it/s]"
      ]
     },
     "metadata": {},
     "output_type": "display_data"
    },
    {
     "name": "stderr",
     "output_type": "stream",
     "text": [
      "/workspace/Project/2021_AI_security/model/cae_conv_id.py:293: UserWarning: Implicit dimension choice for softmax has been deprecated. Change the call to include dim=X as an argument.\n",
      "  prob_batch = F.softmax(input=x_id_hat_batch)\n",
      "[2021-06-11 17:06:22,727][INFO][occ.py:142] Start to transform training features to latent\n",
      "[2021-06-11 17:06:24,801][INFO][occ.py:157] Complete to transform training features to latent\n",
      "[2021-06-11 17:06:24,804][INFO][occ.py:159] Start to train the OCC, rbf_ocsvm\n"
     ]
    },
    {
     "name": "stdout",
     "output_type": "stream",
     "text": [
      "[LibSVM]"
     ]
    },
    {
     "name": "stderr",
     "output_type": "stream",
     "text": [
      "[2021-06-11 17:06:45,468][INFO][occ.py:161] Complete to train the OCC, rbf_ocsvm\n",
      "[2021-06-11 17:06:45,469][INFO][occ.py:168] Start to transform validation features to latent\n",
      "[2021-06-11 17:06:46,999][INFO][occ.py:189] Complete to transform validation features to latent\n",
      "[2021-06-11 17:06:47,001][INFO][occ.py:191] Start to validate the OCC, rbf_ocsvm\n",
      "[2021-06-11 17:06:58,842][INFO][occ.py:194] Complete to validate the OCC, rbf_ocsvm\n",
      "[2021-06-11 17:06:58,871][INFO][callback.py:16] Save checkpoint, Epoch : 83\n"
     ]
    },
    {
     "name": "stdout",
     "output_type": "stream",
     "text": [
      "AUC : 77.11563862484667\n",
      "[Epoch 83]\n",
      " Train - Loss : 0.8229393362998962 | Accuracy : None | Precision : None | Recall : None | F1 : None\n",
      " Val - Loss : 0.8418251276016235 | Accuracy : None | Precision : None | Recall : None | F1 : None\n",
      "Early Stopping [8/40] - Best Epoch : 75 | Best Score : 77.41547393798828\n"
     ]
    },
    {
     "data": {
      "application/vnd.jupyter.widget-view+json": {
       "model_id": "",
       "version_major": 2,
       "version_minor": 0
      },
      "text/plain": [
       "Validating: 0it [00:00, ?it/s]"
      ]
     },
     "metadata": {},
     "output_type": "display_data"
    },
    {
     "name": "stderr",
     "output_type": "stream",
     "text": [
      "/workspace/Project/2021_AI_security/model/cae_conv_id.py:293: UserWarning: Implicit dimension choice for softmax has been deprecated. Change the call to include dim=X as an argument.\n",
      "  prob_batch = F.softmax(input=x_id_hat_batch)\n",
      "[2021-06-11 17:08:00,446][INFO][occ.py:142] Start to transform training features to latent\n",
      "[2021-06-11 17:08:02,826][INFO][occ.py:157] Complete to transform training features to latent\n",
      "[2021-06-11 17:08:02,828][INFO][occ.py:159] Start to train the OCC, rbf_ocsvm\n"
     ]
    },
    {
     "name": "stdout",
     "output_type": "stream",
     "text": [
      "[LibSVM]"
     ]
    },
    {
     "name": "stderr",
     "output_type": "stream",
     "text": [
      "[2021-06-11 17:08:24,324][INFO][occ.py:161] Complete to train the OCC, rbf_ocsvm\n",
      "[2021-06-11 17:08:24,326][INFO][occ.py:168] Start to transform validation features to latent\n",
      "[2021-06-11 17:08:25,731][INFO][occ.py:189] Complete to transform validation features to latent\n",
      "[2021-06-11 17:08:25,732][INFO][occ.py:191] Start to validate the OCC, rbf_ocsvm\n",
      "[2021-06-11 17:08:36,922][INFO][occ.py:194] Complete to validate the OCC, rbf_ocsvm\n",
      "[2021-06-11 17:08:36,953][INFO][callback.py:16] Save checkpoint, Epoch : 84\n"
     ]
    },
    {
     "name": "stdout",
     "output_type": "stream",
     "text": [
      "AUC : 77.16403339106785\n",
      "[Epoch 84]\n",
      " Train - Loss : 0.8217338919639587 | Accuracy : None | Precision : None | Recall : None | F1 : None\n",
      " Val - Loss : 0.8234105110168457 | Accuracy : None | Precision : None | Recall : None | F1 : None\n",
      "Early Stopping [9/40] - Best Epoch : 75 | Best Score : 77.41547393798828\n"
     ]
    },
    {
     "data": {
      "application/vnd.jupyter.widget-view+json": {
       "model_id": "",
       "version_major": 2,
       "version_minor": 0
      },
      "text/plain": [
       "Validating: 0it [00:00, ?it/s]"
      ]
     },
     "metadata": {},
     "output_type": "display_data"
    },
    {
     "name": "stderr",
     "output_type": "stream",
     "text": [
      "/workspace/Project/2021_AI_security/model/cae_conv_id.py:293: UserWarning: Implicit dimension choice for softmax has been deprecated. Change the call to include dim=X as an argument.\n",
      "  prob_batch = F.softmax(input=x_id_hat_batch)\n",
      "[2021-06-11 17:09:37,773][INFO][occ.py:142] Start to transform training features to latent\n",
      "[2021-06-11 17:09:39,932][INFO][occ.py:157] Complete to transform training features to latent\n",
      "[2021-06-11 17:09:39,933][INFO][occ.py:159] Start to train the OCC, rbf_ocsvm\n"
     ]
    },
    {
     "name": "stdout",
     "output_type": "stream",
     "text": [
      "[LibSVM]"
     ]
    },
    {
     "name": "stderr",
     "output_type": "stream",
     "text": [
      "[2021-06-11 17:10:00,788][INFO][occ.py:161] Complete to train the OCC, rbf_ocsvm\n",
      "[2021-06-11 17:10:00,791][INFO][occ.py:168] Start to transform validation features to latent\n",
      "[2021-06-11 17:10:02,240][INFO][occ.py:189] Complete to transform validation features to latent\n",
      "[2021-06-11 17:10:02,241][INFO][occ.py:191] Start to validate the OCC, rbf_ocsvm\n",
      "[2021-06-11 17:10:13,492][INFO][occ.py:194] Complete to validate the OCC, rbf_ocsvm\n",
      "[2021-06-11 17:10:13,536][INFO][callback.py:16] Save checkpoint, Epoch : 85\n"
     ]
    },
    {
     "name": "stdout",
     "output_type": "stream",
     "text": [
      "AUC : 76.84197589852204\n",
      "[Epoch 85]\n",
      " Train - Loss : 0.8194509148597717 | Accuracy : None | Precision : None | Recall : None | F1 : None\n",
      " Val - Loss : 0.818182647228241 | Accuracy : None | Precision : None | Recall : None | F1 : None\n",
      "Early Stopping [10/40] - Best Epoch : 75 | Best Score : 77.41547393798828\n"
     ]
    },
    {
     "data": {
      "application/vnd.jupyter.widget-view+json": {
       "model_id": "",
       "version_major": 2,
       "version_minor": 0
      },
      "text/plain": [
       "Validating: 0it [00:00, ?it/s]"
      ]
     },
     "metadata": {},
     "output_type": "display_data"
    },
    {
     "name": "stderr",
     "output_type": "stream",
     "text": [
      "/workspace/Project/2021_AI_security/model/cae_conv_id.py:293: UserWarning: Implicit dimension choice for softmax has been deprecated. Change the call to include dim=X as an argument.\n",
      "  prob_batch = F.softmax(input=x_id_hat_batch)\n",
      "[2021-06-11 17:11:13,894][INFO][occ.py:142] Start to transform training features to latent\n",
      "[2021-06-11 17:11:16,066][INFO][occ.py:157] Complete to transform training features to latent\n",
      "[2021-06-11 17:11:16,068][INFO][occ.py:159] Start to train the OCC, rbf_ocsvm\n"
     ]
    },
    {
     "name": "stdout",
     "output_type": "stream",
     "text": [
      "[LibSVM]"
     ]
    },
    {
     "name": "stderr",
     "output_type": "stream",
     "text": [
      "[2021-06-11 17:11:38,608][INFO][occ.py:161] Complete to train the OCC, rbf_ocsvm\n",
      "[2021-06-11 17:11:38,610][INFO][occ.py:168] Start to transform validation features to latent\n",
      "[2021-06-11 17:11:40,133][INFO][occ.py:189] Complete to transform validation features to latent\n",
      "[2021-06-11 17:11:40,134][INFO][occ.py:191] Start to validate the OCC, rbf_ocsvm\n",
      "[2021-06-11 17:11:51,626][INFO][occ.py:194] Complete to validate the OCC, rbf_ocsvm\n",
      "[2021-06-11 17:11:51,657][INFO][callback.py:16] Save checkpoint, Epoch : 86\n"
     ]
    },
    {
     "name": "stdout",
     "output_type": "stream",
     "text": [
      "AUC : 77.12582064935245\n",
      "[Epoch 86]\n",
      " Train - Loss : 0.8161898255348206 | Accuracy : None | Precision : None | Recall : None | F1 : None\n",
      " Val - Loss : 0.8167378902435303 | Accuracy : None | Precision : None | Recall : None | F1 : None\n",
      "Early Stopping [11/40] - Best Epoch : 75 | Best Score : 77.41547393798828\n"
     ]
    },
    {
     "data": {
      "application/vnd.jupyter.widget-view+json": {
       "model_id": "",
       "version_major": 2,
       "version_minor": 0
      },
      "text/plain": [
       "Validating: 0it [00:00, ?it/s]"
      ]
     },
     "metadata": {},
     "output_type": "display_data"
    },
    {
     "name": "stderr",
     "output_type": "stream",
     "text": [
      "/workspace/Project/2021_AI_security/model/cae_conv_id.py:293: UserWarning: Implicit dimension choice for softmax has been deprecated. Change the call to include dim=X as an argument.\n",
      "  prob_batch = F.softmax(input=x_id_hat_batch)\n",
      "[2021-06-11 17:12:52,692][INFO][occ.py:142] Start to transform training features to latent\n",
      "[2021-06-11 17:12:54,756][INFO][occ.py:157] Complete to transform training features to latent\n",
      "[2021-06-11 17:12:54,757][INFO][occ.py:159] Start to train the OCC, rbf_ocsvm\n"
     ]
    },
    {
     "name": "stdout",
     "output_type": "stream",
     "text": [
      "[LibSVM]"
     ]
    },
    {
     "name": "stderr",
     "output_type": "stream",
     "text": [
      "[2021-06-11 17:13:15,636][INFO][occ.py:161] Complete to train the OCC, rbf_ocsvm\n",
      "[2021-06-11 17:13:15,638][INFO][occ.py:168] Start to transform validation features to latent\n",
      "[2021-06-11 17:13:17,163][INFO][occ.py:189] Complete to transform validation features to latent\n",
      "[2021-06-11 17:13:17,166][INFO][occ.py:191] Start to validate the OCC, rbf_ocsvm\n",
      "[2021-06-11 17:13:28,622][INFO][occ.py:194] Complete to validate the OCC, rbf_ocsvm\n",
      "[2021-06-11 17:13:28,653][INFO][callback.py:16] Save checkpoint, Epoch : 87\n"
     ]
    },
    {
     "name": "stdout",
     "output_type": "stream",
     "text": [
      "AUC : 76.8323164708747\n",
      "[Epoch 87]\n",
      " Train - Loss : 0.8195232152938843 | Accuracy : None | Precision : None | Recall : None | F1 : None\n",
      " Val - Loss : 0.8231531977653503 | Accuracy : None | Precision : None | Recall : None | F1 : None\n",
      "Early Stopping [12/40] - Best Epoch : 75 | Best Score : 77.41547393798828\n"
     ]
    },
    {
     "data": {
      "application/vnd.jupyter.widget-view+json": {
       "model_id": "",
       "version_major": 2,
       "version_minor": 0
      },
      "text/plain": [
       "Validating: 0it [00:00, ?it/s]"
      ]
     },
     "metadata": {},
     "output_type": "display_data"
    },
    {
     "name": "stderr",
     "output_type": "stream",
     "text": [
      "/workspace/Project/2021_AI_security/model/cae_conv_id.py:293: UserWarning: Implicit dimension choice for softmax has been deprecated. Change the call to include dim=X as an argument.\n",
      "  prob_batch = F.softmax(input=x_id_hat_batch)\n",
      "[2021-06-11 17:14:31,298][INFO][occ.py:142] Start to transform training features to latent\n",
      "[2021-06-11 17:14:33,952][INFO][occ.py:157] Complete to transform training features to latent\n",
      "[2021-06-11 17:14:33,956][INFO][occ.py:159] Start to train the OCC, rbf_ocsvm\n"
     ]
    },
    {
     "name": "stdout",
     "output_type": "stream",
     "text": [
      "[LibSVM]"
     ]
    },
    {
     "name": "stderr",
     "output_type": "stream",
     "text": [
      "[2021-06-11 17:14:57,383][INFO][occ.py:161] Complete to train the OCC, rbf_ocsvm\n",
      "[2021-06-11 17:14:57,389][INFO][occ.py:168] Start to transform validation features to latent\n",
      "[2021-06-11 17:14:59,160][INFO][occ.py:189] Complete to transform validation features to latent\n",
      "[2021-06-11 17:14:59,161][INFO][occ.py:191] Start to validate the OCC, rbf_ocsvm\n",
      "[2021-06-11 17:15:10,886][INFO][occ.py:194] Complete to validate the OCC, rbf_ocsvm\n",
      "[2021-06-11 17:15:10,921][INFO][callback.py:16] Save checkpoint, Epoch : 88\n",
      "[2021-06-11 17:15:10,927][INFO][callback.py:16] Save checkpoint, Epoch : 88\n"
     ]
    },
    {
     "name": "stdout",
     "output_type": "stream",
     "text": [
      "AUC : 77.64034309919464\n",
      "[Epoch 88]\n",
      " Train - Loss : 0.82440185546875 | Accuracy : None | Precision : None | Recall : None | F1 : None\n",
      " Val - Loss : 0.820122241973877 | Accuracy : None | Precision : None | Recall : None | F1 : None\n",
      "Early Stopping [0/40] - Best Epoch : 88 | Best Score : 77.64034271240234\n"
     ]
    },
    {
     "data": {
      "application/vnd.jupyter.widget-view+json": {
       "model_id": "",
       "version_major": 2,
       "version_minor": 0
      },
      "text/plain": [
       "Validating: 0it [00:00, ?it/s]"
      ]
     },
     "metadata": {},
     "output_type": "display_data"
    },
    {
     "name": "stderr",
     "output_type": "stream",
     "text": [
      "/workspace/Project/2021_AI_security/model/cae_conv_id.py:293: UserWarning: Implicit dimension choice for softmax has been deprecated. Change the call to include dim=X as an argument.\n",
      "  prob_batch = F.softmax(input=x_id_hat_batch)\n",
      "[2021-06-11 17:16:16,911][INFO][occ.py:142] Start to transform training features to latent\n",
      "[2021-06-11 17:16:19,027][INFO][occ.py:157] Complete to transform training features to latent\n",
      "[2021-06-11 17:16:19,029][INFO][occ.py:159] Start to train the OCC, rbf_ocsvm\n"
     ]
    },
    {
     "name": "stdout",
     "output_type": "stream",
     "text": [
      "[LibSVM]"
     ]
    },
    {
     "name": "stderr",
     "output_type": "stream",
     "text": [
      "[2021-06-11 17:16:39,751][INFO][occ.py:161] Complete to train the OCC, rbf_ocsvm\n",
      "[2021-06-11 17:16:39,754][INFO][occ.py:168] Start to transform validation features to latent\n",
      "[2021-06-11 17:16:41,250][INFO][occ.py:189] Complete to transform validation features to latent\n",
      "[2021-06-11 17:16:41,252][INFO][occ.py:191] Start to validate the OCC, rbf_ocsvm\n",
      "[2021-06-11 17:16:51,890][INFO][occ.py:194] Complete to validate the OCC, rbf_ocsvm\n",
      "[2021-06-11 17:16:51,922][INFO][callback.py:16] Save checkpoint, Epoch : 89\n",
      "[2021-06-11 17:16:51,933][INFO][callback.py:16] Save checkpoint, Epoch : 89\n"
     ]
    },
    {
     "name": "stdout",
     "output_type": "stream",
     "text": [
      "AUC : 77.56286667922431\n",
      "[Epoch 89]\n",
      " Train - Loss : 0.823988139629364 | Accuracy : None | Precision : None | Recall : None | F1 : None\n",
      " Val - Loss : 0.8357003331184387 | Accuracy : None | Precision : None | Recall : None | F1 : None\n",
      "Early Stopping [1/40] - Best Epoch : 88 | Best Score : 77.64034271240234\n"
     ]
    },
    {
     "data": {
      "application/vnd.jupyter.widget-view+json": {
       "model_id": "",
       "version_major": 2,
       "version_minor": 0
      },
      "text/plain": [
       "Validating: 0it [00:00, ?it/s]"
      ]
     },
     "metadata": {},
     "output_type": "display_data"
    },
    {
     "name": "stderr",
     "output_type": "stream",
     "text": [
      "/workspace/Project/2021_AI_security/model/cae_conv_id.py:293: UserWarning: Implicit dimension choice for softmax has been deprecated. Change the call to include dim=X as an argument.\n",
      "  prob_batch = F.softmax(input=x_id_hat_batch)\n",
      "[2021-06-11 17:17:56,610][INFO][occ.py:142] Start to transform training features to latent\n",
      "[2021-06-11 17:17:58,802][INFO][occ.py:157] Complete to transform training features to latent\n",
      "[2021-06-11 17:17:58,805][INFO][occ.py:159] Start to train the OCC, rbf_ocsvm\n"
     ]
    },
    {
     "name": "stdout",
     "output_type": "stream",
     "text": [
      "[LibSVM]"
     ]
    },
    {
     "name": "stderr",
     "output_type": "stream",
     "text": [
      "[2021-06-11 17:18:18,382][INFO][occ.py:161] Complete to train the OCC, rbf_ocsvm\n",
      "[2021-06-11 17:18:18,384][INFO][occ.py:168] Start to transform validation features to latent\n",
      "[2021-06-11 17:18:19,851][INFO][occ.py:189] Complete to transform validation features to latent\n",
      "[2021-06-11 17:18:19,852][INFO][occ.py:191] Start to validate the OCC, rbf_ocsvm\n",
      "[2021-06-11 17:18:30,751][INFO][occ.py:194] Complete to validate the OCC, rbf_ocsvm\n",
      "[2021-06-11 17:18:30,782][INFO][callback.py:16] Save checkpoint, Epoch : 90\n",
      "[2021-06-11 17:18:30,788][INFO][callback.py:16] Save checkpoint, Epoch : 90\n"
     ]
    },
    {
     "name": "stdout",
     "output_type": "stream",
     "text": [
      "AUC : 77.3321258091637\n",
      "[Epoch 90]\n",
      " Train - Loss : 0.8241281509399414 | Accuracy : None | Precision : None | Recall : None | F1 : None\n",
      " Val - Loss : 0.8204287886619568 | Accuracy : None | Precision : None | Recall : None | F1 : None\n",
      "Early Stopping [2/40] - Best Epoch : 88 | Best Score : 77.64034271240234\n"
     ]
    },
    {
     "data": {
      "application/vnd.jupyter.widget-view+json": {
       "model_id": "",
       "version_major": 2,
       "version_minor": 0
      },
      "text/plain": [
       "Validating: 0it [00:00, ?it/s]"
      ]
     },
     "metadata": {},
     "output_type": "display_data"
    },
    {
     "name": "stderr",
     "output_type": "stream",
     "text": [
      "/workspace/Project/2021_AI_security/model/cae_conv_id.py:293: UserWarning: Implicit dimension choice for softmax has been deprecated. Change the call to include dim=X as an argument.\n",
      "  prob_batch = F.softmax(input=x_id_hat_batch)\n",
      "[2021-06-11 17:19:37,445][INFO][occ.py:142] Start to transform training features to latent\n",
      "[2021-06-11 17:19:39,687][INFO][occ.py:157] Complete to transform training features to latent\n",
      "[2021-06-11 17:19:39,689][INFO][occ.py:159] Start to train the OCC, rbf_ocsvm\n"
     ]
    },
    {
     "name": "stdout",
     "output_type": "stream",
     "text": [
      "[LibSVM]"
     ]
    },
    {
     "name": "stderr",
     "output_type": "stream",
     "text": [
      "[2021-06-11 17:19:59,041][INFO][occ.py:161] Complete to train the OCC, rbf_ocsvm\n",
      "[2021-06-11 17:19:59,044][INFO][occ.py:168] Start to transform validation features to latent\n",
      "[2021-06-11 17:20:00,469][INFO][occ.py:189] Complete to transform validation features to latent\n",
      "[2021-06-11 17:20:00,470][INFO][occ.py:191] Start to validate the OCC, rbf_ocsvm\n",
      "[2021-06-11 17:20:11,238][INFO][occ.py:194] Complete to validate the OCC, rbf_ocsvm\n",
      "[2021-06-11 17:20:11,268][INFO][callback.py:16] Save checkpoint, Epoch : 91\n",
      "[2021-06-11 17:20:11,278][INFO][callback.py:16] Save checkpoint, Epoch : 91\n"
     ]
    },
    {
     "name": "stdout",
     "output_type": "stream",
     "text": [
      "AUC : 78.02357888111439\n",
      "[Epoch 91]\n",
      " Train - Loss : 0.8252471685409546 | Accuracy : None | Precision : None | Recall : None | F1 : None\n",
      " Val - Loss : 0.8311088681221008 | Accuracy : None | Precision : None | Recall : None | F1 : None\n",
      "Early Stopping [0/40] - Best Epoch : 91 | Best Score : 78.0235824584961\n"
     ]
    },
    {
     "data": {
      "application/vnd.jupyter.widget-view+json": {
       "model_id": "",
       "version_major": 2,
       "version_minor": 0
      },
      "text/plain": [
       "Validating: 0it [00:00, ?it/s]"
      ]
     },
     "metadata": {},
     "output_type": "display_data"
    },
    {
     "name": "stderr",
     "output_type": "stream",
     "text": [
      "/workspace/Project/2021_AI_security/model/cae_conv_id.py:293: UserWarning: Implicit dimension choice for softmax has been deprecated. Change the call to include dim=X as an argument.\n",
      "  prob_batch = F.softmax(input=x_id_hat_batch)\n",
      "[2021-06-11 17:21:16,442][INFO][occ.py:142] Start to transform training features to latent\n",
      "[2021-06-11 17:21:18,634][INFO][occ.py:157] Complete to transform training features to latent\n",
      "[2021-06-11 17:21:18,635][INFO][occ.py:159] Start to train the OCC, rbf_ocsvm\n"
     ]
    },
    {
     "name": "stdout",
     "output_type": "stream",
     "text": [
      "[LibSVM]"
     ]
    },
    {
     "name": "stderr",
     "output_type": "stream",
     "text": [
      "[2021-06-11 17:21:39,566][INFO][occ.py:161] Complete to train the OCC, rbf_ocsvm\n",
      "[2021-06-11 17:21:39,569][INFO][occ.py:168] Start to transform validation features to latent\n",
      "[2021-06-11 17:21:41,034][INFO][occ.py:189] Complete to transform validation features to latent\n",
      "[2021-06-11 17:21:41,035][INFO][occ.py:191] Start to validate the OCC, rbf_ocsvm\n",
      "[2021-06-11 17:21:51,763][INFO][occ.py:194] Complete to validate the OCC, rbf_ocsvm\n",
      "[2021-06-11 17:21:51,799][INFO][callback.py:16] Save checkpoint, Epoch : 92\n",
      "[2021-06-11 17:21:51,805][INFO][callback.py:16] Save checkpoint, Epoch : 92\n"
     ]
    },
    {
     "name": "stdout",
     "output_type": "stream",
     "text": [
      "AUC : 77.67972163390195\n",
      "[Epoch 92]\n",
      " Train - Loss : 0.8294304013252258 | Accuracy : None | Precision : None | Recall : None | F1 : None\n",
      " Val - Loss : 0.8381755352020264 | Accuracy : None | Precision : None | Recall : None | F1 : None\n",
      "Early Stopping [1/40] - Best Epoch : 91 | Best Score : 78.0235824584961\n"
     ]
    },
    {
     "data": {
      "application/vnd.jupyter.widget-view+json": {
       "model_id": "",
       "version_major": 2,
       "version_minor": 0
      },
      "text/plain": [
       "Validating: 0it [00:00, ?it/s]"
      ]
     },
     "metadata": {},
     "output_type": "display_data"
    },
    {
     "name": "stderr",
     "output_type": "stream",
     "text": [
      "/workspace/Project/2021_AI_security/model/cae_conv_id.py:293: UserWarning: Implicit dimension choice for softmax has been deprecated. Change the call to include dim=X as an argument.\n",
      "  prob_batch = F.softmax(input=x_id_hat_batch)\n",
      "[2021-06-11 17:22:58,641][INFO][occ.py:142] Start to transform training features to latent\n",
      "[2021-06-11 17:23:00,851][INFO][occ.py:157] Complete to transform training features to latent\n",
      "[2021-06-11 17:23:00,853][INFO][occ.py:159] Start to train the OCC, rbf_ocsvm\n"
     ]
    },
    {
     "name": "stdout",
     "output_type": "stream",
     "text": [
      "[LibSVM]"
     ]
    },
    {
     "name": "stderr",
     "output_type": "stream",
     "text": [
      "[2021-06-11 17:23:22,140][INFO][occ.py:161] Complete to train the OCC, rbf_ocsvm\n",
      "[2021-06-11 17:23:22,143][INFO][occ.py:168] Start to transform validation features to latent\n",
      "[2021-06-11 17:23:23,609][INFO][occ.py:189] Complete to transform validation features to latent\n",
      "[2021-06-11 17:23:23,610][INFO][occ.py:191] Start to validate the OCC, rbf_ocsvm\n",
      "[2021-06-11 17:23:34,526][INFO][occ.py:194] Complete to validate the OCC, rbf_ocsvm\n",
      "[2021-06-11 17:23:34,556][INFO][callback.py:16] Save checkpoint, Epoch : 93\n",
      "[2021-06-11 17:23:34,563][INFO][callback.py:16] Save checkpoint, Epoch : 93\n"
     ]
    },
    {
     "name": "stdout",
     "output_type": "stream",
     "text": [
      "AUC : 78.30177843730905\n",
      "[Epoch 93]\n",
      " Train - Loss : 0.833535373210907 | Accuracy : None | Precision : None | Recall : None | F1 : None\n",
      " Val - Loss : 0.8417640924453735 | Accuracy : None | Precision : None | Recall : None | F1 : None\n",
      "Early Stopping [0/40] - Best Epoch : 93 | Best Score : 78.3017807006836\n"
     ]
    },
    {
     "data": {
      "application/vnd.jupyter.widget-view+json": {
       "model_id": "",
       "version_major": 2,
       "version_minor": 0
      },
      "text/plain": [
       "Validating: 0it [00:00, ?it/s]"
      ]
     },
     "metadata": {},
     "output_type": "display_data"
    },
    {
     "name": "stderr",
     "output_type": "stream",
     "text": [
      "/workspace/Project/2021_AI_security/model/cae_conv_id.py:293: UserWarning: Implicit dimension choice for softmax has been deprecated. Change the call to include dim=X as an argument.\n",
      "  prob_batch = F.softmax(input=x_id_hat_batch)\n",
      "[2021-06-11 17:24:44,270][INFO][occ.py:142] Start to transform training features to latent\n",
      "[2021-06-11 17:24:46,406][INFO][occ.py:157] Complete to transform training features to latent\n",
      "[2021-06-11 17:24:46,408][INFO][occ.py:159] Start to train the OCC, rbf_ocsvm\n"
     ]
    },
    {
     "name": "stdout",
     "output_type": "stream",
     "text": [
      "[LibSVM]"
     ]
    },
    {
     "name": "stderr",
     "output_type": "stream",
     "text": [
      "[2021-06-11 17:25:06,716][INFO][occ.py:161] Complete to train the OCC, rbf_ocsvm\n",
      "[2021-06-11 17:25:06,729][INFO][occ.py:168] Start to transform validation features to latent\n",
      "[2021-06-11 17:25:08,255][INFO][occ.py:189] Complete to transform validation features to latent\n",
      "[2021-06-11 17:25:08,256][INFO][occ.py:191] Start to validate the OCC, rbf_ocsvm\n",
      "[2021-06-11 17:25:19,043][INFO][occ.py:194] Complete to validate the OCC, rbf_ocsvm\n",
      "[2021-06-11 17:25:19,077][INFO][callback.py:16] Save checkpoint, Epoch : 94\n"
     ]
    },
    {
     "name": "stdout",
     "output_type": "stream",
     "text": [
      "AUC : 77.37549560559212\n",
      "[Epoch 94]\n",
      " Train - Loss : 0.8345648646354675 | Accuracy : None | Precision : None | Recall : None | F1 : None\n",
      " Val - Loss : 0.8363931775093079 | Accuracy : None | Precision : None | Recall : None | F1 : None\n",
      "Early Stopping [1/40] - Best Epoch : 93 | Best Score : 78.3017807006836\n"
     ]
    },
    {
     "data": {
      "application/vnd.jupyter.widget-view+json": {
       "model_id": "",
       "version_major": 2,
       "version_minor": 0
      },
      "text/plain": [
       "Validating: 0it [00:00, ?it/s]"
      ]
     },
     "metadata": {},
     "output_type": "display_data"
    },
    {
     "name": "stderr",
     "output_type": "stream",
     "text": [
      "/workspace/Project/2021_AI_security/model/cae_conv_id.py:293: UserWarning: Implicit dimension choice for softmax has been deprecated. Change the call to include dim=X as an argument.\n",
      "  prob_batch = F.softmax(input=x_id_hat_batch)\n",
      "[2021-06-11 17:26:29,112][INFO][occ.py:142] Start to transform training features to latent\n",
      "[2021-06-11 17:26:31,306][INFO][occ.py:157] Complete to transform training features to latent\n",
      "[2021-06-11 17:26:31,308][INFO][occ.py:159] Start to train the OCC, rbf_ocsvm\n"
     ]
    },
    {
     "name": "stdout",
     "output_type": "stream",
     "text": [
      "[LibSVM]"
     ]
    },
    {
     "name": "stderr",
     "output_type": "stream",
     "text": [
      "[2021-06-11 17:26:50,646][INFO][occ.py:161] Complete to train the OCC, rbf_ocsvm\n",
      "[2021-06-11 17:26:50,649][INFO][occ.py:168] Start to transform validation features to latent\n",
      "[2021-06-11 17:26:52,089][INFO][occ.py:189] Complete to transform validation features to latent\n",
      "[2021-06-11 17:26:52,091][INFO][occ.py:191] Start to validate the OCC, rbf_ocsvm\n",
      "[2021-06-11 17:27:02,841][INFO][occ.py:194] Complete to validate the OCC, rbf_ocsvm\n",
      "[2021-06-11 17:27:02,872][INFO][callback.py:16] Save checkpoint, Epoch : 95\n",
      "[2021-06-11 17:27:02,878][INFO][callback.py:16] Save checkpoint, Epoch : 95\n"
     ]
    },
    {
     "name": "stdout",
     "output_type": "stream",
     "text": [
      "AUC : 77.75441278490143\n",
      "[Epoch 95]\n",
      " Train - Loss : 0.837217390537262 | Accuracy : None | Precision : None | Recall : None | F1 : None\n",
      " Val - Loss : 0.8359122276306152 | Accuracy : None | Precision : None | Recall : None | F1 : None\n",
      "Early Stopping [2/40] - Best Epoch : 93 | Best Score : 78.3017807006836\n"
     ]
    },
    {
     "data": {
      "application/vnd.jupyter.widget-view+json": {
       "model_id": "",
       "version_major": 2,
       "version_minor": 0
      },
      "text/plain": [
       "Validating: 0it [00:00, ?it/s]"
      ]
     },
     "metadata": {},
     "output_type": "display_data"
    },
    {
     "name": "stderr",
     "output_type": "stream",
     "text": [
      "/workspace/Project/2021_AI_security/model/cae_conv_id.py:293: UserWarning: Implicit dimension choice for softmax has been deprecated. Change the call to include dim=X as an argument.\n",
      "  prob_batch = F.softmax(input=x_id_hat_batch)\n",
      "[2021-06-11 17:28:12,353][INFO][occ.py:142] Start to transform training features to latent\n",
      "[2021-06-11 17:28:14,565][INFO][occ.py:157] Complete to transform training features to latent\n",
      "[2021-06-11 17:28:14,567][INFO][occ.py:159] Start to train the OCC, rbf_ocsvm\n"
     ]
    },
    {
     "name": "stdout",
     "output_type": "stream",
     "text": [
      "[LibSVM]"
     ]
    },
    {
     "name": "stderr",
     "output_type": "stream",
     "text": [
      "[2021-06-11 17:28:34,573][INFO][occ.py:161] Complete to train the OCC, rbf_ocsvm\n",
      "[2021-06-11 17:28:34,575][INFO][occ.py:168] Start to transform validation features to latent\n",
      "[2021-06-11 17:28:35,967][INFO][occ.py:189] Complete to transform validation features to latent\n",
      "[2021-06-11 17:28:35,968][INFO][occ.py:191] Start to validate the OCC, rbf_ocsvm\n",
      "[2021-06-11 17:28:46,762][INFO][occ.py:194] Complete to validate the OCC, rbf_ocsvm\n",
      "[2021-06-11 17:28:46,793][INFO][callback.py:16] Save checkpoint, Epoch : 96\n"
     ]
    },
    {
     "name": "stdout",
     "output_type": "stream",
     "text": [
      "AUC : 77.52516504872212\n",
      "[Epoch 96]\n",
      " Train - Loss : 0.8351311683654785 | Accuracy : None | Precision : None | Recall : None | F1 : None\n",
      " Val - Loss : 0.8572679162025452 | Accuracy : None | Precision : None | Recall : None | F1 : None\n",
      "Early Stopping [3/40] - Best Epoch : 93 | Best Score : 78.3017807006836\n"
     ]
    },
    {
     "data": {
      "application/vnd.jupyter.widget-view+json": {
       "model_id": "",
       "version_major": 2,
       "version_minor": 0
      },
      "text/plain": [
       "Validating: 0it [00:00, ?it/s]"
      ]
     },
     "metadata": {},
     "output_type": "display_data"
    },
    {
     "name": "stderr",
     "output_type": "stream",
     "text": [
      "/workspace/Project/2021_AI_security/model/cae_conv_id.py:293: UserWarning: Implicit dimension choice for softmax has been deprecated. Change the call to include dim=X as an argument.\n",
      "  prob_batch = F.softmax(input=x_id_hat_batch)\n",
      "[2021-06-11 17:29:56,962][INFO][occ.py:142] Start to transform training features to latent\n",
      "[2021-06-11 17:29:59,132][INFO][occ.py:157] Complete to transform training features to latent\n",
      "[2021-06-11 17:29:59,134][INFO][occ.py:159] Start to train the OCC, rbf_ocsvm\n"
     ]
    },
    {
     "name": "stdout",
     "output_type": "stream",
     "text": [
      "[LibSVM]"
     ]
    },
    {
     "name": "stderr",
     "output_type": "stream",
     "text": [
      "[2021-06-11 17:30:19,861][INFO][occ.py:161] Complete to train the OCC, rbf_ocsvm\n",
      "[2021-06-11 17:30:19,864][INFO][occ.py:168] Start to transform validation features to latent\n",
      "[2021-06-11 17:30:21,478][INFO][occ.py:189] Complete to transform validation features to latent\n",
      "[2021-06-11 17:30:21,480][INFO][occ.py:191] Start to validate the OCC, rbf_ocsvm\n",
      "[2021-06-11 17:30:32,610][INFO][occ.py:194] Complete to validate the OCC, rbf_ocsvm\n",
      "[2021-06-11 17:30:32,652][INFO][callback.py:16] Save checkpoint, Epoch : 97\n",
      "[2021-06-11 17:30:32,664][INFO][callback.py:16] Save checkpoint, Epoch : 97\n"
     ]
    },
    {
     "name": "stdout",
     "output_type": "stream",
     "text": [
      "AUC : 77.8012512461925\n",
      "[Epoch 97]\n",
      " Train - Loss : 0.836912214756012 | Accuracy : None | Precision : None | Recall : None | F1 : None\n",
      " Val - Loss : 0.8412877321243286 | Accuracy : None | Precision : None | Recall : None | F1 : None\n",
      "Early Stopping [4/40] - Best Epoch : 93 | Best Score : 78.3017807006836\n"
     ]
    },
    {
     "data": {
      "application/vnd.jupyter.widget-view+json": {
       "model_id": "",
       "version_major": 2,
       "version_minor": 0
      },
      "text/plain": [
       "Validating: 0it [00:00, ?it/s]"
      ]
     },
     "metadata": {},
     "output_type": "display_data"
    },
    {
     "name": "stderr",
     "output_type": "stream",
     "text": [
      "/workspace/Project/2021_AI_security/model/cae_conv_id.py:293: UserWarning: Implicit dimension choice for softmax has been deprecated. Change the call to include dim=X as an argument.\n",
      "  prob_batch = F.softmax(input=x_id_hat_batch)\n",
      "[2021-06-11 17:31:42,333][INFO][occ.py:142] Start to transform training features to latent\n",
      "[2021-06-11 17:31:44,512][INFO][occ.py:157] Complete to transform training features to latent\n",
      "[2021-06-11 17:31:44,514][INFO][occ.py:159] Start to train the OCC, rbf_ocsvm\n"
     ]
    },
    {
     "name": "stdout",
     "output_type": "stream",
     "text": [
      "[LibSVM]"
     ]
    },
    {
     "name": "stderr",
     "output_type": "stream",
     "text": [
      "[2021-06-11 17:32:03,914][INFO][occ.py:161] Complete to train the OCC, rbf_ocsvm\n",
      "[2021-06-11 17:32:03,915][INFO][occ.py:168] Start to transform validation features to latent\n",
      "[2021-06-11 17:32:05,321][INFO][occ.py:189] Complete to transform validation features to latent\n",
      "[2021-06-11 17:32:05,323][INFO][occ.py:191] Start to validate the OCC, rbf_ocsvm\n",
      "[2021-06-11 17:32:16,020][INFO][occ.py:194] Complete to validate the OCC, rbf_ocsvm\n",
      "[2021-06-11 17:32:16,052][INFO][callback.py:16] Save checkpoint, Epoch : 98\n",
      "[2021-06-11 17:32:16,058][INFO][callback.py:16] Save checkpoint, Epoch : 98\n"
     ]
    },
    {
     "name": "stdout",
     "output_type": "stream",
     "text": [
      "AUC : 79.39290324951874\n",
      "[Epoch 98]\n",
      " Train - Loss : 0.8391707539558411 | Accuracy : None | Precision : None | Recall : None | F1 : None\n",
      " Val - Loss : 0.8604395389556885 | Accuracy : None | Precision : None | Recall : None | F1 : None\n",
      "Early Stopping [0/40] - Best Epoch : 98 | Best Score : 79.39290618896484\n"
     ]
    },
    {
     "data": {
      "application/vnd.jupyter.widget-view+json": {
       "model_id": "",
       "version_major": 2,
       "version_minor": 0
      },
      "text/plain": [
       "Validating: 0it [00:00, ?it/s]"
      ]
     },
     "metadata": {},
     "output_type": "display_data"
    },
    {
     "name": "stderr",
     "output_type": "stream",
     "text": [
      "/workspace/Project/2021_AI_security/model/cae_conv_id.py:293: UserWarning: Implicit dimension choice for softmax has been deprecated. Change the call to include dim=X as an argument.\n",
      "  prob_batch = F.softmax(input=x_id_hat_batch)\n",
      "[2021-06-11 17:33:24,658][INFO][occ.py:142] Start to transform training features to latent\n",
      "[2021-06-11 17:33:26,914][INFO][occ.py:157] Complete to transform training features to latent\n",
      "[2021-06-11 17:33:26,916][INFO][occ.py:159] Start to train the OCC, rbf_ocsvm\n"
     ]
    },
    {
     "name": "stdout",
     "output_type": "stream",
     "text": [
      "[LibSVM]"
     ]
    },
    {
     "name": "stderr",
     "output_type": "stream",
     "text": [
      "[2021-06-11 17:33:48,208][INFO][occ.py:161] Complete to train the OCC, rbf_ocsvm\n",
      "[2021-06-11 17:33:48,210][INFO][occ.py:168] Start to transform validation features to latent\n",
      "[2021-06-11 17:33:49,659][INFO][occ.py:189] Complete to transform validation features to latent\n",
      "[2021-06-11 17:33:49,661][INFO][occ.py:191] Start to validate the OCC, rbf_ocsvm\n",
      "[2021-06-11 17:34:00,669][INFO][occ.py:194] Complete to validate the OCC, rbf_ocsvm\n",
      "[2021-06-11 17:34:00,701][INFO][callback.py:16] Save checkpoint, Epoch : 99\n",
      "[2021-06-11 17:34:00,707][INFO][callback.py:16] Save checkpoint, Epoch : 99\n"
     ]
    },
    {
     "name": "stdout",
     "output_type": "stream",
     "text": [
      "AUC : 78.07298438411674\n",
      "[Epoch 99]\n",
      " Train - Loss : 0.8380445241928101 | Accuracy : None | Precision : None | Recall : None | F1 : None\n",
      " Val - Loss : 0.8501537442207336 | Accuracy : None | Precision : None | Recall : None | F1 : None\n",
      "Early Stopping [1/40] - Best Epoch : 98 | Best Score : 79.39290618896484\n"
     ]
    },
    {
     "data": {
      "application/vnd.jupyter.widget-view+json": {
       "model_id": "",
       "version_major": 2,
       "version_minor": 0
      },
      "text/plain": [
       "Validating: 0it [00:00, ?it/s]"
      ]
     },
     "metadata": {},
     "output_type": "display_data"
    },
    {
     "name": "stderr",
     "output_type": "stream",
     "text": [
      "/workspace/Project/2021_AI_security/model/cae_conv_id.py:293: UserWarning: Implicit dimension choice for softmax has been deprecated. Change the call to include dim=X as an argument.\n",
      "  prob_batch = F.softmax(input=x_id_hat_batch)\n",
      "[2021-06-11 17:35:07,921][INFO][occ.py:142] Start to transform training features to latent\n",
      "[2021-06-11 17:35:10,148][INFO][occ.py:157] Complete to transform training features to latent\n",
      "[2021-06-11 17:35:10,150][INFO][occ.py:159] Start to train the OCC, rbf_ocsvm\n"
     ]
    },
    {
     "name": "stdout",
     "output_type": "stream",
     "text": [
      "[LibSVM]"
     ]
    },
    {
     "name": "stderr",
     "output_type": "stream",
     "text": [
      "[2021-06-11 17:35:30,548][INFO][occ.py:161] Complete to train the OCC, rbf_ocsvm\n",
      "[2021-06-11 17:35:30,550][INFO][occ.py:168] Start to transform validation features to latent\n",
      "[2021-06-11 17:35:31,992][INFO][occ.py:189] Complete to transform validation features to latent\n",
      "[2021-06-11 17:35:31,994][INFO][occ.py:191] Start to validate the OCC, rbf_ocsvm\n",
      "[2021-06-11 17:35:42,887][INFO][occ.py:194] Complete to validate the OCC, rbf_ocsvm\n",
      "[2021-06-11 17:35:42,917][INFO][callback.py:16] Save checkpoint, Epoch : 100\n",
      "[2021-06-11 17:35:42,923][INFO][callback.py:16] Save checkpoint, Epoch : 100\n"
     ]
    },
    {
     "name": "stdout",
     "output_type": "stream",
     "text": [
      "AUC : 78.21120838176448\n",
      "[Epoch 100]\n",
      " Train - Loss : 0.8407318592071533 | Accuracy : None | Precision : None | Recall : None | F1 : None\n",
      " Val - Loss : 0.8418536186218262 | Accuracy : None | Precision : None | Recall : None | F1 : None\n",
      "Early Stopping [2/40] - Best Epoch : 98 | Best Score : 79.39290618896484\n"
     ]
    },
    {
     "data": {
      "application/vnd.jupyter.widget-view+json": {
       "model_id": "",
       "version_major": 2,
       "version_minor": 0
      },
      "text/plain": [
       "Validating: 0it [00:00, ?it/s]"
      ]
     },
     "metadata": {},
     "output_type": "display_data"
    },
    {
     "name": "stderr",
     "output_type": "stream",
     "text": [
      "/workspace/Project/2021_AI_security/model/cae_conv_id.py:293: UserWarning: Implicit dimension choice for softmax has been deprecated. Change the call to include dim=X as an argument.\n",
      "  prob_batch = F.softmax(input=x_id_hat_batch)\n",
      "[2021-06-11 17:36:50,450][INFO][occ.py:142] Start to transform training features to latent\n",
      "[2021-06-11 17:36:52,635][INFO][occ.py:157] Complete to transform training features to latent\n",
      "[2021-06-11 17:36:52,637][INFO][occ.py:159] Start to train the OCC, rbf_ocsvm\n"
     ]
    },
    {
     "name": "stdout",
     "output_type": "stream",
     "text": [
      "[LibSVM]"
     ]
    },
    {
     "name": "stderr",
     "output_type": "stream",
     "text": [
      "[2021-06-11 17:37:11,970][INFO][occ.py:161] Complete to train the OCC, rbf_ocsvm\n",
      "[2021-06-11 17:37:11,972][INFO][occ.py:168] Start to transform validation features to latent\n",
      "[2021-06-11 17:37:13,448][INFO][occ.py:189] Complete to transform validation features to latent\n",
      "[2021-06-11 17:37:13,450][INFO][occ.py:191] Start to validate the OCC, rbf_ocsvm\n",
      "[2021-06-11 17:37:24,392][INFO][occ.py:194] Complete to validate the OCC, rbf_ocsvm\n",
      "[2021-06-11 17:37:24,435][INFO][callback.py:16] Save checkpoint, Epoch : 101\n",
      "[2021-06-11 17:37:24,443][INFO][callback.py:16] Save checkpoint, Epoch : 101\n"
     ]
    },
    {
     "name": "stdout",
     "output_type": "stream",
     "text": [
      "AUC : 78.30936470599046\n",
      "[Epoch 101]\n",
      " Train - Loss : 0.8393713235855103 | Accuracy : None | Precision : None | Recall : None | F1 : None\n",
      " Val - Loss : 0.8335373401641846 | Accuracy : None | Precision : None | Recall : None | F1 : None\n",
      "Early Stopping [3/40] - Best Epoch : 98 | Best Score : 79.39290618896484\n"
     ]
    },
    {
     "data": {
      "application/vnd.jupyter.widget-view+json": {
       "model_id": "",
       "version_major": 2,
       "version_minor": 0
      },
      "text/plain": [
       "Validating: 0it [00:00, ?it/s]"
      ]
     },
     "metadata": {},
     "output_type": "display_data"
    },
    {
     "name": "stderr",
     "output_type": "stream",
     "text": [
      "/workspace/Project/2021_AI_security/model/cae_conv_id.py:293: UserWarning: Implicit dimension choice for softmax has been deprecated. Change the call to include dim=X as an argument.\n",
      "  prob_batch = F.softmax(input=x_id_hat_batch)\n",
      "[2021-06-11 17:38:33,161][INFO][occ.py:142] Start to transform training features to latent\n",
      "[2021-06-11 17:38:35,404][INFO][occ.py:157] Complete to transform training features to latent\n",
      "[2021-06-11 17:38:35,406][INFO][occ.py:159] Start to train the OCC, rbf_ocsvm\n"
     ]
    },
    {
     "name": "stdout",
     "output_type": "stream",
     "text": [
      "[LibSVM]"
     ]
    },
    {
     "name": "stderr",
     "output_type": "stream",
     "text": [
      "[2021-06-11 17:38:56,381][INFO][occ.py:161] Complete to train the OCC, rbf_ocsvm\n",
      "[2021-06-11 17:38:56,384][INFO][occ.py:168] Start to transform validation features to latent\n",
      "[2021-06-11 17:38:57,807][INFO][occ.py:189] Complete to transform validation features to latent\n",
      "[2021-06-11 17:38:57,809][INFO][occ.py:191] Start to validate the OCC, rbf_ocsvm\n",
      "[2021-06-11 17:39:08,760][INFO][occ.py:194] Complete to validate the OCC, rbf_ocsvm\n",
      "[2021-06-11 17:39:08,788][INFO][callback.py:16] Save checkpoint, Epoch : 102\n"
     ]
    },
    {
     "name": "stdout",
     "output_type": "stream",
     "text": [
      "AUC : 77.94227774127894\n",
      "[Epoch 102]\n",
      " Train - Loss : 0.837467610836029 | Accuracy : None | Precision : None | Recall : None | F1 : None\n",
      " Val - Loss : 0.8577659130096436 | Accuracy : None | Precision : None | Recall : None | F1 : None\n",
      "Early Stopping [4/40] - Best Epoch : 98 | Best Score : 79.39290618896484\n"
     ]
    },
    {
     "data": {
      "application/vnd.jupyter.widget-view+json": {
       "model_id": "",
       "version_major": 2,
       "version_minor": 0
      },
      "text/plain": [
       "Validating: 0it [00:00, ?it/s]"
      ]
     },
     "metadata": {},
     "output_type": "display_data"
    },
    {
     "name": "stderr",
     "output_type": "stream",
     "text": [
      "/workspace/Project/2021_AI_security/model/cae_conv_id.py:293: UserWarning: Implicit dimension choice for softmax has been deprecated. Change the call to include dim=X as an argument.\n",
      "  prob_batch = F.softmax(input=x_id_hat_batch)\n",
      "[2021-06-11 17:40:19,544][INFO][occ.py:142] Start to transform training features to latent\n",
      "[2021-06-11 17:40:21,750][INFO][occ.py:157] Complete to transform training features to latent\n",
      "[2021-06-11 17:40:21,752][INFO][occ.py:159] Start to train the OCC, rbf_ocsvm\n"
     ]
    },
    {
     "name": "stdout",
     "output_type": "stream",
     "text": [
      "[LibSVM]"
     ]
    },
    {
     "name": "stderr",
     "output_type": "stream",
     "text": [
      "[2021-06-11 17:40:41,097][INFO][occ.py:161] Complete to train the OCC, rbf_ocsvm\n",
      "[2021-06-11 17:40:41,100][INFO][occ.py:168] Start to transform validation features to latent\n",
      "[2021-06-11 17:40:42,549][INFO][occ.py:189] Complete to transform validation features to latent\n",
      "[2021-06-11 17:40:42,550][INFO][occ.py:191] Start to validate the OCC, rbf_ocsvm\n",
      "[2021-06-11 17:40:53,168][INFO][occ.py:194] Complete to validate the OCC, rbf_ocsvm\n",
      "[2021-06-11 17:40:53,201][INFO][callback.py:16] Save checkpoint, Epoch : 103\n"
     ]
    },
    {
     "name": "stdout",
     "output_type": "stream",
     "text": [
      "AUC : 77.89803503581224\n",
      "[Epoch 103]\n",
      " Train - Loss : 0.8401290774345398 | Accuracy : None | Precision : None | Recall : None | F1 : None\n",
      " Val - Loss : 0.8365886211395264 | Accuracy : None | Precision : None | Recall : None | F1 : None\n",
      "Early Stopping [5/40] - Best Epoch : 98 | Best Score : 79.39290618896484\n"
     ]
    },
    {
     "data": {
      "application/vnd.jupyter.widget-view+json": {
       "model_id": "",
       "version_major": 2,
       "version_minor": 0
      },
      "text/plain": [
       "Validating: 0it [00:00, ?it/s]"
      ]
     },
     "metadata": {},
     "output_type": "display_data"
    },
    {
     "name": "stderr",
     "output_type": "stream",
     "text": [
      "/workspace/Project/2021_AI_security/model/cae_conv_id.py:293: UserWarning: Implicit dimension choice for softmax has been deprecated. Change the call to include dim=X as an argument.\n",
      "  prob_batch = F.softmax(input=x_id_hat_batch)\n",
      "[2021-06-11 17:42:04,352][INFO][occ.py:142] Start to transform training features to latent\n",
      "[2021-06-11 17:42:06,576][INFO][occ.py:157] Complete to transform training features to latent\n",
      "[2021-06-11 17:42:06,578][INFO][occ.py:159] Start to train the OCC, rbf_ocsvm\n"
     ]
    },
    {
     "name": "stdout",
     "output_type": "stream",
     "text": [
      "[LibSVM]"
     ]
    },
    {
     "name": "stderr",
     "output_type": "stream",
     "text": [
      "[2021-06-11 17:42:27,448][INFO][occ.py:161] Complete to train the OCC, rbf_ocsvm\n",
      "[2021-06-11 17:42:27,450][INFO][occ.py:168] Start to transform validation features to latent\n",
      "[2021-06-11 17:42:28,940][INFO][occ.py:189] Complete to transform validation features to latent\n",
      "[2021-06-11 17:42:28,942][INFO][occ.py:191] Start to validate the OCC, rbf_ocsvm\n",
      "[2021-06-11 17:42:39,875][INFO][occ.py:194] Complete to validate the OCC, rbf_ocsvm\n",
      "[2021-06-11 17:42:39,914][INFO][callback.py:16] Save checkpoint, Epoch : 104\n",
      "[2021-06-11 17:42:39,922][INFO][callback.py:16] Save checkpoint, Epoch : 104\n"
     ]
    },
    {
     "name": "stdout",
     "output_type": "stream",
     "text": [
      "AUC : 78.20787754464469\n",
      "[Epoch 104]\n",
      " Train - Loss : 0.8430609107017517 | Accuracy : None | Precision : None | Recall : None | F1 : None\n",
      " Val - Loss : 0.8467545509338379 | Accuracy : None | Precision : None | Recall : None | F1 : None\n",
      "Early Stopping [6/40] - Best Epoch : 98 | Best Score : 79.39290618896484\n"
     ]
    },
    {
     "data": {
      "application/vnd.jupyter.widget-view+json": {
       "model_id": "",
       "version_major": 2,
       "version_minor": 0
      },
      "text/plain": [
       "Validating: 0it [00:00, ?it/s]"
      ]
     },
     "metadata": {},
     "output_type": "display_data"
    },
    {
     "name": "stderr",
     "output_type": "stream",
     "text": [
      "/workspace/Project/2021_AI_security/model/cae_conv_id.py:293: UserWarning: Implicit dimension choice for softmax has been deprecated. Change the call to include dim=X as an argument.\n",
      "  prob_batch = F.softmax(input=x_id_hat_batch)\n",
      "[2021-06-11 17:43:50,378][INFO][occ.py:142] Start to transform training features to latent\n",
      "[2021-06-11 17:43:53,267][INFO][occ.py:157] Complete to transform training features to latent\n",
      "[2021-06-11 17:43:53,268][INFO][occ.py:159] Start to train the OCC, rbf_ocsvm\n"
     ]
    },
    {
     "name": "stdout",
     "output_type": "stream",
     "text": [
      "[LibSVM]"
     ]
    },
    {
     "name": "stderr",
     "output_type": "stream",
     "text": [
      "[2021-06-11 17:44:17,705][INFO][occ.py:161] Complete to train the OCC, rbf_ocsvm\n",
      "[2021-06-11 17:44:17,707][INFO][occ.py:168] Start to transform validation features to latent\n",
      "[2021-06-11 17:44:19,590][INFO][occ.py:189] Complete to transform validation features to latent\n",
      "[2021-06-11 17:44:19,592][INFO][occ.py:191] Start to validate the OCC, rbf_ocsvm\n",
      "[2021-06-11 17:44:32,127][INFO][occ.py:194] Complete to validate the OCC, rbf_ocsvm\n",
      "[2021-06-11 17:44:32,157][INFO][callback.py:16] Save checkpoint, Epoch : 105\n",
      "[2021-06-11 17:44:32,166][INFO][callback.py:16] Save checkpoint, Epoch : 105\n"
     ]
    },
    {
     "name": "stdout",
     "output_type": "stream",
     "text": [
      "AUC : 78.37189255868017\n",
      "[Epoch 105]\n",
      " Train - Loss : 0.8417677283287048 | Accuracy : None | Precision : None | Recall : None | F1 : None\n",
      " Val - Loss : 0.8370751142501831 | Accuracy : None | Precision : None | Recall : None | F1 : None\n",
      "Early Stopping [7/40] - Best Epoch : 98 | Best Score : 79.39290618896484\n"
     ]
    },
    {
     "data": {
      "application/vnd.jupyter.widget-view+json": {
       "model_id": "",
       "version_major": 2,
       "version_minor": 0
      },
      "text/plain": [
       "Validating: 0it [00:00, ?it/s]"
      ]
     },
     "metadata": {},
     "output_type": "display_data"
    },
    {
     "name": "stderr",
     "output_type": "stream",
     "text": [
      "/workspace/Project/2021_AI_security/model/cae_conv_id.py:293: UserWarning: Implicit dimension choice for softmax has been deprecated. Change the call to include dim=X as an argument.\n",
      "  prob_batch = F.softmax(input=x_id_hat_batch)\n",
      "[2021-06-11 17:45:45,080][INFO][occ.py:142] Start to transform training features to latent\n",
      "[2021-06-11 17:45:48,298][INFO][occ.py:157] Complete to transform training features to latent\n",
      "[2021-06-11 17:45:48,300][INFO][occ.py:159] Start to train the OCC, rbf_ocsvm\n"
     ]
    },
    {
     "name": "stdout",
     "output_type": "stream",
     "text": [
      "[LibSVM]"
     ]
    },
    {
     "name": "stderr",
     "output_type": "stream",
     "text": [
      "[2021-06-11 17:46:11,973][INFO][occ.py:161] Complete to train the OCC, rbf_ocsvm\n",
      "[2021-06-11 17:46:11,976][INFO][occ.py:168] Start to transform validation features to latent\n",
      "[2021-06-11 17:46:13,677][INFO][occ.py:189] Complete to transform validation features to latent\n",
      "[2021-06-11 17:46:13,679][INFO][occ.py:191] Start to validate the OCC, rbf_ocsvm\n",
      "[2021-06-11 17:46:25,542][INFO][occ.py:194] Complete to validate the OCC, rbf_ocsvm\n",
      "[2021-06-11 17:46:25,581][INFO][callback.py:16] Save checkpoint, Epoch : 106\n",
      "[2021-06-11 17:46:25,588][INFO][callback.py:16] Save checkpoint, Epoch : 106\n"
     ]
    },
    {
     "name": "stdout",
     "output_type": "stream",
     "text": [
      "AUC : 78.24064034769344\n",
      "[Epoch 106]\n",
      " Train - Loss : 0.8432083129882812 | Accuracy : None | Precision : None | Recall : None | F1 : None\n",
      " Val - Loss : 0.8538943529129028 | Accuracy : None | Precision : None | Recall : None | F1 : None\n",
      "Early Stopping [8/40] - Best Epoch : 98 | Best Score : 79.39290618896484\n"
     ]
    },
    {
     "data": {
      "application/vnd.jupyter.widget-view+json": {
       "model_id": "",
       "version_major": 2,
       "version_minor": 0
      },
      "text/plain": [
       "Validating: 0it [00:00, ?it/s]"
      ]
     },
     "metadata": {},
     "output_type": "display_data"
    },
    {
     "name": "stderr",
     "output_type": "stream",
     "text": [
      "/workspace/Project/2021_AI_security/model/cae_conv_id.py:293: UserWarning: Implicit dimension choice for softmax has been deprecated. Change the call to include dim=X as an argument.\n",
      "  prob_batch = F.softmax(input=x_id_hat_batch)\n",
      "[2021-06-11 17:47:39,049][INFO][occ.py:142] Start to transform training features to latent\n",
      "[2021-06-11 17:47:41,821][INFO][occ.py:157] Complete to transform training features to latent\n",
      "[2021-06-11 17:47:41,822][INFO][occ.py:159] Start to train the OCC, rbf_ocsvm\n"
     ]
    },
    {
     "name": "stdout",
     "output_type": "stream",
     "text": [
      "[LibSVM]"
     ]
    },
    {
     "name": "stderr",
     "output_type": "stream",
     "text": [
      "[2021-06-11 17:48:05,341][INFO][occ.py:161] Complete to train the OCC, rbf_ocsvm\n",
      "[2021-06-11 17:48:05,343][INFO][occ.py:168] Start to transform validation features to latent\n",
      "[2021-06-11 17:48:07,110][INFO][occ.py:189] Complete to transform validation features to latent\n",
      "[2021-06-11 17:48:07,111][INFO][occ.py:191] Start to validate the OCC, rbf_ocsvm\n",
      "[2021-06-11 17:48:19,359][INFO][occ.py:194] Complete to validate the OCC, rbf_ocsvm\n",
      "[2021-06-11 17:48:19,392][INFO][callback.py:16] Save checkpoint, Epoch : 107\n",
      "[2021-06-11 17:48:19,398][INFO][callback.py:16] Save checkpoint, Epoch : 107\n"
     ]
    },
    {
     "name": "stdout",
     "output_type": "stream",
     "text": [
      "AUC : 78.38432002683047\n",
      "[Epoch 107]\n",
      " Train - Loss : 0.8429664373397827 | Accuracy : None | Precision : None | Recall : None | F1 : None\n",
      " Val - Loss : 0.8380115032196045 | Accuracy : None | Precision : None | Recall : None | F1 : None\n",
      "Early Stopping [9/40] - Best Epoch : 98 | Best Score : 79.39290618896484\n"
     ]
    },
    {
     "data": {
      "application/vnd.jupyter.widget-view+json": {
       "model_id": "",
       "version_major": 2,
       "version_minor": 0
      },
      "text/plain": [
       "Validating: 0it [00:00, ?it/s]"
      ]
     },
     "metadata": {},
     "output_type": "display_data"
    },
    {
     "name": "stderr",
     "output_type": "stream",
     "text": [
      "/workspace/Project/2021_AI_security/model/cae_conv_id.py:293: UserWarning: Implicit dimension choice for softmax has been deprecated. Change the call to include dim=X as an argument.\n",
      "  prob_batch = F.softmax(input=x_id_hat_batch)\n",
      "[2021-06-11 17:49:33,602][INFO][occ.py:142] Start to transform training features to latent\n",
      "[2021-06-11 17:49:36,362][INFO][occ.py:157] Complete to transform training features to latent\n",
      "[2021-06-11 17:49:36,364][INFO][occ.py:159] Start to train the OCC, rbf_ocsvm\n"
     ]
    },
    {
     "name": "stdout",
     "output_type": "stream",
     "text": [
      "[LibSVM]"
     ]
    },
    {
     "name": "stderr",
     "output_type": "stream",
     "text": [
      "[2021-06-11 17:49:59,131][INFO][occ.py:161] Complete to train the OCC, rbf_ocsvm\n",
      "[2021-06-11 17:49:59,137][INFO][occ.py:168] Start to transform validation features to latent\n",
      "[2021-06-11 17:50:00,933][INFO][occ.py:189] Complete to transform validation features to latent\n",
      "[2021-06-11 17:50:00,934][INFO][occ.py:191] Start to validate the OCC, rbf_ocsvm\n",
      "[2021-06-11 17:50:13,237][INFO][occ.py:194] Complete to validate the OCC, rbf_ocsvm\n",
      "[2021-06-11 17:50:13,274][INFO][callback.py:16] Save checkpoint, Epoch : 108\n"
     ]
    },
    {
     "name": "stdout",
     "output_type": "stream",
     "text": [
      "AUC : 78.18433197190153\n",
      "[Epoch 108]\n",
      " Train - Loss : 0.8445547223091125 | Accuracy : None | Precision : None | Recall : None | F1 : None\n",
      " Val - Loss : 0.8434223532676697 | Accuracy : None | Precision : None | Recall : None | F1 : None\n",
      "Early Stopping [10/40] - Best Epoch : 98 | Best Score : 79.39290618896484\n"
     ]
    },
    {
     "data": {
      "application/vnd.jupyter.widget-view+json": {
       "model_id": "",
       "version_major": 2,
       "version_minor": 0
      },
      "text/plain": [
       "Validating: 0it [00:00, ?it/s]"
      ]
     },
     "metadata": {},
     "output_type": "display_data"
    },
    {
     "name": "stderr",
     "output_type": "stream",
     "text": [
      "/workspace/Project/2021_AI_security/model/cae_conv_id.py:293: UserWarning: Implicit dimension choice for softmax has been deprecated. Change the call to include dim=X as an argument.\n",
      "  prob_batch = F.softmax(input=x_id_hat_batch)\n",
      "[2021-06-11 17:51:27,605][INFO][occ.py:142] Start to transform training features to latent\n",
      "[2021-06-11 17:51:30,539][INFO][occ.py:157] Complete to transform training features to latent\n",
      "[2021-06-11 17:51:30,541][INFO][occ.py:159] Start to train the OCC, rbf_ocsvm\n"
     ]
    },
    {
     "name": "stdout",
     "output_type": "stream",
     "text": [
      "[LibSVM]"
     ]
    },
    {
     "name": "stderr",
     "output_type": "stream",
     "text": [
      "[2021-06-11 17:51:53,915][INFO][occ.py:161] Complete to train the OCC, rbf_ocsvm\n",
      "[2021-06-11 17:51:53,917][INFO][occ.py:168] Start to transform validation features to latent\n",
      "[2021-06-11 17:51:55,842][INFO][occ.py:189] Complete to transform validation features to latent\n",
      "[2021-06-11 17:51:55,843][INFO][occ.py:191] Start to validate the OCC, rbf_ocsvm\n",
      "[2021-06-11 17:52:07,921][INFO][occ.py:194] Complete to validate the OCC, rbf_ocsvm\n",
      "[2021-06-11 17:52:07,953][INFO][callback.py:16] Save checkpoint, Epoch : 109\n",
      "[2021-06-11 17:52:07,959][INFO][callback.py:16] Save checkpoint, Epoch : 109\n"
     ]
    },
    {
     "name": "stdout",
     "output_type": "stream",
     "text": [
      "AUC : 78.39675898062602\n",
      "[Epoch 109]\n",
      " Train - Loss : 0.8390804529190063 | Accuracy : None | Precision : None | Recall : None | F1 : None\n",
      " Val - Loss : 0.8297233581542969 | Accuracy : None | Precision : None | Recall : None | F1 : None\n",
      "Early Stopping [11/40] - Best Epoch : 98 | Best Score : 79.39290618896484\n"
     ]
    },
    {
     "data": {
      "application/vnd.jupyter.widget-view+json": {
       "model_id": "",
       "version_major": 2,
       "version_minor": 0
      },
      "text/plain": [
       "Validating: 0it [00:00, ?it/s]"
      ]
     },
     "metadata": {},
     "output_type": "display_data"
    },
    {
     "name": "stderr",
     "output_type": "stream",
     "text": [
      "/workspace/Project/2021_AI_security/model/cae_conv_id.py:293: UserWarning: Implicit dimension choice for softmax has been deprecated. Change the call to include dim=X as an argument.\n",
      "  prob_batch = F.softmax(input=x_id_hat_batch)\n",
      "[2021-06-11 17:53:21,622][INFO][occ.py:142] Start to transform training features to latent\n",
      "[2021-06-11 17:53:24,622][INFO][occ.py:157] Complete to transform training features to latent\n",
      "[2021-06-11 17:53:24,623][INFO][occ.py:159] Start to train the OCC, rbf_ocsvm\n"
     ]
    },
    {
     "name": "stdout",
     "output_type": "stream",
     "text": [
      "[LibSVM]"
     ]
    },
    {
     "name": "stderr",
     "output_type": "stream",
     "text": [
      "[2021-06-11 17:53:47,659][INFO][occ.py:161] Complete to train the OCC, rbf_ocsvm\n",
      "[2021-06-11 17:53:47,664][INFO][occ.py:168] Start to transform validation features to latent\n",
      "[2021-06-11 17:53:49,419][INFO][occ.py:189] Complete to transform validation features to latent\n",
      "[2021-06-11 17:53:49,420][INFO][occ.py:191] Start to validate the OCC, rbf_ocsvm\n",
      "[2021-06-11 17:54:01,728][INFO][occ.py:194] Complete to validate the OCC, rbf_ocsvm\n",
      "[2021-06-11 17:54:01,765][INFO][callback.py:16] Save checkpoint, Epoch : 110\n",
      "[2021-06-11 17:54:01,779][INFO][callback.py:16] Save checkpoint, Epoch : 110\n"
     ]
    },
    {
     "name": "stdout",
     "output_type": "stream",
     "text": [
      "AUC : 78.41619269237307\n",
      "[Epoch 110]\n",
      " Train - Loss : 0.8370951414108276 | Accuracy : None | Precision : None | Recall : None | F1 : None\n",
      " Val - Loss : 0.8518965244293213 | Accuracy : None | Precision : None | Recall : None | F1 : None\n",
      "Early Stopping [12/40] - Best Epoch : 98 | Best Score : 79.39290618896484\n"
     ]
    },
    {
     "data": {
      "application/vnd.jupyter.widget-view+json": {
       "model_id": "",
       "version_major": 2,
       "version_minor": 0
      },
      "text/plain": [
       "Validating: 0it [00:00, ?it/s]"
      ]
     },
     "metadata": {},
     "output_type": "display_data"
    },
    {
     "name": "stderr",
     "output_type": "stream",
     "text": [
      "/workspace/Project/2021_AI_security/model/cae_conv_id.py:293: UserWarning: Implicit dimension choice for softmax has been deprecated. Change the call to include dim=X as an argument.\n",
      "  prob_batch = F.softmax(input=x_id_hat_batch)\n",
      "[2021-06-11 17:55:14,231][INFO][occ.py:142] Start to transform training features to latent\n",
      "[2021-06-11 17:55:17,037][INFO][occ.py:157] Complete to transform training features to latent\n",
      "[2021-06-11 17:55:17,038][INFO][occ.py:159] Start to train the OCC, rbf_ocsvm\n"
     ]
    },
    {
     "name": "stdout",
     "output_type": "stream",
     "text": [
      "[LibSVM]"
     ]
    },
    {
     "name": "stderr",
     "output_type": "stream",
     "text": [
      "[2021-06-11 17:55:40,546][INFO][occ.py:161] Complete to train the OCC, rbf_ocsvm\n",
      "[2021-06-11 17:55:40,548][INFO][occ.py:168] Start to transform validation features to latent\n",
      "[2021-06-11 17:55:42,424][INFO][occ.py:189] Complete to transform validation features to latent\n",
      "[2021-06-11 17:55:42,428][INFO][occ.py:191] Start to validate the OCC, rbf_ocsvm\n",
      "[2021-06-11 17:55:54,553][INFO][occ.py:194] Complete to validate the OCC, rbf_ocsvm\n",
      "[2021-06-11 17:55:54,592][INFO][callback.py:16] Save checkpoint, Epoch : 111\n",
      "[2021-06-11 17:55:54,598][INFO][callback.py:16] Save checkpoint, Epoch : 111\n"
     ]
    },
    {
     "name": "stdout",
     "output_type": "stream",
     "text": [
      "AUC : 78.74632459352301\n",
      "[Epoch 111]\n",
      " Train - Loss : 0.843177318572998 | Accuracy : None | Precision : None | Recall : None | F1 : None\n",
      " Val - Loss : 0.8241199254989624 | Accuracy : None | Precision : None | Recall : None | F1 : None\n",
      "Early Stopping [13/40] - Best Epoch : 98 | Best Score : 79.39290618896484\n"
     ]
    },
    {
     "data": {
      "application/vnd.jupyter.widget-view+json": {
       "model_id": "",
       "version_major": 2,
       "version_minor": 0
      },
      "text/plain": [
       "Validating: 0it [00:00, ?it/s]"
      ]
     },
     "metadata": {},
     "output_type": "display_data"
    },
    {
     "name": "stderr",
     "output_type": "stream",
     "text": [
      "/workspace/Project/2021_AI_security/model/cae_conv_id.py:293: UserWarning: Implicit dimension choice for softmax has been deprecated. Change the call to include dim=X as an argument.\n",
      "  prob_batch = F.softmax(input=x_id_hat_batch)\n",
      "[2021-06-11 17:57:07,216][INFO][occ.py:142] Start to transform training features to latent\n",
      "[2021-06-11 17:57:09,411][INFO][occ.py:157] Complete to transform training features to latent\n",
      "[2021-06-11 17:57:09,413][INFO][occ.py:159] Start to train the OCC, rbf_ocsvm\n"
     ]
    },
    {
     "name": "stdout",
     "output_type": "stream",
     "text": [
      "[LibSVM]"
     ]
    },
    {
     "name": "stderr",
     "output_type": "stream",
     "text": [
      "[2021-06-11 17:57:30,200][INFO][occ.py:161] Complete to train the OCC, rbf_ocsvm\n",
      "[2021-06-11 17:57:30,204][INFO][occ.py:168] Start to transform validation features to latent\n",
      "[2021-06-11 17:57:31,744][INFO][occ.py:189] Complete to transform validation features to latent\n",
      "[2021-06-11 17:57:31,745][INFO][occ.py:191] Start to validate the OCC, rbf_ocsvm\n",
      "[2021-06-11 17:57:42,814][INFO][occ.py:194] Complete to validate the OCC, rbf_ocsvm\n",
      "[2021-06-11 17:57:42,855][INFO][callback.py:16] Save checkpoint, Epoch : 112\n",
      "[2021-06-11 17:57:42,861][INFO][callback.py:16] Save checkpoint, Epoch : 112\n"
     ]
    },
    {
     "name": "stdout",
     "output_type": "stream",
     "text": [
      "AUC : 78.71069037916412\n",
      "[Epoch 112]\n",
      " Train - Loss : 0.8400375247001648 | Accuracy : None | Precision : None | Recall : None | F1 : None\n",
      " Val - Loss : 0.8435604572296143 | Accuracy : None | Precision : None | Recall : None | F1 : None\n",
      "Early Stopping [14/40] - Best Epoch : 98 | Best Score : 79.39290618896484\n"
     ]
    },
    {
     "data": {
      "application/vnd.jupyter.widget-view+json": {
       "model_id": "",
       "version_major": 2,
       "version_minor": 0
      },
      "text/plain": [
       "Validating: 0it [00:00, ?it/s]"
      ]
     },
     "metadata": {},
     "output_type": "display_data"
    },
    {
     "name": "stderr",
     "output_type": "stream",
     "text": [
      "/workspace/Project/2021_AI_security/model/cae_conv_id.py:293: UserWarning: Implicit dimension choice for softmax has been deprecated. Change the call to include dim=X as an argument.\n",
      "  prob_batch = F.softmax(input=x_id_hat_batch)\n",
      "[2021-06-11 17:58:54,055][INFO][occ.py:142] Start to transform training features to latent\n",
      "[2021-06-11 17:58:56,253][INFO][occ.py:157] Complete to transform training features to latent\n",
      "[2021-06-11 17:58:56,255][INFO][occ.py:159] Start to train the OCC, rbf_ocsvm\n"
     ]
    },
    {
     "name": "stdout",
     "output_type": "stream",
     "text": [
      "[LibSVM]"
     ]
    },
    {
     "name": "stderr",
     "output_type": "stream",
     "text": [
      "[2021-06-11 17:59:18,371][INFO][occ.py:161] Complete to train the OCC, rbf_ocsvm\n",
      "[2021-06-11 17:59:18,377][INFO][occ.py:168] Start to transform validation features to latent\n",
      "[2021-06-11 17:59:19,798][INFO][occ.py:189] Complete to transform validation features to latent\n",
      "[2021-06-11 17:59:19,800][INFO][occ.py:191] Start to validate the OCC, rbf_ocsvm\n",
      "[2021-06-11 17:59:30,943][INFO][occ.py:194] Complete to validate the OCC, rbf_ocsvm\n",
      "[2021-06-11 17:59:30,996][INFO][callback.py:16] Save checkpoint, Epoch : 113\n",
      "[2021-06-11 17:59:31,005][INFO][callback.py:16] Save checkpoint, Epoch : 113\n"
     ]
    },
    {
     "name": "stdout",
     "output_type": "stream",
     "text": [
      "AUC : 78.97341302839712\n",
      "[Epoch 113]\n",
      " Train - Loss : 0.8396090269088745 | Accuracy : None | Precision : None | Recall : None | F1 : None\n",
      " Val - Loss : 0.8264855742454529 | Accuracy : None | Precision : None | Recall : None | F1 : None\n",
      "Early Stopping [15/40] - Best Epoch : 98 | Best Score : 79.39290618896484\n"
     ]
    },
    {
     "data": {
      "application/vnd.jupyter.widget-view+json": {
       "model_id": "",
       "version_major": 2,
       "version_minor": 0
      },
      "text/plain": [
       "Validating: 0it [00:00, ?it/s]"
      ]
     },
     "metadata": {},
     "output_type": "display_data"
    },
    {
     "name": "stderr",
     "output_type": "stream",
     "text": [
      "/workspace/Project/2021_AI_security/model/cae_conv_id.py:293: UserWarning: Implicit dimension choice for softmax has been deprecated. Change the call to include dim=X as an argument.\n",
      "  prob_batch = F.softmax(input=x_id_hat_batch)\n",
      "[2021-06-11 18:00:40,688][INFO][occ.py:142] Start to transform training features to latent\n",
      "[2021-06-11 18:00:43,031][INFO][occ.py:157] Complete to transform training features to latent\n",
      "[2021-06-11 18:00:43,036][INFO][occ.py:159] Start to train the OCC, rbf_ocsvm\n"
     ]
    },
    {
     "name": "stdout",
     "output_type": "stream",
     "text": [
      "[LibSVM]"
     ]
    },
    {
     "name": "stderr",
     "output_type": "stream",
     "text": [
      "[2021-06-11 18:01:05,932][INFO][occ.py:161] Complete to train the OCC, rbf_ocsvm\n",
      "[2021-06-11 18:01:05,938][INFO][occ.py:168] Start to transform validation features to latent\n",
      "[2021-06-11 18:01:07,502][INFO][occ.py:189] Complete to transform validation features to latent\n",
      "[2021-06-11 18:01:07,504][INFO][occ.py:191] Start to validate the OCC, rbf_ocsvm\n",
      "[2021-06-11 18:01:20,224][INFO][occ.py:194] Complete to validate the OCC, rbf_ocsvm\n",
      "[2021-06-11 18:01:20,253][INFO][callback.py:16] Save checkpoint, Epoch : 114\n",
      "[2021-06-11 18:01:20,260][INFO][callback.py:16] Save checkpoint, Epoch : 114\n"
     ]
    },
    {
     "name": "stdout",
     "output_type": "stream",
     "text": [
      "AUC : 78.53525289093692\n",
      "[Epoch 114]\n",
      " Train - Loss : 0.8372769355773926 | Accuracy : None | Precision : None | Recall : None | F1 : None\n",
      " Val - Loss : 0.8375171422958374 | Accuracy : None | Precision : None | Recall : None | F1 : None\n",
      "Early Stopping [16/40] - Best Epoch : 98 | Best Score : 79.39290618896484\n"
     ]
    },
    {
     "data": {
      "application/vnd.jupyter.widget-view+json": {
       "model_id": "",
       "version_major": 2,
       "version_minor": 0
      },
      "text/plain": [
       "Validating: 0it [00:00, ?it/s]"
      ]
     },
     "metadata": {},
     "output_type": "display_data"
    },
    {
     "name": "stderr",
     "output_type": "stream",
     "text": [
      "/workspace/Project/2021_AI_security/model/cae_conv_id.py:293: UserWarning: Implicit dimension choice for softmax has been deprecated. Change the call to include dim=X as an argument.\n",
      "  prob_batch = F.softmax(input=x_id_hat_batch)\n",
      "[2021-06-11 18:02:31,035][INFO][occ.py:142] Start to transform training features to latent\n",
      "[2021-06-11 18:02:33,509][INFO][occ.py:157] Complete to transform training features to latent\n",
      "[2021-06-11 18:02:33,510][INFO][occ.py:159] Start to train the OCC, rbf_ocsvm\n"
     ]
    },
    {
     "name": "stdout",
     "output_type": "stream",
     "text": [
      "[LibSVM]"
     ]
    },
    {
     "name": "stderr",
     "output_type": "stream",
     "text": [
      "[2021-06-11 18:02:56,442][INFO][occ.py:161] Complete to train the OCC, rbf_ocsvm\n",
      "[2021-06-11 18:02:56,452][INFO][occ.py:168] Start to transform validation features to latent\n",
      "[2021-06-11 18:02:58,037][INFO][occ.py:189] Complete to transform validation features to latent\n",
      "[2021-06-11 18:02:58,038][INFO][occ.py:191] Start to validate the OCC, rbf_ocsvm\n",
      "[2021-06-11 18:03:10,203][INFO][occ.py:194] Complete to validate the OCC, rbf_ocsvm\n",
      "[2021-06-11 18:03:10,238][INFO][callback.py:16] Save checkpoint, Epoch : 115\n",
      "[2021-06-11 18:03:10,246][INFO][callback.py:16] Save checkpoint, Epoch : 115\n"
     ]
    },
    {
     "name": "stdout",
     "output_type": "stream",
     "text": [
      "AUC : 78.73385118279174\n",
      "[Epoch 115]\n",
      " Train - Loss : 0.8406870365142822 | Accuracy : None | Precision : None | Recall : None | F1 : None\n",
      " Val - Loss : 0.8297032117843628 | Accuracy : None | Precision : None | Recall : None | F1 : None\n",
      "Early Stopping [17/40] - Best Epoch : 98 | Best Score : 79.39290618896484\n"
     ]
    },
    {
     "data": {
      "application/vnd.jupyter.widget-view+json": {
       "model_id": "",
       "version_major": 2,
       "version_minor": 0
      },
      "text/plain": [
       "Validating: 0it [00:00, ?it/s]"
      ]
     },
     "metadata": {},
     "output_type": "display_data"
    },
    {
     "name": "stderr",
     "output_type": "stream",
     "text": [
      "/workspace/Project/2021_AI_security/model/cae_conv_id.py:293: UserWarning: Implicit dimension choice for softmax has been deprecated. Change the call to include dim=X as an argument.\n",
      "  prob_batch = F.softmax(input=x_id_hat_batch)\n",
      "[2021-06-11 18:04:20,373][INFO][occ.py:142] Start to transform training features to latent\n",
      "[2021-06-11 18:04:22,868][INFO][occ.py:157] Complete to transform training features to latent\n",
      "[2021-06-11 18:04:22,873][INFO][occ.py:159] Start to train the OCC, rbf_ocsvm\n"
     ]
    },
    {
     "name": "stdout",
     "output_type": "stream",
     "text": [
      "[LibSVM]"
     ]
    },
    {
     "name": "stderr",
     "output_type": "stream",
     "text": [
      "[2021-06-11 18:04:46,142][INFO][occ.py:161] Complete to train the OCC, rbf_ocsvm\n",
      "[2021-06-11 18:04:46,145][INFO][occ.py:168] Start to transform validation features to latent\n",
      "[2021-06-11 18:04:47,733][INFO][occ.py:189] Complete to transform validation features to latent\n",
      "[2021-06-11 18:04:47,735][INFO][occ.py:191] Start to validate the OCC, rbf_ocsvm\n",
      "[2021-06-11 18:04:59,781][INFO][occ.py:194] Complete to validate the OCC, rbf_ocsvm\n",
      "[2021-06-11 18:04:59,828][INFO][callback.py:16] Save checkpoint, Epoch : 116\n",
      "[2021-06-11 18:04:59,839][INFO][callback.py:16] Save checkpoint, Epoch : 116\n"
     ]
    },
    {
     "name": "stdout",
     "output_type": "stream",
     "text": [
      "AUC : 79.4581876570662\n",
      "[Epoch 116]\n",
      " Train - Loss : 0.8378016352653503 | Accuracy : None | Precision : None | Recall : None | F1 : None\n",
      " Val - Loss : 0.8356087803840637 | Accuracy : None | Precision : None | Recall : None | F1 : None\n",
      "Early Stopping [0/40] - Best Epoch : 116 | Best Score : 79.45819091796875\n"
     ]
    },
    {
     "data": {
      "application/vnd.jupyter.widget-view+json": {
       "model_id": "",
       "version_major": 2,
       "version_minor": 0
      },
      "text/plain": [
       "Validating: 0it [00:00, ?it/s]"
      ]
     },
     "metadata": {},
     "output_type": "display_data"
    },
    {
     "name": "stderr",
     "output_type": "stream",
     "text": [
      "/workspace/Project/2021_AI_security/model/cae_conv_id.py:293: UserWarning: Implicit dimension choice for softmax has been deprecated. Change the call to include dim=X as an argument.\n",
      "  prob_batch = F.softmax(input=x_id_hat_batch)\n",
      "[2021-06-11 18:06:09,933][INFO][occ.py:142] Start to transform training features to latent\n",
      "[2021-06-11 18:06:12,395][INFO][occ.py:157] Complete to transform training features to latent\n",
      "[2021-06-11 18:06:12,397][INFO][occ.py:159] Start to train the OCC, rbf_ocsvm\n"
     ]
    },
    {
     "name": "stdout",
     "output_type": "stream",
     "text": [
      "[LibSVM]"
     ]
    },
    {
     "name": "stderr",
     "output_type": "stream",
     "text": [
      "[2021-06-11 18:06:35,073][INFO][occ.py:161] Complete to train the OCC, rbf_ocsvm\n",
      "[2021-06-11 18:06:35,076][INFO][occ.py:168] Start to transform validation features to latent\n",
      "[2021-06-11 18:06:36,647][INFO][occ.py:189] Complete to transform validation features to latent\n",
      "[2021-06-11 18:06:36,648][INFO][occ.py:191] Start to validate the OCC, rbf_ocsvm\n",
      "[2021-06-11 18:06:48,807][INFO][occ.py:194] Complete to validate the OCC, rbf_ocsvm\n",
      "[2021-06-11 18:06:48,841][INFO][callback.py:16] Save checkpoint, Epoch : 117\n"
     ]
    },
    {
     "name": "stdout",
     "output_type": "stream",
     "text": [
      "AUC : 78.5668671294616\n",
      "[Epoch 117]\n",
      " Train - Loss : 0.837902843952179 | Accuracy : None | Precision : None | Recall : None | F1 : None\n",
      " Val - Loss : 0.8281880021095276 | Accuracy : None | Precision : None | Recall : None | F1 : None\n",
      "Early Stopping [1/40] - Best Epoch : 116 | Best Score : 79.45819091796875\n"
     ]
    },
    {
     "data": {
      "application/vnd.jupyter.widget-view+json": {
       "model_id": "",
       "version_major": 2,
       "version_minor": 0
      },
      "text/plain": [
       "Validating: 0it [00:00, ?it/s]"
      ]
     },
     "metadata": {},
     "output_type": "display_data"
    },
    {
     "name": "stderr",
     "output_type": "stream",
     "text": [
      "/workspace/Project/2021_AI_security/model/cae_conv_id.py:293: UserWarning: Implicit dimension choice for softmax has been deprecated. Change the call to include dim=X as an argument.\n",
      "  prob_batch = F.softmax(input=x_id_hat_batch)\n",
      "[2021-06-11 18:07:59,248][INFO][occ.py:142] Start to transform training features to latent\n",
      "[2021-06-11 18:08:01,658][INFO][occ.py:157] Complete to transform training features to latent\n",
      "[2021-06-11 18:08:01,660][INFO][occ.py:159] Start to train the OCC, rbf_ocsvm\n"
     ]
    },
    {
     "name": "stdout",
     "output_type": "stream",
     "text": [
      "[LibSVM]"
     ]
    },
    {
     "name": "stderr",
     "output_type": "stream",
     "text": [
      "[2021-06-11 18:08:24,044][INFO][occ.py:161] Complete to train the OCC, rbf_ocsvm\n",
      "[2021-06-11 18:08:24,047][INFO][occ.py:168] Start to transform validation features to latent\n",
      "[2021-06-11 18:08:25,702][INFO][occ.py:189] Complete to transform validation features to latent\n",
      "[2021-06-11 18:08:25,705][INFO][occ.py:191] Start to validate the OCC, rbf_ocsvm\n",
      "[2021-06-11 18:08:37,368][INFO][occ.py:194] Complete to validate the OCC, rbf_ocsvm\n",
      "[2021-06-11 18:08:37,400][INFO][callback.py:16] Save checkpoint, Epoch : 118\n"
     ]
    },
    {
     "name": "stdout",
     "output_type": "stream",
     "text": [
      "AUC : 78.7179550497788\n",
      "[Epoch 118]\n",
      " Train - Loss : 0.8381902575492859 | Accuracy : None | Precision : None | Recall : None | F1 : None\n",
      " Val - Loss : 0.8287355303764343 | Accuracy : None | Precision : None | Recall : None | F1 : None\n",
      "Early Stopping [2/40] - Best Epoch : 116 | Best Score : 79.45819091796875\n"
     ]
    },
    {
     "data": {
      "application/vnd.jupyter.widget-view+json": {
       "model_id": "",
       "version_major": 2,
       "version_minor": 0
      },
      "text/plain": [
       "Validating: 0it [00:00, ?it/s]"
      ]
     },
     "metadata": {},
     "output_type": "display_data"
    },
    {
     "name": "stderr",
     "output_type": "stream",
     "text": [
      "/workspace/Project/2021_AI_security/model/cae_conv_id.py:293: UserWarning: Implicit dimension choice for softmax has been deprecated. Change the call to include dim=X as an argument.\n",
      "  prob_batch = F.softmax(input=x_id_hat_batch)\n",
      "[2021-06-11 18:09:47,719][INFO][occ.py:142] Start to transform training features to latent\n",
      "[2021-06-11 18:09:50,189][INFO][occ.py:157] Complete to transform training features to latent\n",
      "[2021-06-11 18:09:50,190][INFO][occ.py:159] Start to train the OCC, rbf_ocsvm\n"
     ]
    },
    {
     "name": "stdout",
     "output_type": "stream",
     "text": [
      "[LibSVM]"
     ]
    },
    {
     "name": "stderr",
     "output_type": "stream",
     "text": [
      "[2021-06-11 18:10:12,455][INFO][occ.py:161] Complete to train the OCC, rbf_ocsvm\n",
      "[2021-06-11 18:10:12,457][INFO][occ.py:168] Start to transform validation features to latent\n",
      "[2021-06-11 18:10:14,143][INFO][occ.py:189] Complete to transform validation features to latent\n",
      "[2021-06-11 18:10:14,148][INFO][occ.py:191] Start to validate the OCC, rbf_ocsvm\n",
      "[2021-06-11 18:10:25,642][INFO][occ.py:194] Complete to validate the OCC, rbf_ocsvm\n",
      "[2021-06-11 18:10:25,685][INFO][callback.py:16] Save checkpoint, Epoch : 119\n",
      "[2021-06-11 18:10:25,691][INFO][callback.py:16] Save checkpoint, Epoch : 119\n"
     ]
    },
    {
     "name": "stdout",
     "output_type": "stream",
     "text": [
      "AUC : 78.74649687820163\n",
      "[Epoch 119]\n",
      " Train - Loss : 0.8399382829666138 | Accuracy : None | Precision : None | Recall : None | F1 : None\n",
      " Val - Loss : 0.85638427734375 | Accuracy : None | Precision : None | Recall : None | F1 : None\n",
      "Early Stopping [3/40] - Best Epoch : 116 | Best Score : 79.45819091796875\n"
     ]
    },
    {
     "data": {
      "application/vnd.jupyter.widget-view+json": {
       "model_id": "",
       "version_major": 2,
       "version_minor": 0
      },
      "text/plain": [
       "Validating: 0it [00:00, ?it/s]"
      ]
     },
     "metadata": {},
     "output_type": "display_data"
    },
    {
     "name": "stderr",
     "output_type": "stream",
     "text": [
      "/workspace/Project/2021_AI_security/model/cae_conv_id.py:293: UserWarning: Implicit dimension choice for softmax has been deprecated. Change the call to include dim=X as an argument.\n",
      "  prob_batch = F.softmax(input=x_id_hat_batch)\n",
      "[2021-06-11 18:11:34,391][INFO][occ.py:142] Start to transform training features to latent\n",
      "[2021-06-11 18:11:36,875][INFO][occ.py:157] Complete to transform training features to latent\n",
      "[2021-06-11 18:11:36,877][INFO][occ.py:159] Start to train the OCC, rbf_ocsvm\n"
     ]
    },
    {
     "name": "stdout",
     "output_type": "stream",
     "text": [
      "[LibSVM]"
     ]
    },
    {
     "name": "stderr",
     "output_type": "stream",
     "text": [
      "[2021-06-11 18:12:00,257][INFO][occ.py:161] Complete to train the OCC, rbf_ocsvm\n",
      "[2021-06-11 18:12:00,263][INFO][occ.py:168] Start to transform validation features to latent\n",
      "[2021-06-11 18:12:01,799][INFO][occ.py:189] Complete to transform validation features to latent\n",
      "[2021-06-11 18:12:01,804][INFO][occ.py:191] Start to validate the OCC, rbf_ocsvm\n",
      "[2021-06-11 18:12:13,732][INFO][occ.py:194] Complete to validate the OCC, rbf_ocsvm\n",
      "[2021-06-11 18:12:13,771][INFO][callback.py:16] Save checkpoint, Epoch : 120\n",
      "[2021-06-11 18:12:13,780][INFO][callback.py:16] Save checkpoint, Epoch : 120\n"
     ]
    },
    {
     "name": "stdout",
     "output_type": "stream",
     "text": [
      "AUC : 79.37365330809554\n",
      "[Epoch 120]\n",
      " Train - Loss : 0.840934693813324 | Accuracy : None | Precision : None | Recall : None | F1 : None\n",
      " Val - Loss : 0.8451399803161621 | Accuracy : None | Precision : None | Recall : None | F1 : None\n",
      "Early Stopping [4/40] - Best Epoch : 116 | Best Score : 79.45819091796875\n"
     ]
    },
    {
     "data": {
      "application/vnd.jupyter.widget-view+json": {
       "model_id": "",
       "version_major": 2,
       "version_minor": 0
      },
      "text/plain": [
       "Validating: 0it [00:00, ?it/s]"
      ]
     },
     "metadata": {},
     "output_type": "display_data"
    },
    {
     "name": "stderr",
     "output_type": "stream",
     "text": [
      "/workspace/Project/2021_AI_security/model/cae_conv_id.py:293: UserWarning: Implicit dimension choice for softmax has been deprecated. Change the call to include dim=X as an argument.\n",
      "  prob_batch = F.softmax(input=x_id_hat_batch)\n",
      "[2021-06-11 18:13:21,017][INFO][occ.py:142] Start to transform training features to latent\n",
      "[2021-06-11 18:13:23,475][INFO][occ.py:157] Complete to transform training features to latent\n",
      "[2021-06-11 18:13:23,481][INFO][occ.py:159] Start to train the OCC, rbf_ocsvm\n"
     ]
    },
    {
     "name": "stdout",
     "output_type": "stream",
     "text": [
      "[LibSVM]"
     ]
    },
    {
     "name": "stderr",
     "output_type": "stream",
     "text": [
      "[2021-06-11 18:13:46,573][INFO][occ.py:161] Complete to train the OCC, rbf_ocsvm\n",
      "[2021-06-11 18:13:46,576][INFO][occ.py:168] Start to transform validation features to latent\n",
      "[2021-06-11 18:13:48,183][INFO][occ.py:189] Complete to transform validation features to latent\n",
      "[2021-06-11 18:13:48,185][INFO][occ.py:191] Start to validate the OCC, rbf_ocsvm\n",
      "[2021-06-11 18:14:00,831][INFO][occ.py:194] Complete to validate the OCC, rbf_ocsvm\n",
      "[2021-06-11 18:14:00,864][INFO][callback.py:16] Save checkpoint, Epoch : 121\n",
      "[2021-06-11 18:14:00,875][INFO][callback.py:16] Save checkpoint, Epoch : 121\n"
     ]
    },
    {
     "name": "stdout",
     "output_type": "stream",
     "text": [
      "AUC : 79.40891998180672\n",
      "[Epoch 121]\n",
      " Train - Loss : 0.8435935378074646 | Accuracy : None | Precision : None | Recall : None | F1 : None\n",
      " Val - Loss : 0.8411698937416077 | Accuracy : None | Precision : None | Recall : None | F1 : None\n",
      "Early Stopping [5/40] - Best Epoch : 116 | Best Score : 79.45819091796875\n"
     ]
    },
    {
     "data": {
      "application/vnd.jupyter.widget-view+json": {
       "model_id": "",
       "version_major": 2,
       "version_minor": 0
      },
      "text/plain": [
       "Validating: 0it [00:00, ?it/s]"
      ]
     },
     "metadata": {},
     "output_type": "display_data"
    },
    {
     "name": "stderr",
     "output_type": "stream",
     "text": [
      "/workspace/Project/2021_AI_security/model/cae_conv_id.py:293: UserWarning: Implicit dimension choice for softmax has been deprecated. Change the call to include dim=X as an argument.\n",
      "  prob_batch = F.softmax(input=x_id_hat_batch)\n",
      "[2021-06-11 18:15:07,138][INFO][occ.py:142] Start to transform training features to latent\n",
      "[2021-06-11 18:15:09,618][INFO][occ.py:157] Complete to transform training features to latent\n",
      "[2021-06-11 18:15:09,620][INFO][occ.py:159] Start to train the OCC, rbf_ocsvm\n"
     ]
    },
    {
     "name": "stdout",
     "output_type": "stream",
     "text": [
      "[LibSVM]"
     ]
    },
    {
     "name": "stderr",
     "output_type": "stream",
     "text": [
      "[2021-06-11 18:15:32,488][INFO][occ.py:161] Complete to train the OCC, rbf_ocsvm\n",
      "[2021-06-11 18:15:32,493][INFO][occ.py:168] Start to transform validation features to latent\n",
      "[2021-06-11 18:15:34,044][INFO][occ.py:189] Complete to transform validation features to latent\n",
      "[2021-06-11 18:15:34,046][INFO][occ.py:191] Start to validate the OCC, rbf_ocsvm\n",
      "[2021-06-11 18:15:45,841][INFO][occ.py:194] Complete to validate the OCC, rbf_ocsvm\n",
      "[2021-06-11 18:15:45,868][INFO][callback.py:16] Save checkpoint, Epoch : 122\n"
     ]
    },
    {
     "name": "stdout",
     "output_type": "stream",
     "text": [
      "AUC : 78.59855602468035\n",
      "[Epoch 122]\n",
      " Train - Loss : 0.842771589756012 | Accuracy : None | Precision : None | Recall : None | F1 : None\n",
      " Val - Loss : 0.8304416537284851 | Accuracy : None | Precision : None | Recall : None | F1 : None\n",
      "Early Stopping [6/40] - Best Epoch : 116 | Best Score : 79.45819091796875\n"
     ]
    },
    {
     "data": {
      "application/vnd.jupyter.widget-view+json": {
       "model_id": "",
       "version_major": 2,
       "version_minor": 0
      },
      "text/plain": [
       "Validating: 0it [00:00, ?it/s]"
      ]
     },
     "metadata": {},
     "output_type": "display_data"
    },
    {
     "name": "stderr",
     "output_type": "stream",
     "text": [
      "/workspace/Project/2021_AI_security/model/cae_conv_id.py:293: UserWarning: Implicit dimension choice for softmax has been deprecated. Change the call to include dim=X as an argument.\n",
      "  prob_batch = F.softmax(input=x_id_hat_batch)\n",
      "[2021-06-11 18:16:51,505][INFO][occ.py:142] Start to transform training features to latent\n",
      "[2021-06-11 18:16:54,021][INFO][occ.py:157] Complete to transform training features to latent\n",
      "[2021-06-11 18:16:54,022][INFO][occ.py:159] Start to train the OCC, rbf_ocsvm\n"
     ]
    },
    {
     "name": "stdout",
     "output_type": "stream",
     "text": [
      "[LibSVM]"
     ]
    },
    {
     "name": "stderr",
     "output_type": "stream",
     "text": [
      "[2021-06-11 18:17:23,453][INFO][occ.py:161] Complete to train the OCC, rbf_ocsvm\n",
      "[2021-06-11 18:17:23,457][INFO][occ.py:168] Start to transform validation features to latent\n",
      "[2021-06-11 18:17:24,951][INFO][occ.py:189] Complete to transform validation features to latent\n",
      "[2021-06-11 18:17:24,953][INFO][occ.py:191] Start to validate the OCC, rbf_ocsvm\n",
      "[2021-06-11 18:17:36,120][INFO][occ.py:194] Complete to validate the OCC, rbf_ocsvm\n",
      "[2021-06-11 18:17:36,155][INFO][callback.py:16] Save checkpoint, Epoch : 123\n",
      "[2021-06-11 18:17:36,165][INFO][callback.py:16] Save checkpoint, Epoch : 123\n"
     ]
    },
    {
     "name": "stdout",
     "output_type": "stream",
     "text": [
      "AUC : 79.44238340921517\n",
      "[Epoch 123]\n",
      " Train - Loss : 0.8411941528320312 | Accuracy : None | Precision : None | Recall : None | F1 : None\n",
      " Val - Loss : 0.8470655679702759 | Accuracy : None | Precision : None | Recall : None | F1 : None\n",
      "Early Stopping [7/40] - Best Epoch : 116 | Best Score : 79.45819091796875\n"
     ]
    },
    {
     "data": {
      "application/vnd.jupyter.widget-view+json": {
       "model_id": "",
       "version_major": 2,
       "version_minor": 0
      },
      "text/plain": [
       "Validating: 0it [00:00, ?it/s]"
      ]
     },
     "metadata": {},
     "output_type": "display_data"
    },
    {
     "name": "stderr",
     "output_type": "stream",
     "text": [
      "/workspace/Project/2021_AI_security/model/cae_conv_id.py:293: UserWarning: Implicit dimension choice for softmax has been deprecated. Change the call to include dim=X as an argument.\n",
      "  prob_batch = F.softmax(input=x_id_hat_batch)\n",
      "[2021-06-11 18:18:38,496][INFO][occ.py:142] Start to transform training features to latent\n",
      "[2021-06-11 18:18:40,603][INFO][occ.py:157] Complete to transform training features to latent\n",
      "[2021-06-11 18:18:40,605][INFO][occ.py:159] Start to train the OCC, rbf_ocsvm\n"
     ]
    },
    {
     "name": "stdout",
     "output_type": "stream",
     "text": [
      "[LibSVM]"
     ]
    },
    {
     "name": "stderr",
     "output_type": "stream",
     "text": [
      "[2021-06-11 18:19:02,262][INFO][occ.py:161] Complete to train the OCC, rbf_ocsvm\n",
      "[2021-06-11 18:19:02,266][INFO][occ.py:168] Start to transform validation features to latent\n",
      "[2021-06-11 18:19:03,691][INFO][occ.py:189] Complete to transform validation features to latent\n",
      "[2021-06-11 18:19:03,693][INFO][occ.py:191] Start to validate the OCC, rbf_ocsvm\n",
      "[2021-06-11 18:19:14,775][INFO][occ.py:194] Complete to validate the OCC, rbf_ocsvm\n",
      "[2021-06-11 18:19:14,806][INFO][callback.py:16] Save checkpoint, Epoch : 124\n"
     ]
    },
    {
     "name": "stdout",
     "output_type": "stream",
     "text": [
      "AUC : 79.01380804270823\n",
      "[Epoch 124]\n",
      " Train - Loss : 0.8421262502670288 | Accuracy : None | Precision : None | Recall : None | F1 : None\n",
      " Val - Loss : 0.8489447236061096 | Accuracy : None | Precision : None | Recall : None | F1 : None\n",
      "Early Stopping [8/40] - Best Epoch : 116 | Best Score : 79.45819091796875\n"
     ]
    },
    {
     "data": {
      "application/vnd.jupyter.widget-view+json": {
       "model_id": "",
       "version_major": 2,
       "version_minor": 0
      },
      "text/plain": [
       "Validating: 0it [00:00, ?it/s]"
      ]
     },
     "metadata": {},
     "output_type": "display_data"
    },
    {
     "name": "stderr",
     "output_type": "stream",
     "text": [
      "/workspace/Project/2021_AI_security/model/cae_conv_id.py:293: UserWarning: Implicit dimension choice for softmax has been deprecated. Change the call to include dim=X as an argument.\n",
      "  prob_batch = F.softmax(input=x_id_hat_batch)\n",
      "[2021-06-11 18:20:15,719][INFO][occ.py:142] Start to transform training features to latent\n",
      "[2021-06-11 18:20:17,799][INFO][occ.py:157] Complete to transform training features to latent\n",
      "[2021-06-11 18:20:17,801][INFO][occ.py:159] Start to train the OCC, rbf_ocsvm\n"
     ]
    },
    {
     "name": "stdout",
     "output_type": "stream",
     "text": [
      "[LibSVM]"
     ]
    },
    {
     "name": "stderr",
     "output_type": "stream",
     "text": [
      "[2021-06-11 18:20:40,688][INFO][occ.py:161] Complete to train the OCC, rbf_ocsvm\n",
      "[2021-06-11 18:20:40,693][INFO][occ.py:168] Start to transform validation features to latent\n",
      "[2021-06-11 18:20:42,070][INFO][occ.py:189] Complete to transform validation features to latent\n",
      "[2021-06-11 18:20:42,072][INFO][occ.py:191] Start to validate the OCC, rbf_ocsvm\n",
      "[2021-06-11 18:20:53,936][INFO][occ.py:194] Complete to validate the OCC, rbf_ocsvm\n",
      "[2021-06-11 18:20:53,980][INFO][callback.py:16] Save checkpoint, Epoch : 125\n",
      "[2021-06-11 18:20:53,988][INFO][callback.py:16] Save checkpoint, Epoch : 125\n"
     ]
    },
    {
     "name": "stdout",
     "output_type": "stream",
     "text": [
      "AUC : 79.55857219646886\n",
      "[Epoch 125]\n",
      " Train - Loss : 0.8447490930557251 | Accuracy : None | Precision : None | Recall : None | F1 : None\n",
      " Val - Loss : 0.8454641699790955 | Accuracy : None | Precision : None | Recall : None | F1 : None\n",
      "Early Stopping [0/40] - Best Epoch : 125 | Best Score : 79.5585708618164\n"
     ]
    },
    {
     "data": {
      "application/vnd.jupyter.widget-view+json": {
       "model_id": "",
       "version_major": 2,
       "version_minor": 0
      },
      "text/plain": [
       "Validating: 0it [00:00, ?it/s]"
      ]
     },
     "metadata": {},
     "output_type": "display_data"
    },
    {
     "name": "stderr",
     "output_type": "stream",
     "text": [
      "/workspace/Project/2021_AI_security/model/cae_conv_id.py:293: UserWarning: Implicit dimension choice for softmax has been deprecated. Change the call to include dim=X as an argument.\n",
      "  prob_batch = F.softmax(input=x_id_hat_batch)\n",
      "[2021-06-11 18:21:53,285][INFO][occ.py:142] Start to transform training features to latent\n",
      "[2021-06-11 18:21:55,340][INFO][occ.py:157] Complete to transform training features to latent\n",
      "[2021-06-11 18:21:55,343][INFO][occ.py:159] Start to train the OCC, rbf_ocsvm\n"
     ]
    },
    {
     "name": "stdout",
     "output_type": "stream",
     "text": [
      "[LibSVM]"
     ]
    },
    {
     "name": "stderr",
     "output_type": "stream",
     "text": [
      "[2021-06-11 18:22:18,277][INFO][occ.py:161] Complete to train the OCC, rbf_ocsvm\n",
      "[2021-06-11 18:22:18,279][INFO][occ.py:168] Start to transform validation features to latent\n",
      "[2021-06-11 18:22:19,683][INFO][occ.py:189] Complete to transform validation features to latent\n",
      "[2021-06-11 18:22:19,685][INFO][occ.py:191] Start to validate the OCC, rbf_ocsvm\n",
      "[2021-06-11 18:22:30,874][INFO][occ.py:194] Complete to validate the OCC, rbf_ocsvm\n",
      "[2021-06-11 18:22:30,904][INFO][callback.py:16] Save checkpoint, Epoch : 126\n",
      "[2021-06-11 18:22:30,910][INFO][callback.py:16] Save checkpoint, Epoch : 126\n"
     ]
    },
    {
     "name": "stdout",
     "output_type": "stream",
     "text": [
      "AUC : 79.42978365638625\n",
      "[Epoch 126]\n",
      " Train - Loss : 0.8458898067474365 | Accuracy : None | Precision : None | Recall : None | F1 : None\n",
      " Val - Loss : 0.8541152477264404 | Accuracy : None | Precision : None | Recall : None | F1 : None\n",
      "Early Stopping [1/40] - Best Epoch : 125 | Best Score : 79.5585708618164\n"
     ]
    },
    {
     "data": {
      "application/vnd.jupyter.widget-view+json": {
       "model_id": "",
       "version_major": 2,
       "version_minor": 0
      },
      "text/plain": [
       "Validating: 0it [00:00, ?it/s]"
      ]
     },
     "metadata": {},
     "output_type": "display_data"
    },
    {
     "name": "stderr",
     "output_type": "stream",
     "text": [
      "/workspace/Project/2021_AI_security/model/cae_conv_id.py:293: UserWarning: Implicit dimension choice for softmax has been deprecated. Change the call to include dim=X as an argument.\n",
      "  prob_batch = F.softmax(input=x_id_hat_batch)\n",
      "[2021-06-11 18:23:30,275][INFO][occ.py:142] Start to transform training features to latent\n",
      "[2021-06-11 18:23:32,864][INFO][occ.py:157] Complete to transform training features to latent\n",
      "[2021-06-11 18:23:32,866][INFO][occ.py:159] Start to train the OCC, rbf_ocsvm\n"
     ]
    },
    {
     "name": "stdout",
     "output_type": "stream",
     "text": [
      "[LibSVM]"
     ]
    },
    {
     "name": "stderr",
     "output_type": "stream",
     "text": [
      "[2021-06-11 18:23:57,413][INFO][occ.py:161] Complete to train the OCC, rbf_ocsvm\n",
      "[2021-06-11 18:23:57,417][INFO][occ.py:168] Start to transform validation features to latent\n",
      "[2021-06-11 18:23:59,384][INFO][occ.py:189] Complete to transform validation features to latent\n",
      "[2021-06-11 18:23:59,389][INFO][occ.py:191] Start to validate the OCC, rbf_ocsvm\n",
      "[2021-06-11 18:24:12,332][INFO][occ.py:194] Complete to validate the OCC, rbf_ocsvm\n",
      "[2021-06-11 18:24:12,375][INFO][callback.py:16] Save checkpoint, Epoch : 127\n"
     ]
    },
    {
     "name": "stdout",
     "output_type": "stream",
     "text": [
      "AUC : 78.74936828951176\n",
      "[Epoch 127]\n",
      " Train - Loss : 0.842544436454773 | Accuracy : None | Precision : None | Recall : None | F1 : None\n",
      " Val - Loss : 0.8256493806838989 | Accuracy : None | Precision : None | Recall : None | F1 : None\n",
      "Early Stopping [2/40] - Best Epoch : 125 | Best Score : 79.5585708618164\n"
     ]
    },
    {
     "data": {
      "application/vnd.jupyter.widget-view+json": {
       "model_id": "",
       "version_major": 2,
       "version_minor": 0
      },
      "text/plain": [
       "Validating: 0it [00:00, ?it/s]"
      ]
     },
     "metadata": {},
     "output_type": "display_data"
    },
    {
     "name": "stderr",
     "output_type": "stream",
     "text": [
      "/workspace/Project/2021_AI_security/model/cae_conv_id.py:293: UserWarning: Implicit dimension choice for softmax has been deprecated. Change the call to include dim=X as an argument.\n",
      "  prob_batch = F.softmax(input=x_id_hat_batch)\n",
      "[2021-06-11 18:25:15,667][INFO][occ.py:142] Start to transform training features to latent\n",
      "[2021-06-11 18:25:18,570][INFO][occ.py:157] Complete to transform training features to latent\n",
      "[2021-06-11 18:25:18,571][INFO][occ.py:159] Start to train the OCC, rbf_ocsvm\n"
     ]
    },
    {
     "name": "stdout",
     "output_type": "stream",
     "text": [
      "[LibSVM]"
     ]
    },
    {
     "name": "stderr",
     "output_type": "stream",
     "text": [
      "[2021-06-11 18:25:42,732][INFO][occ.py:161] Complete to train the OCC, rbf_ocsvm\n",
      "[2021-06-11 18:25:42,735][INFO][occ.py:168] Start to transform validation features to latent\n",
      "[2021-06-11 18:25:44,674][INFO][occ.py:189] Complete to transform validation features to latent\n",
      "[2021-06-11 18:25:44,676][INFO][occ.py:191] Start to validate the OCC, rbf_ocsvm\n",
      "[2021-06-11 18:25:56,838][INFO][occ.py:194] Complete to validate the OCC, rbf_ocsvm\n",
      "[2021-06-11 18:25:56,900][INFO][callback.py:16] Save checkpoint, Epoch : 128\n"
     ]
    },
    {
     "name": "stdout",
     "output_type": "stream",
     "text": [
      "AUC : 78.96192164033391\n",
      "[Epoch 128]\n",
      " Train - Loss : 0.8422413468360901 | Accuracy : None | Precision : None | Recall : None | F1 : None\n",
      " Val - Loss : 0.8500141501426697 | Accuracy : None | Precision : None | Recall : None | F1 : None\n",
      "Early Stopping [3/40] - Best Epoch : 125 | Best Score : 79.5585708618164\n"
     ]
    },
    {
     "data": {
      "application/vnd.jupyter.widget-view+json": {
       "model_id": "",
       "version_major": 2,
       "version_minor": 0
      },
      "text/plain": [
       "Validating: 0it [00:00, ?it/s]"
      ]
     },
     "metadata": {},
     "output_type": "display_data"
    },
    {
     "name": "stderr",
     "output_type": "stream",
     "text": [
      "/workspace/Project/2021_AI_security/model/cae_conv_id.py:293: UserWarning: Implicit dimension choice for softmax has been deprecated. Change the call to include dim=X as an argument.\n",
      "  prob_batch = F.softmax(input=x_id_hat_batch)\n",
      "[2021-06-11 18:26:57,205][INFO][occ.py:142] Start to transform training features to latent\n",
      "[2021-06-11 18:27:00,152][INFO][occ.py:157] Complete to transform training features to latent\n",
      "[2021-06-11 18:27:00,154][INFO][occ.py:159] Start to train the OCC, rbf_ocsvm\n"
     ]
    },
    {
     "name": "stdout",
     "output_type": "stream",
     "text": [
      "[LibSVM]"
     ]
    },
    {
     "name": "stderr",
     "output_type": "stream",
     "text": [
      "[2021-06-11 18:27:24,826][INFO][occ.py:161] Complete to train the OCC, rbf_ocsvm\n",
      "[2021-06-11 18:27:24,829][INFO][occ.py:168] Start to transform validation features to latent\n",
      "[2021-06-11 18:27:26,821][INFO][occ.py:189] Complete to transform validation features to latent\n",
      "[2021-06-11 18:27:26,823][INFO][occ.py:191] Start to validate the OCC, rbf_ocsvm\n",
      "[2021-06-11 18:27:39,223][INFO][occ.py:194] Complete to validate the OCC, rbf_ocsvm\n",
      "[2021-06-11 18:27:39,275][INFO][callback.py:16] Save checkpoint, Epoch : 129\n"
     ]
    },
    {
     "name": "stdout",
     "output_type": "stream",
     "text": [
      "AUC : 78.91175234192306\n",
      "[Epoch 129]\n",
      " Train - Loss : 0.8442730903625488 | Accuracy : None | Precision : None | Recall : None | F1 : None\n",
      " Val - Loss : 0.8399402499198914 | Accuracy : None | Precision : None | Recall : None | F1 : None\n",
      "Early Stopping [4/40] - Best Epoch : 125 | Best Score : 79.5585708618164\n"
     ]
    },
    {
     "data": {
      "application/vnd.jupyter.widget-view+json": {
       "model_id": "",
       "version_major": 2,
       "version_minor": 0
      },
      "text/plain": [
       "Validating: 0it [00:00, ?it/s]"
      ]
     },
     "metadata": {},
     "output_type": "display_data"
    },
    {
     "name": "stderr",
     "output_type": "stream",
     "text": [
      "/workspace/Project/2021_AI_security/model/cae_conv_id.py:293: UserWarning: Implicit dimension choice for softmax has been deprecated. Change the call to include dim=X as an argument.\n",
      "  prob_batch = F.softmax(input=x_id_hat_batch)\n",
      "[2021-06-11 18:28:41,362][INFO][occ.py:142] Start to transform training features to latent\n",
      "[2021-06-11 18:28:44,364][INFO][occ.py:157] Complete to transform training features to latent\n",
      "[2021-06-11 18:28:44,369][INFO][occ.py:159] Start to train the OCC, rbf_ocsvm\n"
     ]
    },
    {
     "name": "stdout",
     "output_type": "stream",
     "text": [
      "[LibSVM]"
     ]
    },
    {
     "name": "stderr",
     "output_type": "stream",
     "text": [
      "[2021-06-11 18:29:08,765][INFO][occ.py:161] Complete to train the OCC, rbf_ocsvm\n",
      "[2021-06-11 18:29:08,769][INFO][occ.py:168] Start to transform validation features to latent\n",
      "[2021-06-11 18:29:10,576][INFO][occ.py:189] Complete to transform validation features to latent\n",
      "[2021-06-11 18:29:10,578][INFO][occ.py:191] Start to validate the OCC, rbf_ocsvm\n",
      "[2021-06-11 18:29:23,088][INFO][occ.py:194] Complete to validate the OCC, rbf_ocsvm\n",
      "[2021-06-11 18:29:23,122][INFO][callback.py:16] Save checkpoint, Epoch : 130\n"
     ]
    },
    {
     "name": "stdout",
     "output_type": "stream",
     "text": [
      "AUC : 78.88646669392593\n",
      "[Epoch 130]\n",
      " Train - Loss : 0.8425328135490417 | Accuracy : None | Precision : None | Recall : None | F1 : None\n",
      " Val - Loss : 0.8434799313545227 | Accuracy : None | Precision : None | Recall : None | F1 : None\n",
      "Early Stopping [5/40] - Best Epoch : 125 | Best Score : 79.5585708618164\n"
     ]
    },
    {
     "data": {
      "application/vnd.jupyter.widget-view+json": {
       "model_id": "",
       "version_major": 2,
       "version_minor": 0
      },
      "text/plain": [
       "Validating: 0it [00:00, ?it/s]"
      ]
     },
     "metadata": {},
     "output_type": "display_data"
    },
    {
     "name": "stderr",
     "output_type": "stream",
     "text": [
      "/workspace/Project/2021_AI_security/model/cae_conv_id.py:293: UserWarning: Implicit dimension choice for softmax has been deprecated. Change the call to include dim=X as an argument.\n",
      "  prob_batch = F.softmax(input=x_id_hat_batch)\n",
      "[2021-06-11 18:30:23,817][INFO][occ.py:142] Start to transform training features to latent\n",
      "[2021-06-11 18:30:26,773][INFO][occ.py:157] Complete to transform training features to latent\n",
      "[2021-06-11 18:30:26,780][INFO][occ.py:159] Start to train the OCC, rbf_ocsvm\n"
     ]
    },
    {
     "name": "stdout",
     "output_type": "stream",
     "text": [
      "[LibSVM]"
     ]
    },
    {
     "name": "stderr",
     "output_type": "stream",
     "text": [
      "[2021-06-11 18:30:50,896][INFO][occ.py:161] Complete to train the OCC, rbf_ocsvm\n",
      "[2021-06-11 18:30:50,900][INFO][occ.py:168] Start to transform validation features to latent\n",
      "[2021-06-11 18:30:52,824][INFO][occ.py:189] Complete to transform validation features to latent\n",
      "[2021-06-11 18:30:52,825][INFO][occ.py:191] Start to validate the OCC, rbf_ocsvm\n",
      "[2021-06-11 18:31:05,216][INFO][occ.py:194] Complete to validate the OCC, rbf_ocsvm\n",
      "[2021-06-11 18:31:05,257][INFO][callback.py:16] Save checkpoint, Epoch : 131\n",
      "[2021-06-11 18:31:05,264][INFO][callback.py:16] Save checkpoint, Epoch : 131\n"
     ]
    },
    {
     "name": "stdout",
     "output_type": "stream",
     "text": [
      "AUC : 79.44962510853935\n",
      "[Epoch 131]\n",
      " Train - Loss : 0.8448621034622192 | Accuracy : None | Precision : None | Recall : None | F1 : None\n",
      " Val - Loss : 0.8401122689247131 | Accuracy : None | Precision : None | Recall : None | F1 : None\n",
      "Early Stopping [6/40] - Best Epoch : 125 | Best Score : 79.5585708618164\n"
     ]
    },
    {
     "data": {
      "application/vnd.jupyter.widget-view+json": {
       "model_id": "",
       "version_major": 2,
       "version_minor": 0
      },
      "text/plain": [
       "Validating: 0it [00:00, ?it/s]"
      ]
     },
     "metadata": {},
     "output_type": "display_data"
    },
    {
     "name": "stderr",
     "output_type": "stream",
     "text": [
      "/workspace/Project/2021_AI_security/model/cae_conv_id.py:293: UserWarning: Implicit dimension choice for softmax has been deprecated. Change the call to include dim=X as an argument.\n",
      "  prob_batch = F.softmax(input=x_id_hat_batch)\n",
      "[2021-06-11 18:32:05,351][INFO][occ.py:142] Start to transform training features to latent\n",
      "[2021-06-11 18:32:08,232][INFO][occ.py:157] Complete to transform training features to latent\n",
      "[2021-06-11 18:32:08,234][INFO][occ.py:159] Start to train the OCC, rbf_ocsvm\n"
     ]
    },
    {
     "name": "stdout",
     "output_type": "stream",
     "text": [
      "[LibSVM]"
     ]
    },
    {
     "name": "stderr",
     "output_type": "stream",
     "text": [
      "[2021-06-11 18:32:33,030][INFO][occ.py:161] Complete to train the OCC, rbf_ocsvm\n",
      "[2021-06-11 18:32:33,033][INFO][occ.py:168] Start to transform validation features to latent\n",
      "[2021-06-11 18:32:34,907][INFO][occ.py:189] Complete to transform validation features to latent\n",
      "[2021-06-11 18:32:34,909][INFO][occ.py:191] Start to validate the OCC, rbf_ocsvm\n",
      "[2021-06-11 18:32:46,631][INFO][occ.py:194] Complete to validate the OCC, rbf_ocsvm\n",
      "[2021-06-11 18:32:46,663][INFO][callback.py:16] Save checkpoint, Epoch : 132\n"
     ]
    },
    {
     "name": "stdout",
     "output_type": "stream",
     "text": [
      "AUC : 79.21412918134915\n",
      "[Epoch 132]\n",
      " Train - Loss : 0.844744086265564 | Accuracy : None | Precision : None | Recall : None | F1 : None\n",
      " Val - Loss : 0.8302174806594849 | Accuracy : None | Precision : None | Recall : None | F1 : None\n",
      "Early Stopping [7/40] - Best Epoch : 125 | Best Score : 79.5585708618164\n"
     ]
    },
    {
     "name": "stderr",
     "output_type": "stream",
     "text": [
      "IOPub message rate exceeded.\n",
      "The notebook server will temporarily stop sending output\n",
      "to the client in order to avoid crashing it.\n",
      "To change this limit, set the config variable\n",
      "`--NotebookApp.iopub_msg_rate_limit`.\n",
      "\n",
      "Current values:\n",
      "NotebookApp.iopub_msg_rate_limit=1000.0 (msgs/sec)\n",
      "NotebookApp.rate_limit_window=3.0 (secs)\n",
      "\n"
     ]
    },
    {
     "data": {
      "application/vnd.jupyter.widget-view+json": {
       "model_id": "",
       "version_major": 2,
       "version_minor": 0
      },
      "text/plain": [
       "Validating: 0it [00:00, ?it/s]"
      ]
     },
     "metadata": {},
     "output_type": "display_data"
    },
    {
     "name": "stderr",
     "output_type": "stream",
     "text": [
      "/workspace/Project/2021_AI_security/model/cae_conv_id.py:293: UserWarning: Implicit dimension choice for softmax has been deprecated. Change the call to include dim=X as an argument.\n",
      "  prob_batch = F.softmax(input=x_id_hat_batch)\n",
      "[2021-06-11 18:40:45,988][INFO][occ.py:142] Start to transform training features to latent\n",
      "[2021-06-11 18:40:48,355][INFO][occ.py:157] Complete to transform training features to latent\n",
      "[2021-06-11 18:40:48,357][INFO][occ.py:159] Start to train the OCC, rbf_ocsvm\n"
     ]
    },
    {
     "name": "stdout",
     "output_type": "stream",
     "text": [
      "[LibSVM]"
     ]
    },
    {
     "name": "stderr",
     "output_type": "stream",
     "text": [
      "[2021-06-11 18:41:12,104][INFO][occ.py:161] Complete to train the OCC, rbf_ocsvm\n",
      "[2021-06-11 18:41:12,105][INFO][occ.py:168] Start to transform validation features to latent\n",
      "[2021-06-11 18:41:13,777][INFO][occ.py:189] Complete to transform validation features to latent\n",
      "[2021-06-11 18:41:13,780][INFO][occ.py:191] Start to validate the OCC, rbf_ocsvm\n",
      "[2021-06-11 18:41:26,473][INFO][occ.py:194] Complete to validate the OCC, rbf_ocsvm\n",
      "[2021-06-11 18:41:26,511][INFO][callback.py:16] Save checkpoint, Epoch : 137\n",
      "[2021-06-11 18:41:26,517][INFO][callback.py:16] Save checkpoint, Epoch : 137\n"
     ]
    },
    {
     "name": "stdout",
     "output_type": "stream",
     "text": [
      "AUC : 80.18456857619347\n",
      "[Epoch 137]\n",
      " Train - Loss : 0.8394787907600403 | Accuracy : None | Precision : None | Recall : None | F1 : None\n",
      " Val - Loss : 0.8311899304389954 | Accuracy : None | Precision : None | Recall : None | F1 : None\n",
      "Early Stopping [0/40] - Best Epoch : 137 | Best Score : 80.1845703125\n"
     ]
    },
    {
     "name": "stderr",
     "output_type": "stream",
     "text": [
      "IOPub message rate exceeded.\n",
      "The notebook server will temporarily stop sending output\n",
      "to the client in order to avoid crashing it.\n",
      "To change this limit, set the config variable\n",
      "`--NotebookApp.iopub_msg_rate_limit`.\n",
      "\n",
      "Current values:\n",
      "NotebookApp.iopub_msg_rate_limit=1000.0 (msgs/sec)\n",
      "NotebookApp.rate_limit_window=3.0 (secs)\n",
      "\n",
      "[2021-06-11 18:47:40,706][INFO][occ.py:142] Start to transform training features to latent\n",
      "[2021-06-11 18:47:43,168][INFO][occ.py:157] Complete to transform training features to latent\n",
      "[2021-06-11 18:47:43,170][INFO][occ.py:159] Start to train the OCC, rbf_ocsvm\n"
     ]
    },
    {
     "name": "stdout",
     "output_type": "stream",
     "text": [
      "[LibSVM]"
     ]
    },
    {
     "name": "stderr",
     "output_type": "stream",
     "text": [
      "[2021-06-11 18:48:07,292][INFO][occ.py:161] Complete to train the OCC, rbf_ocsvm\n",
      "[2021-06-11 18:48:07,297][INFO][occ.py:168] Start to transform validation features to latent\n",
      "[2021-06-11 18:48:08,929][INFO][occ.py:189] Complete to transform validation features to latent\n",
      "[2021-06-11 18:48:08,930][INFO][occ.py:191] Start to validate the OCC, rbf_ocsvm\n",
      "[2021-06-11 18:48:20,468][INFO][occ.py:194] Complete to validate the OCC, rbf_ocsvm\n",
      "[2021-06-11 18:48:20,501][INFO][callback.py:16] Save checkpoint, Epoch : 141\n",
      "[2021-06-11 18:48:20,507][INFO][callback.py:16] Save checkpoint, Epoch : 141\n"
     ]
    },
    {
     "name": "stdout",
     "output_type": "stream",
     "text": [
      "AUC : 79.74562167203429\n",
      "[Epoch 141]\n",
      " Train - Loss : 0.8396196961402893 | Accuracy : None | Precision : None | Recall : None | F1 : None\n",
      " Val - Loss : 0.851836085319519 | Accuracy : None | Precision : None | Recall : None | F1 : None\n",
      "Early Stopping [2/40] - Best Epoch : 139 | Best Score : 80.54378509521484\n"
     ]
    },
    {
     "data": {
      "application/vnd.jupyter.widget-view+json": {
       "model_id": "",
       "version_major": 2,
       "version_minor": 0
      },
      "text/plain": [
       "Validating: 0it [00:00, ?it/s]"
      ]
     },
     "metadata": {},
     "output_type": "display_data"
    },
    {
     "name": "stderr",
     "output_type": "stream",
     "text": [
      "/workspace/Project/2021_AI_security/model/cae_conv_id.py:293: UserWarning: Implicit dimension choice for softmax has been deprecated. Change the call to include dim=X as an argument.\n",
      "  prob_batch = F.softmax(input=x_id_hat_batch)\n",
      "[2021-06-11 18:49:25,781][INFO][occ.py:142] Start to transform training features to latent\n",
      "[2021-06-11 18:49:28,504][INFO][occ.py:157] Complete to transform training features to latent\n",
      "[2021-06-11 18:49:28,505][INFO][occ.py:159] Start to train the OCC, rbf_ocsvm\n"
     ]
    },
    {
     "name": "stdout",
     "output_type": "stream",
     "text": [
      "[LibSVM]"
     ]
    },
    {
     "name": "stderr",
     "output_type": "stream",
     "text": [
      "[2021-06-11 18:49:52,426][INFO][occ.py:161] Complete to train the OCC, rbf_ocsvm\n",
      "[2021-06-11 18:49:52,429][INFO][occ.py:168] Start to transform validation features to latent\n",
      "[2021-06-11 18:49:54,031][INFO][occ.py:189] Complete to transform validation features to latent\n",
      "[2021-06-11 18:49:54,032][INFO][occ.py:191] Start to validate the OCC, rbf_ocsvm\n",
      "[2021-06-11 18:50:06,173][INFO][occ.py:194] Complete to validate the OCC, rbf_ocsvm\n",
      "[2021-06-11 18:50:06,206][INFO][callback.py:16] Save checkpoint, Epoch : 142\n",
      "[2021-06-11 18:50:06,214][INFO][callback.py:16] Save checkpoint, Epoch : 142\n"
     ]
    },
    {
     "name": "stdout",
     "output_type": "stream",
     "text": [
      "AUC : 80.29439431598388\n",
      "[Epoch 142]\n",
      " Train - Loss : 0.8406950235366821 | Accuracy : None | Precision : None | Recall : None | F1 : None\n",
      " Val - Loss : 0.8370599746704102 | Accuracy : None | Precision : None | Recall : None | F1 : None\n",
      "Early Stopping [3/40] - Best Epoch : 139 | Best Score : 80.54378509521484\n"
     ]
    },
    {
     "name": "stderr",
     "output_type": "stream",
     "text": [
      "IOPub message rate exceeded.\n",
      "The notebook server will temporarily stop sending output\n",
      "to the client in order to avoid crashing it.\n",
      "To change this limit, set the config variable\n",
      "`--NotebookApp.iopub_msg_rate_limit`.\n",
      "\n",
      "Current values:\n",
      "NotebookApp.iopub_msg_rate_limit=1000.0 (msgs/sec)\n",
      "NotebookApp.rate_limit_window=3.0 (secs)\n",
      "\n"
     ]
    },
    {
     "data": {
      "application/vnd.jupyter.widget-view+json": {
       "model_id": "",
       "version_major": 2,
       "version_minor": 0
      },
      "text/plain": [
       "Validating: 0it [00:00, ?it/s]"
      ]
     },
     "metadata": {},
     "output_type": "display_data"
    },
    {
     "name": "stderr",
     "output_type": "stream",
     "text": [
      "/workspace/Project/2021_AI_security/model/cae_conv_id.py:293: UserWarning: Implicit dimension choice for softmax has been deprecated. Change the call to include dim=X as an argument.\n",
      "  prob_batch = F.softmax(input=x_id_hat_batch)\n",
      "[2021-06-11 18:56:12,791][INFO][occ.py:142] Start to transform training features to latent\n",
      "[2021-06-11 18:56:15,345][INFO][occ.py:157] Complete to transform training features to latent\n",
      "[2021-06-11 18:56:15,346][INFO][occ.py:159] Start to train the OCC, rbf_ocsvm\n"
     ]
    },
    {
     "name": "stdout",
     "output_type": "stream",
     "text": [
      "[LibSVM]"
     ]
    },
    {
     "name": "stderr",
     "output_type": "stream",
     "text": [
      "[2021-06-11 18:56:38,904][INFO][occ.py:161] Complete to train the OCC, rbf_ocsvm\n",
      "[2021-06-11 18:56:38,906][INFO][occ.py:168] Start to transform validation features to latent\n",
      "[2021-06-11 18:56:40,519][INFO][occ.py:189] Complete to transform validation features to latent\n",
      "[2021-06-11 18:56:40,520][INFO][occ.py:191] Start to validate the OCC, rbf_ocsvm\n",
      "[2021-06-11 18:56:52,696][INFO][occ.py:194] Complete to validate the OCC, rbf_ocsvm\n",
      "[2021-06-11 18:56:52,732][INFO][callback.py:16] Save checkpoint, Epoch : 146\n"
     ]
    },
    {
     "name": "stdout",
     "output_type": "stream",
     "text": [
      "AUC : 79.3358827637219\n",
      "[Epoch 146]\n",
      " Train - Loss : 0.8421586155891418 | Accuracy : None | Precision : None | Recall : None | F1 : None\n",
      " Val - Loss : 0.8436443209648132 | Accuracy : None | Precision : None | Recall : None | F1 : None\n",
      "Early Stopping [7/40] - Best Epoch : 139 | Best Score : 80.54378509521484\n"
     ]
    },
    {
     "data": {
      "application/vnd.jupyter.widget-view+json": {
       "model_id": "",
       "version_major": 2,
       "version_minor": 0
      },
      "text/plain": [
       "Validating: 0it [00:00, ?it/s]"
      ]
     },
     "metadata": {},
     "output_type": "display_data"
    },
    {
     "name": "stderr",
     "output_type": "stream",
     "text": [
      "/workspace/Project/2021_AI_security/model/cae_conv_id.py:293: UserWarning: Implicit dimension choice for softmax has been deprecated. Change the call to include dim=X as an argument.\n",
      "  prob_batch = F.softmax(input=x_id_hat_batch)\n",
      "[2021-06-11 18:57:50,514][INFO][occ.py:142] Start to transform training features to latent\n",
      "[2021-06-11 18:57:52,991][INFO][occ.py:157] Complete to transform training features to latent\n",
      "[2021-06-11 18:57:52,993][INFO][occ.py:159] Start to train the OCC, rbf_ocsvm\n"
     ]
    },
    {
     "name": "stdout",
     "output_type": "stream",
     "text": [
      "[LibSVM]"
     ]
    },
    {
     "name": "stderr",
     "output_type": "stream",
     "text": [
      "[2021-06-11 18:58:16,455][INFO][occ.py:161] Complete to train the OCC, rbf_ocsvm\n",
      "[2021-06-11 18:58:16,460][INFO][occ.py:168] Start to transform validation features to latent\n",
      "[2021-06-11 18:58:18,049][INFO][occ.py:189] Complete to transform validation features to latent\n",
      "[2021-06-11 18:58:18,051][INFO][occ.py:191] Start to validate the OCC, rbf_ocsvm\n",
      "[2021-06-11 18:58:29,587][INFO][occ.py:194] Complete to validate the OCC, rbf_ocsvm\n",
      "[2021-06-11 18:58:29,627][INFO][callback.py:16] Save checkpoint, Epoch : 147\n"
     ]
    },
    {
     "name": "stdout",
     "output_type": "stream",
     "text": [
      "AUC : 79.33335017894636\n",
      "[Epoch 147]\n",
      " Train - Loss : 0.8413149118423462 | Accuracy : None | Precision : None | Recall : None | F1 : None\n",
      " Val - Loss : 0.8362360000610352 | Accuracy : None | Precision : None | Recall : None | F1 : None\n",
      "Early Stopping [8/40] - Best Epoch : 139 | Best Score : 80.54378509521484\n"
     ]
    },
    {
     "name": "stderr",
     "output_type": "stream",
     "text": [
      "IOPub message rate exceeded.\n",
      "The notebook server will temporarily stop sending output\n",
      "to the client in order to avoid crashing it.\n",
      "To change this limit, set the config variable\n",
      "`--NotebookApp.iopub_msg_rate_limit`.\n",
      "\n",
      "Current values:\n",
      "NotebookApp.iopub_msg_rate_limit=1000.0 (msgs/sec)\n",
      "NotebookApp.rate_limit_window=3.0 (secs)\n",
      "\n"
     ]
    },
    {
     "data": {
      "application/vnd.jupyter.widget-view+json": {
       "model_id": "",
       "version_major": 2,
       "version_minor": 0
      },
      "text/plain": [
       "Validating: 0it [00:00, ?it/s]"
      ]
     },
     "metadata": {},
     "output_type": "display_data"
    },
    {
     "name": "stderr",
     "output_type": "stream",
     "text": [
      "/workspace/Project/2021_AI_security/model/cae_conv_id.py:293: UserWarning: Implicit dimension choice for softmax has been deprecated. Change the call to include dim=X as an argument.\n",
      "  prob_batch = F.softmax(input=x_id_hat_batch)\n",
      "[2021-06-11 19:04:18,351][INFO][occ.py:142] Start to transform training features to latent\n",
      "[2021-06-11 19:04:21,060][INFO][occ.py:157] Complete to transform training features to latent\n",
      "[2021-06-11 19:04:21,062][INFO][occ.py:159] Start to train the OCC, rbf_ocsvm\n"
     ]
    },
    {
     "name": "stdout",
     "output_type": "stream",
     "text": [
      "[LibSVM]"
     ]
    },
    {
     "name": "stderr",
     "output_type": "stream",
     "text": [
      "[2021-06-11 19:04:44,703][INFO][occ.py:161] Complete to train the OCC, rbf_ocsvm\n",
      "[2021-06-11 19:04:44,705][INFO][occ.py:168] Start to transform validation features to latent\n",
      "[2021-06-11 19:04:46,253][INFO][occ.py:189] Complete to transform validation features to latent\n",
      "[2021-06-11 19:04:46,255][INFO][occ.py:191] Start to validate the OCC, rbf_ocsvm\n",
      "[2021-06-11 19:04:57,926][INFO][occ.py:194] Complete to validate the OCC, rbf_ocsvm\n",
      "[2021-06-11 19:04:57,959][INFO][callback.py:16] Save checkpoint, Epoch : 151\n"
     ]
    },
    {
     "name": "stdout",
     "output_type": "stream",
     "text": [
      "AUC : 79.21470920643381\n",
      "[Epoch 151]\n",
      " Train - Loss : 0.8374292850494385 | Accuracy : None | Precision : None | Recall : None | F1 : None\n",
      " Val - Loss : 0.8399837017059326 | Accuracy : None | Precision : None | Recall : None | F1 : None\n",
      "Early Stopping [12/40] - Best Epoch : 139 | Best Score : 80.54378509521484\n"
     ]
    },
    {
     "data": {
      "application/vnd.jupyter.widget-view+json": {
       "model_id": "66cc4cadd7bf41bfa395e5f161c27f82",
       "version_major": 2,
       "version_minor": 0
      },
      "text/plain": [
       "Validating: 0it [00:00, ?it/s]"
      ]
     },
     "metadata": {},
     "output_type": "display_data"
    },
    {
     "name": "stderr",
     "output_type": "stream",
     "text": [
      "/workspace/Project/2021_AI_security/model/cae_conv_id.py:293: UserWarning: Implicit dimension choice for softmax has been deprecated. Change the call to include dim=X as an argument.\n",
      "  prob_batch = F.softmax(input=x_id_hat_batch)\n",
      "IOPub message rate exceeded.\n",
      "The notebook server will temporarily stop sending output\n",
      "to the client in order to avoid crashing it.\n",
      "To change this limit, set the config variable\n",
      "`--NotebookApp.iopub_msg_rate_limit`.\n",
      "\n",
      "Current values:\n",
      "NotebookApp.iopub_msg_rate_limit=1000.0 (msgs/sec)\n",
      "NotebookApp.rate_limit_window=3.0 (secs)\n",
      "\n"
     ]
    },
    {
     "data": {
      "application/vnd.jupyter.widget-view+json": {
       "model_id": "",
       "version_major": 2,
       "version_minor": 0
      },
      "text/plain": [
       "Validating: 0it [00:00, ?it/s]"
      ]
     },
     "metadata": {},
     "output_type": "display_data"
    },
    {
     "name": "stderr",
     "output_type": "stream",
     "text": [
      "/workspace/Project/2021_AI_security/model/cae_conv_id.py:293: UserWarning: Implicit dimension choice for softmax has been deprecated. Change the call to include dim=X as an argument.\n",
      "  prob_batch = F.softmax(input=x_id_hat_batch)\n",
      "[2021-06-11 19:12:26,483][INFO][occ.py:142] Start to transform training features to latent\n",
      "[2021-06-11 19:12:28,777][INFO][occ.py:157] Complete to transform training features to latent\n",
      "[2021-06-11 19:12:28,779][INFO][occ.py:159] Start to train the OCC, rbf_ocsvm\n"
     ]
    },
    {
     "name": "stdout",
     "output_type": "stream",
     "text": [
      "[LibSVM]"
     ]
    },
    {
     "name": "stderr",
     "output_type": "stream",
     "text": [
      "[2021-06-11 19:12:51,883][INFO][occ.py:161] Complete to train the OCC, rbf_ocsvm\n",
      "[2021-06-11 19:12:51,885][INFO][occ.py:168] Start to transform validation features to latent\n",
      "[2021-06-11 19:12:53,294][INFO][occ.py:189] Complete to transform validation features to latent\n",
      "[2021-06-11 19:12:53,295][INFO][occ.py:191] Start to validate the OCC, rbf_ocsvm\n",
      "[2021-06-11 19:13:04,021][INFO][occ.py:194] Complete to validate the OCC, rbf_ocsvm\n",
      "[2021-06-11 19:13:04,050][INFO][callback.py:16] Save checkpoint, Epoch : 156\n"
     ]
    },
    {
     "name": "stdout",
     "output_type": "stream",
     "text": [
      "AUC : 79.53802437713345\n",
      "[Epoch 156]\n",
      " Train - Loss : 0.8345996141433716 | Accuracy : None | Precision : None | Recall : None | F1 : None\n",
      " Val - Loss : 0.8216492533683777 | Accuracy : None | Precision : None | Recall : None | F1 : None\n",
      "Early Stopping [17/40] - Best Epoch : 139 | Best Score : 80.54378509521484\n"
     ]
    },
    {
     "name": "stderr",
     "output_type": "stream",
     "text": [
      "IOPub message rate exceeded.\n",
      "The notebook server will temporarily stop sending output\n",
      "to the client in order to avoid crashing it.\n",
      "To change this limit, set the config variable\n",
      "`--NotebookApp.iopub_msg_rate_limit`.\n",
      "\n",
      "Current values:\n",
      "NotebookApp.iopub_msg_rate_limit=1000.0 (msgs/sec)\n",
      "NotebookApp.rate_limit_window=3.0 (secs)\n",
      "\n"
     ]
    },
    {
     "data": {
      "application/vnd.jupyter.widget-view+json": {
       "model_id": "",
       "version_major": 2,
       "version_minor": 0
      },
      "text/plain": [
       "Validating: 0it [00:00, ?it/s]"
      ]
     },
     "metadata": {},
     "output_type": "display_data"
    },
    {
     "name": "stderr",
     "output_type": "stream",
     "text": [
      "/workspace/Project/2021_AI_security/model/cae_conv_id.py:293: UserWarning: Implicit dimension choice for softmax has been deprecated. Change the call to include dim=X as an argument.\n",
      "  prob_batch = F.softmax(input=x_id_hat_batch)\n",
      "[2021-06-11 19:20:21,524][INFO][occ.py:142] Start to transform training features to latent\n",
      "[2021-06-11 19:20:23,707][INFO][occ.py:157] Complete to transform training features to latent\n",
      "[2021-06-11 19:20:23,710][INFO][occ.py:159] Start to train the OCC, rbf_ocsvm\n"
     ]
    },
    {
     "name": "stdout",
     "output_type": "stream",
     "text": [
      "[LibSVM]"
     ]
    },
    {
     "name": "stderr",
     "output_type": "stream",
     "text": [
      "[2021-06-11 19:20:45,872][INFO][occ.py:161] Complete to train the OCC, rbf_ocsvm\n",
      "[2021-06-11 19:20:45,876][INFO][occ.py:168] Start to transform validation features to latent\n",
      "[2021-06-11 19:20:47,320][INFO][occ.py:189] Complete to transform validation features to latent\n",
      "[2021-06-11 19:20:47,321][INFO][occ.py:191] Start to validate the OCC, rbf_ocsvm\n",
      "[2021-06-11 19:20:58,621][INFO][occ.py:194] Complete to validate the OCC, rbf_ocsvm\n",
      "[2021-06-11 19:20:58,652][INFO][callback.py:16] Save checkpoint, Epoch : 161\n"
     ]
    },
    {
     "name": "stdout",
     "output_type": "stream",
     "text": [
      "AUC : 79.45454670752494\n",
      "[Epoch 161]\n",
      " Train - Loss : 0.8406808972358704 | Accuracy : None | Precision : None | Recall : None | F1 : None\n",
      " Val - Loss : 0.8447153568267822 | Accuracy : None | Precision : None | Recall : None | F1 : None\n",
      "Early Stopping [22/40] - Best Epoch : 139 | Best Score : 80.54378509521484\n"
     ]
    },
    {
     "name": "stderr",
     "output_type": "stream",
     "text": [
      "IOPub message rate exceeded.\n",
      "The notebook server will temporarily stop sending output\n",
      "to the client in order to avoid crashing it.\n",
      "To change this limit, set the config variable\n",
      "`--NotebookApp.iopub_msg_rate_limit`.\n",
      "\n",
      "Current values:\n",
      "NotebookApp.iopub_msg_rate_limit=1000.0 (msgs/sec)\n",
      "NotebookApp.rate_limit_window=3.0 (secs)\n",
      "\n"
     ]
    },
    {
     "data": {
      "application/vnd.jupyter.widget-view+json": {
       "model_id": "",
       "version_major": 2,
       "version_minor": 0
      },
      "text/plain": [
       "Validating: 0it [00:00, ?it/s]"
      ]
     },
     "metadata": {},
     "output_type": "display_data"
    },
    {
     "name": "stderr",
     "output_type": "stream",
     "text": [
      "/workspace/Project/2021_AI_security/model/cae_conv_id.py:293: UserWarning: Implicit dimension choice for softmax has been deprecated. Change the call to include dim=X as an argument.\n",
      "  prob_batch = F.softmax(input=x_id_hat_batch)\n",
      "[2021-06-11 19:28:21,982][INFO][occ.py:142] Start to transform training features to latent\n",
      "[2021-06-11 19:28:24,276][INFO][occ.py:157] Complete to transform training features to latent\n",
      "[2021-06-11 19:28:24,277][INFO][occ.py:159] Start to train the OCC, rbf_ocsvm\n"
     ]
    },
    {
     "name": "stdout",
     "output_type": "stream",
     "text": [
      "[LibSVM]"
     ]
    },
    {
     "name": "stderr",
     "output_type": "stream",
     "text": [
      "[2021-06-11 19:28:46,171][INFO][occ.py:161] Complete to train the OCC, rbf_ocsvm\n",
      "[2021-06-11 19:28:46,173][INFO][occ.py:168] Start to transform validation features to latent\n",
      "[2021-06-11 19:28:47,753][INFO][occ.py:189] Complete to transform validation features to latent\n",
      "[2021-06-11 19:28:47,755][INFO][occ.py:191] Start to validate the OCC, rbf_ocsvm\n",
      "[2021-06-11 19:28:59,173][INFO][occ.py:194] Complete to validate the OCC, rbf_ocsvm\n",
      "[2021-06-11 19:28:59,208][INFO][callback.py:16] Save checkpoint, Epoch : 166\n"
     ]
    },
    {
     "name": "stdout",
     "output_type": "stream",
     "text": [
      "AUC : 80.07126268589518\n",
      "[Epoch 166]\n",
      " Train - Loss : 0.8438521027565002 | Accuracy : None | Precision : None | Recall : None | F1 : None\n",
      " Val - Loss : 0.8203708529472351 | Accuracy : None | Precision : None | Recall : None | F1 : None\n",
      "Early Stopping [2/40] - Best Epoch : 164 | Best Score : 80.7291488647461\n"
     ]
    },
    {
     "name": "stderr",
     "output_type": "stream",
     "text": [
      "IOPub message rate exceeded.\n",
      "The notebook server will temporarily stop sending output\n",
      "to the client in order to avoid crashing it.\n",
      "To change this limit, set the config variable\n",
      "`--NotebookApp.iopub_msg_rate_limit`.\n",
      "\n",
      "Current values:\n",
      "NotebookApp.iopub_msg_rate_limit=1000.0 (msgs/sec)\n",
      "NotebookApp.rate_limit_window=3.0 (secs)\n",
      "\n",
      "[2021-06-11 19:34:41,511][INFO][occ.py:142] Start to transform training features to latent\n",
      "[2021-06-11 19:34:43,731][INFO][occ.py:157] Complete to transform training features to latent\n",
      "[2021-06-11 19:34:43,734][INFO][occ.py:159] Start to train the OCC, rbf_ocsvm\n"
     ]
    },
    {
     "name": "stdout",
     "output_type": "stream",
     "text": [
      "[LibSVM]"
     ]
    },
    {
     "name": "stderr",
     "output_type": "stream",
     "text": [
      "[2021-06-11 19:35:07,114][INFO][occ.py:161] Complete to train the OCC, rbf_ocsvm\n",
      "[2021-06-11 19:35:07,117][INFO][occ.py:168] Start to transform validation features to latent\n",
      "[2021-06-11 19:35:08,607][INFO][occ.py:189] Complete to transform validation features to latent\n",
      "[2021-06-11 19:35:08,608][INFO][occ.py:191] Start to validate the OCC, rbf_ocsvm\n",
      "[2021-06-11 19:35:20,396][INFO][occ.py:194] Complete to validate the OCC, rbf_ocsvm\n",
      "[2021-06-11 19:35:20,433][INFO][callback.py:16] Save checkpoint, Epoch : 170\n"
     ]
    },
    {
     "name": "stdout",
     "output_type": "stream",
     "text": [
      "AUC : 79.26135815457842\n",
      "[Epoch 170]\n",
      " Train - Loss : 0.8508389592170715 | Accuracy : None | Precision : None | Recall : None | F1 : None\n",
      " Val - Loss : 0.8636943697929382 | Accuracy : None | Precision : None | Recall : None | F1 : None\n",
      "Early Stopping [6/40] - Best Epoch : 164 | Best Score : 80.7291488647461\n"
     ]
    },
    {
     "data": {
      "application/vnd.jupyter.widget-view+json": {
       "model_id": "",
       "version_major": 2,
       "version_minor": 0
      },
      "text/plain": [
       "Validating: 0it [00:00, ?it/s]"
      ]
     },
     "metadata": {},
     "output_type": "display_data"
    },
    {
     "name": "stderr",
     "output_type": "stream",
     "text": [
      "/workspace/Project/2021_AI_security/model/cae_conv_id.py:293: UserWarning: Implicit dimension choice for softmax has been deprecated. Change the call to include dim=X as an argument.\n",
      "  prob_batch = F.softmax(input=x_id_hat_batch)\n",
      "[2021-06-11 19:36:17,623][INFO][occ.py:142] Start to transform training features to latent\n",
      "[2021-06-11 19:36:19,915][INFO][occ.py:157] Complete to transform training features to latent\n",
      "[2021-06-11 19:36:19,916][INFO][occ.py:159] Start to train the OCC, rbf_ocsvm\n"
     ]
    },
    {
     "name": "stdout",
     "output_type": "stream",
     "text": [
      "[LibSVM]"
     ]
    },
    {
     "name": "stderr",
     "output_type": "stream",
     "text": [
      "[2021-06-11 19:36:42,743][INFO][occ.py:161] Complete to train the OCC, rbf_ocsvm\n",
      "[2021-06-11 19:36:42,746][INFO][occ.py:168] Start to transform validation features to latent\n",
      "[2021-06-11 19:36:44,236][INFO][occ.py:189] Complete to transform validation features to latent\n",
      "[2021-06-11 19:36:44,237][INFO][occ.py:191] Start to validate the OCC, rbf_ocsvm\n",
      "[2021-06-11 19:36:55,617][INFO][occ.py:194] Complete to validate the OCC, rbf_ocsvm\n",
      "[2021-06-11 19:36:55,661][INFO][callback.py:16] Save checkpoint, Epoch : 171\n",
      "[2021-06-11 19:36:55,668][INFO][callback.py:16] Save checkpoint, Epoch : 171\n"
     ]
    },
    {
     "name": "stdout",
     "output_type": "stream",
     "text": [
      "AUC : 80.32289020182576\n",
      "[Epoch 171]\n",
      " Train - Loss : 0.853192925453186 | Accuracy : None | Precision : None | Recall : None | F1 : None\n",
      " Val - Loss : 0.850231945514679 | Accuracy : None | Precision : None | Recall : None | F1 : None\n",
      "Early Stopping [7/40] - Best Epoch : 164 | Best Score : 80.7291488647461\n"
     ]
    },
    {
     "name": "stderr",
     "output_type": "stream",
     "text": [
      "IOPub message rate exceeded.\n",
      "The notebook server will temporarily stop sending output\n",
      "to the client in order to avoid crashing it.\n",
      "To change this limit, set the config variable\n",
      "`--NotebookApp.iopub_msg_rate_limit`.\n",
      "\n",
      "Current values:\n",
      "NotebookApp.iopub_msg_rate_limit=1000.0 (msgs/sec)\n",
      "NotebookApp.rate_limit_window=3.0 (secs)\n",
      "\n"
     ]
    },
    {
     "data": {
      "application/vnd.jupyter.widget-view+json": {
       "model_id": "",
       "version_major": 2,
       "version_minor": 0
      },
      "text/plain": [
       "Validating: 0it [00:00, ?it/s]"
      ]
     },
     "metadata": {},
     "output_type": "display_data"
    },
    {
     "name": "stderr",
     "output_type": "stream",
     "text": [
      "/workspace/Project/2021_AI_security/model/cae_conv_id.py:293: UserWarning: Implicit dimension choice for softmax has been deprecated. Change the call to include dim=X as an argument.\n",
      "  prob_batch = F.softmax(input=x_id_hat_batch)\n",
      "[2021-06-11 19:42:46,583][INFO][occ.py:142] Start to transform training features to latent\n",
      "[2021-06-11 19:42:49,533][INFO][occ.py:157] Complete to transform training features to latent\n",
      "[2021-06-11 19:42:49,536][INFO][occ.py:159] Start to train the OCC, rbf_ocsvm\n"
     ]
    },
    {
     "name": "stdout",
     "output_type": "stream",
     "text": [
      "[LibSVM]"
     ]
    },
    {
     "name": "stderr",
     "output_type": "stream",
     "text": [
      "[2021-06-11 19:43:12,347][INFO][occ.py:161] Complete to train the OCC, rbf_ocsvm\n",
      "[2021-06-11 19:43:12,352][INFO][occ.py:168] Start to transform validation features to latent\n",
      "[2021-06-11 19:43:14,143][INFO][occ.py:189] Complete to transform validation features to latent\n",
      "[2021-06-11 19:43:14,149][INFO][occ.py:191] Start to validate the OCC, rbf_ocsvm\n",
      "[2021-06-11 19:43:26,223][INFO][occ.py:194] Complete to validate the OCC, rbf_ocsvm\n",
      "[2021-06-11 19:43:26,255][INFO][callback.py:16] Save checkpoint, Epoch : 175\n"
     ]
    },
    {
     "name": "stdout",
     "output_type": "stream",
     "text": [
      "AUC : 79.8113769910366\n",
      "[Epoch 175]\n",
      " Train - Loss : 0.8503405451774597 | Accuracy : None | Precision : None | Recall : None | F1 : None\n",
      " Val - Loss : 0.8566729426383972 | Accuracy : None | Precision : None | Recall : None | F1 : None\n",
      "Early Stopping [11/40] - Best Epoch : 164 | Best Score : 80.7291488647461\n"
     ]
    },
    {
     "data": {
      "application/vnd.jupyter.widget-view+json": {
       "model_id": "",
       "version_major": 2,
       "version_minor": 0
      },
      "text/plain": [
       "Validating: 0it [00:00, ?it/s]"
      ]
     },
     "metadata": {},
     "output_type": "display_data"
    },
    {
     "name": "stderr",
     "output_type": "stream",
     "text": [
      "/workspace/Project/2021_AI_security/model/cae_conv_id.py:293: UserWarning: Implicit dimension choice for softmax has been deprecated. Change the call to include dim=X as an argument.\n",
      "  prob_batch = F.softmax(input=x_id_hat_batch)\n",
      "[2021-06-11 19:44:21,501][INFO][occ.py:142] Start to transform training features to latent\n",
      "[2021-06-11 19:44:23,987][INFO][occ.py:157] Complete to transform training features to latent\n",
      "[2021-06-11 19:44:23,989][INFO][occ.py:159] Start to train the OCC, rbf_ocsvm\n"
     ]
    },
    {
     "name": "stdout",
     "output_type": "stream",
     "text": [
      "[LibSVM]"
     ]
    },
    {
     "name": "stderr",
     "output_type": "stream",
     "text": [
      "[2021-06-11 19:44:47,768][INFO][occ.py:161] Complete to train the OCC, rbf_ocsvm\n",
      "[2021-06-11 19:44:47,771][INFO][occ.py:168] Start to transform validation features to latent\n",
      "[2021-06-11 19:44:49,456][INFO][occ.py:189] Complete to transform validation features to latent\n",
      "[2021-06-11 19:44:49,457][INFO][occ.py:191] Start to validate the OCC, rbf_ocsvm\n",
      "[2021-06-11 19:45:01,813][INFO][occ.py:194] Complete to validate the OCC, rbf_ocsvm\n",
      "[2021-06-11 19:45:01,847][INFO][callback.py:16] Save checkpoint, Epoch : 176\n"
     ]
    },
    {
     "name": "stdout",
     "output_type": "stream",
     "text": [
      "AUC : 79.83003542172993\n",
      "[Epoch 176]\n",
      " Train - Loss : 0.8530761003494263 | Accuracy : None | Precision : None | Recall : None | F1 : None\n",
      " Val - Loss : 0.8804385662078857 | Accuracy : None | Precision : None | Recall : None | F1 : None\n",
      "Early Stopping [12/40] - Best Epoch : 164 | Best Score : 80.7291488647461\n"
     ]
    },
    {
     "name": "stderr",
     "output_type": "stream",
     "text": [
      "IOPub message rate exceeded.\n",
      "The notebook server will temporarily stop sending output\n",
      "to the client in order to avoid crashing it.\n",
      "To change this limit, set the config variable\n",
      "`--NotebookApp.iopub_msg_rate_limit`.\n",
      "\n",
      "Current values:\n",
      "NotebookApp.iopub_msg_rate_limit=1000.0 (msgs/sec)\n",
      "NotebookApp.rate_limit_window=3.0 (secs)\n",
      "\n"
     ]
    },
    {
     "data": {
      "application/vnd.jupyter.widget-view+json": {
       "model_id": "",
       "version_major": 2,
       "version_minor": 0
      },
      "text/plain": [
       "Validating: 0it [00:00, ?it/s]"
      ]
     },
     "metadata": {},
     "output_type": "display_data"
    },
    {
     "name": "stderr",
     "output_type": "stream",
     "text": [
      "/workspace/Project/2021_AI_security/model/cae_conv_id.py:293: UserWarning: Implicit dimension choice for softmax has been deprecated. Change the call to include dim=X as an argument.\n",
      "  prob_batch = F.softmax(input=x_id_hat_batch)\n",
      "[2021-06-11 19:50:38,487][INFO][occ.py:142] Start to transform training features to latent\n",
      "[2021-06-11 19:50:40,741][INFO][occ.py:157] Complete to transform training features to latent\n",
      "[2021-06-11 19:50:40,743][INFO][occ.py:159] Start to train the OCC, rbf_ocsvm\n"
     ]
    },
    {
     "name": "stdout",
     "output_type": "stream",
     "text": [
      "[LibSVM]"
     ]
    },
    {
     "name": "stderr",
     "output_type": "stream",
     "text": [
      "[2021-06-11 19:51:02,781][INFO][occ.py:161] Complete to train the OCC, rbf_ocsvm\n",
      "[2021-06-11 19:51:02,784][INFO][occ.py:168] Start to transform validation features to latent\n",
      "[2021-06-11 19:51:04,298][INFO][occ.py:189] Complete to transform validation features to latent\n",
      "[2021-06-11 19:51:04,300][INFO][occ.py:191] Start to validate the OCC, rbf_ocsvm\n",
      "[2021-06-11 19:51:15,704][INFO][occ.py:194] Complete to validate the OCC, rbf_ocsvm\n",
      "[2021-06-11 19:51:15,740][INFO][callback.py:16] Save checkpoint, Epoch : 180\n",
      "[2021-06-11 19:51:15,747][INFO][callback.py:16] Save checkpoint, Epoch : 180\n"
     ]
    },
    {
     "name": "stdout",
     "output_type": "stream",
     "text": [
      "AUC : 80.47831969604388\n",
      "[Epoch 180]\n",
      " Train - Loss : 0.848684549331665 | Accuracy : None | Precision : None | Recall : None | F1 : None\n",
      " Val - Loss : 0.8589845299720764 | Accuracy : None | Precision : None | Recall : None | F1 : None\n",
      "Early Stopping [16/40] - Best Epoch : 164 | Best Score : 80.7291488647461\n"
     ]
    },
    {
     "data": {
      "application/vnd.jupyter.widget-view+json": {
       "model_id": "",
       "version_major": 2,
       "version_minor": 0
      },
      "text/plain": [
       "Validating: 0it [00:00, ?it/s]"
      ]
     },
     "metadata": {},
     "output_type": "display_data"
    },
    {
     "name": "stderr",
     "output_type": "stream",
     "text": [
      "/workspace/Project/2021_AI_security/model/cae_conv_id.py:293: UserWarning: Implicit dimension choice for softmax has been deprecated. Change the call to include dim=X as an argument.\n",
      "  prob_batch = F.softmax(input=x_id_hat_batch)\n",
      "[2021-06-11 19:52:08,784][INFO][occ.py:142] Start to transform training features to latent\n",
      "[2021-06-11 19:52:11,175][INFO][occ.py:157] Complete to transform training features to latent\n",
      "[2021-06-11 19:52:11,176][INFO][occ.py:159] Start to train the OCC, rbf_ocsvm\n"
     ]
    },
    {
     "name": "stdout",
     "output_type": "stream",
     "text": [
      "[LibSVM]"
     ]
    },
    {
     "name": "stderr",
     "output_type": "stream",
     "text": [
      "[2021-06-11 19:52:33,455][INFO][occ.py:161] Complete to train the OCC, rbf_ocsvm\n",
      "[2021-06-11 19:52:33,459][INFO][occ.py:168] Start to transform validation features to latent\n",
      "[2021-06-11 19:52:34,979][INFO][occ.py:189] Complete to transform validation features to latent\n",
      "[2021-06-11 19:52:34,983][INFO][occ.py:191] Start to validate the OCC, rbf_ocsvm\n",
      "[2021-06-11 19:52:46,396][INFO][occ.py:194] Complete to validate the OCC, rbf_ocsvm\n",
      "[2021-06-11 19:52:46,438][INFO][callback.py:16] Save checkpoint, Epoch : 181\n"
     ]
    },
    {
     "name": "stdout",
     "output_type": "stream",
     "text": [
      "AUC : 79.15641955683786\n",
      "[Epoch 181]\n",
      " Train - Loss : 0.8463054299354553 | Accuracy : None | Precision : None | Recall : None | F1 : None\n",
      " Val - Loss : 0.8709440231323242 | Accuracy : None | Precision : None | Recall : None | F1 : None\n",
      "Early Stopping [17/40] - Best Epoch : 164 | Best Score : 80.7291488647461\n"
     ]
    },
    {
     "name": "stderr",
     "output_type": "stream",
     "text": [
      "IOPub message rate exceeded.\n",
      "The notebook server will temporarily stop sending output\n",
      "to the client in order to avoid crashing it.\n",
      "To change this limit, set the config variable\n",
      "`--NotebookApp.iopub_msg_rate_limit`.\n",
      "\n",
      "Current values:\n",
      "NotebookApp.iopub_msg_rate_limit=1000.0 (msgs/sec)\n",
      "NotebookApp.rate_limit_window=3.0 (secs)\n",
      "\n"
     ]
    },
    {
     "data": {
      "application/vnd.jupyter.widget-view+json": {
       "model_id": "",
       "version_major": 2,
       "version_minor": 0
      },
      "text/plain": [
       "Validating: 0it [00:00, ?it/s]"
      ]
     },
     "metadata": {},
     "output_type": "display_data"
    },
    {
     "name": "stderr",
     "output_type": "stream",
     "text": [
      "/workspace/Project/2021_AI_security/model/cae_conv_id.py:293: UserWarning: Implicit dimension choice for softmax has been deprecated. Change the call to include dim=X as an argument.\n",
      "  prob_batch = F.softmax(input=x_id_hat_batch)\n",
      "[2021-06-11 19:58:18,802][INFO][occ.py:142] Start to transform training features to latent\n",
      "[2021-06-11 19:58:21,724][INFO][occ.py:157] Complete to transform training features to latent\n",
      "[2021-06-11 19:58:21,725][INFO][occ.py:159] Start to train the OCC, rbf_ocsvm\n"
     ]
    },
    {
     "name": "stdout",
     "output_type": "stream",
     "text": [
      "[LibSVM]"
     ]
    },
    {
     "name": "stderr",
     "output_type": "stream",
     "text": [
      "[2021-06-11 19:58:43,360][INFO][occ.py:161] Complete to train the OCC, rbf_ocsvm\n",
      "[2021-06-11 19:58:43,363][INFO][occ.py:168] Start to transform validation features to latent\n",
      "[2021-06-11 19:58:44,807][INFO][occ.py:189] Complete to transform validation features to latent\n",
      "[2021-06-11 19:58:44,812][INFO][occ.py:191] Start to validate the OCC, rbf_ocsvm\n",
      "[2021-06-11 19:58:56,492][INFO][occ.py:194] Complete to validate the OCC, rbf_ocsvm\n",
      "[2021-06-11 19:58:56,536][INFO][callback.py:16] Save checkpoint, Epoch : 185\n"
     ]
    },
    {
     "name": "stdout",
     "output_type": "stream",
     "text": [
      "AUC : 79.4224960144811\n",
      "[Epoch 185]\n",
      " Train - Loss : 0.8486937284469604 | Accuracy : None | Precision : None | Recall : None | F1 : None\n",
      " Val - Loss : 0.8588814735412598 | Accuracy : None | Precision : None | Recall : None | F1 : None\n",
      "Early Stopping [21/40] - Best Epoch : 164 | Best Score : 80.7291488647461\n"
     ]
    },
    {
     "data": {
      "application/vnd.jupyter.widget-view+json": {
       "model_id": "",
       "version_major": 2,
       "version_minor": 0
      },
      "text/plain": [
       "Validating: 0it [00:00, ?it/s]"
      ]
     },
     "metadata": {},
     "output_type": "display_data"
    },
    {
     "name": "stderr",
     "output_type": "stream",
     "text": [
      "/workspace/Project/2021_AI_security/model/cae_conv_id.py:293: UserWarning: Implicit dimension choice for softmax has been deprecated. Change the call to include dim=X as an argument.\n",
      "  prob_batch = F.softmax(input=x_id_hat_batch)\n",
      "[2021-06-11 19:59:48,395][INFO][occ.py:142] Start to transform training features to latent\n",
      "[2021-06-11 19:59:50,669][INFO][occ.py:157] Complete to transform training features to latent\n",
      "[2021-06-11 19:59:50,671][INFO][occ.py:159] Start to train the OCC, rbf_ocsvm\n"
     ]
    },
    {
     "name": "stdout",
     "output_type": "stream",
     "text": [
      "[LibSVM]"
     ]
    },
    {
     "name": "stderr",
     "output_type": "stream",
     "text": [
      "[2021-06-11 20:00:12,913][INFO][occ.py:161] Complete to train the OCC, rbf_ocsvm\n",
      "[2021-06-11 20:00:12,917][INFO][occ.py:168] Start to transform validation features to latent\n",
      "[2021-06-11 20:00:14,376][INFO][occ.py:189] Complete to transform validation features to latent\n",
      "[2021-06-11 20:00:14,377][INFO][occ.py:191] Start to validate the OCC, rbf_ocsvm\n",
      "[2021-06-11 20:00:26,161][INFO][occ.py:194] Complete to validate the OCC, rbf_ocsvm\n",
      "[2021-06-11 20:00:26,197][INFO][callback.py:16] Save checkpoint, Epoch : 186\n"
     ]
    },
    {
     "name": "stdout",
     "output_type": "stream",
     "text": [
      "AUC : 79.76769708218669\n",
      "[Epoch 186]\n",
      " Train - Loss : 0.8484247922897339 | Accuracy : None | Precision : None | Recall : None | F1 : None\n",
      " Val - Loss : 0.8509436249732971 | Accuracy : None | Precision : None | Recall : None | F1 : None\n",
      "Early Stopping [22/40] - Best Epoch : 164 | Best Score : 80.7291488647461\n"
     ]
    },
    {
     "name": "stderr",
     "output_type": "stream",
     "text": [
      "IOPub message rate exceeded.\n",
      "The notebook server will temporarily stop sending output\n",
      "to the client in order to avoid crashing it.\n",
      "To change this limit, set the config variable\n",
      "`--NotebookApp.iopub_msg_rate_limit`.\n",
      "\n",
      "Current values:\n",
      "NotebookApp.iopub_msg_rate_limit=1000.0 (msgs/sec)\n",
      "NotebookApp.rate_limit_window=3.0 (secs)\n",
      "\n"
     ]
    }
   ],
   "source": [
    "# metrics on_epoch\n",
    "# Training & Validation\n",
    "if stage == \"fit\":\n",
    "    trainer.fit(model=model, datamodule=datamodule)\n",
    "#     trainer.fit(model=model, train_dataloader=train_loader, val_dataloaders=val_loader)\n",
    "#     trainer.fit(model=model)"
   ]
  },
  {
   "cell_type": "markdown",
   "metadata": {},
   "source": [
    "## Reproduction"
   ]
  },
  {
   "cell_type": "code",
   "execution_count": null,
   "metadata": {
    "scrolled": false
   },
   "outputs": [],
   "source": [
    "# model.save_best_model_output(datamodule=datamodule)"
   ]
  },
  {
   "cell_type": "code",
   "execution_count": null,
   "metadata": {},
   "outputs": [],
   "source": [
    "# print(model.model_file_metadata.current_version_checkpoints_dir_path(is_absolute_path=True))\n",
    "best_model = model.load_checkpoint(epoch=54, version=\"202106040450\")\n",
    "best_model"
   ]
  },
  {
   "cell_type": "code",
   "execution_count": null,
   "metadata": {},
   "outputs": [],
   "source": []
  }
 ],
 "metadata": {
  "kernelspec": {
   "display_name": "Python 3",
   "language": "python",
   "name": "python3"
  },
  "language_info": {
   "codemirror_mode": {
    "name": "ipython",
    "version": 3
   },
   "file_extension": ".py",
   "mimetype": "text/x-python",
   "name": "python",
   "nbconvert_exporter": "python",
   "pygments_lexer": "ipython3",
   "version": "3.9.5"
  }
 },
 "nbformat": 4,
 "nbformat_minor": 4
}
